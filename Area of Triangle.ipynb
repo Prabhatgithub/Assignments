{
 "cells": [
  {
   "cell_type": "code",
   "execution_count": 5,
   "metadata": {},
   "outputs": [
    {
     "name": "stdout",
     "output_type": "stream",
     "text": [
      "please enter the width of right angled triangle:12\n",
      "please enter the height of right angled triangle:10\n",
      "\n",
      " Area of right angled triangle is:60.00\n"
     ]
    },
    {
     "ename": "NameError",
     "evalue": "name 'C' is not defined",
     "output_type": "error",
     "traceback": [
      "\u001b[1;31m---------------------------------------------------------------------------\u001b[0m",
      "\u001b[1;31mNameError\u001b[0m                                 Traceback (most recent call last)",
      "\u001b[1;32m<ipython-input-5-05dcf56bca4f>\u001b[0m in \u001b[0;36m<module>\u001b[1;34m\u001b[0m\n\u001b[0;32m     14\u001b[0m \u001b[1;33m\u001b[0m\u001b[0m\n\u001b[0;32m     15\u001b[0m \u001b[0mprint\u001b[0m\u001b[1;33m(\u001b[0m\u001b[1;34m\"\\n Area of right angled triangle is:%.2f\"\u001b[0m \u001b[1;33m%\u001b[0m\u001b[0mArea\u001b[0m\u001b[1;33m)\u001b[0m\u001b[1;33m\u001b[0m\u001b[1;33m\u001b[0m\u001b[0m\n\u001b[1;32m---> 16\u001b[1;33m \u001b[0mprint\u001b[0m\u001b[1;33m(\u001b[0m\u001b[1;34m\"other side right angled triangle is:%.2f\"\u001b[0m \u001b[1;33m%\u001b[0m\u001b[0mC\u001b[0m\u001b[1;33m)\u001b[0m\u001b[1;33m\u001b[0m\u001b[1;33m\u001b[0m\u001b[0m\n\u001b[0m\u001b[0;32m     17\u001b[0m \u001b[0mprint\u001b[0m\u001b[1;33m(\u001b[0m\u001b[1;34m\"Perimeter of right angled triangle is:%.2f\"\u001b[0m \u001b[1;33m%\u001b[0m\u001b[0mPerimeter\u001b[0m\u001b[1;33m)\u001b[0m\u001b[1;33m\u001b[0m\u001b[1;33m\u001b[0m\u001b[0m\n",
      "\u001b[1;31mNameError\u001b[0m: name 'C' is not defined"
     ]
    }
   ],
   "source": [
    "import math\n",
    "\n",
    "width=float(input('please enter the width of right angled triangle:'))\n",
    "height=float(input('please enter the height of right angled triangle:'))\n",
    "\n",
    "#calculate the area\n",
    "Area= 0.5*width*height\n",
    "\n",
    "#calculate the third side\n",
    "c=math.sqrt((width*width)+ (height*height))\n",
    "\n",
    "#calculate the perimeter\n",
    "Perimeter=width+height+c\n",
    "\n",
    "print(\"\\n Area of right angled triangle is:%.2f\" %Area)\n",
    "print(\"other side right angled triangle is:%.2f\" %C)\n",
    "print(\"Perimeter of right angled triangle is:%.2f\" %Perimeter)      "
   ]
  },
  {
   "cell_type": "code",
   "execution_count": null,
   "metadata": {},
   "outputs": [],
   "source": []
  }
 ],
 "metadata": {
  "kernelspec": {
   "display_name": "Python 3",
   "language": "python",
   "name": "python3"
  },
  "language_info": {
   "codemirror_mode": {
    "name": "ipython",
    "version": 3
   },
   "file_extension": ".py",
   "mimetype": "text/x-python",
   "name": "python",
   "nbconvert_exporter": "python",
   "pygments_lexer": "ipython3",
   "version": "3.8.5"
  }
 },
 "nbformat": 4,
 "nbformat_minor": 4
}

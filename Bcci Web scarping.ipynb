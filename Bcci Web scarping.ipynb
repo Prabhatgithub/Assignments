{
 "cells": [
  {
   "cell_type": "code",
   "execution_count": 1,
   "id": "65c272ef",
   "metadata": {},
   "outputs": [],
   "source": [
    "import selenium\n",
    "import pandas as pd\n",
    "from selenium import webdriver"
   ]
  },
  {
   "cell_type": "code",
   "execution_count": 2,
   "id": "8f665ce0",
   "metadata": {},
   "outputs": [],
   "source": [
    "driver=webdriver.Chrome(r\"C:\\Users\\DELL\\Downloads\\chromedriver_win32\\chromedriver.exe\")"
   ]
  },
  {
   "cell_type": "code",
   "execution_count": 3,
   "id": "d347636a",
   "metadata": {},
   "outputs": [],
   "source": [
    "url='https://www.bcci.tv/'\n",
    "driver.get(url)"
   ]
  },
  {
   "cell_type": "code",
   "execution_count": 5,
   "id": "620486a4",
   "metadata": {},
   "outputs": [
    {
     "data": {
      "text/plain": [
       "<selenium.webdriver.remote.webelement.WebElement (session=\"0f74343393301b59339c5711ef03accd\", element=\"ca2f3bca-5f59-4955-b157-b2e0086bdc6a\")>"
      ]
     },
     "execution_count": 5,
     "metadata": {},
     "output_type": "execute_result"
    }
   ],
   "source": [
    "search_list=driver.find_element_by_xpath('//input[@class=\"site-search__input js-navigation-search-input\"]')\n",
    "search_list"
   ]
  },
  {
   "cell_type": "code",
   "execution_count": 9,
   "id": "d040e663",
   "metadata": {},
   "outputs": [
    {
     "data": {
      "text/plain": [
       "<selenium.webdriver.remote.webelement.WebElement (session=\"0f74343393301b59339c5711ef03accd\", element=\"7faa3328-57eb-461b-b64f-2ab161eb0f9f\")>"
      ]
     },
     "execution_count": 9,
     "metadata": {},
     "output_type": "execute_result"
    }
   ],
   "source": [
    "search_list=driver.find_element_by_xpath('//div[@class=\"navigation__link navigation__link--has-drop-down js-navigation-link\"]')\n",
    "search_list"
   ]
  },
  {
   "cell_type": "code",
   "execution_count": 11,
   "id": "d596345c",
   "metadata": {},
   "outputs": [
    {
     "data": {
      "text/plain": [
       "<selenium.webdriver.remote.webelement.WebElement (session=\"0f74343393301b59339c5711ef03accd\", element=\"7faa3328-57eb-461b-b64f-2ab161eb0f9f\")>"
      ]
     },
     "execution_count": 11,
     "metadata": {},
     "output_type": "execute_result"
    }
   ],
   "source": [
    "search_l=driver.find_element_by_xpath('//a[@class=\"navigation__link navigation__link--in-drop-down\"]')\n",
    "search_list"
   ]
  },
  {
   "cell_type": "code",
   "execution_count": 68,
   "id": "f923a565",
   "metadata": {},
   "outputs": [
    {
     "data": {
      "text/plain": [
       "<selenium.webdriver.remote.webelement.WebElement (session=\"0f74343393301b59339c5711ef03accd\", element=\"7cf7c429-67c3-4b2e-85cb-3c6ccb9028b2\")>"
      ]
     },
     "execution_count": 68,
     "metadata": {},
     "output_type": "execute_result"
    }
   ],
   "source": [
    "Match_title=driver.find_element_by_xpath('//span[@class=\"u-unskewed-text fixture__format\"]')\n",
    "Match_title"
   ]
  },
  {
   "cell_type": "code",
   "execution_count": 71,
   "id": "eb03b840",
   "metadata": {},
   "outputs": [
    {
     "data": {
      "text/plain": [
       "[<selenium.webdriver.remote.webelement.WebElement (session=\"0f74343393301b59339c5711ef03accd\", element=\"b8a66d81-32d2-4cd9-ab9d-de0d144100a1\")>,\n",
       " <selenium.webdriver.remote.webelement.WebElement (session=\"0f74343393301b59339c5711ef03accd\", element=\"638234d8-ff47-46a1-b1ff-3b1b85b12161\")>,\n",
       " <selenium.webdriver.remote.webelement.WebElement (session=\"0f74343393301b59339c5711ef03accd\", element=\"9ad48213-9334-4aec-97da-befa7bd4ecd2\")>,\n",
       " <selenium.webdriver.remote.webelement.WebElement (session=\"0f74343393301b59339c5711ef03accd\", element=\"c35c7311-204d-4ff1-b5cd-c29a4c3a2b71\")>,\n",
       " <selenium.webdriver.remote.webelement.WebElement (session=\"0f74343393301b59339c5711ef03accd\", element=\"a8868351-932a-4b9f-a102-3bb56aaa9045\")>]"
      ]
     },
     "execution_count": 71,
     "metadata": {},
     "output_type": "execute_result"
    }
   ],
   "source": [
    "series_name=driver.find_elements_by_xpath(\"//span[@class='u-unskewed-text fixture__tournament-label u-truncated']\")\n",
    "series_name"
   ]
  },
  {
   "cell_type": "code",
   "execution_count": 72,
   "id": "20b6aa13",
   "metadata": {},
   "outputs": [
    {
     "data": {
      "text/plain": [
       "['ENGLAND V INDIA 2021',\n",
       " 'ENGLAND V INDIA 2021',\n",
       " 'ENGLAND V INDIA 2021',\n",
       " 'ENGLAND V INDIA 2021',\n",
       " 'ENGLAND V INDIA 2021']"
      ]
     },
     "execution_count": 72,
     "metadata": {},
     "output_type": "execute_result"
    }
   ],
   "source": [
    "series_list=[]\n",
    "for i in series_name:\n",
    "    series_list.append(i.text)\n",
    "series_list "
   ]
  },
  {
   "cell_type": "code",
   "execution_count": 73,
   "id": "5439e141",
   "metadata": {},
   "outputs": [
    {
     "data": {
      "text/plain": [
       "[<selenium.webdriver.remote.webelement.WebElement (session=\"0f74343393301b59339c5711ef03accd\", element=\"f1dfe2a3-dce5-448d-ad0f-6cdc5315c790\")>,\n",
       " <selenium.webdriver.remote.webelement.WebElement (session=\"0f74343393301b59339c5711ef03accd\", element=\"31a50de1-45e6-4b9c-a28d-25f7d6b4ba46\")>,\n",
       " <selenium.webdriver.remote.webelement.WebElement (session=\"0f74343393301b59339c5711ef03accd\", element=\"692b573f-1c21-4780-a701-d6b8c3003b0d\")>,\n",
       " <selenium.webdriver.remote.webelement.WebElement (session=\"0f74343393301b59339c5711ef03accd\", element=\"d45e8851-7d56-4637-8c2a-e905ee0637b8\")>,\n",
       " <selenium.webdriver.remote.webelement.WebElement (session=\"0f74343393301b59339c5711ef03accd\", element=\"558805f3-ea9c-4330-9399-805c7cda951c\")>]"
      ]
     },
     "execution_count": 73,
     "metadata": {},
     "output_type": "execute_result"
    }
   ],
   "source": [
    "Place_name=driver.find_elements_by_xpath(\"//p[@class='fixture__additional-info']\")\n",
    "Place_name"
   ]
  },
  {
   "cell_type": "code",
   "execution_count": 74,
   "id": "ff48ed62",
   "metadata": {},
   "outputs": [
    {
     "data": {
      "text/plain": [
       "['1st Test\\nTrent Bridge, Nottingham',\n",
       " \"2nd Test\\nLord's, London\",\n",
       " '3rd Test\\nHeadingley, Leeds',\n",
       " '4th Test\\nThe Oval, London',\n",
       " '5th Test\\nOld Trafford, Manchester']"
      ]
     },
     "execution_count": 74,
     "metadata": {},
     "output_type": "execute_result"
    }
   ],
   "source": [
    "place_list=[]\n",
    "for i in Place_name:\n",
    "    place_list.append(i.text)\n",
    "place_list "
   ]
  },
  {
   "cell_type": "code",
   "execution_count": 75,
   "id": "1f318c3d",
   "metadata": {},
   "outputs": [
    {
     "data": {
      "text/plain": [
       "[<selenium.webdriver.remote.webelement.WebElement (session=\"0f74343393301b59339c5711ef03accd\", element=\"dadf0662-0835-4b64-a2e9-f3992b37e357\")>,\n",
       " <selenium.webdriver.remote.webelement.WebElement (session=\"0f74343393301b59339c5711ef03accd\", element=\"56248773-b9fc-43c6-be2b-9e418eb843fe\")>,\n",
       " <selenium.webdriver.remote.webelement.WebElement (session=\"0f74343393301b59339c5711ef03accd\", element=\"9fa935c3-a232-4efb-b75f-ac491040cce6\")>,\n",
       " <selenium.webdriver.remote.webelement.WebElement (session=\"0f74343393301b59339c5711ef03accd\", element=\"8b5a4446-1f9e-4849-a95f-d10d35961b48\")>,\n",
       " <selenium.webdriver.remote.webelement.WebElement (session=\"0f74343393301b59339c5711ef03accd\", element=\"1002a60d-a693-4247-9f93-6ac5b7c7cd9f\")>]"
      ]
     },
     "execution_count": 75,
     "metadata": {},
     "output_type": "execute_result"
    }
   ],
   "source": [
    "Match_date=driver.find_elements_by_xpath(\"//span[@class='fixture__date']\")\n",
    "Match_date"
   ]
  },
  {
   "cell_type": "code",
   "execution_count": 76,
   "id": "294031bb",
   "metadata": {},
   "outputs": [
    {
     "data": {
      "text/plain": [
       "['04', '12', '25', '02', '10']"
      ]
     },
     "execution_count": 76,
     "metadata": {},
     "output_type": "execute_result"
    }
   ],
   "source": [
    "date_list=[]\n",
    "for i in Match_date:\n",
    "    date_list.append(i.text)\n",
    "date_list "
   ]
  },
  {
   "cell_type": "code",
   "execution_count": 77,
   "id": "c97f9bf3",
   "metadata": {},
   "outputs": [
    {
     "data": {
      "text/plain": [
       "[<selenium.webdriver.remote.webelement.WebElement (session=\"0f74343393301b59339c5711ef03accd\", element=\"a0f20749-e493-430e-ad10-23b3b8d6db85\")>,\n",
       " <selenium.webdriver.remote.webelement.WebElement (session=\"0f74343393301b59339c5711ef03accd\", element=\"7eb54a14-6c36-4882-9180-e6d82829fe14\")>,\n",
       " <selenium.webdriver.remote.webelement.WebElement (session=\"0f74343393301b59339c5711ef03accd\", element=\"1276888b-9429-433d-95cc-ed9706c85f51\")>,\n",
       " <selenium.webdriver.remote.webelement.WebElement (session=\"0f74343393301b59339c5711ef03accd\", element=\"9a7d09b8-c408-4e98-8111-c273a16ca3fb\")>,\n",
       " <selenium.webdriver.remote.webelement.WebElement (session=\"0f74343393301b59339c5711ef03accd\", element=\"c6e6df4c-eb8a-461e-8299-9388d803ba60\")>]"
      ]
     },
     "execution_count": 77,
     "metadata": {},
     "output_type": "execute_result"
    }
   ],
   "source": [
    "Match_time=driver.find_elements_by_xpath(\"//span[@class='fixture__time']\")\n",
    "Match_time"
   ]
  },
  {
   "cell_type": "code",
   "execution_count": 78,
   "id": "5070de86",
   "metadata": {},
   "outputs": [
    {
     "data": {
      "text/plain": [
       "['15:30 IST', '15:30 IST', '15:30 IST', '15:30 IST', '15:30 IST']"
      ]
     },
     "execution_count": 78,
     "metadata": {},
     "output_type": "execute_result"
    }
   ],
   "source": [
    "time_list=[]\n",
    "for i in Match_time:\n",
    "    time_list.append(i.text)\n",
    "time_list "
   ]
  },
  {
   "cell_type": "code",
   "execution_count": 79,
   "id": "b8a573cd",
   "metadata": {},
   "outputs": [
    {
     "data": {
      "text/html": [
       "<div>\n",
       "<style scoped>\n",
       "    .dataframe tbody tr th:only-of-type {\n",
       "        vertical-align: middle;\n",
       "    }\n",
       "\n",
       "    .dataframe tbody tr th {\n",
       "        vertical-align: top;\n",
       "    }\n",
       "\n",
       "    .dataframe thead th {\n",
       "        text-align: right;\n",
       "    }\n",
       "</style>\n",
       "<table border=\"1\" class=\"dataframe\">\n",
       "  <thead>\n",
       "    <tr style=\"text-align: right;\">\n",
       "      <th></th>\n",
       "      <th>title</th>\n",
       "      <th>Series</th>\n",
       "      <th>place</th>\n",
       "      <th>date</th>\n",
       "      <th>time</th>\n",
       "    </tr>\n",
       "  </thead>\n",
       "  <tbody>\n",
       "    <tr>\n",
       "      <th>0</th>\n",
       "      <td>NaN</td>\n",
       "      <td>ENGLAND V INDIA 2021</td>\n",
       "      <td>1st Test\\nTrent Bridge, Nottingham</td>\n",
       "      <td>04</td>\n",
       "      <td>15:30 IST</td>\n",
       "    </tr>\n",
       "    <tr>\n",
       "      <th>1</th>\n",
       "      <td>NaN</td>\n",
       "      <td>ENGLAND V INDIA 2021</td>\n",
       "      <td>2nd Test\\nLord's, London</td>\n",
       "      <td>12</td>\n",
       "      <td>15:30 IST</td>\n",
       "    </tr>\n",
       "    <tr>\n",
       "      <th>2</th>\n",
       "      <td>NaN</td>\n",
       "      <td>ENGLAND V INDIA 2021</td>\n",
       "      <td>3rd Test\\nHeadingley, Leeds</td>\n",
       "      <td>25</td>\n",
       "      <td>15:30 IST</td>\n",
       "    </tr>\n",
       "    <tr>\n",
       "      <th>3</th>\n",
       "      <td>NaN</td>\n",
       "      <td>ENGLAND V INDIA 2021</td>\n",
       "      <td>4th Test\\nThe Oval, London</td>\n",
       "      <td>02</td>\n",
       "      <td>15:30 IST</td>\n",
       "    </tr>\n",
       "    <tr>\n",
       "      <th>4</th>\n",
       "      <td>NaN</td>\n",
       "      <td>ENGLAND V INDIA 2021</td>\n",
       "      <td>5th Test\\nOld Trafford, Manchester</td>\n",
       "      <td>10</td>\n",
       "      <td>15:30 IST</td>\n",
       "    </tr>\n",
       "  </tbody>\n",
       "</table>\n",
       "</div>"
      ],
      "text/plain": [
       "   title                Series                               place date  \\\n",
       "0    NaN  ENGLAND V INDIA 2021  1st Test\\nTrent Bridge, Nottingham   04   \n",
       "1    NaN  ENGLAND V INDIA 2021            2nd Test\\nLord's, London   12   \n",
       "2    NaN  ENGLAND V INDIA 2021         3rd Test\\nHeadingley, Leeds   25   \n",
       "3    NaN  ENGLAND V INDIA 2021          4th Test\\nThe Oval, London   02   \n",
       "4    NaN  ENGLAND V INDIA 2021  5th Test\\nOld Trafford, Manchester   10   \n",
       "\n",
       "        time  \n",
       "0  15:30 IST  \n",
       "1  15:30 IST  \n",
       "2  15:30 IST  \n",
       "3  15:30 IST  \n",
       "4  15:30 IST  "
      ]
     },
     "execution_count": 79,
     "metadata": {},
     "output_type": "execute_result"
    }
   ],
   "source": [
    "#creating dataframe\n",
    "df=pd.DataFrame({})\n",
    "df['title']=title_list\n",
    "df['Series']=series_list\n",
    "df['place']=place_list\n",
    "df['date']=date_list\n",
    "df['time']=time_list\n",
    "df"
   ]
  },
  {
   "cell_type": "code",
   "execution_count": null,
   "id": "930532f3",
   "metadata": {},
   "outputs": [],
   "source": []
  }
 ],
 "metadata": {
  "kernelspec": {
   "display_name": "Python 3",
   "language": "python",
   "name": "python3"
  },
  "language_info": {
   "codemirror_mode": {
    "name": "ipython",
    "version": 3
   },
   "file_extension": ".py",
   "mimetype": "text/x-python",
   "name": "python",
   "nbconvert_exporter": "python",
   "pygments_lexer": "ipython3",
   "version": "3.8.8"
  }
 },
 "nbformat": 4,
 "nbformat_minor": 5
}

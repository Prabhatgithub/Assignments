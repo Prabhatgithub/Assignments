{
 "cells": [
  {
   "cell_type": "code",
   "execution_count": 14,
   "metadata": {},
   "outputs": [
    {
     "name": "stdout",
     "output_type": "stream",
     "text": [
      "1\n",
      "2\n",
      "6\n",
      "24\n",
      "120\n"
     ]
    }
   ],
   "source": [
    "# Program to calculate Factorial Number\n",
    "\n",
    "\n",
    "5!= 5*4*3*2*1\n",
    "4!= 4*3*2*1\n",
    "3!= 3*2*1\n",
    "2!= 2*1\n",
    "0!= 1\n",
    "\n",
    "factorial=1\n",
    "number=5\n",
    "\n",
    "if number<0:\n",
    "    print(\"Factorial does not exist for negative value\")\n",
    "        \n",
    "elif number==0:\n",
    "    print(1)\n",
    "        \n",
    "else:\n",
    "    for i in range(1, num+1):\n",
    "        factorial = factorial* i\n",
    "            \n",
    "        print(factorial)"
   ]
  },
  {
   "cell_type": "code",
   "execution_count": null,
   "metadata": {},
   "outputs": [],
   "source": []
  }
 ],
 "metadata": {
  "kernelspec": {
   "display_name": "Python 3",
   "language": "python",
   "name": "python3"
  },
  "language_info": {
   "codemirror_mode": {
    "name": "ipython",
    "version": 3
   },
   "file_extension": ".py",
   "mimetype": "text/x-python",
   "name": "python",
   "nbconvert_exporter": "python",
   "pygments_lexer": "ipython3",
   "version": "3.8.5"
  }
 },
 "nbformat": 4,
 "nbformat_minor": 4
}

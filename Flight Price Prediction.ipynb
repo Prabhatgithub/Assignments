{
 "cells": [
  {
   "cell_type": "code",
   "execution_count": 1,
   "id": "d1403312",
   "metadata": {},
   "outputs": [],
   "source": [
    "import pandas as pd\n",
    "import numpy as np\n",
    "import seaborn as sns\n",
    "import matplotlib.pyplot as plt\n",
    "import sklearn\n",
    "from sklearn.preprocessing import LabelEncoder\n",
    "from sklearn.ensemble import RandomForestRegressor,AdaBoostRegressor\n",
    "from sklearn.linear_model import LinearRegression,ElasticNet\n",
    "from sklearn.tree import DecisionTreeRegressor\n",
    "from sklearn.neighbors import KNeighborsRegressor\n",
    "from sklearn.model_selection import train_test_split,cross_val_score,GridSearchCV,RandomizedSearchCV\n",
    "from sklearn.metrics import mean_absolute_error,mean_squared_error,r2_score\n",
    "from sklearn.preprocessing import StandardScaler,MinMaxScaler,power_transform,LabelEncoder,OrdinalEncoder\n",
    "from sklearn.decomposition import PCA\n",
    "from scipy.stats import zscore\n",
    "import joblib\n",
    "import warnings\n",
    "warnings.filterwarnings('ignore')"
   ]
  },
  {
   "cell_type": "code",
   "execution_count": 2,
   "id": "1a0c718c",
   "metadata": {},
   "outputs": [],
   "source": [
    "df_train = pd.read_excel('Data_Train.xlsx')\n",
    "df_test= pd.read_excel('Test_set.xlsx')"
   ]
  },
  {
   "cell_type": "code",
   "execution_count": 3,
   "id": "ec1d51c5",
   "metadata": {},
   "outputs": [
    {
     "data": {
      "text/html": [
       "<div>\n",
       "<style scoped>\n",
       "    .dataframe tbody tr th:only-of-type {\n",
       "        vertical-align: middle;\n",
       "    }\n",
       "\n",
       "    .dataframe tbody tr th {\n",
       "        vertical-align: top;\n",
       "    }\n",
       "\n",
       "    .dataframe thead th {\n",
       "        text-align: right;\n",
       "    }\n",
       "</style>\n",
       "<table border=\"1\" class=\"dataframe\">\n",
       "  <thead>\n",
       "    <tr style=\"text-align: right;\">\n",
       "      <th></th>\n",
       "      <th>Airline</th>\n",
       "      <th>Date_of_Journey</th>\n",
       "      <th>Source</th>\n",
       "      <th>Destination</th>\n",
       "      <th>Route</th>\n",
       "      <th>Dep_Time</th>\n",
       "      <th>Arrival_Time</th>\n",
       "      <th>Duration</th>\n",
       "      <th>Total_Stops</th>\n",
       "      <th>Additional_Info</th>\n",
       "      <th>Price</th>\n",
       "    </tr>\n",
       "  </thead>\n",
       "  <tbody>\n",
       "    <tr>\n",
       "      <th>0</th>\n",
       "      <td>IndiGo</td>\n",
       "      <td>24/03/2019</td>\n",
       "      <td>Banglore</td>\n",
       "      <td>New Delhi</td>\n",
       "      <td>BLR → DEL</td>\n",
       "      <td>22:20</td>\n",
       "      <td>01:10 22 Mar</td>\n",
       "      <td>2h 50m</td>\n",
       "      <td>non-stop</td>\n",
       "      <td>No info</td>\n",
       "      <td>3897</td>\n",
       "    </tr>\n",
       "    <tr>\n",
       "      <th>1</th>\n",
       "      <td>Air India</td>\n",
       "      <td>1/05/2019</td>\n",
       "      <td>Kolkata</td>\n",
       "      <td>Banglore</td>\n",
       "      <td>CCU → IXR → BBI → BLR</td>\n",
       "      <td>05:50</td>\n",
       "      <td>13:15</td>\n",
       "      <td>7h 25m</td>\n",
       "      <td>2 stops</td>\n",
       "      <td>No info</td>\n",
       "      <td>7662</td>\n",
       "    </tr>\n",
       "    <tr>\n",
       "      <th>2</th>\n",
       "      <td>Jet Airways</td>\n",
       "      <td>9/06/2019</td>\n",
       "      <td>Delhi</td>\n",
       "      <td>Cochin</td>\n",
       "      <td>DEL → LKO → BOM → COK</td>\n",
       "      <td>09:25</td>\n",
       "      <td>04:25 10 Jun</td>\n",
       "      <td>19h</td>\n",
       "      <td>2 stops</td>\n",
       "      <td>No info</td>\n",
       "      <td>13882</td>\n",
       "    </tr>\n",
       "    <tr>\n",
       "      <th>3</th>\n",
       "      <td>IndiGo</td>\n",
       "      <td>12/05/2019</td>\n",
       "      <td>Kolkata</td>\n",
       "      <td>Banglore</td>\n",
       "      <td>CCU → NAG → BLR</td>\n",
       "      <td>18:05</td>\n",
       "      <td>23:30</td>\n",
       "      <td>5h 25m</td>\n",
       "      <td>1 stop</td>\n",
       "      <td>No info</td>\n",
       "      <td>6218</td>\n",
       "    </tr>\n",
       "    <tr>\n",
       "      <th>4</th>\n",
       "      <td>IndiGo</td>\n",
       "      <td>01/03/2019</td>\n",
       "      <td>Banglore</td>\n",
       "      <td>New Delhi</td>\n",
       "      <td>BLR → NAG → DEL</td>\n",
       "      <td>16:50</td>\n",
       "      <td>21:35</td>\n",
       "      <td>4h 45m</td>\n",
       "      <td>1 stop</td>\n",
       "      <td>No info</td>\n",
       "      <td>13302</td>\n",
       "    </tr>\n",
       "    <tr>\n",
       "      <th>...</th>\n",
       "      <td>...</td>\n",
       "      <td>...</td>\n",
       "      <td>...</td>\n",
       "      <td>...</td>\n",
       "      <td>...</td>\n",
       "      <td>...</td>\n",
       "      <td>...</td>\n",
       "      <td>...</td>\n",
       "      <td>...</td>\n",
       "      <td>...</td>\n",
       "      <td>...</td>\n",
       "    </tr>\n",
       "    <tr>\n",
       "      <th>10678</th>\n",
       "      <td>Air Asia</td>\n",
       "      <td>9/04/2019</td>\n",
       "      <td>Kolkata</td>\n",
       "      <td>Banglore</td>\n",
       "      <td>CCU → BLR</td>\n",
       "      <td>19:55</td>\n",
       "      <td>22:25</td>\n",
       "      <td>2h 30m</td>\n",
       "      <td>non-stop</td>\n",
       "      <td>No info</td>\n",
       "      <td>4107</td>\n",
       "    </tr>\n",
       "    <tr>\n",
       "      <th>10679</th>\n",
       "      <td>Air India</td>\n",
       "      <td>27/04/2019</td>\n",
       "      <td>Kolkata</td>\n",
       "      <td>Banglore</td>\n",
       "      <td>CCU → BLR</td>\n",
       "      <td>20:45</td>\n",
       "      <td>23:20</td>\n",
       "      <td>2h 35m</td>\n",
       "      <td>non-stop</td>\n",
       "      <td>No info</td>\n",
       "      <td>4145</td>\n",
       "    </tr>\n",
       "    <tr>\n",
       "      <th>10680</th>\n",
       "      <td>Jet Airways</td>\n",
       "      <td>27/04/2019</td>\n",
       "      <td>Banglore</td>\n",
       "      <td>Delhi</td>\n",
       "      <td>BLR → DEL</td>\n",
       "      <td>08:20</td>\n",
       "      <td>11:20</td>\n",
       "      <td>3h</td>\n",
       "      <td>non-stop</td>\n",
       "      <td>No info</td>\n",
       "      <td>7229</td>\n",
       "    </tr>\n",
       "    <tr>\n",
       "      <th>10681</th>\n",
       "      <td>Vistara</td>\n",
       "      <td>01/03/2019</td>\n",
       "      <td>Banglore</td>\n",
       "      <td>New Delhi</td>\n",
       "      <td>BLR → DEL</td>\n",
       "      <td>11:30</td>\n",
       "      <td>14:10</td>\n",
       "      <td>2h 40m</td>\n",
       "      <td>non-stop</td>\n",
       "      <td>No info</td>\n",
       "      <td>12648</td>\n",
       "    </tr>\n",
       "    <tr>\n",
       "      <th>10682</th>\n",
       "      <td>Air India</td>\n",
       "      <td>9/05/2019</td>\n",
       "      <td>Delhi</td>\n",
       "      <td>Cochin</td>\n",
       "      <td>DEL → GOI → BOM → COK</td>\n",
       "      <td>10:55</td>\n",
       "      <td>19:15</td>\n",
       "      <td>8h 20m</td>\n",
       "      <td>2 stops</td>\n",
       "      <td>No info</td>\n",
       "      <td>11753</td>\n",
       "    </tr>\n",
       "  </tbody>\n",
       "</table>\n",
       "<p>10683 rows × 11 columns</p>\n",
       "</div>"
      ],
      "text/plain": [
       "           Airline Date_of_Journey    Source Destination  \\\n",
       "0           IndiGo      24/03/2019  Banglore   New Delhi   \n",
       "1        Air India       1/05/2019   Kolkata    Banglore   \n",
       "2      Jet Airways       9/06/2019     Delhi      Cochin   \n",
       "3           IndiGo      12/05/2019   Kolkata    Banglore   \n",
       "4           IndiGo      01/03/2019  Banglore   New Delhi   \n",
       "...            ...             ...       ...         ...   \n",
       "10678     Air Asia       9/04/2019   Kolkata    Banglore   \n",
       "10679    Air India      27/04/2019   Kolkata    Banglore   \n",
       "10680  Jet Airways      27/04/2019  Banglore       Delhi   \n",
       "10681      Vistara      01/03/2019  Banglore   New Delhi   \n",
       "10682    Air India       9/05/2019     Delhi      Cochin   \n",
       "\n",
       "                       Route Dep_Time  Arrival_Time Duration Total_Stops  \\\n",
       "0                  BLR → DEL    22:20  01:10 22 Mar   2h 50m    non-stop   \n",
       "1      CCU → IXR → BBI → BLR    05:50         13:15   7h 25m     2 stops   \n",
       "2      DEL → LKO → BOM → COK    09:25  04:25 10 Jun      19h     2 stops   \n",
       "3            CCU → NAG → BLR    18:05         23:30   5h 25m      1 stop   \n",
       "4            BLR → NAG → DEL    16:50         21:35   4h 45m      1 stop   \n",
       "...                      ...      ...           ...      ...         ...   \n",
       "10678              CCU → BLR    19:55         22:25   2h 30m    non-stop   \n",
       "10679              CCU → BLR    20:45         23:20   2h 35m    non-stop   \n",
       "10680              BLR → DEL    08:20         11:20       3h    non-stop   \n",
       "10681              BLR → DEL    11:30         14:10   2h 40m    non-stop   \n",
       "10682  DEL → GOI → BOM → COK    10:55         19:15   8h 20m     2 stops   \n",
       "\n",
       "      Additional_Info  Price  \n",
       "0             No info   3897  \n",
       "1             No info   7662  \n",
       "2             No info  13882  \n",
       "3             No info   6218  \n",
       "4             No info  13302  \n",
       "...               ...    ...  \n",
       "10678         No info   4107  \n",
       "10679         No info   4145  \n",
       "10680         No info   7229  \n",
       "10681         No info  12648  \n",
       "10682         No info  11753  \n",
       "\n",
       "[10683 rows x 11 columns]"
      ]
     },
     "execution_count": 3,
     "metadata": {},
     "output_type": "execute_result"
    }
   ],
   "source": [
    "df_train"
   ]
  },
  {
   "cell_type": "markdown",
   "id": "492dd5d9",
   "metadata": {},
   "source": [
    "Combining the train and test datasets to perform data preprocessing"
   ]
  },
  {
   "cell_type": "code",
   "execution_count": 4,
   "id": "9c5eee56",
   "metadata": {},
   "outputs": [
    {
     "data": {
      "text/html": [
       "<div>\n",
       "<style scoped>\n",
       "    .dataframe tbody tr th:only-of-type {\n",
       "        vertical-align: middle;\n",
       "    }\n",
       "\n",
       "    .dataframe tbody tr th {\n",
       "        vertical-align: top;\n",
       "    }\n",
       "\n",
       "    .dataframe thead th {\n",
       "        text-align: right;\n",
       "    }\n",
       "</style>\n",
       "<table border=\"1\" class=\"dataframe\">\n",
       "  <thead>\n",
       "    <tr style=\"text-align: right;\">\n",
       "      <th></th>\n",
       "      <th>Airline</th>\n",
       "      <th>Date_of_Journey</th>\n",
       "      <th>Source</th>\n",
       "      <th>Destination</th>\n",
       "      <th>Route</th>\n",
       "      <th>Dep_Time</th>\n",
       "      <th>Arrival_Time</th>\n",
       "      <th>Duration</th>\n",
       "      <th>Total_Stops</th>\n",
       "      <th>Additional_Info</th>\n",
       "      <th>Price</th>\n",
       "      <th>Temp</th>\n",
       "    </tr>\n",
       "  </thead>\n",
       "  <tbody>\n",
       "    <tr>\n",
       "      <th>0</th>\n",
       "      <td>IndiGo</td>\n",
       "      <td>24/03/2019</td>\n",
       "      <td>Banglore</td>\n",
       "      <td>New Delhi</td>\n",
       "      <td>BLR → DEL</td>\n",
       "      <td>22:20</td>\n",
       "      <td>01:10 22 Mar</td>\n",
       "      <td>2h 50m</td>\n",
       "      <td>non-stop</td>\n",
       "      <td>No info</td>\n",
       "      <td>3897.0</td>\n",
       "      <td>Train</td>\n",
       "    </tr>\n",
       "    <tr>\n",
       "      <th>1</th>\n",
       "      <td>Air India</td>\n",
       "      <td>1/05/2019</td>\n",
       "      <td>Kolkata</td>\n",
       "      <td>Banglore</td>\n",
       "      <td>CCU → IXR → BBI → BLR</td>\n",
       "      <td>05:50</td>\n",
       "      <td>13:15</td>\n",
       "      <td>7h 25m</td>\n",
       "      <td>2 stops</td>\n",
       "      <td>No info</td>\n",
       "      <td>7662.0</td>\n",
       "      <td>Train</td>\n",
       "    </tr>\n",
       "    <tr>\n",
       "      <th>2</th>\n",
       "      <td>Jet Airways</td>\n",
       "      <td>9/06/2019</td>\n",
       "      <td>Delhi</td>\n",
       "      <td>Cochin</td>\n",
       "      <td>DEL → LKO → BOM → COK</td>\n",
       "      <td>09:25</td>\n",
       "      <td>04:25 10 Jun</td>\n",
       "      <td>19h</td>\n",
       "      <td>2 stops</td>\n",
       "      <td>No info</td>\n",
       "      <td>13882.0</td>\n",
       "      <td>Train</td>\n",
       "    </tr>\n",
       "    <tr>\n",
       "      <th>3</th>\n",
       "      <td>IndiGo</td>\n",
       "      <td>12/05/2019</td>\n",
       "      <td>Kolkata</td>\n",
       "      <td>Banglore</td>\n",
       "      <td>CCU → NAG → BLR</td>\n",
       "      <td>18:05</td>\n",
       "      <td>23:30</td>\n",
       "      <td>5h 25m</td>\n",
       "      <td>1 stop</td>\n",
       "      <td>No info</td>\n",
       "      <td>6218.0</td>\n",
       "      <td>Train</td>\n",
       "    </tr>\n",
       "    <tr>\n",
       "      <th>4</th>\n",
       "      <td>IndiGo</td>\n",
       "      <td>01/03/2019</td>\n",
       "      <td>Banglore</td>\n",
       "      <td>New Delhi</td>\n",
       "      <td>BLR → NAG → DEL</td>\n",
       "      <td>16:50</td>\n",
       "      <td>21:35</td>\n",
       "      <td>4h 45m</td>\n",
       "      <td>1 stop</td>\n",
       "      <td>No info</td>\n",
       "      <td>13302.0</td>\n",
       "      <td>Train</td>\n",
       "    </tr>\n",
       "    <tr>\n",
       "      <th>...</th>\n",
       "      <td>...</td>\n",
       "      <td>...</td>\n",
       "      <td>...</td>\n",
       "      <td>...</td>\n",
       "      <td>...</td>\n",
       "      <td>...</td>\n",
       "      <td>...</td>\n",
       "      <td>...</td>\n",
       "      <td>...</td>\n",
       "      <td>...</td>\n",
       "      <td>...</td>\n",
       "      <td>...</td>\n",
       "    </tr>\n",
       "    <tr>\n",
       "      <th>13349</th>\n",
       "      <td>Air India</td>\n",
       "      <td>6/06/2019</td>\n",
       "      <td>Kolkata</td>\n",
       "      <td>Banglore</td>\n",
       "      <td>CCU → DEL → BLR</td>\n",
       "      <td>20:30</td>\n",
       "      <td>20:25 07 Jun</td>\n",
       "      <td>23h 55m</td>\n",
       "      <td>1 stop</td>\n",
       "      <td>No info</td>\n",
       "      <td>NaN</td>\n",
       "      <td>Test</td>\n",
       "    </tr>\n",
       "    <tr>\n",
       "      <th>13350</th>\n",
       "      <td>IndiGo</td>\n",
       "      <td>27/03/2019</td>\n",
       "      <td>Kolkata</td>\n",
       "      <td>Banglore</td>\n",
       "      <td>CCU → BLR</td>\n",
       "      <td>14:20</td>\n",
       "      <td>16:55</td>\n",
       "      <td>2h 35m</td>\n",
       "      <td>non-stop</td>\n",
       "      <td>No info</td>\n",
       "      <td>NaN</td>\n",
       "      <td>Test</td>\n",
       "    </tr>\n",
       "    <tr>\n",
       "      <th>13351</th>\n",
       "      <td>Jet Airways</td>\n",
       "      <td>6/03/2019</td>\n",
       "      <td>Delhi</td>\n",
       "      <td>Cochin</td>\n",
       "      <td>DEL → BOM → COK</td>\n",
       "      <td>21:50</td>\n",
       "      <td>04:25 07 Mar</td>\n",
       "      <td>6h 35m</td>\n",
       "      <td>1 stop</td>\n",
       "      <td>No info</td>\n",
       "      <td>NaN</td>\n",
       "      <td>Test</td>\n",
       "    </tr>\n",
       "    <tr>\n",
       "      <th>13352</th>\n",
       "      <td>Air India</td>\n",
       "      <td>6/03/2019</td>\n",
       "      <td>Delhi</td>\n",
       "      <td>Cochin</td>\n",
       "      <td>DEL → BOM → COK</td>\n",
       "      <td>04:00</td>\n",
       "      <td>19:15</td>\n",
       "      <td>15h 15m</td>\n",
       "      <td>1 stop</td>\n",
       "      <td>No info</td>\n",
       "      <td>NaN</td>\n",
       "      <td>Test</td>\n",
       "    </tr>\n",
       "    <tr>\n",
       "      <th>13353</th>\n",
       "      <td>Multiple carriers</td>\n",
       "      <td>15/06/2019</td>\n",
       "      <td>Delhi</td>\n",
       "      <td>Cochin</td>\n",
       "      <td>DEL → BOM → COK</td>\n",
       "      <td>04:55</td>\n",
       "      <td>19:15</td>\n",
       "      <td>14h 20m</td>\n",
       "      <td>1 stop</td>\n",
       "      <td>No info</td>\n",
       "      <td>NaN</td>\n",
       "      <td>Test</td>\n",
       "    </tr>\n",
       "  </tbody>\n",
       "</table>\n",
       "<p>13354 rows × 12 columns</p>\n",
       "</div>"
      ],
      "text/plain": [
       "                 Airline Date_of_Journey    Source Destination  \\\n",
       "0                 IndiGo      24/03/2019  Banglore   New Delhi   \n",
       "1              Air India       1/05/2019   Kolkata    Banglore   \n",
       "2            Jet Airways       9/06/2019     Delhi      Cochin   \n",
       "3                 IndiGo      12/05/2019   Kolkata    Banglore   \n",
       "4                 IndiGo      01/03/2019  Banglore   New Delhi   \n",
       "...                  ...             ...       ...         ...   \n",
       "13349          Air India       6/06/2019   Kolkata    Banglore   \n",
       "13350             IndiGo      27/03/2019   Kolkata    Banglore   \n",
       "13351        Jet Airways       6/03/2019     Delhi      Cochin   \n",
       "13352          Air India       6/03/2019     Delhi      Cochin   \n",
       "13353  Multiple carriers      15/06/2019     Delhi      Cochin   \n",
       "\n",
       "                       Route Dep_Time  Arrival_Time Duration Total_Stops  \\\n",
       "0                  BLR → DEL    22:20  01:10 22 Mar   2h 50m    non-stop   \n",
       "1      CCU → IXR → BBI → BLR    05:50         13:15   7h 25m     2 stops   \n",
       "2      DEL → LKO → BOM → COK    09:25  04:25 10 Jun      19h     2 stops   \n",
       "3            CCU → NAG → BLR    18:05         23:30   5h 25m      1 stop   \n",
       "4            BLR → NAG → DEL    16:50         21:35   4h 45m      1 stop   \n",
       "...                      ...      ...           ...      ...         ...   \n",
       "13349        CCU → DEL → BLR    20:30  20:25 07 Jun  23h 55m      1 stop   \n",
       "13350              CCU → BLR    14:20         16:55   2h 35m    non-stop   \n",
       "13351        DEL → BOM → COK    21:50  04:25 07 Mar   6h 35m      1 stop   \n",
       "13352        DEL → BOM → COK    04:00         19:15  15h 15m      1 stop   \n",
       "13353        DEL → BOM → COK    04:55         19:15  14h 20m      1 stop   \n",
       "\n",
       "      Additional_Info    Price   Temp  \n",
       "0             No info   3897.0  Train  \n",
       "1             No info   7662.0  Train  \n",
       "2             No info  13882.0  Train  \n",
       "3             No info   6218.0  Train  \n",
       "4             No info  13302.0  Train  \n",
       "...               ...      ...    ...  \n",
       "13349         No info      NaN   Test  \n",
       "13350         No info      NaN   Test  \n",
       "13351         No info      NaN   Test  \n",
       "13352         No info      NaN   Test  \n",
       "13353         No info      NaN   Test  \n",
       "\n",
       "[13354 rows x 12 columns]"
      ]
     },
     "execution_count": 4,
     "metadata": {},
     "output_type": "execute_result"
    }
   ],
   "source": [
    "df_train['Temp']=\"Train\"\n",
    "df_test['Temp']=\"Test\"\n",
    "df = pd.concat([df_train,df_test],ignore_index=True)\n",
    "df"
   ]
  },
  {
   "cell_type": "markdown",
   "id": "ff48356c",
   "metadata": {},
   "source": [
    "EDA"
   ]
  },
  {
   "cell_type": "code",
   "execution_count": 5,
   "id": "b50ad1e7",
   "metadata": {},
   "outputs": [
    {
     "data": {
      "text/plain": [
       "(13354, 12)"
      ]
     },
     "execution_count": 5,
     "metadata": {},
     "output_type": "execute_result"
    }
   ],
   "source": [
    "df.shape"
   ]
  },
  {
   "cell_type": "markdown",
   "id": "215367f2",
   "metadata": {},
   "source": [
    "Columns name"
   ]
  },
  {
   "cell_type": "code",
   "execution_count": 6,
   "id": "62b9e0fc",
   "metadata": {},
   "outputs": [
    {
     "data": {
      "text/plain": [
       "Index(['Airline', 'Date_of_Journey', 'Source', 'Destination', 'Route',\n",
       "       'Dep_Time', 'Arrival_Time', 'Duration', 'Total_Stops',\n",
       "       'Additional_Info', 'Price', 'Temp'],\n",
       "      dtype='object')"
      ]
     },
     "execution_count": 6,
     "metadata": {},
     "output_type": "execute_result"
    }
   ],
   "source": [
    "df.columns"
   ]
  },
  {
   "cell_type": "code",
   "execution_count": 7,
   "id": "d2bd5031",
   "metadata": {},
   "outputs": [
    {
     "data": {
      "text/plain": [
       "<bound method DataFrame.info of                  Airline Date_of_Journey    Source Destination  \\\n",
       "0                 IndiGo      24/03/2019  Banglore   New Delhi   \n",
       "1              Air India       1/05/2019   Kolkata    Banglore   \n",
       "2            Jet Airways       9/06/2019     Delhi      Cochin   \n",
       "3                 IndiGo      12/05/2019   Kolkata    Banglore   \n",
       "4                 IndiGo      01/03/2019  Banglore   New Delhi   \n",
       "...                  ...             ...       ...         ...   \n",
       "13349          Air India       6/06/2019   Kolkata    Banglore   \n",
       "13350             IndiGo      27/03/2019   Kolkata    Banglore   \n",
       "13351        Jet Airways       6/03/2019     Delhi      Cochin   \n",
       "13352          Air India       6/03/2019     Delhi      Cochin   \n",
       "13353  Multiple carriers      15/06/2019     Delhi      Cochin   \n",
       "\n",
       "                       Route Dep_Time  Arrival_Time Duration Total_Stops  \\\n",
       "0                  BLR → DEL    22:20  01:10 22 Mar   2h 50m    non-stop   \n",
       "1      CCU → IXR → BBI → BLR    05:50         13:15   7h 25m     2 stops   \n",
       "2      DEL → LKO → BOM → COK    09:25  04:25 10 Jun      19h     2 stops   \n",
       "3            CCU → NAG → BLR    18:05         23:30   5h 25m      1 stop   \n",
       "4            BLR → NAG → DEL    16:50         21:35   4h 45m      1 stop   \n",
       "...                      ...      ...           ...      ...         ...   \n",
       "13349        CCU → DEL → BLR    20:30  20:25 07 Jun  23h 55m      1 stop   \n",
       "13350              CCU → BLR    14:20         16:55   2h 35m    non-stop   \n",
       "13351        DEL → BOM → COK    21:50  04:25 07 Mar   6h 35m      1 stop   \n",
       "13352        DEL → BOM → COK    04:00         19:15  15h 15m      1 stop   \n",
       "13353        DEL → BOM → COK    04:55         19:15  14h 20m      1 stop   \n",
       "\n",
       "      Additional_Info    Price   Temp  \n",
       "0             No info   3897.0  Train  \n",
       "1             No info   7662.0  Train  \n",
       "2             No info  13882.0  Train  \n",
       "3             No info   6218.0  Train  \n",
       "4             No info  13302.0  Train  \n",
       "...               ...      ...    ...  \n",
       "13349         No info      NaN   Test  \n",
       "13350         No info      NaN   Test  \n",
       "13351         No info      NaN   Test  \n",
       "13352         No info      NaN   Test  \n",
       "13353         No info      NaN   Test  \n",
       "\n",
       "[13354 rows x 12 columns]>"
      ]
     },
     "execution_count": 7,
     "metadata": {},
     "output_type": "execute_result"
    }
   ],
   "source": [
    "df.info"
   ]
  },
  {
   "cell_type": "markdown",
   "id": "56634f08",
   "metadata": {},
   "source": [
    "Checking null values"
   ]
  },
  {
   "cell_type": "code",
   "execution_count": 8,
   "id": "34d21fce",
   "metadata": {},
   "outputs": [
    {
     "data": {
      "text/plain": [
       "Airline               0\n",
       "Date_of_Journey       0\n",
       "Source                0\n",
       "Destination           0\n",
       "Route                 1\n",
       "Dep_Time              0\n",
       "Arrival_Time          0\n",
       "Duration              0\n",
       "Total_Stops           1\n",
       "Additional_Info       0\n",
       "Price              2671\n",
       "Temp                  0\n",
       "dtype: int64"
      ]
     },
     "execution_count": 8,
     "metadata": {},
     "output_type": "execute_result"
    }
   ],
   "source": [
    "df.isna().sum()"
   ]
  },
  {
   "cell_type": "markdown",
   "id": "f47535b9",
   "metadata": {},
   "source": [
    "Only three columns Total_stops, Route and Price has null values."
   ]
  },
  {
   "cell_type": "code",
   "execution_count": 9,
   "id": "808da031",
   "metadata": {},
   "outputs": [
    {
     "data": {
      "text/plain": [
       "Airline             object\n",
       "Date_of_Journey     object\n",
       "Source              object\n",
       "Destination         object\n",
       "Route               object\n",
       "Dep_Time            object\n",
       "Arrival_Time        object\n",
       "Duration            object\n",
       "Total_Stops         object\n",
       "Additional_Info     object\n",
       "Price              float64\n",
       "Temp                object\n",
       "dtype: object"
      ]
     },
     "execution_count": 9,
     "metadata": {},
     "output_type": "execute_result"
    }
   ],
   "source": [
    "df.dtypes"
   ]
  },
  {
   "cell_type": "markdown",
   "id": "b6c745fa",
   "metadata": {},
   "source": [
    "All the columns have object except price which float datatype"
   ]
  },
  {
   "cell_type": "code",
   "execution_count": 10,
   "id": "a37a0163",
   "metadata": {},
   "outputs": [
    {
     "data": {
      "text/html": [
       "<div>\n",
       "<style scoped>\n",
       "    .dataframe tbody tr th:only-of-type {\n",
       "        vertical-align: middle;\n",
       "    }\n",
       "\n",
       "    .dataframe tbody tr th {\n",
       "        vertical-align: top;\n",
       "    }\n",
       "\n",
       "    .dataframe thead th {\n",
       "        text-align: right;\n",
       "    }\n",
       "</style>\n",
       "<table border=\"1\" class=\"dataframe\">\n",
       "  <thead>\n",
       "    <tr style=\"text-align: right;\">\n",
       "      <th></th>\n",
       "      <th>Price</th>\n",
       "    </tr>\n",
       "  </thead>\n",
       "  <tbody>\n",
       "    <tr>\n",
       "      <th>count</th>\n",
       "      <td>10683.000000</td>\n",
       "    </tr>\n",
       "    <tr>\n",
       "      <th>mean</th>\n",
       "      <td>9087.064121</td>\n",
       "    </tr>\n",
       "    <tr>\n",
       "      <th>std</th>\n",
       "      <td>4611.359167</td>\n",
       "    </tr>\n",
       "    <tr>\n",
       "      <th>min</th>\n",
       "      <td>1759.000000</td>\n",
       "    </tr>\n",
       "    <tr>\n",
       "      <th>25%</th>\n",
       "      <td>5277.000000</td>\n",
       "    </tr>\n",
       "    <tr>\n",
       "      <th>50%</th>\n",
       "      <td>8372.000000</td>\n",
       "    </tr>\n",
       "    <tr>\n",
       "      <th>75%</th>\n",
       "      <td>12373.000000</td>\n",
       "    </tr>\n",
       "    <tr>\n",
       "      <th>max</th>\n",
       "      <td>79512.000000</td>\n",
       "    </tr>\n",
       "  </tbody>\n",
       "</table>\n",
       "</div>"
      ],
      "text/plain": [
       "              Price\n",
       "count  10683.000000\n",
       "mean    9087.064121\n",
       "std     4611.359167\n",
       "min     1759.000000\n",
       "25%     5277.000000\n",
       "50%     8372.000000\n",
       "75%    12373.000000\n",
       "max    79512.000000"
      ]
     },
     "execution_count": 10,
     "metadata": {},
     "output_type": "execute_result"
    }
   ],
   "source": [
    "df.describe()"
   ]
  },
  {
   "cell_type": "markdown",
   "id": "ca981d0c",
   "metadata": {},
   "source": [
    "Finding unique values"
   ]
  },
  {
   "cell_type": "code",
   "execution_count": 11,
   "id": "5df5318b",
   "metadata": {},
   "outputs": [
    {
     "name": "stdout",
     "output_type": "stream",
     "text": [
      "Airline              12\n",
      "Date_of_Journey      44\n",
      "Source                5\n",
      "Destination           6\n",
      "Route               132\n",
      "Dep_Time            223\n",
      "Arrival_Time       1451\n",
      "Duration            374\n",
      "Total_Stops           5\n",
      "Additional_Info      10\n",
      "Price              1870\n",
      "Temp                  2\n",
      "dtype: int64\n"
     ]
    }
   ],
   "source": [
    "print(df.nunique())"
   ]
  },
  {
   "cell_type": "markdown",
   "id": "568c75dd",
   "metadata": {},
   "source": [
    "Data Processing"
   ]
  },
  {
   "cell_type": "code",
   "execution_count": 12,
   "id": "f7f5cbce",
   "metadata": {},
   "outputs": [],
   "source": [
    "df['Route']=df['Route'].fillna(df['Route'].mode()[0])\n",
    "df['Total_Stops']=df['Total_Stops'].fillna(df['Total_Stops'].mode()[0])"
   ]
  },
  {
   "cell_type": "code",
   "execution_count": 13,
   "id": "89cda339",
   "metadata": {},
   "outputs": [
    {
     "data": {
      "text/plain": [
       "0"
      ]
     },
     "execution_count": 13,
     "metadata": {},
     "output_type": "execute_result"
    }
   ],
   "source": [
    "df['Route'].isna().sum()\n",
    "df['Total_Stops'].isna().sum()"
   ]
  },
  {
   "cell_type": "code",
   "execution_count": 14,
   "id": "998ee8e7",
   "metadata": {},
   "outputs": [
    {
     "data": {
      "text/plain": [
       "Airline               0\n",
       "Date_of_Journey       0\n",
       "Source                0\n",
       "Destination           0\n",
       "Route                 0\n",
       "Dep_Time              0\n",
       "Arrival_Time          0\n",
       "Duration              0\n",
       "Total_Stops           0\n",
       "Additional_Info       0\n",
       "Price              2671\n",
       "Temp                  0\n",
       "dtype: int64"
      ]
     },
     "execution_count": 14,
     "metadata": {},
     "output_type": "execute_result"
    }
   ],
   "source": [
    "df.isna().sum()"
   ]
  },
  {
   "cell_type": "code",
   "execution_count": 15,
   "id": "7e59fbf7",
   "metadata": {},
   "outputs": [
    {
     "name": "stdout",
     "output_type": "stream",
     "text": [
      "Jet Airways                          4746\n",
      "IndiGo                               2564\n",
      "Air India                            2192\n",
      "Multiple carriers                    1543\n",
      "SpiceJet                             1026\n",
      "Vistara                               608\n",
      "Air Asia                              405\n",
      "GoAir                                 240\n",
      "Multiple carriers Premium economy      16\n",
      "Jet Airways Business                    8\n",
      "Vistara Premium economy                 5\n",
      "Trujet                                  1\n",
      "Name: Airline, dtype: int64\n",
      "\n"
     ]
    },
    {
     "data": {
      "text/plain": [
       "12"
      ]
     },
     "execution_count": 15,
     "metadata": {},
     "output_type": "execute_result"
    }
   ],
   "source": [
    "print(df['Airline'].value_counts())\n",
    "print('')\n",
    "df['Airline'].nunique()"
   ]
  },
  {
   "cell_type": "code",
   "execution_count": 16,
   "id": "6e2e8a34",
   "metadata": {},
   "outputs": [],
   "source": [
    "# checking duplictes and adding them to a single catageory.\n",
    "df[\"Airline\"].replace(\"Jet Airways Business\",\"Jet Airways\",inplace=True)\n",
    "df[\"Airline\"].replace(\"Multiple carriers Premium economy\",\"Multiple carriers\",inplace=True)\n",
    "df[\"Airline\"].replace(\"Vistara Premium economy\",\"Vistara\",inplace=True)"
   ]
  },
  {
   "cell_type": "code",
   "execution_count": 17,
   "id": "11a6ac88",
   "metadata": {},
   "outputs": [
    {
     "data": {
      "text/plain": [
       "Jet Airways          4754\n",
       "IndiGo               2564\n",
       "Air India            2192\n",
       "Multiple carriers    1559\n",
       "SpiceJet             1026\n",
       "Vistara               613\n",
       "Air Asia              405\n",
       "GoAir                 240\n",
       "Trujet                  1\n",
       "Name: Airline, dtype: int64"
      ]
     },
     "execution_count": 17,
     "metadata": {},
     "output_type": "execute_result"
    }
   ],
   "source": [
    "df['Airline'].value_counts()"
   ]
  },
  {
   "cell_type": "code",
   "execution_count": 18,
   "id": "974070fe",
   "metadata": {},
   "outputs": [],
   "source": [
    "# creating a function to convert the respective values to datetime format.\n",
    "def datetime(col):\n",
    "    df[col]=pd.to_datetime(df[col])"
   ]
  },
  {
   "cell_type": "code",
   "execution_count": 19,
   "id": "5fda92e8",
   "metadata": {},
   "outputs": [
    {
     "data": {
      "text/plain": [
       "Index(['Airline', 'Date_of_Journey', 'Source', 'Destination', 'Route',\n",
       "       'Dep_Time', 'Arrival_Time', 'Duration', 'Total_Stops',\n",
       "       'Additional_Info', 'Price', 'Temp'],\n",
       "      dtype='object')"
      ]
     },
     "execution_count": 19,
     "metadata": {},
     "output_type": "execute_result"
    }
   ],
   "source": [
    "df.columns"
   ]
  },
  {
   "cell_type": "code",
   "execution_count": 20,
   "id": "b1ea5103",
   "metadata": {},
   "outputs": [],
   "source": [
    "for i in ['Date_of_Journey','Dep_Time', 'Arrival_Time']:\n",
    "    datetime(i)"
   ]
  },
  {
   "cell_type": "code",
   "execution_count": 21,
   "id": "f15b46dc",
   "metadata": {},
   "outputs": [
    {
     "data": {
      "text/plain": [
       "Airline                    object\n",
       "Date_of_Journey    datetime64[ns]\n",
       "Source                     object\n",
       "Destination                object\n",
       "Route                      object\n",
       "Dep_Time           datetime64[ns]\n",
       "Arrival_Time       datetime64[ns]\n",
       "Duration                   object\n",
       "Total_Stops                object\n",
       "Additional_Info            object\n",
       "Price                     float64\n",
       "Temp                       object\n",
       "dtype: object"
      ]
     },
     "execution_count": 21,
     "metadata": {},
     "output_type": "execute_result"
    }
   ],
   "source": [
    "df.dtypes"
   ]
  },
  {
   "cell_type": "code",
   "execution_count": 22,
   "id": "3563e0e4",
   "metadata": {},
   "outputs": [
    {
     "data": {
      "text/html": [
       "<div>\n",
       "<style scoped>\n",
       "    .dataframe tbody tr th:only-of-type {\n",
       "        vertical-align: middle;\n",
       "    }\n",
       "\n",
       "    .dataframe tbody tr th {\n",
       "        vertical-align: top;\n",
       "    }\n",
       "\n",
       "    .dataframe thead th {\n",
       "        text-align: right;\n",
       "    }\n",
       "</style>\n",
       "<table border=\"1\" class=\"dataframe\">\n",
       "  <thead>\n",
       "    <tr style=\"text-align: right;\">\n",
       "      <th></th>\n",
       "      <th>Date_of_Journey</th>\n",
       "      <th>Dep_Time</th>\n",
       "      <th>Arrival_Time</th>\n",
       "    </tr>\n",
       "  </thead>\n",
       "  <tbody>\n",
       "    <tr>\n",
       "      <th>0</th>\n",
       "      <td>2019-03-24</td>\n",
       "      <td>2021-08-21 22:20:00</td>\n",
       "      <td>2021-03-22 01:10:00</td>\n",
       "    </tr>\n",
       "    <tr>\n",
       "      <th>1</th>\n",
       "      <td>2019-01-05</td>\n",
       "      <td>2021-08-21 05:50:00</td>\n",
       "      <td>2021-08-21 13:15:00</td>\n",
       "    </tr>\n",
       "    <tr>\n",
       "      <th>2</th>\n",
       "      <td>2019-09-06</td>\n",
       "      <td>2021-08-21 09:25:00</td>\n",
       "      <td>2021-06-10 04:25:00</td>\n",
       "    </tr>\n",
       "    <tr>\n",
       "      <th>3</th>\n",
       "      <td>2019-12-05</td>\n",
       "      <td>2021-08-21 18:05:00</td>\n",
       "      <td>2021-08-21 23:30:00</td>\n",
       "    </tr>\n",
       "    <tr>\n",
       "      <th>4</th>\n",
       "      <td>2019-01-03</td>\n",
       "      <td>2021-08-21 16:50:00</td>\n",
       "      <td>2021-08-21 21:35:00</td>\n",
       "    </tr>\n",
       "    <tr>\n",
       "      <th>...</th>\n",
       "      <td>...</td>\n",
       "      <td>...</td>\n",
       "      <td>...</td>\n",
       "    </tr>\n",
       "    <tr>\n",
       "      <th>13349</th>\n",
       "      <td>2019-06-06</td>\n",
       "      <td>2021-08-21 20:30:00</td>\n",
       "      <td>2021-06-07 20:25:00</td>\n",
       "    </tr>\n",
       "    <tr>\n",
       "      <th>13350</th>\n",
       "      <td>2019-03-27</td>\n",
       "      <td>2021-08-21 14:20:00</td>\n",
       "      <td>2021-08-21 16:55:00</td>\n",
       "    </tr>\n",
       "    <tr>\n",
       "      <th>13351</th>\n",
       "      <td>2019-06-03</td>\n",
       "      <td>2021-08-21 21:50:00</td>\n",
       "      <td>2021-03-07 04:25:00</td>\n",
       "    </tr>\n",
       "    <tr>\n",
       "      <th>13352</th>\n",
       "      <td>2019-06-03</td>\n",
       "      <td>2021-08-21 04:00:00</td>\n",
       "      <td>2021-08-21 19:15:00</td>\n",
       "    </tr>\n",
       "    <tr>\n",
       "      <th>13353</th>\n",
       "      <td>2019-06-15</td>\n",
       "      <td>2021-08-21 04:55:00</td>\n",
       "      <td>2021-08-21 19:15:00</td>\n",
       "    </tr>\n",
       "  </tbody>\n",
       "</table>\n",
       "<p>13354 rows × 3 columns</p>\n",
       "</div>"
      ],
      "text/plain": [
       "      Date_of_Journey            Dep_Time        Arrival_Time\n",
       "0          2019-03-24 2021-08-21 22:20:00 2021-03-22 01:10:00\n",
       "1          2019-01-05 2021-08-21 05:50:00 2021-08-21 13:15:00\n",
       "2          2019-09-06 2021-08-21 09:25:00 2021-06-10 04:25:00\n",
       "3          2019-12-05 2021-08-21 18:05:00 2021-08-21 23:30:00\n",
       "4          2019-01-03 2021-08-21 16:50:00 2021-08-21 21:35:00\n",
       "...               ...                 ...                 ...\n",
       "13349      2019-06-06 2021-08-21 20:30:00 2021-06-07 20:25:00\n",
       "13350      2019-03-27 2021-08-21 14:20:00 2021-08-21 16:55:00\n",
       "13351      2019-06-03 2021-08-21 21:50:00 2021-03-07 04:25:00\n",
       "13352      2019-06-03 2021-08-21 04:00:00 2021-08-21 19:15:00\n",
       "13353      2019-06-15 2021-08-21 04:55:00 2021-08-21 19:15:00\n",
       "\n",
       "[13354 rows x 3 columns]"
      ]
     },
     "execution_count": 22,
     "metadata": {},
     "output_type": "execute_result"
    }
   ],
   "source": [
    "df.loc[:,['Date_of_Journey','Dep_Time', 'Arrival_Time']]"
   ]
  },
  {
   "cell_type": "code",
   "execution_count": 23,
   "id": "af03e89e",
   "metadata": {},
   "outputs": [],
   "source": [
    "df['day']=df['Date_of_Journey'].dt.day\n",
    "df['month']=df['Date_of_Journey'].dt.month\n",
    "df.drop(['Date_of_Journey'],axis = 1, inplace = True)"
   ]
  },
  {
   "cell_type": "code",
   "execution_count": 24,
   "id": "9706ce93",
   "metadata": {},
   "outputs": [],
   "source": [
    "df['Dep_hour']=df['Dep_Time'].dt.hour\n",
    "df['Dep_min']=df['Dep_Time'].dt.minute\n",
    "df['Arrival_hour']=df['Arrival_Time'].dt.hour\n",
    "df['Arrival_minute']=df['Arrival_Time'].dt.minute\n",
    "df.drop(['Arrival_Time'],axis = 1, inplace = True)"
   ]
  },
  {
   "cell_type": "code",
   "execution_count": 25,
   "id": "a3f1d2be",
   "metadata": {},
   "outputs": [],
   "source": [
    "df.drop(['Dep_Time'],axis = 1, inplace = True)"
   ]
  },
  {
   "cell_type": "markdown",
   "id": "4f790bc0",
   "metadata": {},
   "source": [
    "Duration"
   ]
  },
  {
   "cell_type": "code",
   "execution_count": 26,
   "id": "570ae5ec",
   "metadata": {},
   "outputs": [],
   "source": [
    "df['duration'] = (pd.to_timedelta(df['Duration']).dt.seconds // 60).astype(str).astype(float)"
   ]
  },
  {
   "cell_type": "code",
   "execution_count": 27,
   "id": "03d85099",
   "metadata": {},
   "outputs": [
    {
     "data": {
      "text/plain": [
       "0         170.0\n",
       "1         445.0\n",
       "2        1140.0\n",
       "3         325.0\n",
       "4         285.0\n",
       "          ...  \n",
       "13349    1435.0\n",
       "13350     155.0\n",
       "13351     395.0\n",
       "13352     915.0\n",
       "13353     860.0\n",
       "Name: duration, Length: 13354, dtype: float64"
      ]
     },
     "execution_count": 27,
     "metadata": {},
     "output_type": "execute_result"
    }
   ],
   "source": [
    "df['duration']"
   ]
  },
  {
   "cell_type": "code",
   "execution_count": 28,
   "id": "ea725267",
   "metadata": {},
   "outputs": [
    {
     "data": {
      "text/html": [
       "<div>\n",
       "<style scoped>\n",
       "    .dataframe tbody tr th:only-of-type {\n",
       "        vertical-align: middle;\n",
       "    }\n",
       "\n",
       "    .dataframe tbody tr th {\n",
       "        vertical-align: top;\n",
       "    }\n",
       "\n",
       "    .dataframe thead th {\n",
       "        text-align: right;\n",
       "    }\n",
       "</style>\n",
       "<table border=\"1\" class=\"dataframe\">\n",
       "  <thead>\n",
       "    <tr style=\"text-align: right;\">\n",
       "      <th></th>\n",
       "      <th>Duration</th>\n",
       "      <th>duration</th>\n",
       "    </tr>\n",
       "  </thead>\n",
       "  <tbody>\n",
       "    <tr>\n",
       "      <th>0</th>\n",
       "      <td>2h 50m</td>\n",
       "      <td>170.0</td>\n",
       "    </tr>\n",
       "    <tr>\n",
       "      <th>1</th>\n",
       "      <td>7h 25m</td>\n",
       "      <td>445.0</td>\n",
       "    </tr>\n",
       "    <tr>\n",
       "      <th>2</th>\n",
       "      <td>19h</td>\n",
       "      <td>1140.0</td>\n",
       "    </tr>\n",
       "    <tr>\n",
       "      <th>3</th>\n",
       "      <td>5h 25m</td>\n",
       "      <td>325.0</td>\n",
       "    </tr>\n",
       "    <tr>\n",
       "      <th>4</th>\n",
       "      <td>4h 45m</td>\n",
       "      <td>285.0</td>\n",
       "    </tr>\n",
       "    <tr>\n",
       "      <th>...</th>\n",
       "      <td>...</td>\n",
       "      <td>...</td>\n",
       "    </tr>\n",
       "    <tr>\n",
       "      <th>13349</th>\n",
       "      <td>23h 55m</td>\n",
       "      <td>1435.0</td>\n",
       "    </tr>\n",
       "    <tr>\n",
       "      <th>13350</th>\n",
       "      <td>2h 35m</td>\n",
       "      <td>155.0</td>\n",
       "    </tr>\n",
       "    <tr>\n",
       "      <th>13351</th>\n",
       "      <td>6h 35m</td>\n",
       "      <td>395.0</td>\n",
       "    </tr>\n",
       "    <tr>\n",
       "      <th>13352</th>\n",
       "      <td>15h 15m</td>\n",
       "      <td>915.0</td>\n",
       "    </tr>\n",
       "    <tr>\n",
       "      <th>13353</th>\n",
       "      <td>14h 20m</td>\n",
       "      <td>860.0</td>\n",
       "    </tr>\n",
       "  </tbody>\n",
       "</table>\n",
       "<p>13354 rows × 2 columns</p>\n",
       "</div>"
      ],
      "text/plain": [
       "      Duration  duration\n",
       "0       2h 50m     170.0\n",
       "1       7h 25m     445.0\n",
       "2          19h    1140.0\n",
       "3       5h 25m     325.0\n",
       "4       4h 45m     285.0\n",
       "...        ...       ...\n",
       "13349  23h 55m    1435.0\n",
       "13350   2h 35m     155.0\n",
       "13351   6h 35m     395.0\n",
       "13352  15h 15m     915.0\n",
       "13353  14h 20m     860.0\n",
       "\n",
       "[13354 rows x 2 columns]"
      ]
     },
     "execution_count": 28,
     "metadata": {},
     "output_type": "execute_result"
    }
   ],
   "source": [
    "#comparing both, Now duration is in minutes\n",
    "df.loc[:,['Duration','duration']]"
   ]
  },
  {
   "cell_type": "code",
   "execution_count": 29,
   "id": "3be30e91",
   "metadata": {},
   "outputs": [],
   "source": [
    "df.drop(['Duration'],axis = 1, inplace = True)"
   ]
  },
  {
   "cell_type": "code",
   "execution_count": 30,
   "id": "bede4b52",
   "metadata": {},
   "outputs": [
    {
     "data": {
      "text/plain": [
       "No info                         10493\n",
       "In-flight meal not included      2426\n",
       "No check-in baggage included      396\n",
       "1 Long layover                     20\n",
       "Change airports                     8\n",
       "Business class                      5\n",
       "No Info                             3\n",
       "Red-eye flight                      1\n",
       "2 Long layover                      1\n",
       "1 Short layover                     1\n",
       "Name: Additional_Info, dtype: int64"
      ]
     },
     "execution_count": 30,
     "metadata": {},
     "output_type": "execute_result"
    }
   ],
   "source": [
    "df['Additional_Info'].value_counts()"
   ]
  },
  {
   "cell_type": "code",
   "execution_count": 31,
   "id": "abf96b6c",
   "metadata": {},
   "outputs": [],
   "source": [
    "df[\"Additional_Info\"].replace(\"No info\",\"No Info\",inplace=True)\n",
    "df[\"Additional_Info\"].replace(\"1 Long layover\",\"Long layover\",inplace=True)\n",
    "df[\"Additional_Info\"].replace(\"2 Long layover\",\"Long layover\",inplace=True)"
   ]
  },
  {
   "cell_type": "code",
   "execution_count": 32,
   "id": "b8fad2bd",
   "metadata": {},
   "outputs": [
    {
     "data": {
      "text/plain": [
       "Index(['Airline', 'Source', 'Destination', 'Route', 'Total_Stops',\n",
       "       'Additional_Info', 'Price', 'Temp', 'day', 'month', 'Dep_hour',\n",
       "       'Dep_min', 'Arrival_hour', 'Arrival_minute', 'duration'],\n",
       "      dtype='object')"
      ]
     },
     "execution_count": 32,
     "metadata": {},
     "output_type": "execute_result"
    }
   ],
   "source": [
    "df.columns"
   ]
  },
  {
   "cell_type": "code",
   "execution_count": 33,
   "id": "ed0811dc",
   "metadata": {},
   "outputs": [
    {
     "name": "stdout",
     "output_type": "stream",
     "text": [
      "Delhi       5682\n",
      "Kolkata     3581\n",
      "Banglore    2752\n",
      "Mumbai       883\n",
      "Chennai      456\n",
      "Name: Source, dtype: int64\n",
      "****\n",
      "5\n"
     ]
    }
   ],
   "source": [
    "print(df['Source'].value_counts())\n",
    "print('****')\n",
    "print(df['Source'].nunique())"
   ]
  },
  {
   "cell_type": "code",
   "execution_count": 34,
   "id": "911955c1",
   "metadata": {},
   "outputs": [
    {
     "name": "stdout",
     "output_type": "stream",
     "text": [
      "Cochin       5682\n",
      "Banglore     3581\n",
      "Delhi        1582\n",
      "New Delhi    1170\n",
      "Hyderabad     883\n",
      "Kolkata       456\n",
      "Name: Destination, dtype: int64\n",
      "****\n",
      "0\n",
      "****\n",
      "<bound method IndexOpsMixin.nunique of 0        New Delhi\n",
      "1         Banglore\n",
      "2           Cochin\n",
      "3         Banglore\n",
      "4        New Delhi\n",
      "           ...    \n",
      "13349     Banglore\n",
      "13350     Banglore\n",
      "13351       Cochin\n",
      "13352       Cochin\n",
      "13353       Cochin\n",
      "Name: Destination, Length: 13354, dtype: object>\n"
     ]
    }
   ],
   "source": [
    "print(df['Destination'].value_counts())\n",
    "print('****')\n",
    "print(df['Destination'].isnull().sum())\n",
    "print('****')\n",
    "print(df['Destination'].nunique)"
   ]
  },
  {
   "cell_type": "code",
   "execution_count": 35,
   "id": "d1b4afc9",
   "metadata": {},
   "outputs": [],
   "source": [
    "# we can see  delhi and new delhi is present in the column are belongs to same destination, so replacing new delhi with delhi.\n",
    "df['Destination']=df['Destination'].replace('New Delhi','Delhi')"
   ]
  },
  {
   "cell_type": "code",
   "execution_count": 36,
   "id": "1f7a5a75",
   "metadata": {},
   "outputs": [
    {
     "name": "stdout",
     "output_type": "stream",
     "text": [
      "Cochin       5682\n",
      "Banglore     3581\n",
      "Delhi        2752\n",
      "Hyderabad     883\n",
      "Kolkata       456\n",
      "Name: Destination, dtype: int64\n"
     ]
    }
   ],
   "source": [
    "print(df['Destination'].value_counts())"
   ]
  },
  {
   "cell_type": "code",
   "execution_count": 37,
   "id": "2f32aeb9",
   "metadata": {},
   "outputs": [
    {
     "name": "stdout",
     "output_type": "stream",
     "text": [
      "DEL → BOM → COK                3001\n",
      "BLR → DEL                      1941\n",
      "CCU → BOM → BLR                1232\n",
      "CCU → BLR                       896\n",
      "BOM → HYD                       785\n",
      "                               ... \n",
      "BOM → NDC → HYD                   1\n",
      "BOM → DED → DEL → HYD             1\n",
      "CCU → IXA → BLR                   1\n",
      "BOM → BLR → CCU → BBI → HYD       1\n",
      "BLR → HBX → BOM → BHO → DEL       1\n",
      "Name: Route, Length: 132, dtype: int64\n",
      "\n"
     ]
    },
    {
     "data": {
      "text/plain": [
       "132"
      ]
     },
     "execution_count": 37,
     "metadata": {},
     "output_type": "execute_result"
    }
   ],
   "source": [
    "#lets check route column\n",
    "print(df.Route.value_counts())\n",
    "print('')\n",
    "#lets check route column\n",
    "df.Route.nunique()"
   ]
  },
  {
   "cell_type": "code",
   "execution_count": 38,
   "id": "471367ce",
   "metadata": {},
   "outputs": [],
   "source": [
    "# The Route column is having 132 unique values, extracting them as below.\n",
    "df['Route1']=df['Route'].str.split('→').str[0]\n",
    "df['Route2']=df['Route'].str.split('→').str[1]\n",
    "df['Route3']=df['Route'].str.split('→').str[2]\n",
    "df['Route4']=df['Route'].str.split('→').str[3]\n",
    "df['Route5']=df['Route'].str.split('→').str[4]"
   ]
  },
  {
   "cell_type": "code",
   "execution_count": 39,
   "id": "4642104f",
   "metadata": {},
   "outputs": [],
   "source": [
    "df.drop(['Route',],axis = 1, inplace = True)"
   ]
  },
  {
   "cell_type": "code",
   "execution_count": 40,
   "id": "370c7a35",
   "metadata": {},
   "outputs": [
    {
     "data": {
      "text/plain": [
       "Airline                0\n",
       "Source                 0\n",
       "Destination            0\n",
       "Total_Stops            0\n",
       "Additional_Info        0\n",
       "Price               2671\n",
       "Temp                   0\n",
       "day                    0\n",
       "month                  0\n",
       "Dep_hour               0\n",
       "Dep_min                0\n",
       "Arrival_hour           0\n",
       "Arrival_minute         0\n",
       "duration               0\n",
       "Route1                 0\n",
       "Route2                 0\n",
       "Route3              4340\n",
       "Route4             11397\n",
       "Route5             13296\n",
       "dtype: int64"
      ]
     },
     "execution_count": 40,
     "metadata": {},
     "output_type": "execute_result"
    }
   ],
   "source": [
    "df.isnull().sum()"
   ]
  },
  {
   "cell_type": "code",
   "execution_count": 41,
   "id": "3aa95317",
   "metadata": {},
   "outputs": [],
   "source": [
    "# changing NaN values to'NA'\n",
    "for i in ['Route3', 'Route4', 'Route5']:\n",
    "    df[i].fillna('NA',inplace=True)"
   ]
  },
  {
   "cell_type": "code",
   "execution_count": 42,
   "id": "f3bb4ee3",
   "metadata": {},
   "outputs": [],
   "source": [
    "dict={'non-stop':0, '2 stops':2, '1 stop':1, '3 stops':3, '4 stops':4}\n",
    "df['Total_Stops']=df['Total_Stops'].map(dict)"
   ]
  },
  {
   "cell_type": "code",
   "execution_count": 43,
   "id": "d93862cf",
   "metadata": {},
   "outputs": [
    {
     "data": {
      "text/html": [
       "<div>\n",
       "<style scoped>\n",
       "    .dataframe tbody tr th:only-of-type {\n",
       "        vertical-align: middle;\n",
       "    }\n",
       "\n",
       "    .dataframe tbody tr th {\n",
       "        vertical-align: top;\n",
       "    }\n",
       "\n",
       "    .dataframe thead th {\n",
       "        text-align: right;\n",
       "    }\n",
       "</style>\n",
       "<table border=\"1\" class=\"dataframe\">\n",
       "  <thead>\n",
       "    <tr style=\"text-align: right;\">\n",
       "      <th></th>\n",
       "      <th>Airline</th>\n",
       "      <th>Source</th>\n",
       "      <th>Destination</th>\n",
       "      <th>Total_Stops</th>\n",
       "      <th>Additional_Info</th>\n",
       "      <th>Price</th>\n",
       "      <th>Temp</th>\n",
       "      <th>day</th>\n",
       "      <th>month</th>\n",
       "      <th>Dep_hour</th>\n",
       "      <th>Dep_min</th>\n",
       "      <th>Arrival_hour</th>\n",
       "      <th>Arrival_minute</th>\n",
       "      <th>duration</th>\n",
       "      <th>Route1</th>\n",
       "      <th>Route2</th>\n",
       "      <th>Route3</th>\n",
       "      <th>Route4</th>\n",
       "      <th>Route5</th>\n",
       "    </tr>\n",
       "  </thead>\n",
       "  <tbody>\n",
       "    <tr>\n",
       "      <th>0</th>\n",
       "      <td>IndiGo</td>\n",
       "      <td>Banglore</td>\n",
       "      <td>Delhi</td>\n",
       "      <td>0</td>\n",
       "      <td>No Info</td>\n",
       "      <td>3897.0</td>\n",
       "      <td>Train</td>\n",
       "      <td>24</td>\n",
       "      <td>3</td>\n",
       "      <td>22</td>\n",
       "      <td>20</td>\n",
       "      <td>1</td>\n",
       "      <td>10</td>\n",
       "      <td>170.0</td>\n",
       "      <td>BLR</td>\n",
       "      <td>DEL</td>\n",
       "      <td>NA</td>\n",
       "      <td>NA</td>\n",
       "      <td>NA</td>\n",
       "    </tr>\n",
       "    <tr>\n",
       "      <th>1</th>\n",
       "      <td>Air India</td>\n",
       "      <td>Kolkata</td>\n",
       "      <td>Banglore</td>\n",
       "      <td>2</td>\n",
       "      <td>No Info</td>\n",
       "      <td>7662.0</td>\n",
       "      <td>Train</td>\n",
       "      <td>5</td>\n",
       "      <td>1</td>\n",
       "      <td>5</td>\n",
       "      <td>50</td>\n",
       "      <td>13</td>\n",
       "      <td>15</td>\n",
       "      <td>445.0</td>\n",
       "      <td>CCU</td>\n",
       "      <td>IXR</td>\n",
       "      <td>BBI</td>\n",
       "      <td>BLR</td>\n",
       "      <td>NA</td>\n",
       "    </tr>\n",
       "    <tr>\n",
       "      <th>2</th>\n",
       "      <td>Jet Airways</td>\n",
       "      <td>Delhi</td>\n",
       "      <td>Cochin</td>\n",
       "      <td>2</td>\n",
       "      <td>No Info</td>\n",
       "      <td>13882.0</td>\n",
       "      <td>Train</td>\n",
       "      <td>6</td>\n",
       "      <td>9</td>\n",
       "      <td>9</td>\n",
       "      <td>25</td>\n",
       "      <td>4</td>\n",
       "      <td>25</td>\n",
       "      <td>1140.0</td>\n",
       "      <td>DEL</td>\n",
       "      <td>LKO</td>\n",
       "      <td>BOM</td>\n",
       "      <td>COK</td>\n",
       "      <td>NA</td>\n",
       "    </tr>\n",
       "    <tr>\n",
       "      <th>3</th>\n",
       "      <td>IndiGo</td>\n",
       "      <td>Kolkata</td>\n",
       "      <td>Banglore</td>\n",
       "      <td>1</td>\n",
       "      <td>No Info</td>\n",
       "      <td>6218.0</td>\n",
       "      <td>Train</td>\n",
       "      <td>5</td>\n",
       "      <td>12</td>\n",
       "      <td>18</td>\n",
       "      <td>5</td>\n",
       "      <td>23</td>\n",
       "      <td>30</td>\n",
       "      <td>325.0</td>\n",
       "      <td>CCU</td>\n",
       "      <td>NAG</td>\n",
       "      <td>BLR</td>\n",
       "      <td>NA</td>\n",
       "      <td>NA</td>\n",
       "    </tr>\n",
       "    <tr>\n",
       "      <th>4</th>\n",
       "      <td>IndiGo</td>\n",
       "      <td>Banglore</td>\n",
       "      <td>Delhi</td>\n",
       "      <td>1</td>\n",
       "      <td>No Info</td>\n",
       "      <td>13302.0</td>\n",
       "      <td>Train</td>\n",
       "      <td>3</td>\n",
       "      <td>1</td>\n",
       "      <td>16</td>\n",
       "      <td>50</td>\n",
       "      <td>21</td>\n",
       "      <td>35</td>\n",
       "      <td>285.0</td>\n",
       "      <td>BLR</td>\n",
       "      <td>NAG</td>\n",
       "      <td>DEL</td>\n",
       "      <td>NA</td>\n",
       "      <td>NA</td>\n",
       "    </tr>\n",
       "    <tr>\n",
       "      <th>...</th>\n",
       "      <td>...</td>\n",
       "      <td>...</td>\n",
       "      <td>...</td>\n",
       "      <td>...</td>\n",
       "      <td>...</td>\n",
       "      <td>...</td>\n",
       "      <td>...</td>\n",
       "      <td>...</td>\n",
       "      <td>...</td>\n",
       "      <td>...</td>\n",
       "      <td>...</td>\n",
       "      <td>...</td>\n",
       "      <td>...</td>\n",
       "      <td>...</td>\n",
       "      <td>...</td>\n",
       "      <td>...</td>\n",
       "      <td>...</td>\n",
       "      <td>...</td>\n",
       "      <td>...</td>\n",
       "    </tr>\n",
       "    <tr>\n",
       "      <th>13349</th>\n",
       "      <td>Air India</td>\n",
       "      <td>Kolkata</td>\n",
       "      <td>Banglore</td>\n",
       "      <td>1</td>\n",
       "      <td>No Info</td>\n",
       "      <td>NaN</td>\n",
       "      <td>Test</td>\n",
       "      <td>6</td>\n",
       "      <td>6</td>\n",
       "      <td>20</td>\n",
       "      <td>30</td>\n",
       "      <td>20</td>\n",
       "      <td>25</td>\n",
       "      <td>1435.0</td>\n",
       "      <td>CCU</td>\n",
       "      <td>DEL</td>\n",
       "      <td>BLR</td>\n",
       "      <td>NA</td>\n",
       "      <td>NA</td>\n",
       "    </tr>\n",
       "    <tr>\n",
       "      <th>13350</th>\n",
       "      <td>IndiGo</td>\n",
       "      <td>Kolkata</td>\n",
       "      <td>Banglore</td>\n",
       "      <td>0</td>\n",
       "      <td>No Info</td>\n",
       "      <td>NaN</td>\n",
       "      <td>Test</td>\n",
       "      <td>27</td>\n",
       "      <td>3</td>\n",
       "      <td>14</td>\n",
       "      <td>20</td>\n",
       "      <td>16</td>\n",
       "      <td>55</td>\n",
       "      <td>155.0</td>\n",
       "      <td>CCU</td>\n",
       "      <td>BLR</td>\n",
       "      <td>NA</td>\n",
       "      <td>NA</td>\n",
       "      <td>NA</td>\n",
       "    </tr>\n",
       "    <tr>\n",
       "      <th>13351</th>\n",
       "      <td>Jet Airways</td>\n",
       "      <td>Delhi</td>\n",
       "      <td>Cochin</td>\n",
       "      <td>1</td>\n",
       "      <td>No Info</td>\n",
       "      <td>NaN</td>\n",
       "      <td>Test</td>\n",
       "      <td>3</td>\n",
       "      <td>6</td>\n",
       "      <td>21</td>\n",
       "      <td>50</td>\n",
       "      <td>4</td>\n",
       "      <td>25</td>\n",
       "      <td>395.0</td>\n",
       "      <td>DEL</td>\n",
       "      <td>BOM</td>\n",
       "      <td>COK</td>\n",
       "      <td>NA</td>\n",
       "      <td>NA</td>\n",
       "    </tr>\n",
       "    <tr>\n",
       "      <th>13352</th>\n",
       "      <td>Air India</td>\n",
       "      <td>Delhi</td>\n",
       "      <td>Cochin</td>\n",
       "      <td>1</td>\n",
       "      <td>No Info</td>\n",
       "      <td>NaN</td>\n",
       "      <td>Test</td>\n",
       "      <td>3</td>\n",
       "      <td>6</td>\n",
       "      <td>4</td>\n",
       "      <td>0</td>\n",
       "      <td>19</td>\n",
       "      <td>15</td>\n",
       "      <td>915.0</td>\n",
       "      <td>DEL</td>\n",
       "      <td>BOM</td>\n",
       "      <td>COK</td>\n",
       "      <td>NA</td>\n",
       "      <td>NA</td>\n",
       "    </tr>\n",
       "    <tr>\n",
       "      <th>13353</th>\n",
       "      <td>Multiple carriers</td>\n",
       "      <td>Delhi</td>\n",
       "      <td>Cochin</td>\n",
       "      <td>1</td>\n",
       "      <td>No Info</td>\n",
       "      <td>NaN</td>\n",
       "      <td>Test</td>\n",
       "      <td>15</td>\n",
       "      <td>6</td>\n",
       "      <td>4</td>\n",
       "      <td>55</td>\n",
       "      <td>19</td>\n",
       "      <td>15</td>\n",
       "      <td>860.0</td>\n",
       "      <td>DEL</td>\n",
       "      <td>BOM</td>\n",
       "      <td>COK</td>\n",
       "      <td>NA</td>\n",
       "      <td>NA</td>\n",
       "    </tr>\n",
       "  </tbody>\n",
       "</table>\n",
       "<p>13354 rows × 19 columns</p>\n",
       "</div>"
      ],
      "text/plain": [
       "                 Airline    Source Destination  Total_Stops Additional_Info  \\\n",
       "0                 IndiGo  Banglore       Delhi            0         No Info   \n",
       "1              Air India   Kolkata    Banglore            2         No Info   \n",
       "2            Jet Airways     Delhi      Cochin            2         No Info   \n",
       "3                 IndiGo   Kolkata    Banglore            1         No Info   \n",
       "4                 IndiGo  Banglore       Delhi            1         No Info   \n",
       "...                  ...       ...         ...          ...             ...   \n",
       "13349          Air India   Kolkata    Banglore            1         No Info   \n",
       "13350             IndiGo   Kolkata    Banglore            0         No Info   \n",
       "13351        Jet Airways     Delhi      Cochin            1         No Info   \n",
       "13352          Air India     Delhi      Cochin            1         No Info   \n",
       "13353  Multiple carriers     Delhi      Cochin            1         No Info   \n",
       "\n",
       "         Price   Temp  day  month  Dep_hour  Dep_min  Arrival_hour  \\\n",
       "0       3897.0  Train   24      3        22       20             1   \n",
       "1       7662.0  Train    5      1         5       50            13   \n",
       "2      13882.0  Train    6      9         9       25             4   \n",
       "3       6218.0  Train    5     12        18        5            23   \n",
       "4      13302.0  Train    3      1        16       50            21   \n",
       "...        ...    ...  ...    ...       ...      ...           ...   \n",
       "13349      NaN   Test    6      6        20       30            20   \n",
       "13350      NaN   Test   27      3        14       20            16   \n",
       "13351      NaN   Test    3      6        21       50             4   \n",
       "13352      NaN   Test    3      6         4        0            19   \n",
       "13353      NaN   Test   15      6         4       55            19   \n",
       "\n",
       "       Arrival_minute  duration Route1 Route2 Route3 Route4 Route5  \n",
       "0                  10     170.0   BLR     DEL     NA     NA     NA  \n",
       "1                  15     445.0   CCU    IXR    BBI     BLR     NA  \n",
       "2                  25    1140.0   DEL    LKO    BOM     COK     NA  \n",
       "3                  30     325.0   CCU    NAG     BLR     NA     NA  \n",
       "4                  35     285.0   BLR    NAG     DEL     NA     NA  \n",
       "...               ...       ...    ...    ...    ...    ...    ...  \n",
       "13349              25    1435.0   CCU    DEL     BLR     NA     NA  \n",
       "13350              55     155.0   CCU     BLR     NA     NA     NA  \n",
       "13351              25     395.0   DEL    BOM     COK     NA     NA  \n",
       "13352              15     915.0   DEL    BOM     COK     NA     NA  \n",
       "13353              15     860.0   DEL    BOM     COK     NA     NA  \n",
       "\n",
       "[13354 rows x 19 columns]"
      ]
     },
     "execution_count": 43,
     "metadata": {},
     "output_type": "execute_result"
    }
   ],
   "source": [
    "df"
   ]
  },
  {
   "cell_type": "code",
   "execution_count": 44,
   "id": "6fba248a",
   "metadata": {},
   "outputs": [
    {
     "data": {
      "text/html": [
       "<div>\n",
       "<style scoped>\n",
       "    .dataframe tbody tr th:only-of-type {\n",
       "        vertical-align: middle;\n",
       "    }\n",
       "\n",
       "    .dataframe tbody tr th {\n",
       "        vertical-align: top;\n",
       "    }\n",
       "\n",
       "    .dataframe thead th {\n",
       "        text-align: right;\n",
       "    }\n",
       "</style>\n",
       "<table border=\"1\" class=\"dataframe\">\n",
       "  <thead>\n",
       "    <tr style=\"text-align: right;\">\n",
       "      <th></th>\n",
       "      <th>Total_Stops</th>\n",
       "      <th>Price</th>\n",
       "      <th>day</th>\n",
       "      <th>month</th>\n",
       "      <th>Dep_hour</th>\n",
       "      <th>Dep_min</th>\n",
       "      <th>Arrival_hour</th>\n",
       "      <th>Arrival_minute</th>\n",
       "      <th>duration</th>\n",
       "    </tr>\n",
       "  </thead>\n",
       "  <tbody>\n",
       "    <tr>\n",
       "      <th>Total_Stops</th>\n",
       "      <td>1.000000</td>\n",
       "      <td>0.603883</td>\n",
       "      <td>-0.027965</td>\n",
       "      <td>0.068745</td>\n",
       "      <td>-0.070709</td>\n",
       "      <td>-0.000116</td>\n",
       "      <td>0.037154</td>\n",
       "      <td>-0.108233</td>\n",
       "      <td>0.592884</td>\n",
       "    </tr>\n",
       "    <tr>\n",
       "      <th>Price</th>\n",
       "      <td>0.603883</td>\n",
       "      <td>1.000000</td>\n",
       "      <td>-0.165412</td>\n",
       "      <td>0.010700</td>\n",
       "      <td>0.006819</td>\n",
       "      <td>-0.024492</td>\n",
       "      <td>0.024264</td>\n",
       "      <td>-0.086155</td>\n",
       "      <td>0.449471</td>\n",
       "    </tr>\n",
       "    <tr>\n",
       "      <th>day</th>\n",
       "      <td>-0.027965</td>\n",
       "      <td>-0.165412</td>\n",
       "      <td>1.000000</td>\n",
       "      <td>-0.263645</td>\n",
       "      <td>-0.006490</td>\n",
       "      <td>-0.018639</td>\n",
       "      <td>0.000968</td>\n",
       "      <td>-0.019054</td>\n",
       "      <td>-0.032953</td>\n",
       "    </tr>\n",
       "    <tr>\n",
       "      <th>month</th>\n",
       "      <td>0.068745</td>\n",
       "      <td>0.010700</td>\n",
       "      <td>-0.263645</td>\n",
       "      <td>1.000000</td>\n",
       "      <td>0.024008</td>\n",
       "      <td>0.002174</td>\n",
       "      <td>-0.001319</td>\n",
       "      <td>-0.028378</td>\n",
       "      <td>0.059362</td>\n",
       "    </tr>\n",
       "    <tr>\n",
       "      <th>Dep_hour</th>\n",
       "      <td>-0.070709</td>\n",
       "      <td>0.006819</td>\n",
       "      <td>-0.006490</td>\n",
       "      <td>0.024008</td>\n",
       "      <td>1.000000</td>\n",
       "      <td>-0.026674</td>\n",
       "      <td>0.004296</td>\n",
       "      <td>0.067645</td>\n",
       "      <td>-0.000379</td>\n",
       "    </tr>\n",
       "    <tr>\n",
       "      <th>Dep_min</th>\n",
       "      <td>-0.000116</td>\n",
       "      <td>-0.024492</td>\n",
       "      <td>-0.018639</td>\n",
       "      <td>0.002174</td>\n",
       "      <td>-0.026674</td>\n",
       "      <td>1.000000</td>\n",
       "      <td>0.043967</td>\n",
       "      <td>-0.018133</td>\n",
       "      <td>-0.017083</td>\n",
       "    </tr>\n",
       "    <tr>\n",
       "      <th>Arrival_hour</th>\n",
       "      <td>0.037154</td>\n",
       "      <td>0.024264</td>\n",
       "      <td>0.000968</td>\n",
       "      <td>-0.001319</td>\n",
       "      <td>0.004296</td>\n",
       "      <td>0.043967</td>\n",
       "      <td>1.000000</td>\n",
       "      <td>-0.150636</td>\n",
       "      <td>-0.023322</td>\n",
       "    </tr>\n",
       "    <tr>\n",
       "      <th>Arrival_minute</th>\n",
       "      <td>-0.108233</td>\n",
       "      <td>-0.086155</td>\n",
       "      <td>-0.019054</td>\n",
       "      <td>-0.028378</td>\n",
       "      <td>0.067645</td>\n",
       "      <td>-0.018133</td>\n",
       "      <td>-0.150636</td>\n",
       "      <td>1.000000</td>\n",
       "      <td>-0.125467</td>\n",
       "    </tr>\n",
       "    <tr>\n",
       "      <th>duration</th>\n",
       "      <td>0.592884</td>\n",
       "      <td>0.449471</td>\n",
       "      <td>-0.032953</td>\n",
       "      <td>0.059362</td>\n",
       "      <td>-0.000379</td>\n",
       "      <td>-0.017083</td>\n",
       "      <td>-0.023322</td>\n",
       "      <td>-0.125467</td>\n",
       "      <td>1.000000</td>\n",
       "    </tr>\n",
       "  </tbody>\n",
       "</table>\n",
       "</div>"
      ],
      "text/plain": [
       "                Total_Stops     Price       day     month  Dep_hour   Dep_min  \\\n",
       "Total_Stops        1.000000  0.603883 -0.027965  0.068745 -0.070709 -0.000116   \n",
       "Price              0.603883  1.000000 -0.165412  0.010700  0.006819 -0.024492   \n",
       "day               -0.027965 -0.165412  1.000000 -0.263645 -0.006490 -0.018639   \n",
       "month              0.068745  0.010700 -0.263645  1.000000  0.024008  0.002174   \n",
       "Dep_hour          -0.070709  0.006819 -0.006490  0.024008  1.000000 -0.026674   \n",
       "Dep_min           -0.000116 -0.024492 -0.018639  0.002174 -0.026674  1.000000   \n",
       "Arrival_hour       0.037154  0.024264  0.000968 -0.001319  0.004296  0.043967   \n",
       "Arrival_minute    -0.108233 -0.086155 -0.019054 -0.028378  0.067645 -0.018133   \n",
       "duration           0.592884  0.449471 -0.032953  0.059362 -0.000379 -0.017083   \n",
       "\n",
       "                Arrival_hour  Arrival_minute  duration  \n",
       "Total_Stops         0.037154       -0.108233  0.592884  \n",
       "Price               0.024264       -0.086155  0.449471  \n",
       "day                 0.000968       -0.019054 -0.032953  \n",
       "month              -0.001319       -0.028378  0.059362  \n",
       "Dep_hour            0.004296        0.067645 -0.000379  \n",
       "Dep_min             0.043967       -0.018133 -0.017083  \n",
       "Arrival_hour        1.000000       -0.150636 -0.023322  \n",
       "Arrival_minute     -0.150636        1.000000 -0.125467  \n",
       "duration           -0.023322       -0.125467  1.000000  "
      ]
     },
     "execution_count": 44,
     "metadata": {},
     "output_type": "execute_result"
    }
   ],
   "source": [
    "df.corr()"
   ]
  },
  {
   "cell_type": "code",
   "execution_count": 45,
   "id": "e865101b",
   "metadata": {},
   "outputs": [
    {
     "data": {
      "image/png": "[encoded data removed]",
      "text/plain": [
       "<Figure size 1440x1440 with 2 Axes>"
      ]
     },
     "metadata": {
      "needs_background": "light"
     },
     "output_type": "display_data"
    }
   ],
   "source": [
    "#correlation\n",
    "fig = plt.figure(figsize=(20,20))\n",
    "cor_matrix = df.corr(method='pearson')\n",
    "sns.heatmap(cor_matrix,annot = True,cmap = 'Blues')\n",
    "plt.show()"
   ]
  },
  {
   "cell_type": "markdown",
   "id": "2088c041",
   "metadata": {},
   "source": [
    "Price is highly positive correlated with Total stops and higly negative correlated with Route 2 and Route3."
   ]
  },
  {
   "cell_type": "code",
   "execution_count": 46,
   "id": "c6af40f7",
   "metadata": {},
   "outputs": [
    {
     "data": {
      "text/plain": [
       "Total_Stops       0.317797\n",
       "Price             1.812552\n",
       "day               0.389526\n",
       "month             0.621749\n",
       "Dep_hour          0.109087\n",
       "Dep_min           0.159397\n",
       "Arrival_hour     -0.384591\n",
       "Arrival_minute    0.111711\n",
       "duration          0.824423\n",
       "dtype: float64"
      ]
     },
     "execution_count": 46,
     "metadata": {},
     "output_type": "execute_result"
    }
   ],
   "source": [
    "# checking skewness\n",
    "df.skew()"
   ]
  },
  {
   "cell_type": "code",
   "execution_count": 47,
   "id": "0b242703",
   "metadata": {},
   "outputs": [
    {
     "data": {
      "text/plain": [
       "Total_Stops       0.317797\n",
       "Price             1.812552\n",
       "day               0.389526\n",
       "month             0.621749\n",
       "Dep_hour          0.109087\n",
       "Dep_min           0.159397\n",
       "Arrival_hour     -0.384591\n",
       "Arrival_minute    0.111711\n",
       "duration          0.824423\n",
       "dtype: float64"
      ]
     },
     "execution_count": 47,
     "metadata": {},
     "output_type": "execute_result"
    }
   ],
   "source": [
    "# checking skewness\n",
    "df.skew()"
   ]
  },
  {
   "cell_type": "code",
   "execution_count": 48,
   "id": "f21916e7",
   "metadata": {},
   "outputs": [],
   "source": [
    "df['month'] = power_transform(df['month'].values.reshape(-1,1))\n",
    "df['duration'] = power_transform(df['duration'].values.reshape(-1,1))"
   ]
  },
  {
   "cell_type": "code",
   "execution_count": 49,
   "id": "dcd92de2",
   "metadata": {},
   "outputs": [
    {
     "data": {
      "text/plain": [
       "Total_Stops       0.317797\n",
       "Price             1.812552\n",
       "day               0.389526\n",
       "month            -0.027619\n",
       "Dep_hour          0.109087\n",
       "Dep_min           0.159397\n",
       "Arrival_hour     -0.384591\n",
       "Arrival_minute    0.111711\n",
       "duration         -0.039250\n",
       "dtype: float64"
      ]
     },
     "execution_count": 49,
     "metadata": {},
     "output_type": "execute_result"
    }
   ],
   "source": [
    "df.skew()"
   ]
  },
  {
   "cell_type": "code",
   "execution_count": 50,
   "id": "4638d256",
   "metadata": {},
   "outputs": [],
   "source": [
    "encoder = LabelEncoder()\n",
    "for i in ['Route1', 'Route2', 'Route3', 'Route4', 'Route5']:\n",
    "    df[i]=encoder.fit_transform(df[i])"
   ]
  },
  {
   "cell_type": "markdown",
   "id": "a8a74412",
   "metadata": {},
   "source": [
    "Data Visualization"
   ]
  },
  {
   "cell_type": "code",
   "execution_count": 51,
   "id": "49cbd49d",
   "metadata": {},
   "outputs": [
    {
     "data": {
      "image/png": "[encoded data removed]",
      "text/plain": [
       "<Figure size 432x288 with 1 Axes>"
      ]
     },
     "metadata": {
      "needs_background": "light"
     },
     "output_type": "display_data"
    }
   ],
   "source": [
    "sns.boxplot(df.Price)\n",
    "plt.show()"
   ]
  },
  {
   "cell_type": "markdown",
   "id": "a899830b",
   "metadata": {},
   "source": [
    "As shown in above plot price variable is consist of outliers"
   ]
  },
  {
   "cell_type": "code",
   "execution_count": 52,
   "id": "744863a7",
   "metadata": {},
   "outputs": [
    {
     "data": {
      "image/png": "[encoded data removed]",
      "text/plain": [
       "<Figure size 432x288 with 1 Axes>"
      ]
     },
     "metadata": {
      "needs_background": "light"
     },
     "output_type": "display_data"
    }
   ],
   "source": [
    "sns.distplot(df.Price[:10683])\n",
    "plt.show()"
   ]
  },
  {
   "cell_type": "markdown",
   "id": "85424d79",
   "metadata": {},
   "source": [
    "In above plot, we can observe that the Price variable is consists of Right skewed."
   ]
  },
  {
   "cell_type": "markdown",
   "id": "f2f7ef3e",
   "metadata": {},
   "source": [
    "Bivariate Analysis"
   ]
  },
  {
   "cell_type": "code",
   "execution_count": 53,
   "id": "b0e2d044",
   "metadata": {},
   "outputs": [
    {
     "data": {
      "image/png": "[encoded data removed]",
      "text/plain": [
       "<Figure size 1080x360 with 1 Axes>"
      ]
     },
     "metadata": {
      "needs_background": "light"
     },
     "output_type": "display_data"
    }
   ],
   "source": [
    "plt.figure(figsize= (15,5))\n",
    "col2 = sns.barplot(x = 'Airline' , y ='Price', data = df )\n",
    "col2.set_xticklabels(col2.get_xticklabels(), rotation=40, ha=\"right\") \n",
    "plt.show()"
   ]
  },
  {
   "cell_type": "markdown",
   "id": "90aca980",
   "metadata": {},
   "source": [
    "Jet Airways is observed as the highest flight price among all the Airlines and spicejet is having low price."
   ]
  },
  {
   "cell_type": "code",
   "execution_count": 54,
   "id": "aa3bc4a8",
   "metadata": {},
   "outputs": [
    {
     "data": {
      "image/png": "[encoded data removed]",
      "text/plain": [
       "<Figure size 1080x360 with 1 Axes>"
      ]
     },
     "metadata": {
      "needs_background": "light"
     },
     "output_type": "display_data"
    }
   ],
   "source": [
    "plt.figure(figsize= (15,5))\n",
    "col4 = sns.barplot(x = 'Source' , y ='Price', data = df )\n",
    "col4.set_xticklabels(col4.get_xticklabels(), rotation=40, ha=\"right\") \n",
    "plt.show()"
   ]
  },
  {
   "cell_type": "markdown",
   "id": "be5431d9",
   "metadata": {},
   "source": [
    "From the above plot we can see that people who travelled from delhi have paid more than the others"
   ]
  },
  {
   "cell_type": "code",
   "execution_count": 55,
   "id": "145744a1",
   "metadata": {},
   "outputs": [
    {
     "data": {
      "image/png": "[encoded data removed]",
      "text/plain": [
       "<Figure size 1080x360 with 1 Axes>"
      ]
     },
     "metadata": {
      "needs_background": "light"
     },
     "output_type": "display_data"
    }
   ],
   "source": [
    "plt.figure(figsize= (15,5))\n",
    "col3 = sns.barplot(x = 'Destination' , y ='Price', data = df )\n",
    "col3.set_xticklabels(col3.get_xticklabels(), rotation=40, ha=\"right\") \n",
    "plt.show()"
   ]
  },
  {
   "cell_type": "markdown",
   "id": "c79a2be2",
   "metadata": {},
   "source": [
    "From the above plot we can see that people who travelled to Cohchin have paid more flight price compare to all"
   ]
  },
  {
   "cell_type": "code",
   "execution_count": 56,
   "id": "388fecd6",
   "metadata": {},
   "outputs": [
    {
     "data": {
      "image/png": "[encoded data removed]",
      "text/plain": [
       "<Figure size 1080x360 with 1 Axes>"
      ]
     },
     "metadata": {
      "needs_background": "light"
     },
     "output_type": "display_data"
    }
   ],
   "source": [
    "plt.figure(figsize= (15,5))\n",
    "col5 = sns.barplot(x = 'Total_Stops' , y ='Price', data = df )\n",
    "col5.set_xticklabels(col5.get_xticklabels(), rotation=40, ha=\"right\") \n",
    "plt.show()"
   ]
  },
  {
   "cell_type": "markdown",
   "id": "5ebacf46",
   "metadata": {},
   "source": [
    "From the above plot we can see that if the total stops is 4 , then the flight price is high"
   ]
  },
  {
   "cell_type": "code",
   "execution_count": 57,
   "id": "e16b7c49",
   "metadata": {},
   "outputs": [
    {
     "data": {
      "image/png": "[encoded data removed]",
      "text/plain": [
       "<Figure size 432x288 with 1 Axes>"
      ]
     },
     "metadata": {
      "needs_background": "light"
     },
     "output_type": "display_data"
    }
   ],
   "source": [
    "sns.scatterplot(x = 'duration', y ='Price' , data  = df)\n",
    "plt.show()"
   ]
  },
  {
   "cell_type": "markdown",
   "id": "f99c5a97",
   "metadata": {},
   "source": [
    " we can see above that duration and Price is moderate positive correlation with duration column"
   ]
  },
  {
   "cell_type": "code",
   "execution_count": 58,
   "id": "a1e492f5",
   "metadata": {},
   "outputs": [
    {
     "data": {
      "image/png": "[encoded data removed]",
      "text/plain": [
       "<Figure size 432x288 with 1 Axes>"
      ]
     },
     "metadata": {
      "needs_background": "light"
     },
     "output_type": "display_data"
    }
   ],
   "source": [
    "sns.boxplot(df.duration)\n",
    "plt.show()"
   ]
  },
  {
   "cell_type": "code",
   "execution_count": 59,
   "id": "b3a0eaea",
   "metadata": {},
   "outputs": [
    {
     "data": {
      "image/png": "[encoded data removed]",
      "text/plain": [
       "<Figure size 432x288 with 1 Axes>"
      ]
     },
     "metadata": {
      "needs_background": "light"
     },
     "output_type": "display_data"
    }
   ],
   "source": [
    "sns.distplot(df.duration)\n",
    "plt.show()"
   ]
  },
  {
   "cell_type": "markdown",
   "id": "4d034890",
   "metadata": {},
   "source": [
    "Only one outlier are present,so neglecting in duration and seems like left skewed in distribution"
   ]
  },
  {
   "cell_type": "code",
   "execution_count": 60,
   "id": "cfc8085f",
   "metadata": {},
   "outputs": [
    {
     "data": {
      "image/png": "[encoded data removed]",
      "text/plain": [
       "<Figure size 1080x360 with 1 Axes>"
      ]
     },
     "metadata": {
      "needs_background": "light"
     },
     "output_type": "display_data"
    }
   ],
   "source": [
    "plt.figure(figsize= (15,5))\n",
    "col5 = sns.barplot(x = 'day' , y ='Price', data = df )\n",
    "col5.set_xticklabels(col5.get_xticklabels(), rotation=40, ha=\"right\") \n",
    "plt.show()"
   ]
  },
  {
   "cell_type": "markdown",
   "id": "57169223",
   "metadata": {},
   "source": [
    "From the above plot we can observe that in 3rd date of month having high price values"
   ]
  },
  {
   "cell_type": "code",
   "execution_count": 61,
   "id": "b5527165",
   "metadata": {},
   "outputs": [
    {
     "data": {
      "image/png": "[encoded data removed]",
      "text/plain": [
       "<Figure size 1080x360 with 1 Axes>"
      ]
     },
     "metadata": {
      "needs_background": "light"
     },
     "output_type": "display_data"
    }
   ],
   "source": [
    "plt.figure(figsize= (15,5))\n",
    "col5 = sns.barplot(x = 'Dep_hour' , y ='Price', data = df )\n",
    "col5.set_xticklabels(col5.get_xticklabels(), rotation=40, ha=\"right\") \n",
    "plt.show()"
   ]
  },
  {
   "cell_type": "markdown",
   "id": "123f9a0a",
   "metadata": {},
   "source": [
    "From the above plot we can observe that in 3AM in Dep_hour is having high price values"
   ]
  },
  {
   "cell_type": "code",
   "execution_count": 62,
   "id": "12ce052a",
   "metadata": {},
   "outputs": [
    {
     "data": {
      "image/png": "[encoded data removed]",
      "text/plain": [
       "<Figure size 1080x360 with 1 Axes>"
      ]
     },
     "metadata": {
      "needs_background": "light"
     },
     "output_type": "display_data"
    }
   ],
   "source": [
    "plt.figure(figsize= (15,5))\n",
    "col5 = sns.barplot(x = 'Dep_min' , y ='Price', data = df )\n",
    "col5.set_xticklabels(col5.get_xticklabels(), rotation=40, ha=\"right\") \n",
    "plt.show()"
   ]
  },
  {
   "cell_type": "markdown",
   "id": "1eff9f6d",
   "metadata": {},
   "source": [
    "From the above plot we can observe that in 50th minute is having high price values."
   ]
  },
  {
   "cell_type": "code",
   "execution_count": 63,
   "id": "7ee6c28a",
   "metadata": {},
   "outputs": [
    {
     "data": {
      "image/png": "[encoded data removed]",
      "text/plain": [
       "<Figure size 1080x360 with 1 Axes>"
      ]
     },
     "metadata": {
      "needs_background": "light"
     },
     "output_type": "display_data"
    }
   ],
   "source": [
    "plt.figure(figsize= (15,5))\n",
    "col5 = sns.barplot(x = 'Arrival_hour' , y ='Price', data = df )\n",
    "col5.set_xticklabels(col5.get_xticklabels(), rotation=40, ha=\"right\") \n",
    "plt.show()"
   ]
  },
  {
   "cell_type": "markdown",
   "id": "beea1434",
   "metadata": {},
   "source": [
    "From the above plot we can observe that in 5AM in Arrival_hour is having high price values."
   ]
  },
  {
   "cell_type": "code",
   "execution_count": 64,
   "id": "ccbb7a56",
   "metadata": {},
   "outputs": [
    {
     "data": {
      "image/png": "[encoded data removed]",
      "text/plain": [
       "<Figure size 1080x360 with 1 Axes>"
      ]
     },
     "metadata": {
      "needs_background": "light"
     },
     "output_type": "display_data"
    }
   ],
   "source": [
    "plt.figure(figsize= (15,5))\n",
    "col5 = sns.barplot(x = 'Arrival_minute' , y ='Price', data = df )\n",
    "col5.set_xticklabels(col5.get_xticklabels(), rotation=40, ha=\"right\") \n",
    "plt.show()"
   ]
  },
  {
   "cell_type": "markdown",
   "id": "e224431b",
   "metadata": {},
   "source": [
    "From the above plot we can observe that in 25th minute is having high price values."
   ]
  },
  {
   "cell_type": "code",
   "execution_count": 65,
   "id": "bc6c598f",
   "metadata": {},
   "outputs": [
    {
     "data": {
      "image/png": "[encoded data removed]",
      "text/plain": [
       "<Figure size 1080x360 with 1 Axes>"
      ]
     },
     "metadata": {
      "needs_background": "light"
     },
     "output_type": "display_data"
    }
   ],
   "source": [
    "plt.figure(figsize= (15,5))\n",
    "col5 = sns.barplot(x = 'Route1' , y ='Price', data = df )\n",
    "col5.set_xticklabels(col5.get_xticklabels(), rotation=40, ha=\"right\") \n",
    "plt.show()"
   ]
  },
  {
   "cell_type": "markdown",
   "id": "47138b8e",
   "metadata": {},
   "source": [
    "From the above plot we can observe that in Route5 3rd way is having high price values."
   ]
  },
  {
   "cell_type": "code",
   "execution_count": 66,
   "id": "46c1505a",
   "metadata": {},
   "outputs": [
    {
     "data": {
      "image/png": "[encoded data removed]",
      "text/plain": [
       "<Figure size 1080x360 with 1 Axes>"
      ]
     },
     "metadata": {
      "needs_background": "light"
     },
     "output_type": "display_data"
    }
   ],
   "source": [
    "#Lets check Route2 column againt our target variable\n",
    "plt.figure(figsize= (15,5))\n",
    "col5 = sns.barplot(x = 'Route2' , y ='Price', data = df )\n",
    "col5.set_xticklabels(col5.get_xticklabels(), rotation=40, ha=\"right\") \n",
    "plt.show()"
   ]
  },
  {
   "cell_type": "markdown",
   "id": "005a3e7e",
   "metadata": {},
   "source": [
    "From the above plot we can observe that in Route5 12th way is having high price values."
   ]
  },
  {
   "cell_type": "code",
   "execution_count": 67,
   "id": "8e0829b6",
   "metadata": {},
   "outputs": [
    {
     "data": {
      "image/png": "[encoded data removed]",
      "text/plain": [
       "<Figure size 1080x360 with 1 Axes>"
      ]
     },
     "metadata": {
      "needs_background": "light"
     },
     "output_type": "display_data"
    }
   ],
   "source": [
    "plt.figure(figsize= (15,5))\n",
    "col5 = sns.barplot(x = 'Route3' , y ='Price', data = df )\n",
    "col5.set_xticklabels(col5.get_xticklabels(), rotation=40, ha=\"right\") \n",
    "plt.show()"
   ]
  },
  {
   "cell_type": "markdown",
   "id": "45189dff",
   "metadata": {},
   "source": [
    "From the above plot we can observe that in Route5 20th way is having high price values."
   ]
  },
  {
   "cell_type": "code",
   "execution_count": 68,
   "id": "6493246a",
   "metadata": {},
   "outputs": [
    {
     "data": {
      "image/png": "[encoded data removed]",
      "text/plain": [
       "<Figure size 1080x360 with 1 Axes>"
      ]
     },
     "metadata": {
      "needs_background": "light"
     },
     "output_type": "display_data"
    }
   ],
   "source": [
    "plt.figure(figsize= (15,5))\n",
    "col5 = sns.barplot(x = 'Route4' , y ='Price', data = df )\n",
    "col5.set_xticklabels(col5.get_xticklabels(), rotation=40, ha=\"right\") \n",
    "plt.show()"
   ]
  },
  {
   "cell_type": "markdown",
   "id": "cd25aea6",
   "metadata": {},
   "source": [
    "From the above plot we can observe that in Route5 9th way is having high price values."
   ]
  },
  {
   "cell_type": "code",
   "execution_count": 69,
   "id": "33bbb265",
   "metadata": {},
   "outputs": [
    {
     "data": {
      "image/png": "[encoded data removed]",
      "text/plain": [
       "<Figure size 1080x360 with 1 Axes>"
      ]
     },
     "metadata": {
      "needs_background": "light"
     },
     "output_type": "display_data"
    }
   ],
   "source": [
    "plt.figure(figsize= (15,5))\n",
    "col5 = sns.barplot(x = 'Route5' , y ='Price', data = df )\n",
    "col5.set_xticklabels(col5.get_xticklabels(), rotation=40, ha=\"right\") \n",
    "plt.show()"
   ]
  },
  {
   "cell_type": "markdown",
   "id": "1c00798a",
   "metadata": {},
   "source": [
    "From the above plot we can observe that in Route5 4th way is having high price values."
   ]
  },
  {
   "cell_type": "markdown",
   "id": "9ca29c8e",
   "metadata": {},
   "source": [
    "Outlier Removal in target column"
   ]
  },
  {
   "cell_type": "code",
   "execution_count": 70,
   "id": "6c878c6b",
   "metadata": {},
   "outputs": [],
   "source": [
    "def outliers_IQR3(data_frame,feature_name):\n",
    "    IQR  =data_frame[feature_name].quantile(0.75)-data_frame[feature_name].quantile(0.25)\n",
    "    lower_boundary = data_frame[feature_name].quantile(0.25) - (IQR * 1.5)\n",
    "    upper_boundary = data_frame[feature_name].quantile(0.75) + (IQR * 1.5)\n",
    "    df.loc[df[feature_name] >= upper_boundary,feature_name]= upper_boundary\n",
    "    df.loc[df[feature_name] <= lower_boundary,feature_name]= lower_boundary"
   ]
  },
  {
   "cell_type": "code",
   "execution_count": 71,
   "id": "62e9ae50",
   "metadata": {},
   "outputs": [],
   "source": [
    "#calling the function\n",
    "outliers_IQR3(df,'Price')"
   ]
  },
  {
   "cell_type": "code",
   "execution_count": 72,
   "id": "a986b9d8",
   "metadata": {},
   "outputs": [
    {
     "data": {
      "text/plain": [
       "<AxesSubplot:xlabel='Price'>"
      ]
     },
     "execution_count": 72,
     "metadata": {},
     "output_type": "execute_result"
    },
    {
     "data": {
      "image/png": "[encoded data removed]",
      "text/plain": [
       "<Figure size 432x288 with 1 Axes>"
      ]
     },
     "metadata": {
      "needs_background": "light"
     },
     "output_type": "display_data"
    }
   ],
   "source": [
    "#now lets outliers using box plot\n",
    "sns.boxplot(df.Price)"
   ]
  },
  {
   "cell_type": "markdown",
   "id": "e065465a",
   "metadata": {},
   "source": [
    "outliers have been completely removed from this column"
   ]
  },
  {
   "cell_type": "code",
   "execution_count": 73,
   "id": "e6ea9fe3",
   "metadata": {},
   "outputs": [
    {
     "data": {
      "image/png": "[encoded data removed]",
      "text/plain": [
       "<Figure size 432x288 with 1 Axes>"
      ]
     },
     "metadata": {
      "needs_background": "light"
     },
     "output_type": "display_data"
    }
   ],
   "source": [
    "#lets check the distribution of the target column\n",
    "sns.distplot(df.Price[:10683])\n",
    "plt.show()"
   ]
  },
  {
   "cell_type": "code",
   "execution_count": 74,
   "id": "8cade1e0",
   "metadata": {},
   "outputs": [
    {
     "data": {
      "text/plain": [
       "Airline             object\n",
       "Source              object\n",
       "Destination         object\n",
       "Total_Stops          int64\n",
       "Additional_Info     object\n",
       "Price              float64\n",
       "Temp                object\n",
       "day                  int64\n",
       "month              float64\n",
       "Dep_hour             int64\n",
       "Dep_min              int64\n",
       "Arrival_hour         int64\n",
       "Arrival_minute       int64\n",
       "duration           float64\n",
       "Route1               int32\n",
       "Route2               int32\n",
       "Route3               int32\n",
       "Route4               int32\n",
       "Route5               int32\n",
       "dtype: object"
      ]
     },
     "execution_count": 74,
     "metadata": {},
     "output_type": "execute_result"
    }
   ],
   "source": [
    "df.dtypes"
   ]
  },
  {
   "cell_type": "code",
   "execution_count": 75,
   "id": "20975f25",
   "metadata": {},
   "outputs": [],
   "source": [
    "#we need convert the above columns one-hot encoder, since they are not ordinal values\n",
    "#and also columns contains more than 2 unique values\n",
    "one_hot_columns = ['Additional_Info','Airline', 'Destination','Source']\n",
    "df_new = pd.get_dummies(data = df,columns=one_hot_columns)"
   ]
  },
  {
   "cell_type": "code",
   "execution_count": 76,
   "id": "d0a1a288",
   "metadata": {},
   "outputs": [
    {
     "data": {
      "text/html": [
       "<div>\n",
       "<style scoped>\n",
       "    .dataframe tbody tr th:only-of-type {\n",
       "        vertical-align: middle;\n",
       "    }\n",
       "\n",
       "    .dataframe tbody tr th {\n",
       "        vertical-align: top;\n",
       "    }\n",
       "\n",
       "    .dataframe thead th {\n",
       "        text-align: right;\n",
       "    }\n",
       "</style>\n",
       "<table border=\"1\" class=\"dataframe\">\n",
       "  <thead>\n",
       "    <tr style=\"text-align: right;\">\n",
       "      <th></th>\n",
       "      <th>Total_Stops</th>\n",
       "      <th>Price</th>\n",
       "      <th>Temp</th>\n",
       "      <th>day</th>\n",
       "      <th>month</th>\n",
       "      <th>Dep_hour</th>\n",
       "      <th>Dep_min</th>\n",
       "      <th>Arrival_hour</th>\n",
       "      <th>Arrival_minute</th>\n",
       "      <th>duration</th>\n",
       "      <th>Route1</th>\n",
       "      <th>Route2</th>\n",
       "      <th>Route3</th>\n",
       "      <th>Route4</th>\n",
       "      <th>Route5</th>\n",
       "      <th>Additional_Info_1 Short layover</th>\n",
       "      <th>Additional_Info_Business class</th>\n",
       "      <th>Additional_Info_Change airports</th>\n",
       "      <th>Additional_Info_In-flight meal not included</th>\n",
       "      <th>Additional_Info_Long layover</th>\n",
       "      <th>Additional_Info_No Info</th>\n",
       "      <th>Additional_Info_No check-in baggage included</th>\n",
       "      <th>Additional_Info_Red-eye flight</th>\n",
       "      <th>Airline_Air Asia</th>\n",
       "      <th>Airline_Air India</th>\n",
       "      <th>Airline_GoAir</th>\n",
       "      <th>Airline_IndiGo</th>\n",
       "      <th>Airline_Jet Airways</th>\n",
       "      <th>Airline_Multiple carriers</th>\n",
       "      <th>Airline_SpiceJet</th>\n",
       "      <th>Airline_Trujet</th>\n",
       "      <th>Airline_Vistara</th>\n",
       "      <th>Destination_Banglore</th>\n",
       "      <th>Destination_Cochin</th>\n",
       "      <th>Destination_Delhi</th>\n",
       "      <th>Destination_Hyderabad</th>\n",
       "      <th>Destination_Kolkata</th>\n",
       "      <th>Source_Banglore</th>\n",
       "      <th>Source_Chennai</th>\n",
       "      <th>Source_Delhi</th>\n",
       "      <th>Source_Kolkata</th>\n",
       "      <th>Source_Mumbai</th>\n",
       "    </tr>\n",
       "  </thead>\n",
       "  <tbody>\n",
       "    <tr>\n",
       "      <th>0</th>\n",
       "      <td>0</td>\n",
       "      <td>3897.0</td>\n",
       "      <td>Train</td>\n",
       "      <td>24</td>\n",
       "      <td>-0.821582</td>\n",
       "      <td>22</td>\n",
       "      <td>20</td>\n",
       "      <td>1</td>\n",
       "      <td>10</td>\n",
       "      <td>-0.837340</td>\n",
       "      <td>0</td>\n",
       "      <td>13</td>\n",
       "      <td>30</td>\n",
       "      <td>13</td>\n",
       "      <td>5</td>\n",
       "      <td>0</td>\n",
       "      <td>0</td>\n",
       "      <td>0</td>\n",
       "      <td>0</td>\n",
       "      <td>0</td>\n",
       "      <td>1</td>\n",
       "      <td>0</td>\n",
       "      <td>0</td>\n",
       "      <td>0</td>\n",
       "      <td>0</td>\n",
       "      <td>0</td>\n",
       "      <td>1</td>\n",
       "      <td>0</td>\n",
       "      <td>0</td>\n",
       "      <td>0</td>\n",
       "      <td>0</td>\n",
       "      <td>0</td>\n",
       "      <td>0</td>\n",
       "      <td>0</td>\n",
       "      <td>1</td>\n",
       "      <td>0</td>\n",
       "      <td>0</td>\n",
       "      <td>1</td>\n",
       "      <td>0</td>\n",
       "      <td>0</td>\n",
       "      <td>0</td>\n",
       "      <td>0</td>\n",
       "    </tr>\n",
       "    <tr>\n",
       "      <th>1</th>\n",
       "      <td>2</td>\n",
       "      <td>7662.0</td>\n",
       "      <td>Train</td>\n",
       "      <td>5</td>\n",
       "      <td>-1.881643</td>\n",
       "      <td>5</td>\n",
       "      <td>50</td>\n",
       "      <td>13</td>\n",
       "      <td>15</td>\n",
       "      <td>0.182267</td>\n",
       "      <td>2</td>\n",
       "      <td>25</td>\n",
       "      <td>1</td>\n",
       "      <td>3</td>\n",
       "      <td>5</td>\n",
       "      <td>0</td>\n",
       "      <td>0</td>\n",
       "      <td>0</td>\n",
       "      <td>0</td>\n",
       "      <td>0</td>\n",
       "      <td>1</td>\n",
       "      <td>0</td>\n",
       "      <td>0</td>\n",
       "      <td>0</td>\n",
       "      <td>1</td>\n",
       "      <td>0</td>\n",
       "      <td>0</td>\n",
       "      <td>0</td>\n",
       "      <td>0</td>\n",
       "      <td>0</td>\n",
       "      <td>0</td>\n",
       "      <td>0</td>\n",
       "      <td>1</td>\n",
       "      <td>0</td>\n",
       "      <td>0</td>\n",
       "      <td>0</td>\n",
       "      <td>0</td>\n",
       "      <td>0</td>\n",
       "      <td>0</td>\n",
       "      <td>0</td>\n",
       "      <td>1</td>\n",
       "      <td>0</td>\n",
       "    </tr>\n",
       "    <tr>\n",
       "      <th>2</th>\n",
       "      <td>2</td>\n",
       "      <td>13882.0</td>\n",
       "      <td>Train</td>\n",
       "      <td>6</td>\n",
       "      <td>1.131173</td>\n",
       "      <td>9</td>\n",
       "      <td>25</td>\n",
       "      <td>4</td>\n",
       "      <td>25</td>\n",
       "      <td>1.431627</td>\n",
       "      <td>3</td>\n",
       "      <td>32</td>\n",
       "      <td>4</td>\n",
       "      <td>5</td>\n",
       "      <td>5</td>\n",
       "      <td>0</td>\n",
       "      <td>0</td>\n",
       "      <td>0</td>\n",
       "      <td>0</td>\n",
       "      <td>0</td>\n",
       "      <td>1</td>\n",
       "      <td>0</td>\n",
       "      <td>0</td>\n",
       "      <td>0</td>\n",
       "      <td>0</td>\n",
       "      <td>0</td>\n",
       "      <td>0</td>\n",
       "      <td>1</td>\n",
       "      <td>0</td>\n",
       "      <td>0</td>\n",
       "      <td>0</td>\n",
       "      <td>0</td>\n",
       "      <td>0</td>\n",
       "      <td>1</td>\n",
       "      <td>0</td>\n",
       "      <td>0</td>\n",
       "      <td>0</td>\n",
       "      <td>0</td>\n",
       "      <td>0</td>\n",
       "      <td>1</td>\n",
       "      <td>0</td>\n",
       "      <td>0</td>\n",
       "    </tr>\n",
       "    <tr>\n",
       "      <th>3</th>\n",
       "      <td>1</td>\n",
       "      <td>6218.0</td>\n",
       "      <td>Train</td>\n",
       "      <td>5</td>\n",
       "      <td>1.839000</td>\n",
       "      <td>18</td>\n",
       "      <td>5</td>\n",
       "      <td>23</td>\n",
       "      <td>30</td>\n",
       "      <td>-0.176733</td>\n",
       "      <td>2</td>\n",
       "      <td>34</td>\n",
       "      <td>3</td>\n",
       "      <td>13</td>\n",
       "      <td>5</td>\n",
       "      <td>0</td>\n",
       "      <td>0</td>\n",
       "      <td>0</td>\n",
       "      <td>0</td>\n",
       "      <td>0</td>\n",
       "      <td>1</td>\n",
       "      <td>0</td>\n",
       "      <td>0</td>\n",
       "      <td>0</td>\n",
       "      <td>0</td>\n",
       "      <td>0</td>\n",
       "      <td>1</td>\n",
       "      <td>0</td>\n",
       "      <td>0</td>\n",
       "      <td>0</td>\n",
       "      <td>0</td>\n",
       "      <td>0</td>\n",
       "      <td>1</td>\n",
       "      <td>0</td>\n",
       "      <td>0</td>\n",
       "      <td>0</td>\n",
       "      <td>0</td>\n",
       "      <td>0</td>\n",
       "      <td>0</td>\n",
       "      <td>0</td>\n",
       "      <td>1</td>\n",
       "      <td>0</td>\n",
       "    </tr>\n",
       "    <tr>\n",
       "      <th>4</th>\n",
       "      <td>1</td>\n",
       "      <td>13302.0</td>\n",
       "      <td>Train</td>\n",
       "      <td>3</td>\n",
       "      <td>-1.881643</td>\n",
       "      <td>16</td>\n",
       "      <td>50</td>\n",
       "      <td>21</td>\n",
       "      <td>35</td>\n",
       "      <td>-0.319000</td>\n",
       "      <td>0</td>\n",
       "      <td>34</td>\n",
       "      <td>8</td>\n",
       "      <td>13</td>\n",
       "      <td>5</td>\n",
       "      <td>0</td>\n",
       "      <td>0</td>\n",
       "      <td>0</td>\n",
       "      <td>0</td>\n",
       "      <td>0</td>\n",
       "      <td>1</td>\n",
       "      <td>0</td>\n",
       "      <td>0</td>\n",
       "      <td>0</td>\n",
       "      <td>0</td>\n",
       "      <td>0</td>\n",
       "      <td>1</td>\n",
       "      <td>0</td>\n",
       "      <td>0</td>\n",
       "      <td>0</td>\n",
       "      <td>0</td>\n",
       "      <td>0</td>\n",
       "      <td>0</td>\n",
       "      <td>0</td>\n",
       "      <td>1</td>\n",
       "      <td>0</td>\n",
       "      <td>0</td>\n",
       "      <td>1</td>\n",
       "      <td>0</td>\n",
       "      <td>0</td>\n",
       "      <td>0</td>\n",
       "      <td>0</td>\n",
       "    </tr>\n",
       "    <tr>\n",
       "      <th>...</th>\n",
       "      <td>...</td>\n",
       "      <td>...</td>\n",
       "      <td>...</td>\n",
       "      <td>...</td>\n",
       "      <td>...</td>\n",
       "      <td>...</td>\n",
       "      <td>...</td>\n",
       "      <td>...</td>\n",
       "      <td>...</td>\n",
       "      <td>...</td>\n",
       "      <td>...</td>\n",
       "      <td>...</td>\n",
       "      <td>...</td>\n",
       "      <td>...</td>\n",
       "      <td>...</td>\n",
       "      <td>...</td>\n",
       "      <td>...</td>\n",
       "      <td>...</td>\n",
       "      <td>...</td>\n",
       "      <td>...</td>\n",
       "      <td>...</td>\n",
       "      <td>...</td>\n",
       "      <td>...</td>\n",
       "      <td>...</td>\n",
       "      <td>...</td>\n",
       "      <td>...</td>\n",
       "      <td>...</td>\n",
       "      <td>...</td>\n",
       "      <td>...</td>\n",
       "      <td>...</td>\n",
       "      <td>...</td>\n",
       "      <td>...</td>\n",
       "      <td>...</td>\n",
       "      <td>...</td>\n",
       "      <td>...</td>\n",
       "      <td>...</td>\n",
       "      <td>...</td>\n",
       "      <td>...</td>\n",
       "      <td>...</td>\n",
       "      <td>...</td>\n",
       "      <td>...</td>\n",
       "      <td>...</td>\n",
       "    </tr>\n",
       "    <tr>\n",
       "      <th>13349</th>\n",
       "      <td>1</td>\n",
       "      <td>NaN</td>\n",
       "      <td>Test</td>\n",
       "      <td>6</td>\n",
       "      <td>0.283045</td>\n",
       "      <td>20</td>\n",
       "      <td>30</td>\n",
       "      <td>20</td>\n",
       "      <td>25</td>\n",
       "      <td>1.781988</td>\n",
       "      <td>2</td>\n",
       "      <td>14</td>\n",
       "      <td>3</td>\n",
       "      <td>13</td>\n",
       "      <td>5</td>\n",
       "      <td>0</td>\n",
       "      <td>0</td>\n",
       "      <td>0</td>\n",
       "      <td>0</td>\n",
       "      <td>0</td>\n",
       "      <td>1</td>\n",
       "      <td>0</td>\n",
       "      <td>0</td>\n",
       "      <td>0</td>\n",
       "      <td>1</td>\n",
       "      <td>0</td>\n",
       "      <td>0</td>\n",
       "      <td>0</td>\n",
       "      <td>0</td>\n",
       "      <td>0</td>\n",
       "      <td>0</td>\n",
       "      <td>0</td>\n",
       "      <td>1</td>\n",
       "      <td>0</td>\n",
       "      <td>0</td>\n",
       "      <td>0</td>\n",
       "      <td>0</td>\n",
       "      <td>0</td>\n",
       "      <td>0</td>\n",
       "      <td>0</td>\n",
       "      <td>1</td>\n",
       "      <td>0</td>\n",
       "    </tr>\n",
       "    <tr>\n",
       "      <th>13350</th>\n",
       "      <td>0</td>\n",
       "      <td>NaN</td>\n",
       "      <td>Test</td>\n",
       "      <td>27</td>\n",
       "      <td>-0.821582</td>\n",
       "      <td>14</td>\n",
       "      <td>20</td>\n",
       "      <td>16</td>\n",
       "      <td>55</td>\n",
       "      <td>-0.923435</td>\n",
       "      <td>2</td>\n",
       "      <td>5</td>\n",
       "      <td>30</td>\n",
       "      <td>13</td>\n",
       "      <td>5</td>\n",
       "      <td>0</td>\n",
       "      <td>0</td>\n",
       "      <td>0</td>\n",
       "      <td>0</td>\n",
       "      <td>0</td>\n",
       "      <td>1</td>\n",
       "      <td>0</td>\n",
       "      <td>0</td>\n",
       "      <td>0</td>\n",
       "      <td>0</td>\n",
       "      <td>0</td>\n",
       "      <td>1</td>\n",
       "      <td>0</td>\n",
       "      <td>0</td>\n",
       "      <td>0</td>\n",
       "      <td>0</td>\n",
       "      <td>0</td>\n",
       "      <td>1</td>\n",
       "      <td>0</td>\n",
       "      <td>0</td>\n",
       "      <td>0</td>\n",
       "      <td>0</td>\n",
       "      <td>0</td>\n",
       "      <td>0</td>\n",
       "      <td>0</td>\n",
       "      <td>1</td>\n",
       "      <td>0</td>\n",
       "    </tr>\n",
       "    <tr>\n",
       "      <th>13351</th>\n",
       "      <td>1</td>\n",
       "      <td>NaN</td>\n",
       "      <td>Test</td>\n",
       "      <td>3</td>\n",
       "      <td>0.283045</td>\n",
       "      <td>21</td>\n",
       "      <td>50</td>\n",
       "      <td>4</td>\n",
       "      <td>25</td>\n",
       "      <td>0.042940</td>\n",
       "      <td>3</td>\n",
       "      <td>7</td>\n",
       "      <td>6</td>\n",
       "      <td>13</td>\n",
       "      <td>5</td>\n",
       "      <td>0</td>\n",
       "      <td>0</td>\n",
       "      <td>0</td>\n",
       "      <td>0</td>\n",
       "      <td>0</td>\n",
       "      <td>1</td>\n",
       "      <td>0</td>\n",
       "      <td>0</td>\n",
       "      <td>0</td>\n",
       "      <td>0</td>\n",
       "      <td>0</td>\n",
       "      <td>0</td>\n",
       "      <td>1</td>\n",
       "      <td>0</td>\n",
       "      <td>0</td>\n",
       "      <td>0</td>\n",
       "      <td>0</td>\n",
       "      <td>0</td>\n",
       "      <td>1</td>\n",
       "      <td>0</td>\n",
       "      <td>0</td>\n",
       "      <td>0</td>\n",
       "      <td>0</td>\n",
       "      <td>0</td>\n",
       "      <td>1</td>\n",
       "      <td>0</td>\n",
       "      <td>0</td>\n",
       "    </tr>\n",
       "    <tr>\n",
       "      <th>13352</th>\n",
       "      <td>1</td>\n",
       "      <td>NaN</td>\n",
       "      <td>Test</td>\n",
       "      <td>3</td>\n",
       "      <td>0.283045</td>\n",
       "      <td>4</td>\n",
       "      <td>0</td>\n",
       "      <td>19</td>\n",
       "      <td>15</td>\n",
       "      <td>1.114249</td>\n",
       "      <td>3</td>\n",
       "      <td>7</td>\n",
       "      <td>6</td>\n",
       "      <td>13</td>\n",
       "      <td>5</td>\n",
       "      <td>0</td>\n",
       "      <td>0</td>\n",
       "      <td>0</td>\n",
       "      <td>0</td>\n",
       "      <td>0</td>\n",
       "      <td>1</td>\n",
       "      <td>0</td>\n",
       "      <td>0</td>\n",
       "      <td>0</td>\n",
       "      <td>1</td>\n",
       "      <td>0</td>\n",
       "      <td>0</td>\n",
       "      <td>0</td>\n",
       "      <td>0</td>\n",
       "      <td>0</td>\n",
       "      <td>0</td>\n",
       "      <td>0</td>\n",
       "      <td>0</td>\n",
       "      <td>1</td>\n",
       "      <td>0</td>\n",
       "      <td>0</td>\n",
       "      <td>0</td>\n",
       "      <td>0</td>\n",
       "      <td>0</td>\n",
       "      <td>1</td>\n",
       "      <td>0</td>\n",
       "      <td>0</td>\n",
       "    </tr>\n",
       "    <tr>\n",
       "      <th>13353</th>\n",
       "      <td>1</td>\n",
       "      <td>NaN</td>\n",
       "      <td>Test</td>\n",
       "      <td>15</td>\n",
       "      <td>0.283045</td>\n",
       "      <td>4</td>\n",
       "      <td>55</td>\n",
       "      <td>19</td>\n",
       "      <td>15</td>\n",
       "      <td>1.027703</td>\n",
       "      <td>3</td>\n",
       "      <td>7</td>\n",
       "      <td>6</td>\n",
       "      <td>13</td>\n",
       "      <td>5</td>\n",
       "      <td>0</td>\n",
       "      <td>0</td>\n",
       "      <td>0</td>\n",
       "      <td>0</td>\n",
       "      <td>0</td>\n",
       "      <td>1</td>\n",
       "      <td>0</td>\n",
       "      <td>0</td>\n",
       "      <td>0</td>\n",
       "      <td>0</td>\n",
       "      <td>0</td>\n",
       "      <td>0</td>\n",
       "      <td>0</td>\n",
       "      <td>1</td>\n",
       "      <td>0</td>\n",
       "      <td>0</td>\n",
       "      <td>0</td>\n",
       "      <td>0</td>\n",
       "      <td>1</td>\n",
       "      <td>0</td>\n",
       "      <td>0</td>\n",
       "      <td>0</td>\n",
       "      <td>0</td>\n",
       "      <td>0</td>\n",
       "      <td>1</td>\n",
       "      <td>0</td>\n",
       "      <td>0</td>\n",
       "    </tr>\n",
       "  </tbody>\n",
       "</table>\n",
       "<p>13354 rows × 42 columns</p>\n",
       "</div>"
      ],
      "text/plain": [
       "       Total_Stops    Price   Temp  day     month  Dep_hour  Dep_min  \\\n",
       "0                0   3897.0  Train   24 -0.821582        22       20   \n",
       "1                2   7662.0  Train    5 -1.881643         5       50   \n",
       "2                2  13882.0  Train    6  1.131173         9       25   \n",
       "3                1   6218.0  Train    5  1.839000        18        5   \n",
       "4                1  13302.0  Train    3 -1.881643        16       50   \n",
       "...            ...      ...    ...  ...       ...       ...      ...   \n",
       "13349            1      NaN   Test    6  0.283045        20       30   \n",
       "13350            0      NaN   Test   27 -0.821582        14       20   \n",
       "13351            1      NaN   Test    3  0.283045        21       50   \n",
       "13352            1      NaN   Test    3  0.283045         4        0   \n",
       "13353            1      NaN   Test   15  0.283045         4       55   \n",
       "\n",
       "       Arrival_hour  Arrival_minute  duration  Route1  Route2  Route3  Route4  \\\n",
       "0                 1              10 -0.837340       0      13      30      13   \n",
       "1                13              15  0.182267       2      25       1       3   \n",
       "2                 4              25  1.431627       3      32       4       5   \n",
       "3                23              30 -0.176733       2      34       3      13   \n",
       "4                21              35 -0.319000       0      34       8      13   \n",
       "...             ...             ...       ...     ...     ...     ...     ...   \n",
       "13349            20              25  1.781988       2      14       3      13   \n",
       "13350            16              55 -0.923435       2       5      30      13   \n",
       "13351             4              25  0.042940       3       7       6      13   \n",
       "13352            19              15  1.114249       3       7       6      13   \n",
       "13353            19              15  1.027703       3       7       6      13   \n",
       "\n",
       "       Route5  Additional_Info_1 Short layover  \\\n",
       "0           5                                0   \n",
       "1           5                                0   \n",
       "2           5                                0   \n",
       "3           5                                0   \n",
       "4           5                                0   \n",
       "...       ...                              ...   \n",
       "13349       5                                0   \n",
       "13350       5                                0   \n",
       "13351       5                                0   \n",
       "13352       5                                0   \n",
       "13353       5                                0   \n",
       "\n",
       "       Additional_Info_Business class  Additional_Info_Change airports  \\\n",
       "0                                   0                                0   \n",
       "1                                   0                                0   \n",
       "2                                   0                                0   \n",
       "3                                   0                                0   \n",
       "4                                   0                                0   \n",
       "...                               ...                              ...   \n",
       "13349                               0                                0   \n",
       "13350                               0                                0   \n",
       "13351                               0                                0   \n",
       "13352                               0                                0   \n",
       "13353                               0                                0   \n",
       "\n",
       "       Additional_Info_In-flight meal not included  \\\n",
       "0                                                0   \n",
       "1                                                0   \n",
       "2                                                0   \n",
       "3                                                0   \n",
       "4                                                0   \n",
       "...                                            ...   \n",
       "13349                                            0   \n",
       "13350                                            0   \n",
       "13351                                            0   \n",
       "13352                                            0   \n",
       "13353                                            0   \n",
       "\n",
       "       Additional_Info_Long layover  Additional_Info_No Info  \\\n",
       "0                                 0                        1   \n",
       "1                                 0                        1   \n",
       "2                                 0                        1   \n",
       "3                                 0                        1   \n",
       "4                                 0                        1   \n",
       "...                             ...                      ...   \n",
       "13349                             0                        1   \n",
       "13350                             0                        1   \n",
       "13351                             0                        1   \n",
       "13352                             0                        1   \n",
       "13353                             0                        1   \n",
       "\n",
       "       Additional_Info_No check-in baggage included  \\\n",
       "0                                                 0   \n",
       "1                                                 0   \n",
       "2                                                 0   \n",
       "3                                                 0   \n",
       "4                                                 0   \n",
       "...                                             ...   \n",
       "13349                                             0   \n",
       "13350                                             0   \n",
       "13351                                             0   \n",
       "13352                                             0   \n",
       "13353                                             0   \n",
       "\n",
       "       Additional_Info_Red-eye flight  Airline_Air Asia  Airline_Air India  \\\n",
       "0                                   0                 0                  0   \n",
       "1                                   0                 0                  1   \n",
       "2                                   0                 0                  0   \n",
       "3                                   0                 0                  0   \n",
       "4                                   0                 0                  0   \n",
       "...                               ...               ...                ...   \n",
       "13349                               0                 0                  1   \n",
       "13350                               0                 0                  0   \n",
       "13351                               0                 0                  0   \n",
       "13352                               0                 0                  1   \n",
       "13353                               0                 0                  0   \n",
       "\n",
       "       Airline_GoAir  Airline_IndiGo  Airline_Jet Airways  \\\n",
       "0                  0               1                    0   \n",
       "1                  0               0                    0   \n",
       "2                  0               0                    1   \n",
       "3                  0               1                    0   \n",
       "4                  0               1                    0   \n",
       "...              ...             ...                  ...   \n",
       "13349              0               0                    0   \n",
       "13350              0               1                    0   \n",
       "13351              0               0                    1   \n",
       "13352              0               0                    0   \n",
       "13353              0               0                    0   \n",
       "\n",
       "       Airline_Multiple carriers  Airline_SpiceJet  Airline_Trujet  \\\n",
       "0                              0                 0               0   \n",
       "1                              0                 0               0   \n",
       "2                              0                 0               0   \n",
       "3                              0                 0               0   \n",
       "4                              0                 0               0   \n",
       "...                          ...               ...             ...   \n",
       "13349                          0                 0               0   \n",
       "13350                          0                 0               0   \n",
       "13351                          0                 0               0   \n",
       "13352                          0                 0               0   \n",
       "13353                          1                 0               0   \n",
       "\n",
       "       Airline_Vistara  Destination_Banglore  Destination_Cochin  \\\n",
       "0                    0                     0                   0   \n",
       "1                    0                     1                   0   \n",
       "2                    0                     0                   1   \n",
       "3                    0                     1                   0   \n",
       "4                    0                     0                   0   \n",
       "...                ...                   ...                 ...   \n",
       "13349                0                     1                   0   \n",
       "13350                0                     1                   0   \n",
       "13351                0                     0                   1   \n",
       "13352                0                     0                   1   \n",
       "13353                0                     0                   1   \n",
       "\n",
       "       Destination_Delhi  Destination_Hyderabad  Destination_Kolkata  \\\n",
       "0                      1                      0                    0   \n",
       "1                      0                      0                    0   \n",
       "2                      0                      0                    0   \n",
       "3                      0                      0                    0   \n",
       "4                      1                      0                    0   \n",
       "...                  ...                    ...                  ...   \n",
       "13349                  0                      0                    0   \n",
       "13350                  0                      0                    0   \n",
       "13351                  0                      0                    0   \n",
       "13352                  0                      0                    0   \n",
       "13353                  0                      0                    0   \n",
       "\n",
       "       Source_Banglore  Source_Chennai  Source_Delhi  Source_Kolkata  \\\n",
       "0                    1               0             0               0   \n",
       "1                    0               0             0               1   \n",
       "2                    0               0             1               0   \n",
       "3                    0               0             0               1   \n",
       "4                    1               0             0               0   \n",
       "...                ...             ...           ...             ...   \n",
       "13349                0               0             0               1   \n",
       "13350                0               0             0               1   \n",
       "13351                0               0             1               0   \n",
       "13352                0               0             1               0   \n",
       "13353                0               0             1               0   \n",
       "\n",
       "       Source_Mumbai  \n",
       "0                  0  \n",
       "1                  0  \n",
       "2                  0  \n",
       "3                  0  \n",
       "4                  0  \n",
       "...              ...  \n",
       "13349              0  \n",
       "13350              0  \n",
       "13351              0  \n",
       "13352              0  \n",
       "13353              0  \n",
       "\n",
       "[13354 rows x 42 columns]"
      ]
     },
     "execution_count": 76,
     "metadata": {},
     "output_type": "execute_result"
    }
   ],
   "source": [
    "pd.set_option('display.max_columns', None)\n",
    "df_new"
   ]
  },
  {
   "cell_type": "markdown",
   "id": "95e4c8b2",
   "metadata": {},
   "source": [
    "Scaling the Data"
   ]
  },
  {
   "cell_type": "code",
   "execution_count": 77,
   "id": "d2dfa185",
   "metadata": {},
   "outputs": [],
   "source": [
    "Y = df_new['Price']\n",
    "X = df_new.drop('Price',axis = 1)"
   ]
  },
  {
   "cell_type": "code",
   "execution_count": 78,
   "id": "aa5e7944",
   "metadata": {},
   "outputs": [],
   "source": [
    "temp = X['Temp']\n",
    "X.drop('Temp',axis =1 ,inplace = True)"
   ]
  },
  {
   "cell_type": "code",
   "execution_count": 79,
   "id": "67121727",
   "metadata": {},
   "outputs": [
    {
     "data": {
      "text/plain": [
       "(13354, 40)"
      ]
     },
     "execution_count": 79,
     "metadata": {},
     "output_type": "execute_result"
    }
   ],
   "source": [
    "X.shape"
   ]
  },
  {
   "cell_type": "code",
   "execution_count": 80,
   "id": "2a911ba9",
   "metadata": {},
   "outputs": [
    {
     "data": {
      "text/plain": [
       "(13354,)"
      ]
     },
     "execution_count": 80,
     "metadata": {},
     "output_type": "execute_result"
    }
   ],
   "source": [
    "Y.shape"
   ]
  },
  {
   "cell_type": "code",
   "execution_count": 81,
   "id": "49f21fc3",
   "metadata": {},
   "outputs": [
    {
     "data": {
      "text/html": [
       "<div>\n",
       "<style scoped>\n",
       "    .dataframe tbody tr th:only-of-type {\n",
       "        vertical-align: middle;\n",
       "    }\n",
       "\n",
       "    .dataframe tbody tr th {\n",
       "        vertical-align: top;\n",
       "    }\n",
       "\n",
       "    .dataframe thead th {\n",
       "        text-align: right;\n",
       "    }\n",
       "</style>\n",
       "<table border=\"1\" class=\"dataframe\">\n",
       "  <thead>\n",
       "    <tr style=\"text-align: right;\">\n",
       "      <th></th>\n",
       "      <th>Total_Stops</th>\n",
       "      <th>day</th>\n",
       "      <th>month</th>\n",
       "      <th>Dep_hour</th>\n",
       "      <th>Dep_min</th>\n",
       "      <th>Arrival_hour</th>\n",
       "      <th>Arrival_minute</th>\n",
       "      <th>duration</th>\n",
       "      <th>Route1</th>\n",
       "      <th>Route2</th>\n",
       "      <th>Route3</th>\n",
       "      <th>Route4</th>\n",
       "      <th>Route5</th>\n",
       "      <th>Additional_Info_1 Short layover</th>\n",
       "      <th>Additional_Info_Business class</th>\n",
       "      <th>Additional_Info_Change airports</th>\n",
       "      <th>Additional_Info_In-flight meal not included</th>\n",
       "      <th>Additional_Info_Long layover</th>\n",
       "      <th>Additional_Info_No Info</th>\n",
       "      <th>Additional_Info_No check-in baggage included</th>\n",
       "      <th>Additional_Info_Red-eye flight</th>\n",
       "      <th>Airline_Air Asia</th>\n",
       "      <th>Airline_Air India</th>\n",
       "      <th>Airline_GoAir</th>\n",
       "      <th>Airline_IndiGo</th>\n",
       "      <th>Airline_Jet Airways</th>\n",
       "      <th>Airline_Multiple carriers</th>\n",
       "      <th>Airline_SpiceJet</th>\n",
       "      <th>Airline_Trujet</th>\n",
       "      <th>Airline_Vistara</th>\n",
       "      <th>Destination_Banglore</th>\n",
       "      <th>Destination_Cochin</th>\n",
       "      <th>Destination_Delhi</th>\n",
       "      <th>Destination_Hyderabad</th>\n",
       "      <th>Destination_Kolkata</th>\n",
       "      <th>Source_Banglore</th>\n",
       "      <th>Source_Chennai</th>\n",
       "      <th>Source_Delhi</th>\n",
       "      <th>Source_Kolkata</th>\n",
       "      <th>Source_Mumbai</th>\n",
       "    </tr>\n",
       "  </thead>\n",
       "  <tbody>\n",
       "    <tr>\n",
       "      <th>0</th>\n",
       "      <td>-1.224526</td>\n",
       "      <td>1.307001</td>\n",
       "      <td>-0.821582</td>\n",
       "      <td>1.653879</td>\n",
       "      <td>-0.239345</td>\n",
       "      <td>-1.797602</td>\n",
       "      <td>-0.885564</td>\n",
       "      <td>-0.837340</td>\n",
       "      <td>-1.672466</td>\n",
       "      <td>0.137945</td>\n",
       "      <td>1.403564</td>\n",
       "      <td>0.409595</td>\n",
       "      <td>0.064325</td>\n",
       "      <td>-0.008654</td>\n",
       "      <td>-0.019354</td>\n",
       "      <td>-0.024483</td>\n",
       "      <td>-0.471167</td>\n",
       "      <td>-0.039687</td>\n",
       "      <td>0.521818</td>\n",
       "      <td>-0.174815</td>\n",
       "      <td>-0.008654</td>\n",
       "      <td>-0.176852</td>\n",
       "      <td>-0.443148</td>\n",
       "      <td>-0.135281</td>\n",
       "      <td>2.051406</td>\n",
       "      <td>-0.743499</td>\n",
       "      <td>-0.363558</td>\n",
       "      <td>-0.288488</td>\n",
       "      <td>-0.008654</td>\n",
       "      <td>-0.219345</td>\n",
       "      <td>-0.605324</td>\n",
       "      <td>-0.860590</td>\n",
       "      <td>1.962771</td>\n",
       "      <td>-0.266091</td>\n",
       "      <td>-0.188027</td>\n",
       "      <td>1.962771</td>\n",
       "      <td>-0.188027</td>\n",
       "      <td>-0.860590</td>\n",
       "      <td>-0.605324</td>\n",
       "      <td>-0.266091</td>\n",
       "    </tr>\n",
       "    <tr>\n",
       "      <th>1</th>\n",
       "      <td>1.740268</td>\n",
       "      <td>-0.862038</td>\n",
       "      <td>-1.881643</td>\n",
       "      <td>-1.309829</td>\n",
       "      <td>1.353715</td>\n",
       "      <td>-0.057434</td>\n",
       "      <td>-0.583615</td>\n",
       "      <td>0.182267</td>\n",
       "      <td>-0.012863</td>\n",
       "      <td>1.641200</td>\n",
       "      <td>-1.065884</td>\n",
       "      <td>-2.978701</td>\n",
       "      <td>0.064325</td>\n",
       "      <td>-0.008654</td>\n",
       "      <td>-0.019354</td>\n",
       "      <td>-0.024483</td>\n",
       "      <td>-0.471167</td>\n",
       "      <td>-0.039687</td>\n",
       "      <td>0.521818</td>\n",
       "      <td>-0.174815</td>\n",
       "      <td>-0.008654</td>\n",
       "      <td>-0.176852</td>\n",
       "      <td>2.256580</td>\n",
       "      <td>-0.135281</td>\n",
       "      <td>-0.487470</td>\n",
       "      <td>-0.743499</td>\n",
       "      <td>-0.363558</td>\n",
       "      <td>-0.288488</td>\n",
       "      <td>-0.008654</td>\n",
       "      <td>-0.219345</td>\n",
       "      <td>1.652007</td>\n",
       "      <td>-0.860590</td>\n",
       "      <td>-0.509484</td>\n",
       "      <td>-0.266091</td>\n",
       "      <td>-0.188027</td>\n",
       "      <td>-0.509484</td>\n",
       "      <td>-0.188027</td>\n",
       "      <td>-0.860590</td>\n",
       "      <td>1.652007</td>\n",
       "      <td>-0.266091</td>\n",
       "    </tr>\n",
       "    <tr>\n",
       "      <th>2</th>\n",
       "      <td>1.740268</td>\n",
       "      <td>-0.747878</td>\n",
       "      <td>1.131173</td>\n",
       "      <td>-0.612486</td>\n",
       "      <td>0.026165</td>\n",
       "      <td>-1.362560</td>\n",
       "      <td>0.020282</td>\n",
       "      <td>1.431627</td>\n",
       "      <td>0.816939</td>\n",
       "      <td>2.518099</td>\n",
       "      <td>-0.810424</td>\n",
       "      <td>-2.301042</td>\n",
       "      <td>0.064325</td>\n",
       "      <td>-0.008654</td>\n",
       "      <td>-0.019354</td>\n",
       "      <td>-0.024483</td>\n",
       "      <td>-0.471167</td>\n",
       "      <td>-0.039687</td>\n",
       "      <td>0.521818</td>\n",
       "      <td>-0.174815</td>\n",
       "      <td>-0.008654</td>\n",
       "      <td>-0.176852</td>\n",
       "      <td>-0.443148</td>\n",
       "      <td>-0.135281</td>\n",
       "      <td>-0.487470</td>\n",
       "      <td>1.344992</td>\n",
       "      <td>-0.363558</td>\n",
       "      <td>-0.288488</td>\n",
       "      <td>-0.008654</td>\n",
       "      <td>-0.219345</td>\n",
       "      <td>-0.605324</td>\n",
       "      <td>1.161993</td>\n",
       "      <td>-0.509484</td>\n",
       "      <td>-0.266091</td>\n",
       "      <td>-0.188027</td>\n",
       "      <td>-0.509484</td>\n",
       "      <td>-0.188027</td>\n",
       "      <td>1.161993</td>\n",
       "      <td>-0.605324</td>\n",
       "      <td>-0.266091</td>\n",
       "    </tr>\n",
       "    <tr>\n",
       "      <th>3</th>\n",
       "      <td>0.257871</td>\n",
       "      <td>-0.862038</td>\n",
       "      <td>1.839000</td>\n",
       "      <td>0.956536</td>\n",
       "      <td>-1.035875</td>\n",
       "      <td>1.392705</td>\n",
       "      <td>0.322231</td>\n",
       "      <td>-0.176733</td>\n",
       "      <td>-0.012863</td>\n",
       "      <td>2.768642</td>\n",
       "      <td>-0.895577</td>\n",
       "      <td>0.409595</td>\n",
       "      <td>0.064325</td>\n",
       "      <td>-0.008654</td>\n",
       "      <td>-0.019354</td>\n",
       "      <td>-0.024483</td>\n",
       "      <td>-0.471167</td>\n",
       "      <td>-0.039687</td>\n",
       "      <td>0.521818</td>\n",
       "      <td>-0.174815</td>\n",
       "      <td>-0.008654</td>\n",
       "      <td>-0.176852</td>\n",
       "      <td>-0.443148</td>\n",
       "      <td>-0.135281</td>\n",
       "      <td>2.051406</td>\n",
       "      <td>-0.743499</td>\n",
       "      <td>-0.363558</td>\n",
       "      <td>-0.288488</td>\n",
       "      <td>-0.008654</td>\n",
       "      <td>-0.219345</td>\n",
       "      <td>1.652007</td>\n",
       "      <td>-0.860590</td>\n",
       "      <td>-0.509484</td>\n",
       "      <td>-0.266091</td>\n",
       "      <td>-0.188027</td>\n",
       "      <td>-0.509484</td>\n",
       "      <td>-0.188027</td>\n",
       "      <td>-0.860590</td>\n",
       "      <td>1.652007</td>\n",
       "      <td>-0.266091</td>\n",
       "    </tr>\n",
       "    <tr>\n",
       "      <th>4</th>\n",
       "      <td>0.257871</td>\n",
       "      <td>-1.090358</td>\n",
       "      <td>-1.881643</td>\n",
       "      <td>0.607864</td>\n",
       "      <td>1.353715</td>\n",
       "      <td>1.102677</td>\n",
       "      <td>0.624180</td>\n",
       "      <td>-0.319000</td>\n",
       "      <td>-1.672466</td>\n",
       "      <td>2.768642</td>\n",
       "      <td>-0.469810</td>\n",
       "      <td>0.409595</td>\n",
       "      <td>0.064325</td>\n",
       "      <td>-0.008654</td>\n",
       "      <td>-0.019354</td>\n",
       "      <td>-0.024483</td>\n",
       "      <td>-0.471167</td>\n",
       "      <td>-0.039687</td>\n",
       "      <td>0.521818</td>\n",
       "      <td>-0.174815</td>\n",
       "      <td>-0.008654</td>\n",
       "      <td>-0.176852</td>\n",
       "      <td>-0.443148</td>\n",
       "      <td>-0.135281</td>\n",
       "      <td>2.051406</td>\n",
       "      <td>-0.743499</td>\n",
       "      <td>-0.363558</td>\n",
       "      <td>-0.288488</td>\n",
       "      <td>-0.008654</td>\n",
       "      <td>-0.219345</td>\n",
       "      <td>-0.605324</td>\n",
       "      <td>-0.860590</td>\n",
       "      <td>1.962771</td>\n",
       "      <td>-0.266091</td>\n",
       "      <td>-0.188027</td>\n",
       "      <td>1.962771</td>\n",
       "      <td>-0.188027</td>\n",
       "      <td>-0.860590</td>\n",
       "      <td>-0.605324</td>\n",
       "      <td>-0.266091</td>\n",
       "    </tr>\n",
       "  </tbody>\n",
       "</table>\n",
       "</div>"
      ],
      "text/plain": [
       "   Total_Stops       day     month  Dep_hour   Dep_min  Arrival_hour  \\\n",
       "0    -1.224526  1.307001 -0.821582  1.653879 -0.239345     -1.797602   \n",
       "1     1.740268 -0.862038 -1.881643 -1.309829  1.353715     -0.057434   \n",
       "2     1.740268 -0.747878  1.131173 -0.612486  0.026165     -1.362560   \n",
       "3     0.257871 -0.862038  1.839000  0.956536 -1.035875      1.392705   \n",
       "4     0.257871 -1.090358 -1.881643  0.607864  1.353715      1.102677   \n",
       "\n",
       "   Arrival_minute  duration    Route1    Route2    Route3    Route4    Route5  \\\n",
       "0       -0.885564 -0.837340 -1.672466  0.137945  1.403564  0.409595  0.064325   \n",
       "1       -0.583615  0.182267 -0.012863  1.641200 -1.065884 -2.978701  0.064325   \n",
       "2        0.020282  1.431627  0.816939  2.518099 -0.810424 -2.301042  0.064325   \n",
       "3        0.322231 -0.176733 -0.012863  2.768642 -0.895577  0.409595  0.064325   \n",
       "4        0.624180 -0.319000 -1.672466  2.768642 -0.469810  0.409595  0.064325   \n",
       "\n",
       "   Additional_Info_1 Short layover  Additional_Info_Business class  \\\n",
       "0                        -0.008654                       -0.019354   \n",
       "1                        -0.008654                       -0.019354   \n",
       "2                        -0.008654                       -0.019354   \n",
       "3                        -0.008654                       -0.019354   \n",
       "4                        -0.008654                       -0.019354   \n",
       "\n",
       "   Additional_Info_Change airports  \\\n",
       "0                        -0.024483   \n",
       "1                        -0.024483   \n",
       "2                        -0.024483   \n",
       "3                        -0.024483   \n",
       "4                        -0.024483   \n",
       "\n",
       "   Additional_Info_In-flight meal not included  Additional_Info_Long layover  \\\n",
       "0                                    -0.471167                     -0.039687   \n",
       "1                                    -0.471167                     -0.039687   \n",
       "2                                    -0.471167                     -0.039687   \n",
       "3                                    -0.471167                     -0.039687   \n",
       "4                                    -0.471167                     -0.039687   \n",
       "\n",
       "   Additional_Info_No Info  Additional_Info_No check-in baggage included  \\\n",
       "0                 0.521818                                     -0.174815   \n",
       "1                 0.521818                                     -0.174815   \n",
       "2                 0.521818                                     -0.174815   \n",
       "3                 0.521818                                     -0.174815   \n",
       "4                 0.521818                                     -0.174815   \n",
       "\n",
       "   Additional_Info_Red-eye flight  Airline_Air Asia  Airline_Air India  \\\n",
       "0                       -0.008654         -0.176852          -0.443148   \n",
       "1                       -0.008654         -0.176852           2.256580   \n",
       "2                       -0.008654         -0.176852          -0.443148   \n",
       "3                       -0.008654         -0.176852          -0.443148   \n",
       "4                       -0.008654         -0.176852          -0.443148   \n",
       "\n",
       "   Airline_GoAir  Airline_IndiGo  Airline_Jet Airways  \\\n",
       "0      -0.135281        2.051406            -0.743499   \n",
       "1      -0.135281       -0.487470            -0.743499   \n",
       "2      -0.135281       -0.487470             1.344992   \n",
       "3      -0.135281        2.051406            -0.743499   \n",
       "4      -0.135281        2.051406            -0.743499   \n",
       "\n",
       "   Airline_Multiple carriers  Airline_SpiceJet  Airline_Trujet  \\\n",
       "0                  -0.363558         -0.288488       -0.008654   \n",
       "1                  -0.363558         -0.288488       -0.008654   \n",
       "2                  -0.363558         -0.288488       -0.008654   \n",
       "3                  -0.363558         -0.288488       -0.008654   \n",
       "4                  -0.363558         -0.288488       -0.008654   \n",
       "\n",
       "   Airline_Vistara  Destination_Banglore  Destination_Cochin  \\\n",
       "0        -0.219345             -0.605324           -0.860590   \n",
       "1        -0.219345              1.652007           -0.860590   \n",
       "2        -0.219345             -0.605324            1.161993   \n",
       "3        -0.219345              1.652007           -0.860590   \n",
       "4        -0.219345             -0.605324           -0.860590   \n",
       "\n",
       "   Destination_Delhi  Destination_Hyderabad  Destination_Kolkata  \\\n",
       "0           1.962771              -0.266091            -0.188027   \n",
       "1          -0.509484              -0.266091            -0.188027   \n",
       "2          -0.509484              -0.266091            -0.188027   \n",
       "3          -0.509484              -0.266091            -0.188027   \n",
       "4           1.962771              -0.266091            -0.188027   \n",
       "\n",
       "   Source_Banglore  Source_Chennai  Source_Delhi  Source_Kolkata  \\\n",
       "0         1.962771       -0.188027     -0.860590       -0.605324   \n",
       "1        -0.509484       -0.188027     -0.860590        1.652007   \n",
       "2        -0.509484       -0.188027      1.161993       -0.605324   \n",
       "3        -0.509484       -0.188027     -0.860590        1.652007   \n",
       "4         1.962771       -0.188027     -0.860590       -0.605324   \n",
       "\n",
       "   Source_Mumbai  \n",
       "0      -0.266091  \n",
       "1      -0.266091  \n",
       "2      -0.266091  \n",
       "3      -0.266091  \n",
       "4      -0.266091  "
      ]
     },
     "execution_count": 81,
     "metadata": {},
     "output_type": "execute_result"
    }
   ],
   "source": [
    "scaler = StandardScaler()\n",
    "scaled_X = pd.DataFrame(scaler.fit_transform(X),columns= X.columns)\n",
    "scaled_X.head()"
   ]
  },
  {
   "cell_type": "markdown",
   "id": "ed1b9c84",
   "metadata": {},
   "source": [
    "PCA (Principal Component Analysis)"
   ]
  },
  {
   "cell_type": "code",
   "execution_count": 82,
   "id": "8d1c4c60",
   "metadata": {},
   "outputs": [
    {
     "data": {
      "text/plain": [
       "(13354, 40)"
      ]
     },
     "execution_count": 82,
     "metadata": {},
     "output_type": "execute_result"
    }
   ],
   "source": [
    "#we have 44 columns excluding target variable\n",
    "scaled_X.shape"
   ]
  },
  {
   "cell_type": "code",
   "execution_count": 83,
   "id": "f5ea96c9",
   "metadata": {},
   "outputs": [],
   "source": [
    "testpca = PCA()\n",
    "test_x = testpca.fit(scaled_X)"
   ]
  },
  {
   "cell_type": "code",
   "execution_count": 84,
   "id": "962d8f5e",
   "metadata": {},
   "outputs": [
    {
     "data": {
      "text/plain": [
       "array([ 13.86125573,  22.07244204,  29.31140809,  35.55202922,\n",
       "        41.39043079,  45.99256063,  49.86546944,  53.00919357,\n",
       "        55.98740165,  58.89663655,  61.70990827,  64.34213169,\n",
       "        66.95499894,  69.49635251,  72.00066707,  74.5019475 ,\n",
       "        76.99870886,  79.46507769,  81.909502  ,  84.34047337,\n",
       "        86.59517681,  88.70019165,  90.61101632,  92.40699837,\n",
       "        94.06441145,  95.60379674,  96.99529425,  98.28675843,\n",
       "        99.22055507,  99.96456071, 100.        , 100.        ,\n",
       "       100.        , 100.        , 100.        , 100.        ,\n",
       "       100.        , 100.        , 100.        , 100.        ])"
      ]
     },
     "execution_count": 84,
     "metadata": {},
     "output_type": "execute_result"
    }
   ],
   "source": [
    "#cumulative score \n",
    "cum_score = np.cumsum(test_x.explained_variance_ratio_)*100\n",
    "cum_score"
   ]
  },
  {
   "cell_type": "code",
   "execution_count": 85,
   "id": "50098e20",
   "metadata": {},
   "outputs": [
    {
     "name": "stdout",
     "output_type": "stream",
     "text": [
      "Number of components expaining 95% of variance is : 25\n"
     ]
    }
   ],
   "source": [
    "s = np.argmax(cum_score > 95)\n",
    "print(\"Number of components expaining 95% of variance is :\", s)"
   ]
  },
  {
   "cell_type": "code",
   "execution_count": 86,
   "id": "faa5ccad",
   "metadata": {},
   "outputs": [
    {
     "name": "stdout",
     "output_type": "stream",
     "text": [
      "Number of components expaining 90% of variance is : 22\n"
     ]
    }
   ],
   "source": [
    "s = np.argmax(cum_score > 90)\n",
    "print(\"Number of components expaining 90% of variance is :\", s)"
   ]
  },
  {
   "cell_type": "code",
   "execution_count": 87,
   "id": "8d976cca",
   "metadata": {},
   "outputs": [
    {
     "data": {
      "image/png": "[encoded data removed]",
      "text/plain": [
       "<Figure size 432x288 with 1 Axes>"
      ]
     },
     "metadata": {
      "needs_background": "light"
     },
     "output_type": "display_data"
    }
   ],
   "source": [
    "#plotting the graph\n",
    "plt.ylabel('Cumulative Explained Ratio')\n",
    "plt.xlabel('Principle Components')\n",
    "\n",
    "plt.axvline(x = s, color = 'k', linestyle = '--')\n",
    "plt.axhline(y = 90, color = 'k', linestyle = '--')\n",
    "\n",
    "plt.plot(cum_score)\n",
    "plt.show()"
   ]
  },
  {
   "cell_type": "code",
   "execution_count": 88,
   "id": "7287c775",
   "metadata": {},
   "outputs": [],
   "source": [
    "Final_pca = PCA(n_components= 22)\n",
    "pca_x = pd.DataFrame(Final_pca.fit_transform(scaled_X))"
   ]
  },
  {
   "cell_type": "code",
   "execution_count": 89,
   "id": "b8a4893e",
   "metadata": {},
   "outputs": [
    {
     "data": {
      "text/html": [
       "<div>\n",
       "<style scoped>\n",
       "    .dataframe tbody tr th:only-of-type {\n",
       "        vertical-align: middle;\n",
       "    }\n",
       "\n",
       "    .dataframe tbody tr th {\n",
       "        vertical-align: top;\n",
       "    }\n",
       "\n",
       "    .dataframe thead th {\n",
       "        text-align: right;\n",
       "    }\n",
       "</style>\n",
       "<table border=\"1\" class=\"dataframe\">\n",
       "  <thead>\n",
       "    <tr style=\"text-align: right;\">\n",
       "      <th></th>\n",
       "      <th>0</th>\n",
       "      <th>1</th>\n",
       "      <th>2</th>\n",
       "      <th>3</th>\n",
       "      <th>4</th>\n",
       "      <th>5</th>\n",
       "      <th>6</th>\n",
       "      <th>7</th>\n",
       "      <th>8</th>\n",
       "      <th>9</th>\n",
       "      <th>10</th>\n",
       "      <th>11</th>\n",
       "      <th>12</th>\n",
       "      <th>13</th>\n",
       "      <th>14</th>\n",
       "      <th>15</th>\n",
       "      <th>16</th>\n",
       "      <th>17</th>\n",
       "      <th>18</th>\n",
       "      <th>19</th>\n",
       "      <th>20</th>\n",
       "      <th>21</th>\n",
       "    </tr>\n",
       "  </thead>\n",
       "  <tbody>\n",
       "    <tr>\n",
       "      <th>0</th>\n",
       "      <td>3.590799</td>\n",
       "      <td>-1.056766</td>\n",
       "      <td>-1.825900</td>\n",
       "      <td>0.159229</td>\n",
       "      <td>-1.184414</td>\n",
       "      <td>-0.593570</td>\n",
       "      <td>-0.261107</td>\n",
       "      <td>1.555557</td>\n",
       "      <td>-1.659028</td>\n",
       "      <td>0.078016</td>\n",
       "      <td>0.919111</td>\n",
       "      <td>0.485027</td>\n",
       "      <td>0.747040</td>\n",
       "      <td>-0.555630</td>\n",
       "      <td>0.438147</td>\n",
       "      <td>-0.178308</td>\n",
       "      <td>0.115645</td>\n",
       "      <td>-0.435177</td>\n",
       "      <td>0.782515</td>\n",
       "      <td>0.007334</td>\n",
       "      <td>0.593609</td>\n",
       "      <td>-1.288414</td>\n",
       "    </tr>\n",
       "    <tr>\n",
       "      <th>1</th>\n",
       "      <td>-1.237743</td>\n",
       "      <td>1.664827</td>\n",
       "      <td>0.543078</td>\n",
       "      <td>3.489949</td>\n",
       "      <td>1.172356</td>\n",
       "      <td>2.888563</td>\n",
       "      <td>0.226856</td>\n",
       "      <td>-0.107903</td>\n",
       "      <td>0.269969</td>\n",
       "      <td>1.133438</td>\n",
       "      <td>1.417072</td>\n",
       "      <td>-0.075743</td>\n",
       "      <td>-0.449667</td>\n",
       "      <td>0.421694</td>\n",
       "      <td>0.225848</td>\n",
       "      <td>-0.066327</td>\n",
       "      <td>0.018427</td>\n",
       "      <td>-0.184428</td>\n",
       "      <td>-0.408401</td>\n",
       "      <td>0.592402</td>\n",
       "      <td>-1.530843</td>\n",
       "      <td>-0.415496</td>\n",
       "    </tr>\n",
       "    <tr>\n",
       "      <th>2</th>\n",
       "      <td>-3.290174</td>\n",
       "      <td>-0.325446</td>\n",
       "      <td>-1.025602</td>\n",
       "      <td>0.469217</td>\n",
       "      <td>1.211567</td>\n",
       "      <td>1.997883</td>\n",
       "      <td>-0.435426</td>\n",
       "      <td>1.054118</td>\n",
       "      <td>0.245755</td>\n",
       "      <td>-1.975141</td>\n",
       "      <td>0.167487</td>\n",
       "      <td>-0.151086</td>\n",
       "      <td>-0.119062</td>\n",
       "      <td>0.878242</td>\n",
       "      <td>0.381844</td>\n",
       "      <td>-0.105053</td>\n",
       "      <td>0.062417</td>\n",
       "      <td>-0.522855</td>\n",
       "      <td>-0.981706</td>\n",
       "      <td>0.621432</td>\n",
       "      <td>-0.086494</td>\n",
       "      <td>-0.795390</td>\n",
       "    </tr>\n",
       "    <tr>\n",
       "      <th>3</th>\n",
       "      <td>0.312240</td>\n",
       "      <td>1.385359</td>\n",
       "      <td>1.416272</td>\n",
       "      <td>2.361636</td>\n",
       "      <td>0.367936</td>\n",
       "      <td>-0.770998</td>\n",
       "      <td>-0.868473</td>\n",
       "      <td>-0.324917</td>\n",
       "      <td>-0.199033</td>\n",
       "      <td>-1.848004</td>\n",
       "      <td>1.682844</td>\n",
       "      <td>-0.655913</td>\n",
       "      <td>0.461624</td>\n",
       "      <td>-0.285386</td>\n",
       "      <td>0.157239</td>\n",
       "      <td>-0.278197</td>\n",
       "      <td>0.197822</td>\n",
       "      <td>-0.227455</td>\n",
       "      <td>-0.288913</td>\n",
       "      <td>1.164891</td>\n",
       "      <td>1.408129</td>\n",
       "      <td>1.286123</td>\n",
       "    </tr>\n",
       "    <tr>\n",
       "      <th>4</th>\n",
       "      <td>2.534256</td>\n",
       "      <td>-0.600569</td>\n",
       "      <td>-2.477700</td>\n",
       "      <td>1.292924</td>\n",
       "      <td>-0.335006</td>\n",
       "      <td>0.756173</td>\n",
       "      <td>-0.699680</td>\n",
       "      <td>0.476820</td>\n",
       "      <td>0.251648</td>\n",
       "      <td>0.376263</td>\n",
       "      <td>2.187684</td>\n",
       "      <td>-0.398046</td>\n",
       "      <td>-0.051253</td>\n",
       "      <td>0.131791</td>\n",
       "      <td>0.490032</td>\n",
       "      <td>-0.439742</td>\n",
       "      <td>0.233010</td>\n",
       "      <td>-0.624859</td>\n",
       "      <td>-0.669423</td>\n",
       "      <td>1.235113</td>\n",
       "      <td>1.030568</td>\n",
       "      <td>-0.467137</td>\n",
       "    </tr>\n",
       "    <tr>\n",
       "      <th>...</th>\n",
       "      <td>...</td>\n",
       "      <td>...</td>\n",
       "      <td>...</td>\n",
       "      <td>...</td>\n",
       "      <td>...</td>\n",
       "      <td>...</td>\n",
       "      <td>...</td>\n",
       "      <td>...</td>\n",
       "      <td>...</td>\n",
       "      <td>...</td>\n",
       "      <td>...</td>\n",
       "      <td>...</td>\n",
       "      <td>...</td>\n",
       "      <td>...</td>\n",
       "      <td>...</td>\n",
       "      <td>...</td>\n",
       "      <td>...</td>\n",
       "      <td>...</td>\n",
       "      <td>...</td>\n",
       "      <td>...</td>\n",
       "      <td>...</td>\n",
       "      <td>...</td>\n",
       "    </tr>\n",
       "    <tr>\n",
       "      <th>13349</th>\n",
       "      <td>-0.522499</td>\n",
       "      <td>2.178526</td>\n",
       "      <td>1.088303</td>\n",
       "      <td>2.640147</td>\n",
       "      <td>-0.032532</td>\n",
       "      <td>0.296955</td>\n",
       "      <td>-0.020144</td>\n",
       "      <td>-1.002418</td>\n",
       "      <td>0.519936</td>\n",
       "      <td>0.094898</td>\n",
       "      <td>-0.111944</td>\n",
       "      <td>0.419520</td>\n",
       "      <td>-0.229215</td>\n",
       "      <td>-0.929897</td>\n",
       "      <td>0.101269</td>\n",
       "      <td>-0.095862</td>\n",
       "      <td>-0.058668</td>\n",
       "      <td>-0.361377</td>\n",
       "      <td>0.997533</td>\n",
       "      <td>0.319999</td>\n",
       "      <td>0.000697</td>\n",
       "      <td>0.042521</td>\n",
       "    </tr>\n",
       "    <tr>\n",
       "      <th>13350</th>\n",
       "      <td>2.026840</td>\n",
       "      <td>0.742900</td>\n",
       "      <td>1.972109</td>\n",
       "      <td>1.478200</td>\n",
       "      <td>-0.588959</td>\n",
       "      <td>-1.827705</td>\n",
       "      <td>-0.174462</td>\n",
       "      <td>1.573683</td>\n",
       "      <td>-1.686204</td>\n",
       "      <td>1.203608</td>\n",
       "      <td>0.706292</td>\n",
       "      <td>-0.554040</td>\n",
       "      <td>0.058292</td>\n",
       "      <td>-0.200275</td>\n",
       "      <td>-0.107101</td>\n",
       "      <td>0.036683</td>\n",
       "      <td>0.121644</td>\n",
       "      <td>0.266006</td>\n",
       "      <td>0.064380</td>\n",
       "      <td>-0.076773</td>\n",
       "      <td>0.205571</td>\n",
       "      <td>0.926013</td>\n",
       "    </tr>\n",
       "    <tr>\n",
       "      <th>13351</th>\n",
       "      <td>-1.697388</td>\n",
       "      <td>-0.247787</td>\n",
       "      <td>-0.200245</td>\n",
       "      <td>-0.722215</td>\n",
       "      <td>-0.139029</td>\n",
       "      <td>-0.330230</td>\n",
       "      <td>-0.340216</td>\n",
       "      <td>1.199082</td>\n",
       "      <td>1.044858</td>\n",
       "      <td>-1.016184</td>\n",
       "      <td>-0.741340</td>\n",
       "      <td>0.544355</td>\n",
       "      <td>-0.412336</td>\n",
       "      <td>-0.265907</td>\n",
       "      <td>0.226822</td>\n",
       "      <td>-0.079054</td>\n",
       "      <td>-0.080205</td>\n",
       "      <td>-0.683908</td>\n",
       "      <td>0.326821</td>\n",
       "      <td>0.129986</td>\n",
       "      <td>1.109031</td>\n",
       "      <td>-1.546605</td>\n",
       "    </tr>\n",
       "    <tr>\n",
       "      <th>13352</th>\n",
       "      <td>-2.306567</td>\n",
       "      <td>-1.245397</td>\n",
       "      <td>-0.319066</td>\n",
       "      <td>1.004622</td>\n",
       "      <td>-0.087040</td>\n",
       "      <td>0.120293</td>\n",
       "      <td>0.144707</td>\n",
       "      <td>-1.417111</td>\n",
       "      <td>-0.148017</td>\n",
       "      <td>-0.518588</td>\n",
       "      <td>-0.174989</td>\n",
       "      <td>0.463813</td>\n",
       "      <td>-0.393766</td>\n",
       "      <td>-0.548053</td>\n",
       "      <td>-0.359873</td>\n",
       "      <td>0.248506</td>\n",
       "      <td>-0.105048</td>\n",
       "      <td>0.283768</td>\n",
       "      <td>0.656249</td>\n",
       "      <td>-0.103411</td>\n",
       "      <td>-0.968652</td>\n",
       "      <td>1.255685</td>\n",
       "    </tr>\n",
       "    <tr>\n",
       "      <th>13353</th>\n",
       "      <td>-2.585599</td>\n",
       "      <td>-1.849388</td>\n",
       "      <td>-0.285942</td>\n",
       "      <td>-0.199454</td>\n",
       "      <td>-0.659883</td>\n",
       "      <td>-1.111225</td>\n",
       "      <td>1.043097</td>\n",
       "      <td>-1.077674</td>\n",
       "      <td>1.657807</td>\n",
       "      <td>0.524076</td>\n",
       "      <td>0.665258</td>\n",
       "      <td>-0.280574</td>\n",
       "      <td>-0.173564</td>\n",
       "      <td>0.302565</td>\n",
       "      <td>-0.106861</td>\n",
       "      <td>0.029829</td>\n",
       "      <td>-0.127036</td>\n",
       "      <td>0.275070</td>\n",
       "      <td>-0.545258</td>\n",
       "      <td>-0.361337</td>\n",
       "      <td>-0.911414</td>\n",
       "      <td>-0.165347</td>\n",
       "    </tr>\n",
       "  </tbody>\n",
       "</table>\n",
       "<p>13354 rows × 22 columns</p>\n",
       "</div>"
      ],
      "text/plain": [
       "             0         1         2         3         4         5         6   \\\n",
       "0      3.590799 -1.056766 -1.825900  0.159229 -1.184414 -0.593570 -0.261107   \n",
       "1     -1.237743  1.664827  0.543078  3.489949  1.172356  2.888563  0.226856   \n",
       "2     -3.290174 -0.325446 -1.025602  0.469217  1.211567  1.997883 -0.435426   \n",
       "3      0.312240  1.385359  1.416272  2.361636  0.367936 -0.770998 -0.868473   \n",
       "4      2.534256 -0.600569 -2.477700  1.292924 -0.335006  0.756173 -0.699680   \n",
       "...         ...       ...       ...       ...       ...       ...       ...   \n",
       "13349 -0.522499  2.178526  1.088303  2.640147 -0.032532  0.296955 -0.020144   \n",
       "13350  2.026840  0.742900  1.972109  1.478200 -0.588959 -1.827705 -0.174462   \n",
       "13351 -1.697388 -0.247787 -0.200245 -0.722215 -0.139029 -0.330230 -0.340216   \n",
       "13352 -2.306567 -1.245397 -0.319066  1.004622 -0.087040  0.120293  0.144707   \n",
       "13353 -2.585599 -1.849388 -0.285942 -0.199454 -0.659883 -1.111225  1.043097   \n",
       "\n",
       "             7         8         9         10        11        12        13  \\\n",
       "0      1.555557 -1.659028  0.078016  0.919111  0.485027  0.747040 -0.555630   \n",
       "1     -0.107903  0.269969  1.133438  1.417072 -0.075743 -0.449667  0.421694   \n",
       "2      1.054118  0.245755 -1.975141  0.167487 -0.151086 -0.119062  0.878242   \n",
       "3     -0.324917 -0.199033 -1.848004  1.682844 -0.655913  0.461624 -0.285386   \n",
       "4      0.476820  0.251648  0.376263  2.187684 -0.398046 -0.051253  0.131791   \n",
       "...         ...       ...       ...       ...       ...       ...       ...   \n",
       "13349 -1.002418  0.519936  0.094898 -0.111944  0.419520 -0.229215 -0.929897   \n",
       "13350  1.573683 -1.686204  1.203608  0.706292 -0.554040  0.058292 -0.200275   \n",
       "13351  1.199082  1.044858 -1.016184 -0.741340  0.544355 -0.412336 -0.265907   \n",
       "13352 -1.417111 -0.148017 -0.518588 -0.174989  0.463813 -0.393766 -0.548053   \n",
       "13353 -1.077674  1.657807  0.524076  0.665258 -0.280574 -0.173564  0.302565   \n",
       "\n",
       "             14        15        16        17        18        19        20  \\\n",
       "0      0.438147 -0.178308  0.115645 -0.435177  0.782515  0.007334  0.593609   \n",
       "1      0.225848 -0.066327  0.018427 -0.184428 -0.408401  0.592402 -1.530843   \n",
       "2      0.381844 -0.105053  0.062417 -0.522855 -0.981706  0.621432 -0.086494   \n",
       "3      0.157239 -0.278197  0.197822 -0.227455 -0.288913  1.164891  1.408129   \n",
       "4      0.490032 -0.439742  0.233010 -0.624859 -0.669423  1.235113  1.030568   \n",
       "...         ...       ...       ...       ...       ...       ...       ...   \n",
       "13349  0.101269 -0.095862 -0.058668 -0.361377  0.997533  0.319999  0.000697   \n",
       "13350 -0.107101  0.036683  0.121644  0.266006  0.064380 -0.076773  0.205571   \n",
       "13351  0.226822 -0.079054 -0.080205 -0.683908  0.326821  0.129986  1.109031   \n",
       "13352 -0.359873  0.248506 -0.105048  0.283768  0.656249 -0.103411 -0.968652   \n",
       "13353 -0.106861  0.029829 -0.127036  0.275070 -0.545258 -0.361337 -0.911414   \n",
       "\n",
       "             21  \n",
       "0     -1.288414  \n",
       "1     -0.415496  \n",
       "2     -0.795390  \n",
       "3      1.286123  \n",
       "4     -0.467137  \n",
       "...         ...  \n",
       "13349  0.042521  \n",
       "13350  0.926013  \n",
       "13351 -1.546605  \n",
       "13352  1.255685  \n",
       "13353 -0.165347  \n",
       "\n",
       "[13354 rows x 22 columns]"
      ]
     },
     "execution_count": 89,
     "metadata": {},
     "output_type": "execute_result"
    }
   ],
   "source": [
    "pca_x"
   ]
  },
  {
   "cell_type": "code",
   "execution_count": 90,
   "id": "0134ae54",
   "metadata": {},
   "outputs": [
    {
     "name": "stdout",
     "output_type": "stream",
     "text": [
      "variance is : 0.8870019165014901\n"
     ]
    }
   ],
   "source": [
    "print(\"variance is : {}\".format(np.sum(Final_pca.explained_variance_ratio_)))"
   ]
  },
  {
   "cell_type": "markdown",
   "id": "82e549a9",
   "metadata": {},
   "source": [
    "split the data"
   ]
  },
  {
   "cell_type": "code",
   "execution_count": 91,
   "id": "790e2248",
   "metadata": {},
   "outputs": [],
   "source": [
    "pca_x['Temp'] = temp"
   ]
  },
  {
   "cell_type": "code",
   "execution_count": 92,
   "id": "b7cf2b1b",
   "metadata": {},
   "outputs": [
    {
     "data": {
      "text/html": [
       "<div>\n",
       "<style scoped>\n",
       "    .dataframe tbody tr th:only-of-type {\n",
       "        vertical-align: middle;\n",
       "    }\n",
       "\n",
       "    .dataframe tbody tr th {\n",
       "        vertical-align: top;\n",
       "    }\n",
       "\n",
       "    .dataframe thead th {\n",
       "        text-align: right;\n",
       "    }\n",
       "</style>\n",
       "<table border=\"1\" class=\"dataframe\">\n",
       "  <thead>\n",
       "    <tr style=\"text-align: right;\">\n",
       "      <th></th>\n",
       "      <th>0</th>\n",
       "      <th>1</th>\n",
       "      <th>2</th>\n",
       "      <th>3</th>\n",
       "      <th>4</th>\n",
       "      <th>5</th>\n",
       "      <th>6</th>\n",
       "      <th>7</th>\n",
       "      <th>8</th>\n",
       "      <th>9</th>\n",
       "      <th>10</th>\n",
       "      <th>11</th>\n",
       "      <th>12</th>\n",
       "      <th>13</th>\n",
       "      <th>14</th>\n",
       "      <th>15</th>\n",
       "      <th>16</th>\n",
       "      <th>17</th>\n",
       "      <th>18</th>\n",
       "      <th>19</th>\n",
       "      <th>20</th>\n",
       "      <th>21</th>\n",
       "      <th>Temp</th>\n",
       "    </tr>\n",
       "  </thead>\n",
       "  <tbody>\n",
       "    <tr>\n",
       "      <th>0</th>\n",
       "      <td>3.590799</td>\n",
       "      <td>-1.056766</td>\n",
       "      <td>-1.825900</td>\n",
       "      <td>0.159229</td>\n",
       "      <td>-1.184414</td>\n",
       "      <td>-0.593570</td>\n",
       "      <td>-0.261107</td>\n",
       "      <td>1.555557</td>\n",
       "      <td>-1.659028</td>\n",
       "      <td>0.078016</td>\n",
       "      <td>0.919111</td>\n",
       "      <td>0.485027</td>\n",
       "      <td>0.747040</td>\n",
       "      <td>-0.555630</td>\n",
       "      <td>0.438147</td>\n",
       "      <td>-0.178308</td>\n",
       "      <td>0.115645</td>\n",
       "      <td>-0.435177</td>\n",
       "      <td>0.782515</td>\n",
       "      <td>0.007334</td>\n",
       "      <td>0.593609</td>\n",
       "      <td>-1.288414</td>\n",
       "      <td>Train</td>\n",
       "    </tr>\n",
       "    <tr>\n",
       "      <th>1</th>\n",
       "      <td>-1.237743</td>\n",
       "      <td>1.664827</td>\n",
       "      <td>0.543078</td>\n",
       "      <td>3.489949</td>\n",
       "      <td>1.172356</td>\n",
       "      <td>2.888563</td>\n",
       "      <td>0.226856</td>\n",
       "      <td>-0.107903</td>\n",
       "      <td>0.269969</td>\n",
       "      <td>1.133438</td>\n",
       "      <td>1.417072</td>\n",
       "      <td>-0.075743</td>\n",
       "      <td>-0.449667</td>\n",
       "      <td>0.421694</td>\n",
       "      <td>0.225848</td>\n",
       "      <td>-0.066327</td>\n",
       "      <td>0.018427</td>\n",
       "      <td>-0.184428</td>\n",
       "      <td>-0.408401</td>\n",
       "      <td>0.592402</td>\n",
       "      <td>-1.530843</td>\n",
       "      <td>-0.415496</td>\n",
       "      <td>Train</td>\n",
       "    </tr>\n",
       "    <tr>\n",
       "      <th>2</th>\n",
       "      <td>-3.290174</td>\n",
       "      <td>-0.325446</td>\n",
       "      <td>-1.025602</td>\n",
       "      <td>0.469217</td>\n",
       "      <td>1.211567</td>\n",
       "      <td>1.997883</td>\n",
       "      <td>-0.435426</td>\n",
       "      <td>1.054118</td>\n",
       "      <td>0.245755</td>\n",
       "      <td>-1.975141</td>\n",
       "      <td>0.167487</td>\n",
       "      <td>-0.151086</td>\n",
       "      <td>-0.119062</td>\n",
       "      <td>0.878242</td>\n",
       "      <td>0.381844</td>\n",
       "      <td>-0.105053</td>\n",
       "      <td>0.062417</td>\n",
       "      <td>-0.522855</td>\n",
       "      <td>-0.981706</td>\n",
       "      <td>0.621432</td>\n",
       "      <td>-0.086494</td>\n",
       "      <td>-0.795390</td>\n",
       "      <td>Train</td>\n",
       "    </tr>\n",
       "    <tr>\n",
       "      <th>3</th>\n",
       "      <td>0.312240</td>\n",
       "      <td>1.385359</td>\n",
       "      <td>1.416272</td>\n",
       "      <td>2.361636</td>\n",
       "      <td>0.367936</td>\n",
       "      <td>-0.770998</td>\n",
       "      <td>-0.868473</td>\n",
       "      <td>-0.324917</td>\n",
       "      <td>-0.199033</td>\n",
       "      <td>-1.848004</td>\n",
       "      <td>1.682844</td>\n",
       "      <td>-0.655913</td>\n",
       "      <td>0.461624</td>\n",
       "      <td>-0.285386</td>\n",
       "      <td>0.157239</td>\n",
       "      <td>-0.278197</td>\n",
       "      <td>0.197822</td>\n",
       "      <td>-0.227455</td>\n",
       "      <td>-0.288913</td>\n",
       "      <td>1.164891</td>\n",
       "      <td>1.408129</td>\n",
       "      <td>1.286123</td>\n",
       "      <td>Train</td>\n",
       "    </tr>\n",
       "    <tr>\n",
       "      <th>4</th>\n",
       "      <td>2.534256</td>\n",
       "      <td>-0.600569</td>\n",
       "      <td>-2.477700</td>\n",
       "      <td>1.292924</td>\n",
       "      <td>-0.335006</td>\n",
       "      <td>0.756173</td>\n",
       "      <td>-0.699680</td>\n",
       "      <td>0.476820</td>\n",
       "      <td>0.251648</td>\n",
       "      <td>0.376263</td>\n",
       "      <td>2.187684</td>\n",
       "      <td>-0.398046</td>\n",
       "      <td>-0.051253</td>\n",
       "      <td>0.131791</td>\n",
       "      <td>0.490032</td>\n",
       "      <td>-0.439742</td>\n",
       "      <td>0.233010</td>\n",
       "      <td>-0.624859</td>\n",
       "      <td>-0.669423</td>\n",
       "      <td>1.235113</td>\n",
       "      <td>1.030568</td>\n",
       "      <td>-0.467137</td>\n",
       "      <td>Train</td>\n",
       "    </tr>\n",
       "  </tbody>\n",
       "</table>\n",
       "</div>"
      ],
      "text/plain": [
       "          0         1         2         3         4         5         6  \\\n",
       "0  3.590799 -1.056766 -1.825900  0.159229 -1.184414 -0.593570 -0.261107   \n",
       "1 -1.237743  1.664827  0.543078  3.489949  1.172356  2.888563  0.226856   \n",
       "2 -3.290174 -0.325446 -1.025602  0.469217  1.211567  1.997883 -0.435426   \n",
       "3  0.312240  1.385359  1.416272  2.361636  0.367936 -0.770998 -0.868473   \n",
       "4  2.534256 -0.600569 -2.477700  1.292924 -0.335006  0.756173 -0.699680   \n",
       "\n",
       "          7         8         9        10        11        12        13  \\\n",
       "0  1.555557 -1.659028  0.078016  0.919111  0.485027  0.747040 -0.555630   \n",
       "1 -0.107903  0.269969  1.133438  1.417072 -0.075743 -0.449667  0.421694   \n",
       "2  1.054118  0.245755 -1.975141  0.167487 -0.151086 -0.119062  0.878242   \n",
       "3 -0.324917 -0.199033 -1.848004  1.682844 -0.655913  0.461624 -0.285386   \n",
       "4  0.476820  0.251648  0.376263  2.187684 -0.398046 -0.051253  0.131791   \n",
       "\n",
       "         14        15        16        17        18        19        20  \\\n",
       "0  0.438147 -0.178308  0.115645 -0.435177  0.782515  0.007334  0.593609   \n",
       "1  0.225848 -0.066327  0.018427 -0.184428 -0.408401  0.592402 -1.530843   \n",
       "2  0.381844 -0.105053  0.062417 -0.522855 -0.981706  0.621432 -0.086494   \n",
       "3  0.157239 -0.278197  0.197822 -0.227455 -0.288913  1.164891  1.408129   \n",
       "4  0.490032 -0.439742  0.233010 -0.624859 -0.669423  1.235113  1.030568   \n",
       "\n",
       "         21   Temp  \n",
       "0 -1.288414  Train  \n",
       "1 -0.415496  Train  \n",
       "2 -0.795390  Train  \n",
       "3  1.286123  Train  \n",
       "4 -0.467137  Train  "
      ]
     },
     "execution_count": 92,
     "metadata": {},
     "output_type": "execute_result"
    }
   ],
   "source": [
    "pca_x.head()"
   ]
  },
  {
   "cell_type": "code",
   "execution_count": 93,
   "id": "19ee51ea",
   "metadata": {},
   "outputs": [],
   "source": [
    "X_train_original = pca_x.loc[pca_x[\"Temp\"] == \"Train\"]\n",
    "X_test_original = pca_x.loc[pca_x[\"Temp\"]==\"Test\"]"
   ]
  },
  {
   "cell_type": "code",
   "execution_count": 94,
   "id": "06b3cd11",
   "metadata": {},
   "outputs": [
    {
     "data": {
      "text/plain": [
       "(10683,)"
      ]
     },
     "execution_count": 94,
     "metadata": {},
     "output_type": "execute_result"
    }
   ],
   "source": [
    "Y.dropna(inplace=True)\n",
    "Y.shape"
   ]
  },
  {
   "cell_type": "code",
   "execution_count": 95,
   "id": "03a1e46b",
   "metadata": {},
   "outputs": [
    {
     "data": {
      "text/plain": [
       "(10683, 23)"
      ]
     },
     "execution_count": 95,
     "metadata": {},
     "output_type": "execute_result"
    }
   ],
   "source": [
    "X_train_original.shape"
   ]
  },
  {
   "cell_type": "code",
   "execution_count": 96,
   "id": "166e3c58",
   "metadata": {},
   "outputs": [
    {
     "data": {
      "text/plain": [
       "(2671, 23)"
      ]
     },
     "execution_count": 96,
     "metadata": {},
     "output_type": "execute_result"
    }
   ],
   "source": [
    "X_test_original.shape"
   ]
  },
  {
   "cell_type": "code",
   "execution_count": 97,
   "id": "32e409d5",
   "metadata": {},
   "outputs": [],
   "source": [
    "X_train_original.drop('Temp',axis = 1,inplace  =True)"
   ]
  },
  {
   "cell_type": "code",
   "execution_count": 98,
   "id": "2810cc58",
   "metadata": {},
   "outputs": [],
   "source": [
    "X_test_original.drop('Temp',axis = 1,inplace  =True)"
   ]
  },
  {
   "cell_type": "markdown",
   "id": "088142ed",
   "metadata": {},
   "source": [
    "Random State"
   ]
  },
  {
   "cell_type": "code",
   "execution_count": 99,
   "id": "66e05842",
   "metadata": {},
   "outputs": [
    {
     "name": "stdout",
     "output_type": "stream",
     "text": [
      "Best r2 score is 0.6302064590211616 on random state 19\n"
     ]
    }
   ],
   "source": [
    "max_r2score = 0\n",
    "rand_state = 0\n",
    "for i in range(1,200):\n",
    "    x_train,x_test,y_train,y_test = train_test_split(X_train_original,Y,test_size=.22,random_state= i )\n",
    "    lr = LinearRegression()\n",
    "    lr.fit(x_train,y_train)\n",
    "    pred = lr.predict(x_test)\n",
    "    r2 = r2_score(y_test,pred)\n",
    "    if r2 > max_r2score:\n",
    "        max_r2score = r2\n",
    "        rand_state = i\n",
    "print('Best r2 score is {} on random state {}'.format(max_r2score,rand_state))"
   ]
  },
  {
   "cell_type": "code",
   "execution_count": 100,
   "id": "f06557be",
   "metadata": {},
   "outputs": [
    {
     "name": "stdout",
     "output_type": "stream",
     "text": [
      "We got our best randoms sate as : 19\n"
     ]
    }
   ],
   "source": [
    "print('We got our best randoms sate as :',rand_state)"
   ]
  },
  {
   "cell_type": "code",
   "execution_count": 101,
   "id": "401baea6",
   "metadata": {},
   "outputs": [],
   "source": [
    "x_train,x_test,y_train,y_test = train_test_split(X_train_original,Y,test_size=.22,random_state= rand_state )"
   ]
  },
  {
   "cell_type": "code",
   "execution_count": 102,
   "id": "6aba209b",
   "metadata": {},
   "outputs": [
    {
     "name": "stdout",
     "output_type": "stream",
     "text": [
      "r2_score of linear refression is : 0.6302064590211616\n",
      "Error :\n",
      "mean absolute error : 4536.991286759044\n",
      "mean squared error :  167290476.30182323\n",
      "root mean squared error : 12934.081965946529\n"
     ]
    }
   ],
   "source": [
    "lrg = LinearRegression()\n",
    "lrg.fit(x_train,y_train)\n",
    "pr =lrg.predict(x_test)\n",
    "print(\"r2_score of linear refression is :\", r2_score(y_test,pr))\n",
    "print('Error :')\n",
    "print('mean absolute error :',mean_absolute_error(y_test,pred))\n",
    "print('mean squared error : ', mean_squared_error(y_test,pred))\n",
    "print('root mean squared error :',np.sqrt(mean_squared_error(y_test,pred)))"
   ]
  },
  {
   "cell_type": "markdown",
   "id": "c564ebb8",
   "metadata": {},
   "source": [
    "Model selection"
   ]
  },
  {
   "cell_type": "code",
   "execution_count": 103,
   "id": "431d0434",
   "metadata": {},
   "outputs": [],
   "source": [
    "dtc = DecisionTreeRegressor()\n",
    "knn = KNeighborsRegressor(n_neighbors=5)\n",
    "rf = RandomForestRegressor()\n",
    "ada = AdaBoostRegressor()"
   ]
  },
  {
   "cell_type": "code",
   "execution_count": null,
   "id": "c1e0c0dc",
   "metadata": {},
   "outputs": [
    {
     "name": "stdout",
     "output_type": "stream",
     "text": [
      "\n",
      "\n",
      "DecisionTreeRegressor()\n",
      "Scores :\n",
      "r2 score: 0.6488469462334607\n",
      "Cross Val score : 0.661718522239223\n",
      "Error :\n",
      "mean absolute error : 1369.257337303275\n",
      "mean squared error :  6390604.628243301\n",
      "root mean squared error : 2527.96452274222\n",
      "Difference :\n",
      "Diffrence between cross val score and r2 score is : 0.01\n",
      "\n",
      "\n",
      "KNeighborsRegressor()\n",
      "Scores :\n",
      "r2 score: 0.80900135301018\n",
      "Cross Val score : 0.7934614014133123\n",
      "Error :\n",
      "mean absolute error : 1175.7146746065505\n",
      "mean squared error :  3475968.169289664\n",
      "root mean squared error : 1864.3948533745913\n",
      "Difference :\n",
      "Diffrence between cross val score and r2 score is : 0.02\n"
     ]
    }
   ],
   "source": [
    "model_list = [dtc,knn,rf,ada]\n",
    "least_difference = []\n",
    "for m in model_list:\n",
    "    m.fit(x_train,y_train)\n",
    "    pred = m.predict(x_test)\n",
    "    cvs = cross_val_score(m,X_train_original,Y,cv =5)\n",
    "    print('\\n')\n",
    "    print(m)\n",
    "    print('Scores :')\n",
    "    print('r2 score:',r2_score(y_test,pred))\n",
    "    print('Cross Val score :',cvs.mean())\n",
    "    print('Error :')\n",
    "    print('mean absolute error :',mean_absolute_error(y_test,pred))\n",
    "    print('mean squared error : ', mean_squared_error(y_test,pred))\n",
    "    print('root mean squared error :',np.sqrt(mean_squared_error(y_test,pred)))\n",
    "    print('Difference :')\n",
    "    difference = np.abs(r2_score(y_test,pred) - cvs.mean())\n",
    "    print('Diffrence between cross val score and r2 score is : {0:.2f}'.format(difference))\n",
    "    least_difference.append((m,'Diffrence between cross val score and r2 score error is : {0:.2f}'.format(difference)))"
   ]
  },
  {
   "cell_type": "code",
   "execution_count": null,
   "id": "3a2e130c",
   "metadata": {},
   "outputs": [],
   "source": [
    "#finding the least difference\n",
    "least_difference"
   ]
  },
  {
   "cell_type": "markdown",
   "id": "4df6c5e6",
   "metadata": {},
   "source": [
    "Hyperparameter Tuning"
   ]
  },
  {
   "cell_type": "code",
   "execution_count": null,
   "id": "093c87c9",
   "metadata": {},
   "outputs": [],
   "source": [
    "parameters = {'n_estimators' : [100,200,300],'criterion':['mse','mae'],'max_features':['auto','sqrt','log2']}\n",
    "gsvrf = RandomizedSearchCV(rf, parameters, cv=5)"
   ]
  },
  {
   "cell_type": "code",
   "execution_count": null,
   "id": "d413c517",
   "metadata": {},
   "outputs": [],
   "source": [
    "best_params_rf = {'n_estimators': 300,\n",
    "                  'max_features' : 'log2',\n",
    "                'criterion': 'mae'}"
   ]
  },
  {
   "cell_type": "markdown",
   "id": "bde85dad",
   "metadata": {},
   "source": [
    "Creating a Final Model as Random Forest Regressor"
   ]
  },
  {
   "cell_type": "code",
   "execution_count": null,
   "id": "6e586454",
   "metadata": {},
   "outputs": [],
   "source": [
    "final_model_rf = RandomForestRegressor(n_estimators= 300,criterion= 'mae',max_features = 'log2')\n",
    "final_model_rf.fit(x_train,y_train)\n",
    "final_pred = final_model_rf.predict(x_test)\n",
    "cvs = cross_val_score(final_model_rf,X_train_original,Y,cv =5)\n",
    "print('\\n')\n",
    "print('Scores :')\n",
    "print('r2 score:',r2_score(y_test,final_pred))\n",
    "print('Cross Val score :',cvs.mean())\n",
    "print('Error :')\n",
    "print('mean absolute error :',mean_absolute_error(y_test,final_pred))\n",
    "print('mean squared error : ', mean_squared_error(y_test,final_pred))\n",
    "print('root mean squared error :',np.sqrt(mean_squared_error(y_test,final_pred)))\n",
    "print('Difference :')\n",
    "difference = np.abs(r2_score(y_test,final_pred) - cvs.mean())\n",
    "print('Diffrence between cross val score and r2 score is : {0:.2f}'.format(difference))\n",
    "least_difference.append((m,'Diffrence between cross val score and r2 score is : {0:.2f}'.format(difference)))"
   ]
  },
  {
   "cell_type": "markdown",
   "id": "643a4adb",
   "metadata": {},
   "source": [
    "Saving model"
   ]
  },
  {
   "cell_type": "code",
   "execution_count": null,
   "id": "4d773495",
   "metadata": {},
   "outputs": [],
   "source": [
    "joblib.dump(final_model_rf,'Flight_Price.obj')"
   ]
  },
  {
   "cell_type": "code",
   "execution_count": null,
   "id": "8220259e",
   "metadata": {},
   "outputs": [],
   "source": [
    "Flight_Price = joblib.load('Flight_Price.obj')"
   ]
  },
  {
   "cell_type": "code",
   "execution_count": null,
   "id": "214f9467",
   "metadata": {},
   "outputs": [],
   "source": [
    "s_pred = Flight_Price.predict(x_test)"
   ]
  },
  {
   "cell_type": "code",
   "execution_count": null,
   "id": "ccc8479a",
   "metadata": {},
   "outputs": [],
   "source": [
    "r2_score(y_test,s_pred)"
   ]
  },
  {
   "cell_type": "code",
   "execution_count": null,
   "id": "bb26711f",
   "metadata": {},
   "outputs": [],
   "source": [
    "plt.figure(figsize=(6,4))\n",
    "plt.scatter(x = y_test,y = s_pred,color = 'r')\n",
    "plt.plot(y_test,y_test,color = 'b')\n",
    "plt.xlabel('Actual charges')\n",
    "plt.ylabel('Predicted charges')\n",
    "plt.title('Random forest Regressor')\n",
    "plt.show()"
   ]
  },
  {
   "cell_type": "markdown",
   "id": "7becc3a9",
   "metadata": {},
   "source": [
    "values are very close to the line"
   ]
  },
  {
   "cell_type": "markdown",
   "id": "5a5f17ab",
   "metadata": {},
   "source": [
    "X_test Predicted"
   ]
  },
  {
   "cell_type": "code",
   "execution_count": null,
   "id": "042bf09d",
   "metadata": {},
   "outputs": [],
   "source": [
    "conclusion = pd.DataFrame((Flight_Price.predict(x_test)[:],y_test[:]),index= ['Predicted','Actual'])\n",
    "conclusion"
   ]
  },
  {
   "cell_type": "markdown",
   "id": "1b5972eb",
   "metadata": {},
   "source": [
    "Result"
   ]
  },
  {
   "cell_type": "code",
   "execution_count": null,
   "id": "9daf3b63",
   "metadata": {},
   "outputs": [],
   "source": [
    "final_y_predicted = Flight_Price.predict(X_test_original)"
   ]
  },
  {
   "cell_type": "code",
   "execution_count": null,
   "id": "bf7d7c21",
   "metadata": {},
   "outputs": [],
   "source": [
    "final_y_predicted.shape"
   ]
  },
  {
   "cell_type": "code",
   "execution_count": null,
   "id": "be44090c",
   "metadata": {},
   "outputs": [],
   "source": [
    "FINAL_Y_PREDICTED  = pd.DataFrame(final_y_predicted,columns = ['FINAL_Y_PREDICTED'])\n",
    "FINAL_Y_PREDICTED"
   ]
  },
  {
   "cell_type": "code",
   "execution_count": null,
   "id": "5a5dc972",
   "metadata": {},
   "outputs": [],
   "source": [
    "FINAL_Y_PREDICTED.to_excel('FINAL_Y_PREDICTED.xlsx')"
   ]
  },
  {
   "cell_type": "code",
   "execution_count": null,
   "id": "5187d51d",
   "metadata": {},
   "outputs": [],
   "source": []
  }
 ],
 "metadata": {
  "kernelspec": {
   "display_name": "Python 3",
   "language": "python",
   "name": "python3"
  },
  "language_info": {
   "codemirror_mode": {
    "name": "ipython",
    "version": 3
   },
   "file_extension": ".py",
   "mimetype": "text/x-python",
   "name": "python",
   "nbconvert_exporter": "python",
   "pygments_lexer": "ipython3",
   "version": "3.8.8"
  }
 },
 "nbformat": 4,
 "nbformat_minor": 5
}

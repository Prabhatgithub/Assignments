{
 "cells": [
  {
   "cell_type": "code",
   "execution_count": 1,
   "metadata": {},
   "outputs": [],
   "source": [
    "import requests\n",
    "from bs4 import BeautifulSoup"
   ]
  },
  {
   "cell_type": "code",
   "execution_count": 10,
   "metadata": {},
   "outputs": [],
   "source": [
    "url='https://www.google.com/search?q=fruits&rlz=1C1CHZL_enIN916IN916&sxsrf=ALeKk01S88gGC37azL5s9TYEZj_od7lTwA:1627156614418&source=lnms&tbm=isch&sa=X&ved=2ahUKEwjv1_vfvvzxAhWBzzgGHVo0DZQQ_AUoAXoECAIQAw&biw=1366&bih=657'"
   ]
  },
  {
   "cell_type": "code",
   "execution_count": 12,
   "metadata": {},
   "outputs": [
    {
     "name": "stdout",
     "output_type": "stream",
     "text": [
      "fruits - Google Search\n"
     ]
    }
   ],
   "source": [
    "r=requests.get(url)\n",
    "soup=BeautifulSoup(r.text,'html.parser')\n",
    "print(soup.title.text)"
   ]
  },
  {
   "cell_type": "code",
   "execution_count": 13,
   "metadata": {
    "scrolled": true
   },
   "outputs": [
    {
     "name": "stdout",
     "output_type": "stream",
     "text": [
      "[<img alt=\"Google\" class=\"kgJEQe\" src=\"/images/branding/searchlogo/1x/googlelogo_desk_heirloom_color_150x55dp.gif\"/>, <img alt=\"\" class=\"t0fcAb\" src=\"https://encrypted-tbn0.gstatic.com/images?q=tbn:ANd9GcSUoYZrOBiuhDQEVYeEORw7zrra9mMTtuxix2i91p3BIjbws0LphL257yJVndo&amp;s\"/>, <img alt=\"\" class=\"t0fcAb\" src=\"https://encrypted-tbn0.gstatic.com/images?q=tbn:ANd9GcQ5AchXLTJ5JYEvXEW-SqkdvXPwrs0mkBibmTU1wNeb6dkqOd9piCUgxuMXag&amp;s\"/>, <img alt=\"\" class=\"t0fcAb\" src=\"https://encrypted-tbn0.gstatic.com/images?q=tbn:ANd9GcRi9MhadfHFb12JdowMFPtJIl1jcSjpQt--fstzMTNoyn3kdfa4b5nLp3Mzug&amp;s\"/>, <img alt=\"\" class=\"t0fcAb\" src=\"https://encrypted-tbn0.gstatic.com/images?q=tbn:ANd9GcTZHIFXuE7BzskemzHmNPU3cXoigwce2xcv8KYcWwK2yL5AHabTPMdQAfz9Lw&amp;s\"/>, <img alt=\"\" class=\"t0fcAb\" src=\"https://encrypted-tbn0.gstatic.com/images?q=tbn:ANd9GcRvLCDra1-f4yYFZ_Da1mlxTXPsOJ8Idz0c1OhWv7whTcKMmEj6jGY9z8QLI6k&amp;s\"/>, <img alt=\"\" class=\"t0fcAb\" src=\"https://encrypted-tbn0.gstatic.com/images?q=tbn:ANd9GcTe0v2g_QGYXqYRupDq4lrjYs6KYWi3krBEAtOk9jkoQaP0UT0gRMdQKQ_F6AM&amp;s\"/>, <img alt=\"\" class=\"t0fcAb\" src=\"https://encrypted-tbn0.gstatic.com/images?q=tbn:ANd9GcRWw1Qy2FJQW1g3QQMQfpeYyW-woR0pQWxmIyr85Glo_Y8hpliyI9yNO5ay_A&amp;s\"/>, <img alt=\"\" class=\"t0fcAb\" src=\"https://encrypted-tbn0.gstatic.com/images?q=tbn:ANd9GcRgmWfcGZ8MaatSc-7OPMlLqvCnuJXTpcBanoxOyBY3tHU2GFn5zIe3Pr1RDws&amp;s\"/>, <img alt=\"\" class=\"t0fcAb\" src=\"https://encrypted-tbn0.gstatic.com/images?q=tbn:ANd9GcTM_YVS3Dt-LVMaO2NmTYkZx1_qb7SMclOiBQrlNek35ZYDL0YToryNR_sEKA&amp;s\"/>, <img alt=\"\" class=\"t0fcAb\" src=\"https://encrypted-tbn0.gstatic.com/images?q=tbn:ANd9GcQE7T9x93HcU858UrGHBoW9MmDvqGo-geMbRjqC5GfHKF-uR5pC0kteyA835A&amp;s\"/>, <img alt=\"\" class=\"t0fcAb\" src=\"https://encrypted-tbn0.gstatic.com/images?q=tbn:ANd9GcSKCGLEsvOmCqZGcQrx4dG37cPz_ID-OaMVEM7L45iLzKz8q4ME1DxJuYV1nQ&amp;s\"/>, <img alt=\"\" class=\"t0fcAb\" src=\"https://encrypted-tbn0.gstatic.com/images?q=tbn:ANd9GcQYd-VnyfvVyWHUIiytGUYyEZZ48GRHBsoIwgZzQKpM9Bo9eDffmpYF55pZPCE&amp;s\"/>, <img alt=\"\" class=\"t0fcAb\" src=\"https://encrypted-tbn0.gstatic.com/images?q=tbn:ANd9GcSMjskFzj67VLo2c0CCO_AvS44m-nG1gJCCBu5_9rUlkJWyVvkZRxg8Nkbzcg&amp;s\"/>, <img alt=\"\" class=\"t0fcAb\" src=\"https://encrypted-tbn0.gstatic.com/images?q=tbn:ANd9GcRCe2Y_f90SRY6phC8dD8DGqhUFuofgMwi0Rye9yDQtv2Zt2wW797LJli-OCg&amp;s\"/>, <img alt=\"\" class=\"t0fcAb\" src=\"https://encrypted-tbn0.gstatic.com/images?q=tbn:ANd9GcQ-kJFx4DRT7LNadlh8nwswIZFmmcYDb2H0M-AlZd3SZ5wEtBq2ernaSyVl5zA&amp;s\"/>, <img alt=\"\" class=\"t0fcAb\" src=\"https://encrypted-tbn0.gstatic.com/images?q=tbn:ANd9GcTXcEJIAUX9yC0qemZumdYUvZ2qQuFU0xxrHsaJcYJ-KRZjCT1DkDCVaVYOXWo&amp;s\"/>, <img alt=\"\" class=\"t0fcAb\" src=\"https://encrypted-tbn0.gstatic.com/images?q=tbn:ANd9GcTPgDznXW1g2mtwZO91McqvunLtXCpA4p1Zw1MdshpIg-xO0LOJctZUwu25pHM&amp;s\"/>, <img alt=\"\" class=\"t0fcAb\" src=\"https://encrypted-tbn0.gstatic.com/images?q=tbn:ANd9GcRV81U9jsDMlsMdfSKLJSbmyrSsvW6j3jgEX7znzAI7XWKKTCwK64tyRUlJQA&amp;s\"/>, <img alt=\"\" class=\"t0fcAb\" src=\"https://encrypted-tbn0.gstatic.com/images?q=tbn:ANd9GcQxd-xLm9oUcJyoPN3FW4EtVyCLzZot5WFKbMfxBFOnQ9F9WfvGMJGTa4SZpQ&amp;s\"/>, <img alt=\"\" class=\"t0fcAb\" src=\"https://encrypted-tbn0.gstatic.com/images?q=tbn:ANd9GcQBGdgjQ9K9EnLSfQ5rOhSqAaasXYKLoTVcl3_dGRPMfv8w-F4zCg5j2Bo-SnE&amp;s\"/>]\n"
     ]
    }
   ],
   "source": [
    "images=soup.find_all('img')\n",
    "print(images)"
   ]
  },
  {
   "cell_type": "code",
   "execution_count": 14,
   "metadata": {
    "scrolled": true
   },
   "outputs": [
    {
     "name": "stdout",
     "output_type": "stream",
     "text": [
      "/images/branding/searchlogo/1x/googlelogo_desk_heirloom_color_150x55dp.gif\n",
      "https://encrypted-tbn0.gstatic.com/images?q=tbn:ANd9GcSUoYZrOBiuhDQEVYeEORw7zrra9mMTtuxix2i91p3BIjbws0LphL257yJVndo&s\n",
      "https://encrypted-tbn0.gstatic.com/images?q=tbn:ANd9GcQ5AchXLTJ5JYEvXEW-SqkdvXPwrs0mkBibmTU1wNeb6dkqOd9piCUgxuMXag&s\n",
      "https://encrypted-tbn0.gstatic.com/images?q=tbn:ANd9GcRi9MhadfHFb12JdowMFPtJIl1jcSjpQt--fstzMTNoyn3kdfa4b5nLp3Mzug&s\n",
      "https://encrypted-tbn0.gstatic.com/images?q=tbn:ANd9GcTZHIFXuE7BzskemzHmNPU3cXoigwce2xcv8KYcWwK2yL5AHabTPMdQAfz9Lw&s\n",
      "https://encrypted-tbn0.gstatic.com/images?q=tbn:ANd9GcRvLCDra1-f4yYFZ_Da1mlxTXPsOJ8Idz0c1OhWv7whTcKMmEj6jGY9z8QLI6k&s\n",
      "https://encrypted-tbn0.gstatic.com/images?q=tbn:ANd9GcTe0v2g_QGYXqYRupDq4lrjYs6KYWi3krBEAtOk9jkoQaP0UT0gRMdQKQ_F6AM&s\n",
      "https://encrypted-tbn0.gstatic.com/images?q=tbn:ANd9GcRWw1Qy2FJQW1g3QQMQfpeYyW-woR0pQWxmIyr85Glo_Y8hpliyI9yNO5ay_A&s\n",
      "https://encrypted-tbn0.gstatic.com/images?q=tbn:ANd9GcRgmWfcGZ8MaatSc-7OPMlLqvCnuJXTpcBanoxOyBY3tHU2GFn5zIe3Pr1RDws&s\n",
      "https://encrypted-tbn0.gstatic.com/images?q=tbn:ANd9GcTM_YVS3Dt-LVMaO2NmTYkZx1_qb7SMclOiBQrlNek35ZYDL0YToryNR_sEKA&s\n",
      "https://encrypted-tbn0.gstatic.com/images?q=tbn:ANd9GcQE7T9x93HcU858UrGHBoW9MmDvqGo-geMbRjqC5GfHKF-uR5pC0kteyA835A&s\n",
      "https://encrypted-tbn0.gstatic.com/images?q=tbn:ANd9GcSKCGLEsvOmCqZGcQrx4dG37cPz_ID-OaMVEM7L45iLzKz8q4ME1DxJuYV1nQ&s\n",
      "https://encrypted-tbn0.gstatic.com/images?q=tbn:ANd9GcQYd-VnyfvVyWHUIiytGUYyEZZ48GRHBsoIwgZzQKpM9Bo9eDffmpYF55pZPCE&s\n",
      "https://encrypted-tbn0.gstatic.com/images?q=tbn:ANd9GcSMjskFzj67VLo2c0CCO_AvS44m-nG1gJCCBu5_9rUlkJWyVvkZRxg8Nkbzcg&s\n",
      "https://encrypted-tbn0.gstatic.com/images?q=tbn:ANd9GcRCe2Y_f90SRY6phC8dD8DGqhUFuofgMwi0Rye9yDQtv2Zt2wW797LJli-OCg&s\n",
      "https://encrypted-tbn0.gstatic.com/images?q=tbn:ANd9GcQ-kJFx4DRT7LNadlh8nwswIZFmmcYDb2H0M-AlZd3SZ5wEtBq2ernaSyVl5zA&s\n",
      "https://encrypted-tbn0.gstatic.com/images?q=tbn:ANd9GcTXcEJIAUX9yC0qemZumdYUvZ2qQuFU0xxrHsaJcYJ-KRZjCT1DkDCVaVYOXWo&s\n",
      "https://encrypted-tbn0.gstatic.com/images?q=tbn:ANd9GcTPgDznXW1g2mtwZO91McqvunLtXCpA4p1Zw1MdshpIg-xO0LOJctZUwu25pHM&s\n",
      "https://encrypted-tbn0.gstatic.com/images?q=tbn:ANd9GcRV81U9jsDMlsMdfSKLJSbmyrSsvW6j3jgEX7znzAI7XWKKTCwK64tyRUlJQA&s\n",
      "https://encrypted-tbn0.gstatic.com/images?q=tbn:ANd9GcQxd-xLm9oUcJyoPN3FW4EtVyCLzZot5WFKbMfxBFOnQ9F9WfvGMJGTa4SZpQ&s\n",
      "https://encrypted-tbn0.gstatic.com/images?q=tbn:ANd9GcQBGdgjQ9K9EnLSfQ5rOhSqAaasXYKLoTVcl3_dGRPMfv8w-F4zCg5j2Bo-SnE&s\n"
     ]
    }
   ],
   "source": [
    "for image in images:\n",
    "    print(image['src'])\n",
    "    "
   ]
  },
  {
   "cell_type": "code",
   "execution_count": 17,
   "metadata": {},
   "outputs": [
    {
     "name": "stdout",
     "output_type": "stream",
     "text": [
      "Google /images/branding/searchlogo/1x/googlelogo_desk_heirloom_color_150x55dp.gif\n",
      " https://encrypted-tbn0.gstatic.com/images?q=tbn:ANd9GcSUoYZrOBiuhDQEVYeEORw7zrra9mMTtuxix2i91p3BIjbws0LphL257yJVndo&s\n",
      " https://encrypted-tbn0.gstatic.com/images?q=tbn:ANd9GcQ5AchXLTJ5JYEvXEW-SqkdvXPwrs0mkBibmTU1wNeb6dkqOd9piCUgxuMXag&s\n",
      " https://encrypted-tbn0.gstatic.com/images?q=tbn:ANd9GcRi9MhadfHFb12JdowMFPtJIl1jcSjpQt--fstzMTNoyn3kdfa4b5nLp3Mzug&s\n",
      " https://encrypted-tbn0.gstatic.com/images?q=tbn:ANd9GcTZHIFXuE7BzskemzHmNPU3cXoigwce2xcv8KYcWwK2yL5AHabTPMdQAfz9Lw&s\n",
      " https://encrypted-tbn0.gstatic.com/images?q=tbn:ANd9GcRvLCDra1-f4yYFZ_Da1mlxTXPsOJ8Idz0c1OhWv7whTcKMmEj6jGY9z8QLI6k&s\n",
      " https://encrypted-tbn0.gstatic.com/images?q=tbn:ANd9GcTe0v2g_QGYXqYRupDq4lrjYs6KYWi3krBEAtOk9jkoQaP0UT0gRMdQKQ_F6AM&s\n",
      " https://encrypted-tbn0.gstatic.com/images?q=tbn:ANd9GcRWw1Qy2FJQW1g3QQMQfpeYyW-woR0pQWxmIyr85Glo_Y8hpliyI9yNO5ay_A&s\n",
      " https://encrypted-tbn0.gstatic.com/images?q=tbn:ANd9GcRgmWfcGZ8MaatSc-7OPMlLqvCnuJXTpcBanoxOyBY3tHU2GFn5zIe3Pr1RDws&s\n",
      " https://encrypted-tbn0.gstatic.com/images?q=tbn:ANd9GcTM_YVS3Dt-LVMaO2NmTYkZx1_qb7SMclOiBQrlNek35ZYDL0YToryNR_sEKA&s\n",
      " https://encrypted-tbn0.gstatic.com/images?q=tbn:ANd9GcQE7T9x93HcU858UrGHBoW9MmDvqGo-geMbRjqC5GfHKF-uR5pC0kteyA835A&s\n",
      " https://encrypted-tbn0.gstatic.com/images?q=tbn:ANd9GcSKCGLEsvOmCqZGcQrx4dG37cPz_ID-OaMVEM7L45iLzKz8q4ME1DxJuYV1nQ&s\n",
      " https://encrypted-tbn0.gstatic.com/images?q=tbn:ANd9GcQYd-VnyfvVyWHUIiytGUYyEZZ48GRHBsoIwgZzQKpM9Bo9eDffmpYF55pZPCE&s\n",
      " https://encrypted-tbn0.gstatic.com/images?q=tbn:ANd9GcSMjskFzj67VLo2c0CCO_AvS44m-nG1gJCCBu5_9rUlkJWyVvkZRxg8Nkbzcg&s\n",
      " https://encrypted-tbn0.gstatic.com/images?q=tbn:ANd9GcRCe2Y_f90SRY6phC8dD8DGqhUFuofgMwi0Rye9yDQtv2Zt2wW797LJli-OCg&s\n",
      " https://encrypted-tbn0.gstatic.com/images?q=tbn:ANd9GcQ-kJFx4DRT7LNadlh8nwswIZFmmcYDb2H0M-AlZd3SZ5wEtBq2ernaSyVl5zA&s\n",
      " https://encrypted-tbn0.gstatic.com/images?q=tbn:ANd9GcTXcEJIAUX9yC0qemZumdYUvZ2qQuFU0xxrHsaJcYJ-KRZjCT1DkDCVaVYOXWo&s\n",
      " https://encrypted-tbn0.gstatic.com/images?q=tbn:ANd9GcTPgDznXW1g2mtwZO91McqvunLtXCpA4p1Zw1MdshpIg-xO0LOJctZUwu25pHM&s\n",
      " https://encrypted-tbn0.gstatic.com/images?q=tbn:ANd9GcRV81U9jsDMlsMdfSKLJSbmyrSsvW6j3jgEX7znzAI7XWKKTCwK64tyRUlJQA&s\n",
      " https://encrypted-tbn0.gstatic.com/images?q=tbn:ANd9GcQxd-xLm9oUcJyoPN3FW4EtVyCLzZot5WFKbMfxBFOnQ9F9WfvGMJGTa4SZpQ&s\n",
      " https://encrypted-tbn0.gstatic.com/images?q=tbn:ANd9GcQBGdgjQ9K9EnLSfQ5rOhSqAaasXYKLoTVcl3_dGRPMfv8w-F4zCg5j2Bo-SnE&s\n"
     ]
    }
   ],
   "source": [
    "for image in images:\n",
    "    name=image['alt']\n",
    "    link=image['src']\n",
    "    print(name,link)"
   ]
  },
  {
   "cell_type": "markdown",
   "metadata": {},
   "source": [
    "Cars Images"
   ]
  },
  {
   "cell_type": "code",
   "execution_count": 24,
   "metadata": {},
   "outputs": [],
   "source": [
    "url='https://www.google.com/search?q=cars&tbm=isch&ved=2ahUKEwjAusrhvvzxAhXEtksFHdU7BjIQ2-cCegQIABAA&oq=cars&gs_lcp=CgNpbWcQARgAMgQIABBDMgUIABCxAzIFCAAQsQMyBQgAELEDMgUIABCxAzIFCAAQsQMyBQgAELEDMgUIABCxAzIICAAQsQMQgwEyAggAOgQIIxAnOgoIABCxAxCDARBDOgcIABCxAxBDOgcIIxDqAhAnUMmYSVi9r0lgrMZJaAFwAHgAgAH-AYgB8w2SAQUwLjUuNJgBAKABAaoBC2d3cy13aXotaW1nsAEBwAEB&sclient=img&ei=iXD8YIDSMMTtrtoP1feYkAM&bih=657&biw=1366&rlz=1C1CHZL_enIN916IN916'"
   ]
  },
  {
   "cell_type": "code",
   "execution_count": 25,
   "metadata": {},
   "outputs": [
    {
     "name": "stdout",
     "output_type": "stream",
     "text": [
      "cars - Google Search\n"
     ]
    }
   ],
   "source": [
    "r=requests.get(url)\n",
    "soup=BeautifulSoup(r.text,'html.parser')\n",
    "print(soup.title.text)"
   ]
  },
  {
   "cell_type": "code",
   "execution_count": 26,
   "metadata": {
    "scrolled": true
   },
   "outputs": [
    {
     "name": "stdout",
     "output_type": "stream",
     "text": [
      "[<img alt=\"Google\" class=\"kgJEQe\" src=\"/images/branding/searchlogo/1x/googlelogo_desk_heirloom_color_150x55dp.gif\"/>, <img alt=\"\" class=\"t0fcAb\" src=\"https://encrypted-tbn0.gstatic.com/images?q=tbn:ANd9GcSNiBlr5Dmp5FjQsgZizTB1gnPleXgfExedW9_cK5U7NxnjifETgolZhS-fnA&amp;s\"/>, <img alt=\"\" class=\"t0fcAb\" src=\"https://encrypted-tbn0.gstatic.com/images?q=tbn:ANd9GcR1_PK4OX-dtJejm-VuBhigspfQkkTjp7ibUY3gDxrJxL-naBq2wbNcXAgI8EQ&amp;s\"/>, <img alt=\"\" class=\"t0fcAb\" src=\"https://encrypted-tbn0.gstatic.com/images?q=tbn:ANd9GcR2F4t0MfMMkSoUEj94CUPgJuZTcX_QRxvqtXr_vE4RcjkD2I-6s88e9O1qiws&amp;s\"/>, <img alt=\"\" class=\"t0fcAb\" src=\"https://encrypted-tbn0.gstatic.com/images?q=tbn:ANd9GcQi3zkEllvjo7sr_YmhlF7wxsw9KGnIPkQCF_uOUJ9CijgP08cuqKRw-e5IPvo&amp;s\"/>, <img alt=\"\" class=\"t0fcAb\" src=\"https://encrypted-tbn0.gstatic.com/images?q=tbn:ANd9GcTKWUCQSB7We69cin386ksphoPaXvl3ZmbJRPcvvU-6AHP3lUrRqKCh4ECEYQ&amp;s\"/>, <img alt=\"\" class=\"t0fcAb\" src=\"https://encrypted-tbn0.gstatic.com/images?q=tbn:ANd9GcSDSdGYUYyHYOKGhVINnw_H0pvzFkK_l4Kvg_0mkWu5ffmLapnXbcNdWDCrnb8&amp;s\"/>, <img alt=\"\" class=\"t0fcAb\" src=\"https://encrypted-tbn0.gstatic.com/images?q=tbn:ANd9GcQBHQhBtNQ8PklKccNzNBhanVjvg_GqUkvLXp81CeJtix3NVKm7bQEFscJC3A&amp;s\"/>, <img alt=\"\" class=\"t0fcAb\" src=\"https://encrypted-tbn0.gstatic.com/images?q=tbn:ANd9GcTSX2UxZg5mToKwd3ZruMY75AQBW1WiAKMeZw6_fbIpbsVllYmto5VTNHDX5bY&amp;s\"/>, <img alt=\"\" class=\"t0fcAb\" src=\"https://encrypted-tbn0.gstatic.com/images?q=tbn:ANd9GcRoyJJMIRwWrPIgihZ_nyjXStkZ2oXqOYUpu6nlNyDiluXOJHXfUFFK_oAeVeY&amp;s\"/>, <img alt=\"\" class=\"t0fcAb\" src=\"https://encrypted-tbn0.gstatic.com/images?q=tbn:ANd9GcTVzJv7zUBVPDBL4pdePOUSg9ORyqbMWCT-HRC-ik7OGnxmT12kWPLUs8iPew&amp;s\"/>, <img alt=\"\" class=\"t0fcAb\" src=\"https://encrypted-tbn0.gstatic.com/images?q=tbn:ANd9GcRO6t-uPgKF_fdZzvounQr3c1qn33U_FvfpGk0A4ibMJMJULXbimcJg4Luj-uI&amp;s\"/>, <img alt=\"\" class=\"t0fcAb\" src=\"https://encrypted-tbn0.gstatic.com/images?q=tbn:ANd9GcQBYTPKyJSCgtWMtdv1vxWrBHeakj-TIe6YvOfwnMwUfRsYkNKCeGBGdu1zok4&amp;s\"/>, <img alt=\"\" class=\"t0fcAb\" src=\"https://encrypted-tbn0.gstatic.com/images?q=tbn:ANd9GcT7ulrJTQyUyDm8LsRcU_rKJpuXFjlt6TDR1jvQvzOf5GeoohfEgZu7MDVa-NQ&amp;s\"/>, <img alt=\"\" class=\"t0fcAb\" src=\"https://encrypted-tbn0.gstatic.com/images?q=tbn:ANd9GcQbz8TynqXudiI1BZvbDCnVyrHMzAnESy7-h6a2-SJ-CclCZONZtEH3qDwrXQ&amp;s\"/>, <img alt=\"\" class=\"t0fcAb\" src=\"https://encrypted-tbn0.gstatic.com/images?q=tbn:ANd9GcQ8P9PM9WB8mBGeCQhndq9MfwkFU89hSWvxePRAOoyAG0yhjRQuOhT_SguGcA&amp;s\"/>, <img alt=\"\" class=\"t0fcAb\" src=\"https://encrypted-tbn0.gstatic.com/images?q=tbn:ANd9GcQgn4tF7JcQzeiMjKcbJvdTwolFJf6dpEJ4qhK0KTVtbB44janc7Vkk9NR0AA&amp;s\"/>, <img alt=\"\" class=\"t0fcAb\" src=\"https://encrypted-tbn0.gstatic.com/images?q=tbn:ANd9GcST9zD0lWznHtU7faENboDVqn2HulxWopsTGuDvER_0uAUZ1uRugoe_qxJu1jI&amp;s\"/>, <img alt=\"\" class=\"t0fcAb\" src=\"https://encrypted-tbn0.gstatic.com/images?q=tbn:ANd9GcTVCu3rAAl1kvWUhlgMZVWPes-3UThXgPTlDYj4kWdExko4duUc6_IkxUFL7NY&amp;s\"/>, <img alt=\"\" class=\"t0fcAb\" src=\"https://encrypted-tbn0.gstatic.com/images?q=tbn:ANd9GcRnyCYl9AOvcgFp0W8qAGGwmqIGteQZow9ftTF3vsQt8QpvzJXhHn4aFdEHCp0&amp;s\"/>, <img alt=\"\" class=\"t0fcAb\" src=\"https://encrypted-tbn0.gstatic.com/images?q=tbn:ANd9GcTQKbxsBJZDVSqH_bwV-hBKml_sBJxDLCPRRsegZUWNZaciWOO5bsxuUXnXkyQ&amp;s\"/>]\n"
     ]
    }
   ],
   "source": [
    "images=soup.find_all('img')\n",
    "print(images)"
   ]
  },
  {
   "cell_type": "code",
   "execution_count": 27,
   "metadata": {},
   "outputs": [
    {
     "name": "stdout",
     "output_type": "stream",
     "text": [
      "/images/branding/searchlogo/1x/googlelogo_desk_heirloom_color_150x55dp.gif\n",
      "https://encrypted-tbn0.gstatic.com/images?q=tbn:ANd9GcSNiBlr5Dmp5FjQsgZizTB1gnPleXgfExedW9_cK5U7NxnjifETgolZhS-fnA&s\n",
      "https://encrypted-tbn0.gstatic.com/images?q=tbn:ANd9GcR1_PK4OX-dtJejm-VuBhigspfQkkTjp7ibUY3gDxrJxL-naBq2wbNcXAgI8EQ&s\n",
      "https://encrypted-tbn0.gstatic.com/images?q=tbn:ANd9GcR2F4t0MfMMkSoUEj94CUPgJuZTcX_QRxvqtXr_vE4RcjkD2I-6s88e9O1qiws&s\n",
      "https://encrypted-tbn0.gstatic.com/images?q=tbn:ANd9GcQi3zkEllvjo7sr_YmhlF7wxsw9KGnIPkQCF_uOUJ9CijgP08cuqKRw-e5IPvo&s\n",
      "https://encrypted-tbn0.gstatic.com/images?q=tbn:ANd9GcTKWUCQSB7We69cin386ksphoPaXvl3ZmbJRPcvvU-6AHP3lUrRqKCh4ECEYQ&s\n",
      "https://encrypted-tbn0.gstatic.com/images?q=tbn:ANd9GcSDSdGYUYyHYOKGhVINnw_H0pvzFkK_l4Kvg_0mkWu5ffmLapnXbcNdWDCrnb8&s\n",
      "https://encrypted-tbn0.gstatic.com/images?q=tbn:ANd9GcQBHQhBtNQ8PklKccNzNBhanVjvg_GqUkvLXp81CeJtix3NVKm7bQEFscJC3A&s\n",
      "https://encrypted-tbn0.gstatic.com/images?q=tbn:ANd9GcTSX2UxZg5mToKwd3ZruMY75AQBW1WiAKMeZw6_fbIpbsVllYmto5VTNHDX5bY&s\n",
      "https://encrypted-tbn0.gstatic.com/images?q=tbn:ANd9GcRoyJJMIRwWrPIgihZ_nyjXStkZ2oXqOYUpu6nlNyDiluXOJHXfUFFK_oAeVeY&s\n",
      "https://encrypted-tbn0.gstatic.com/images?q=tbn:ANd9GcTVzJv7zUBVPDBL4pdePOUSg9ORyqbMWCT-HRC-ik7OGnxmT12kWPLUs8iPew&s\n",
      "https://encrypted-tbn0.gstatic.com/images?q=tbn:ANd9GcRO6t-uPgKF_fdZzvounQr3c1qn33U_FvfpGk0A4ibMJMJULXbimcJg4Luj-uI&s\n",
      "https://encrypted-tbn0.gstatic.com/images?q=tbn:ANd9GcQBYTPKyJSCgtWMtdv1vxWrBHeakj-TIe6YvOfwnMwUfRsYkNKCeGBGdu1zok4&s\n",
      "https://encrypted-tbn0.gstatic.com/images?q=tbn:ANd9GcT7ulrJTQyUyDm8LsRcU_rKJpuXFjlt6TDR1jvQvzOf5GeoohfEgZu7MDVa-NQ&s\n",
      "https://encrypted-tbn0.gstatic.com/images?q=tbn:ANd9GcQbz8TynqXudiI1BZvbDCnVyrHMzAnESy7-h6a2-SJ-CclCZONZtEH3qDwrXQ&s\n",
      "https://encrypted-tbn0.gstatic.com/images?q=tbn:ANd9GcQ8P9PM9WB8mBGeCQhndq9MfwkFU89hSWvxePRAOoyAG0yhjRQuOhT_SguGcA&s\n",
      "https://encrypted-tbn0.gstatic.com/images?q=tbn:ANd9GcQgn4tF7JcQzeiMjKcbJvdTwolFJf6dpEJ4qhK0KTVtbB44janc7Vkk9NR0AA&s\n",
      "https://encrypted-tbn0.gstatic.com/images?q=tbn:ANd9GcST9zD0lWznHtU7faENboDVqn2HulxWopsTGuDvER_0uAUZ1uRugoe_qxJu1jI&s\n",
      "https://encrypted-tbn0.gstatic.com/images?q=tbn:ANd9GcTVCu3rAAl1kvWUhlgMZVWPes-3UThXgPTlDYj4kWdExko4duUc6_IkxUFL7NY&s\n",
      "https://encrypted-tbn0.gstatic.com/images?q=tbn:ANd9GcRnyCYl9AOvcgFp0W8qAGGwmqIGteQZow9ftTF3vsQt8QpvzJXhHn4aFdEHCp0&s\n",
      "https://encrypted-tbn0.gstatic.com/images?q=tbn:ANd9GcTQKbxsBJZDVSqH_bwV-hBKml_sBJxDLCPRRsegZUWNZaciWOO5bsxuUXnXkyQ&s\n"
     ]
    }
   ],
   "source": [
    "for image in images:\n",
    "    print(image['src'])"
   ]
  },
  {
   "cell_type": "code",
   "execution_count": 28,
   "metadata": {},
   "outputs": [
    {
     "name": "stdout",
     "output_type": "stream",
     "text": [
      "Google /images/branding/searchlogo/1x/googlelogo_desk_heirloom_color_150x55dp.gif\n",
      " https://encrypted-tbn0.gstatic.com/images?q=tbn:ANd9GcSNiBlr5Dmp5FjQsgZizTB1gnPleXgfExedW9_cK5U7NxnjifETgolZhS-fnA&s\n",
      " https://encrypted-tbn0.gstatic.com/images?q=tbn:ANd9GcR1_PK4OX-dtJejm-VuBhigspfQkkTjp7ibUY3gDxrJxL-naBq2wbNcXAgI8EQ&s\n",
      " https://encrypted-tbn0.gstatic.com/images?q=tbn:ANd9GcR2F4t0MfMMkSoUEj94CUPgJuZTcX_QRxvqtXr_vE4RcjkD2I-6s88e9O1qiws&s\n",
      " https://encrypted-tbn0.gstatic.com/images?q=tbn:ANd9GcQi3zkEllvjo7sr_YmhlF7wxsw9KGnIPkQCF_uOUJ9CijgP08cuqKRw-e5IPvo&s\n",
      " https://encrypted-tbn0.gstatic.com/images?q=tbn:ANd9GcTKWUCQSB7We69cin386ksphoPaXvl3ZmbJRPcvvU-6AHP3lUrRqKCh4ECEYQ&s\n",
      " https://encrypted-tbn0.gstatic.com/images?q=tbn:ANd9GcSDSdGYUYyHYOKGhVINnw_H0pvzFkK_l4Kvg_0mkWu5ffmLapnXbcNdWDCrnb8&s\n",
      " https://encrypted-tbn0.gstatic.com/images?q=tbn:ANd9GcQBHQhBtNQ8PklKccNzNBhanVjvg_GqUkvLXp81CeJtix3NVKm7bQEFscJC3A&s\n",
      " https://encrypted-tbn0.gstatic.com/images?q=tbn:ANd9GcTSX2UxZg5mToKwd3ZruMY75AQBW1WiAKMeZw6_fbIpbsVllYmto5VTNHDX5bY&s\n",
      " https://encrypted-tbn0.gstatic.com/images?q=tbn:ANd9GcRoyJJMIRwWrPIgihZ_nyjXStkZ2oXqOYUpu6nlNyDiluXOJHXfUFFK_oAeVeY&s\n",
      " https://encrypted-tbn0.gstatic.com/images?q=tbn:ANd9GcTVzJv7zUBVPDBL4pdePOUSg9ORyqbMWCT-HRC-ik7OGnxmT12kWPLUs8iPew&s\n",
      " https://encrypted-tbn0.gstatic.com/images?q=tbn:ANd9GcRO6t-uPgKF_fdZzvounQr3c1qn33U_FvfpGk0A4ibMJMJULXbimcJg4Luj-uI&s\n",
      " https://encrypted-tbn0.gstatic.com/images?q=tbn:ANd9GcQBYTPKyJSCgtWMtdv1vxWrBHeakj-TIe6YvOfwnMwUfRsYkNKCeGBGdu1zok4&s\n",
      " https://encrypted-tbn0.gstatic.com/images?q=tbn:ANd9GcT7ulrJTQyUyDm8LsRcU_rKJpuXFjlt6TDR1jvQvzOf5GeoohfEgZu7MDVa-NQ&s\n",
      " https://encrypted-tbn0.gstatic.com/images?q=tbn:ANd9GcQbz8TynqXudiI1BZvbDCnVyrHMzAnESy7-h6a2-SJ-CclCZONZtEH3qDwrXQ&s\n",
      " https://encrypted-tbn0.gstatic.com/images?q=tbn:ANd9GcQ8P9PM9WB8mBGeCQhndq9MfwkFU89hSWvxePRAOoyAG0yhjRQuOhT_SguGcA&s\n",
      " https://encrypted-tbn0.gstatic.com/images?q=tbn:ANd9GcQgn4tF7JcQzeiMjKcbJvdTwolFJf6dpEJ4qhK0KTVtbB44janc7Vkk9NR0AA&s\n",
      " https://encrypted-tbn0.gstatic.com/images?q=tbn:ANd9GcST9zD0lWznHtU7faENboDVqn2HulxWopsTGuDvER_0uAUZ1uRugoe_qxJu1jI&s\n",
      " https://encrypted-tbn0.gstatic.com/images?q=tbn:ANd9GcTVCu3rAAl1kvWUhlgMZVWPes-3UThXgPTlDYj4kWdExko4duUc6_IkxUFL7NY&s\n",
      " https://encrypted-tbn0.gstatic.com/images?q=tbn:ANd9GcRnyCYl9AOvcgFp0W8qAGGwmqIGteQZow9ftTF3vsQt8QpvzJXhHn4aFdEHCp0&s\n",
      " https://encrypted-tbn0.gstatic.com/images?q=tbn:ANd9GcTQKbxsBJZDVSqH_bwV-hBKml_sBJxDLCPRRsegZUWNZaciWOO5bsxuUXnXkyQ&s\n"
     ]
    }
   ],
   "source": [
    "for image in images:\n",
    "    name=image['alt']\n",
    "    link=image['src']\n",
    "    print(name,link)"
   ]
  },
  {
   "cell_type": "markdown",
   "metadata": {},
   "source": [
    "Machine Learning Images"
   ]
  },
  {
   "cell_type": "code",
   "execution_count": 29,
   "metadata": {},
   "outputs": [],
   "source": [
    "url='https://www.google.com/search?q=machine+learning&tbm=isch&ved=2ahUKEwjCl_qgw_zxAhW4gUsFHe7hB04Q2-cCegQIABAA&oq=Machine+Learning&gs_lcp=CgNpbWcQARgAMgUIABCxAzIICAAQsQMQgwEyBQgAELEDMgIIADICCAAyCAgAELEDEIMBMgIIADIICAAQsQMQgwEyAggAMgIIADoHCCMQ6gIQJzoECAAQQzoHCAAQsQMQQzoKCAAQsQMQgwEQQ1DtiA9YzOMPYK7wD2gBcAB4AIAB3QKIAaIckgEIMC40LjExLjGYAQGgAQGqAQtnd3Mtd2l6LWltZ7ABAsABAQ&sclient=img&ei=QHX8YML3GriDrtoP7sOf8AQ&bih=657&biw=1366&rlz=1C1CHZL_enIN916IN916'"
   ]
  },
  {
   "cell_type": "code",
   "execution_count": 30,
   "metadata": {},
   "outputs": [
    {
     "name": "stdout",
     "output_type": "stream",
     "text": [
      "machine learning - Google Search\n"
     ]
    }
   ],
   "source": [
    "r=requests.get(url)\n",
    "soup=BeautifulSoup(r.text,'html.parser')\n",
    "print(soup.title.text)"
   ]
  },
  {
   "cell_type": "code",
   "execution_count": 31,
   "metadata": {},
   "outputs": [
    {
     "name": "stdout",
     "output_type": "stream",
     "text": [
      "[<img alt=\"Google\" class=\"kgJEQe\" src=\"/images/branding/searchlogo/1x/googlelogo_desk_heirloom_color_150x55dp.gif\"/>, <img alt=\"\" class=\"t0fcAb\" src=\"https://encrypted-tbn0.gstatic.com/images?q=tbn:ANd9GcS_VpUrDWhmA---OV3wfsiLerTI36tVq-1y-KSxo_0txOzyKGZKVATNhUXTca8&amp;s\"/>, <img alt=\"\" class=\"t0fcAb\" src=\"https://encrypted-tbn0.gstatic.com/images?q=tbn:ANd9GcSbHwMehQwWOd9wL7Ls_32Yn-5fOKUJdM82WanfZFKrZm78LWYLI-BN3PCaLg&amp;s\"/>, <img alt=\"\" class=\"t0fcAb\" src=\"https://encrypted-tbn0.gstatic.com/images?q=tbn:ANd9GcQmzskpH0KLVL2zmJ_WuiCnTkGtRv1m_pfSSTgUxTi8ebCiOwmdsBXcTeDuNzw&amp;s\"/>, <img alt=\"\" class=\"t0fcAb\" src=\"https://encrypted-tbn0.gstatic.com/images?q=tbn:ANd9GcTpHIlXhhSH-ZfUz1KxLMPQWI5xTNoVgfGxBjYWSx33Wk8rK9guD0A_3QFiRw&amp;s\"/>, <img alt=\"\" class=\"t0fcAb\" src=\"https://encrypted-tbn0.gstatic.com/images?q=tbn:ANd9GcTjg2_bayjqvVM-Bs_gWtJmyTME7FAaYNf0QaQPsvhxrFGQZybjC_Rzczr8cBE&amp;s\"/>, <img alt=\"\" class=\"t0fcAb\" src=\"https://encrypted-tbn0.gstatic.com/images?q=tbn:ANd9GcSXlqEUxGBk0PF0T1PSDyAtN42o275_7QjB5VUO13d5-CD22Lkqcajl88RDTRE&amp;s\"/>, <img alt=\"\" class=\"t0fcAb\" src=\"https://encrypted-tbn0.gstatic.com/images?q=tbn:ANd9GcTR3UcseYMwmctN-bCFmB0UOXA-rTs56eO6vkCSb5BTcNYidiHECligGHu2QQ&amp;s\"/>, <img alt=\"\" class=\"t0fcAb\" src=\"https://encrypted-tbn0.gstatic.com/images?q=tbn:ANd9GcQI78g93w0X9xrKLd8VzOC8WR3MxhIeOcGqEqGExCil0apeR82Yn0GSe06xNA&amp;s\"/>, <img alt=\"\" class=\"t0fcAb\" src=\"https://encrypted-tbn0.gstatic.com/images?q=tbn:ANd9GcSCeRiA_W1qaJNz46A9-sEfHs6MQDKGi07WiqDkVK9s8H3eiyG0t67ePk9cET8&amp;s\"/>, <img alt=\"\" class=\"t0fcAb\" src=\"https://encrypted-tbn0.gstatic.com/images?q=tbn:ANd9GcQ9esHeLyzhEW__HIFw5zAklKUUksvU0Dv55ReDnNaJWOUhTloQQVETc_ePxVs&amp;s\"/>, <img alt=\"\" class=\"t0fcAb\" src=\"https://encrypted-tbn0.gstatic.com/images?q=tbn:ANd9GcS5MZuwNvpZH7FExdKNN8ZmE_frFoQ9LKpDrHlVgk4A6Ve25TFGgkTj05w_8w&amp;s\"/>, <img alt=\"\" class=\"t0fcAb\" src=\"https://encrypted-tbn0.gstatic.com/images?q=tbn:ANd9GcRlx8mbpqfaG_a2UL_m7kzWSnRf9sJGw7WZzFYOtLi5KS5gEcf1Sx9sVZNpmA&amp;s\"/>, <img alt=\"\" class=\"t0fcAb\" src=\"https://encrypted-tbn0.gstatic.com/images?q=tbn:ANd9GcTO1OoUhYl7toP1QviitAhHoohmMgsyuaIJKDQmuWgtcEqJQqEIfURFimkjJKI&amp;s\"/>, <img alt=\"\" class=\"t0fcAb\" src=\"https://encrypted-tbn0.gstatic.com/images?q=tbn:ANd9GcTnaOxZYSo80XcsCwo-Tc79ap_ex-p1y_4LAeAGHk6zD6Buk5pqx9G8Q7AcRQ&amp;s\"/>, <img alt=\"\" class=\"t0fcAb\" src=\"https://encrypted-tbn0.gstatic.com/images?q=tbn:ANd9GcQgPoHkDc29ih90vlA5r7MDvAZt9aWMgjUMcUXkLH5q1j65ikT0y9lg39taZA&amp;s\"/>, <img alt=\"\" class=\"t0fcAb\" src=\"https://encrypted-tbn0.gstatic.com/images?q=tbn:ANd9GcStCmCSfR_KFc3a8PWNyEJCgl9C5LMoqojYtwC6GcHng75nvT74xqf2eZXQHcE&amp;s\"/>, <img alt=\"\" class=\"t0fcAb\" src=\"https://encrypted-tbn0.gstatic.com/images?q=tbn:ANd9GcQycpW9_y3qUudyoGY8r3X5ud7UaZchX6gAzA2rt3lCd7iU3t4yRQciGPbQmFY&amp;s\"/>, <img alt=\"\" class=\"t0fcAb\" src=\"https://encrypted-tbn0.gstatic.com/images?q=tbn:ANd9GcRWetLaaY0EdpzZ203bFqzzlVFiUxyhpARiuo75rnqUlhysvVpcHaqklirk9Wk&amp;s\"/>, <img alt=\"\" class=\"t0fcAb\" src=\"https://encrypted-tbn0.gstatic.com/images?q=tbn:ANd9GcQnfHxqaPl9r5QKwG1LceAXkHKGa03ZWyS-J5qi3Lqatsntr0W7LWfMZSvxKA&amp;s\"/>, <img alt=\"\" class=\"t0fcAb\" src=\"https://encrypted-tbn0.gstatic.com/images?q=tbn:ANd9GcQZ6GVbkcDmg2f8m5WvBORQ23HrBhI3JKBZTCDPZPVbh33_oNZZkb0zQNhJ&amp;s\"/>]\n"
     ]
    }
   ],
   "source": [
    "images=soup.find_all('img')\n",
    "print(images)"
   ]
  },
  {
   "cell_type": "code",
   "execution_count": 32,
   "metadata": {},
   "outputs": [
    {
     "name": "stdout",
     "output_type": "stream",
     "text": [
      "/images/branding/searchlogo/1x/googlelogo_desk_heirloom_color_150x55dp.gif\n",
      "https://encrypted-tbn0.gstatic.com/images?q=tbn:ANd9GcS_VpUrDWhmA---OV3wfsiLerTI36tVq-1y-KSxo_0txOzyKGZKVATNhUXTca8&s\n",
      "https://encrypted-tbn0.gstatic.com/images?q=tbn:ANd9GcSbHwMehQwWOd9wL7Ls_32Yn-5fOKUJdM82WanfZFKrZm78LWYLI-BN3PCaLg&s\n",
      "https://encrypted-tbn0.gstatic.com/images?q=tbn:ANd9GcQmzskpH0KLVL2zmJ_WuiCnTkGtRv1m_pfSSTgUxTi8ebCiOwmdsBXcTeDuNzw&s\n",
      "https://encrypted-tbn0.gstatic.com/images?q=tbn:ANd9GcTpHIlXhhSH-ZfUz1KxLMPQWI5xTNoVgfGxBjYWSx33Wk8rK9guD0A_3QFiRw&s\n",
      "https://encrypted-tbn0.gstatic.com/images?q=tbn:ANd9GcTjg2_bayjqvVM-Bs_gWtJmyTME7FAaYNf0QaQPsvhxrFGQZybjC_Rzczr8cBE&s\n",
      "https://encrypted-tbn0.gstatic.com/images?q=tbn:ANd9GcSXlqEUxGBk0PF0T1PSDyAtN42o275_7QjB5VUO13d5-CD22Lkqcajl88RDTRE&s\n",
      "https://encrypted-tbn0.gstatic.com/images?q=tbn:ANd9GcTR3UcseYMwmctN-bCFmB0UOXA-rTs56eO6vkCSb5BTcNYidiHECligGHu2QQ&s\n",
      "https://encrypted-tbn0.gstatic.com/images?q=tbn:ANd9GcQI78g93w0X9xrKLd8VzOC8WR3MxhIeOcGqEqGExCil0apeR82Yn0GSe06xNA&s\n",
      "https://encrypted-tbn0.gstatic.com/images?q=tbn:ANd9GcSCeRiA_W1qaJNz46A9-sEfHs6MQDKGi07WiqDkVK9s8H3eiyG0t67ePk9cET8&s\n",
      "https://encrypted-tbn0.gstatic.com/images?q=tbn:ANd9GcQ9esHeLyzhEW__HIFw5zAklKUUksvU0Dv55ReDnNaJWOUhTloQQVETc_ePxVs&s\n",
      "https://encrypted-tbn0.gstatic.com/images?q=tbn:ANd9GcS5MZuwNvpZH7FExdKNN8ZmE_frFoQ9LKpDrHlVgk4A6Ve25TFGgkTj05w_8w&s\n",
      "https://encrypted-tbn0.gstatic.com/images?q=tbn:ANd9GcRlx8mbpqfaG_a2UL_m7kzWSnRf9sJGw7WZzFYOtLi5KS5gEcf1Sx9sVZNpmA&s\n",
      "https://encrypted-tbn0.gstatic.com/images?q=tbn:ANd9GcTO1OoUhYl7toP1QviitAhHoohmMgsyuaIJKDQmuWgtcEqJQqEIfURFimkjJKI&s\n",
      "https://encrypted-tbn0.gstatic.com/images?q=tbn:ANd9GcTnaOxZYSo80XcsCwo-Tc79ap_ex-p1y_4LAeAGHk6zD6Buk5pqx9G8Q7AcRQ&s\n",
      "https://encrypted-tbn0.gstatic.com/images?q=tbn:ANd9GcQgPoHkDc29ih90vlA5r7MDvAZt9aWMgjUMcUXkLH5q1j65ikT0y9lg39taZA&s\n",
      "https://encrypted-tbn0.gstatic.com/images?q=tbn:ANd9GcStCmCSfR_KFc3a8PWNyEJCgl9C5LMoqojYtwC6GcHng75nvT74xqf2eZXQHcE&s\n",
      "https://encrypted-tbn0.gstatic.com/images?q=tbn:ANd9GcQycpW9_y3qUudyoGY8r3X5ud7UaZchX6gAzA2rt3lCd7iU3t4yRQciGPbQmFY&s\n",
      "https://encrypted-tbn0.gstatic.com/images?q=tbn:ANd9GcRWetLaaY0EdpzZ203bFqzzlVFiUxyhpARiuo75rnqUlhysvVpcHaqklirk9Wk&s\n",
      "https://encrypted-tbn0.gstatic.com/images?q=tbn:ANd9GcQnfHxqaPl9r5QKwG1LceAXkHKGa03ZWyS-J5qi3Lqatsntr0W7LWfMZSvxKA&s\n",
      "https://encrypted-tbn0.gstatic.com/images?q=tbn:ANd9GcQZ6GVbkcDmg2f8m5WvBORQ23HrBhI3JKBZTCDPZPVbh33_oNZZkb0zQNhJ&s\n"
     ]
    }
   ],
   "source": [
    "for image in images:\n",
    "    print(image['src'])"
   ]
  },
  {
   "cell_type": "code",
   "execution_count": 33,
   "metadata": {},
   "outputs": [
    {
     "name": "stdout",
     "output_type": "stream",
     "text": [
      "Google /images/branding/searchlogo/1x/googlelogo_desk_heirloom_color_150x55dp.gif\n",
      " https://encrypted-tbn0.gstatic.com/images?q=tbn:ANd9GcS_VpUrDWhmA---OV3wfsiLerTI36tVq-1y-KSxo_0txOzyKGZKVATNhUXTca8&s\n",
      " https://encrypted-tbn0.gstatic.com/images?q=tbn:ANd9GcSbHwMehQwWOd9wL7Ls_32Yn-5fOKUJdM82WanfZFKrZm78LWYLI-BN3PCaLg&s\n",
      " https://encrypted-tbn0.gstatic.com/images?q=tbn:ANd9GcQmzskpH0KLVL2zmJ_WuiCnTkGtRv1m_pfSSTgUxTi8ebCiOwmdsBXcTeDuNzw&s\n",
      " https://encrypted-tbn0.gstatic.com/images?q=tbn:ANd9GcTpHIlXhhSH-ZfUz1KxLMPQWI5xTNoVgfGxBjYWSx33Wk8rK9guD0A_3QFiRw&s\n",
      " https://encrypted-tbn0.gstatic.com/images?q=tbn:ANd9GcTjg2_bayjqvVM-Bs_gWtJmyTME7FAaYNf0QaQPsvhxrFGQZybjC_Rzczr8cBE&s\n",
      " https://encrypted-tbn0.gstatic.com/images?q=tbn:ANd9GcSXlqEUxGBk0PF0T1PSDyAtN42o275_7QjB5VUO13d5-CD22Lkqcajl88RDTRE&s\n",
      " https://encrypted-tbn0.gstatic.com/images?q=tbn:ANd9GcTR3UcseYMwmctN-bCFmB0UOXA-rTs56eO6vkCSb5BTcNYidiHECligGHu2QQ&s\n",
      " https://encrypted-tbn0.gstatic.com/images?q=tbn:ANd9GcQI78g93w0X9xrKLd8VzOC8WR3MxhIeOcGqEqGExCil0apeR82Yn0GSe06xNA&s\n",
      " https://encrypted-tbn0.gstatic.com/images?q=tbn:ANd9GcSCeRiA_W1qaJNz46A9-sEfHs6MQDKGi07WiqDkVK9s8H3eiyG0t67ePk9cET8&s\n",
      " https://encrypted-tbn0.gstatic.com/images?q=tbn:ANd9GcQ9esHeLyzhEW__HIFw5zAklKUUksvU0Dv55ReDnNaJWOUhTloQQVETc_ePxVs&s\n",
      " https://encrypted-tbn0.gstatic.com/images?q=tbn:ANd9GcS5MZuwNvpZH7FExdKNN8ZmE_frFoQ9LKpDrHlVgk4A6Ve25TFGgkTj05w_8w&s\n",
      " https://encrypted-tbn0.gstatic.com/images?q=tbn:ANd9GcRlx8mbpqfaG_a2UL_m7kzWSnRf9sJGw7WZzFYOtLi5KS5gEcf1Sx9sVZNpmA&s\n",
      " https://encrypted-tbn0.gstatic.com/images?q=tbn:ANd9GcTO1OoUhYl7toP1QviitAhHoohmMgsyuaIJKDQmuWgtcEqJQqEIfURFimkjJKI&s\n",
      " https://encrypted-tbn0.gstatic.com/images?q=tbn:ANd9GcTnaOxZYSo80XcsCwo-Tc79ap_ex-p1y_4LAeAGHk6zD6Buk5pqx9G8Q7AcRQ&s\n",
      " https://encrypted-tbn0.gstatic.com/images?q=tbn:ANd9GcQgPoHkDc29ih90vlA5r7MDvAZt9aWMgjUMcUXkLH5q1j65ikT0y9lg39taZA&s\n",
      " https://encrypted-tbn0.gstatic.com/images?q=tbn:ANd9GcStCmCSfR_KFc3a8PWNyEJCgl9C5LMoqojYtwC6GcHng75nvT74xqf2eZXQHcE&s\n",
      " https://encrypted-tbn0.gstatic.com/images?q=tbn:ANd9GcQycpW9_y3qUudyoGY8r3X5ud7UaZchX6gAzA2rt3lCd7iU3t4yRQciGPbQmFY&s\n",
      " https://encrypted-tbn0.gstatic.com/images?q=tbn:ANd9GcRWetLaaY0EdpzZ203bFqzzlVFiUxyhpARiuo75rnqUlhysvVpcHaqklirk9Wk&s\n",
      " https://encrypted-tbn0.gstatic.com/images?q=tbn:ANd9GcQnfHxqaPl9r5QKwG1LceAXkHKGa03ZWyS-J5qi3Lqatsntr0W7LWfMZSvxKA&s\n",
      " https://encrypted-tbn0.gstatic.com/images?q=tbn:ANd9GcQZ6GVbkcDmg2f8m5WvBORQ23HrBhI3JKBZTCDPZPVbh33_oNZZkb0zQNhJ&s\n"
     ]
    }
   ],
   "source": [
    "for image in images:\n",
    "    name=image['alt']\n",
    "    link=image['src']\n",
    "    print(name,link)"
   ]
  },
  {
   "cell_type": "code",
   "execution_count": null,
   "metadata": {},
   "outputs": [],
   "source": []
  }
 ],
 "metadata": {
  "kernelspec": {
   "display_name": "Python 3",
   "language": "python",
   "name": "python3"
  },
  "language_info": {
   "codemirror_mode": {
    "name": "ipython",
    "version": 3
   },
   "file_extension": ".py",
   "mimetype": "text/x-python",
   "name": "python",
   "nbconvert_exporter": "python",
   "pygments_lexer": "ipython3",
   "version": "3.8.5"
  }
 },
 "nbformat": 4,
 "nbformat_minor": 4
}

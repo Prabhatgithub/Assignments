{
 "cells": [
  {
   "cell_type": "code",
   "execution_count": 1,
   "id": "4821982b",
   "metadata": {},
   "outputs": [],
   "source": [
    "import selenium\n",
    "import pandas as pd\n",
    "from selenium import webdriver\n",
    "from bs4 import BeautifulSoup\n",
    "from selenium.common.exceptions import StaleElementReferenceException, NoSuchElementException,ElementNotInteractableException"
   ]
  },
  {
   "cell_type": "code",
   "execution_count": 2,
   "id": "28027a8c",
   "metadata": {},
   "outputs": [],
   "source": [
    "driver=webdriver.Chrome(r\"C:\\Users\\DELL\\Downloads\\chromedriver_win32\\chromedriver.exe\")"
   ]
  },
  {
   "cell_type": "code",
   "execution_count": 3,
   "id": "6ac1c4ee",
   "metadata": {},
   "outputs": [],
   "source": [
    "url='https://github.com/ '\n",
    "driver.get(url)"
   ]
  },
  {
   "cell_type": "code",
   "execution_count": 4,
   "id": "964f1a80",
   "metadata": {},
   "outputs": [],
   "source": [
    "explore=driver.find_element_by_xpath(\"//ul[@class='list-style-none mb-3']/li[3]/a\")\n",
    "driver.get(explore.get_attribute('href'))"
   ]
  },
  {
   "cell_type": "code",
   "execution_count": 8,
   "id": "f51b8db4",
   "metadata": {},
   "outputs": [
    {
     "data": {
      "text/plain": [
       "[<selenium.webdriver.remote.webelement.WebElement (session=\"d3942f50ccacaa8c390c2495cf27c77e\", element=\"d19be575-f464-4c60-8e7f-8c0047f424be\")>,\n",
       " <selenium.webdriver.remote.webelement.WebElement (session=\"d3942f50ccacaa8c390c2495cf27c77e\", element=\"2e47833d-fd58-46db-a463-a15b4569cbff\")>,\n",
       " <selenium.webdriver.remote.webelement.WebElement (session=\"d3942f50ccacaa8c390c2495cf27c77e\", element=\"3b9bb72d-4c5f-42ee-90bd-2fe34260845e\")>,\n",
       " <selenium.webdriver.remote.webelement.WebElement (session=\"d3942f50ccacaa8c390c2495cf27c77e\", element=\"805e2550-55e3-41ef-b70f-d65574a78c61\")>,\n",
       " <selenium.webdriver.remote.webelement.WebElement (session=\"d3942f50ccacaa8c390c2495cf27c77e\", element=\"380c0c75-0b9f-4ec2-8a42-470a9346fbcb\")>,\n",
       " <selenium.webdriver.remote.webelement.WebElement (session=\"d3942f50ccacaa8c390c2495cf27c77e\", element=\"7cd87e24-36ac-435d-82e9-7199bb4694c3\")>,\n",
       " <selenium.webdriver.remote.webelement.WebElement (session=\"d3942f50ccacaa8c390c2495cf27c77e\", element=\"b9053e3f-21e4-41c5-b88e-fc734f0e7fce\")>,\n",
       " <selenium.webdriver.remote.webelement.WebElement (session=\"d3942f50ccacaa8c390c2495cf27c77e\", element=\"b784b6d6-244d-4bf7-a064-960db2eeec3a\")>,\n",
       " <selenium.webdriver.remote.webelement.WebElement (session=\"d3942f50ccacaa8c390c2495cf27c77e\", element=\"3ac34224-7477-4669-addd-c7c93574abd2\")>,\n",
       " <selenium.webdriver.remote.webelement.WebElement (session=\"d3942f50ccacaa8c390c2495cf27c77e\", element=\"cbf91f0a-ba9d-4c81-9626-f2fd01560230\")>,\n",
       " <selenium.webdriver.remote.webelement.WebElement (session=\"d3942f50ccacaa8c390c2495cf27c77e\", element=\"06d2dc35-10bd-426a-a4f4-cea2a777c1b8\")>,\n",
       " <selenium.webdriver.remote.webelement.WebElement (session=\"d3942f50ccacaa8c390c2495cf27c77e\", element=\"609e010f-61d7-49b1-91ac-17a0b5083b10\")>,\n",
       " <selenium.webdriver.remote.webelement.WebElement (session=\"d3942f50ccacaa8c390c2495cf27c77e\", element=\"7f8794c8-fa03-4f61-8580-8dcffe15deff\")>,\n",
       " <selenium.webdriver.remote.webelement.WebElement (session=\"d3942f50ccacaa8c390c2495cf27c77e\", element=\"2ad59e8b-94e9-4e2e-9201-bbc28dd8c6a5\")>,\n",
       " <selenium.webdriver.remote.webelement.WebElement (session=\"d3942f50ccacaa8c390c2495cf27c77e\", element=\"9b03dbef-f4da-4fb7-9b74-a963131d11d8\")>,\n",
       " <selenium.webdriver.remote.webelement.WebElement (session=\"d3942f50ccacaa8c390c2495cf27c77e\", element=\"d97214bf-403e-4b96-8b55-2d6cd0647747\")>,\n",
       " <selenium.webdriver.remote.webelement.WebElement (session=\"d3942f50ccacaa8c390c2495cf27c77e\", element=\"8268543d-3c0a-4f12-b1d8-81ae1841c874\")>,\n",
       " <selenium.webdriver.remote.webelement.WebElement (session=\"d3942f50ccacaa8c390c2495cf27c77e\", element=\"c2ba6387-3c3f-4c56-b983-faa7f7703d76\")>,\n",
       " <selenium.webdriver.remote.webelement.WebElement (session=\"d3942f50ccacaa8c390c2495cf27c77e\", element=\"b12821d2-2b69-41de-af7b-a71ca9a4ba67\")>,\n",
       " <selenium.webdriver.remote.webelement.WebElement (session=\"d3942f50ccacaa8c390c2495cf27c77e\", element=\"716d8e42-0437-49cc-a0b4-e8be104a3e49\")>,\n",
       " <selenium.webdriver.remote.webelement.WebElement (session=\"d3942f50ccacaa8c390c2495cf27c77e\", element=\"f33b37b0-2f5c-41db-9f25-5f60411019e1\")>,\n",
       " <selenium.webdriver.remote.webelement.WebElement (session=\"d3942f50ccacaa8c390c2495cf27c77e\", element=\"6cb2ba62-a49a-4f21-b3d0-2df1ccabc123\")>,\n",
       " <selenium.webdriver.remote.webelement.WebElement (session=\"d3942f50ccacaa8c390c2495cf27c77e\", element=\"ec2f6810-e555-4f7b-b356-f09c83ece0fc\")>,\n",
       " <selenium.webdriver.remote.webelement.WebElement (session=\"d3942f50ccacaa8c390c2495cf27c77e\", element=\"73010fe2-1da2-4096-a0ae-21d280ec4663\")>,\n",
       " <selenium.webdriver.remote.webelement.WebElement (session=\"d3942f50ccacaa8c390c2495cf27c77e\", element=\"3dcdf8f8-6d18-4363-ba2f-cb171c104a1a\")>]"
      ]
     },
     "execution_count": 8,
     "metadata": {},
     "output_type": "execute_result"
    }
   ],
   "source": [
    "Repositories_=driver.find_elements_by_xpath(\"//h1[@class='h3 lh-condensed']\")\n",
    "Repositories_"
   ]
  },
  {
   "cell_type": "code",
   "execution_count": 11,
   "id": "3a5a8083",
   "metadata": {},
   "outputs": [
    {
     "data": {
      "text/plain": [
       "['badtuxx / DescomplicandoDocker',\n",
       " 'RPCS3 / rpcs3',\n",
       " 'badtuxx / DescomplicandoKubernetes',\n",
       " 'nadimkobeissi / appleprivacyletter',\n",
       " 'Azure / azure-sdk-for-net',\n",
       " 'JetBrains / compose-jb',\n",
       " 'commaai / openpilot',\n",
       " 'mrlt8 / docker-wyze-bridge',\n",
       " 'FlaxEngine / FlaxEngine',\n",
       " 'yuzu-emu / yuzu',\n",
       " 'kingoflolz / mesh-transformer-jax',\n",
       " 'datafuselabs / datafuse',\n",
       " 'kubernetes / kompose',\n",
       " 'Qv2ray / Qv2ray',\n",
       " 'willmcgugan / textual',\n",
       " 'yifeikong / reverse-interview-zh',\n",
       " 'mszoek / airyx',\n",
       " 'VoronDesign / Voron-2',\n",
       " 'microsoft / gctoolkit',\n",
       " 'leonardomso / 33-js-concepts',\n",
       " 'abbodi1406 / KMS_VL_ALL_AIO',\n",
       " 'microsoft / PowerToys',\n",
       " 'arendst / Tasmota',\n",
       " 'trufflesuite / truffle',\n",
       " 'codebasics / py']"
      ]
     },
     "execution_count": 11,
     "metadata": {},
     "output_type": "execute_result"
    }
   ],
   "source": [
    "Repositories_list=[]\n",
    "for i in Repositories_:\n",
    "    Repositories_list.append(i.text)\n",
    "Repositories_list"
   ]
  },
  {
   "cell_type": "code",
   "execution_count": 13,
   "id": "8763edd3",
   "metadata": {},
   "outputs": [
    {
     "data": {
      "text/plain": [
       "[<selenium.webdriver.remote.webelement.WebElement (session=\"d3942f50ccacaa8c390c2495cf27c77e\", element=\"0b625a15-e182-4f90-8327-5a69d29a76f6\")>,\n",
       " <selenium.webdriver.remote.webelement.WebElement (session=\"d3942f50ccacaa8c390c2495cf27c77e\", element=\"7a5df32d-d5da-4cad-b929-6709bca6a7ea\")>,\n",
       " <selenium.webdriver.remote.webelement.WebElement (session=\"d3942f50ccacaa8c390c2495cf27c77e\", element=\"119ce760-006b-4c88-a48d-21fc1bd62b0f\")>,\n",
       " <selenium.webdriver.remote.webelement.WebElement (session=\"d3942f50ccacaa8c390c2495cf27c77e\", element=\"c115ab9b-ac2e-4f3c-a60d-bd10bc00bbe6\")>,\n",
       " <selenium.webdriver.remote.webelement.WebElement (session=\"d3942f50ccacaa8c390c2495cf27c77e\", element=\"ea81503a-5fc5-4298-9c53-3e29aa9c83fd\")>,\n",
       " <selenium.webdriver.remote.webelement.WebElement (session=\"d3942f50ccacaa8c390c2495cf27c77e\", element=\"188cbefa-9310-4f66-8348-04cba1b0e539\")>,\n",
       " <selenium.webdriver.remote.webelement.WebElement (session=\"d3942f50ccacaa8c390c2495cf27c77e\", element=\"e3f31f92-cf4c-4994-b3a1-6ddf643a2210\")>,\n",
       " <selenium.webdriver.remote.webelement.WebElement (session=\"d3942f50ccacaa8c390c2495cf27c77e\", element=\"511969ab-be82-47ca-b9a7-8759c8d66e39\")>,\n",
       " <selenium.webdriver.remote.webelement.WebElement (session=\"d3942f50ccacaa8c390c2495cf27c77e\", element=\"c0ce8736-4984-4212-943a-53296ea89073\")>,\n",
       " <selenium.webdriver.remote.webelement.WebElement (session=\"d3942f50ccacaa8c390c2495cf27c77e\", element=\"4d13b892-1576-4319-b40e-6772ff7818fe\")>,\n",
       " <selenium.webdriver.remote.webelement.WebElement (session=\"d3942f50ccacaa8c390c2495cf27c77e\", element=\"2baf182c-5fc8-46aa-bec3-58c1bff48f9a\")>,\n",
       " <selenium.webdriver.remote.webelement.WebElement (session=\"d3942f50ccacaa8c390c2495cf27c77e\", element=\"7ba8c9a7-a2a1-42e8-89c2-f1f99a08d543\")>,\n",
       " <selenium.webdriver.remote.webelement.WebElement (session=\"d3942f50ccacaa8c390c2495cf27c77e\", element=\"e84a5962-dc96-4d11-a0c4-f2538d995c54\")>,\n",
       " <selenium.webdriver.remote.webelement.WebElement (session=\"d3942f50ccacaa8c390c2495cf27c77e\", element=\"175ec746-f922-4846-9379-b2a88f1dd050\")>,\n",
       " <selenium.webdriver.remote.webelement.WebElement (session=\"d3942f50ccacaa8c390c2495cf27c77e\", element=\"890ef95f-101b-4e25-9bdb-8078b664bfd0\")>,\n",
       " <selenium.webdriver.remote.webelement.WebElement (session=\"d3942f50ccacaa8c390c2495cf27c77e\", element=\"9af6290f-50cc-48db-b03c-da491065c77d\")>,\n",
       " <selenium.webdriver.remote.webelement.WebElement (session=\"d3942f50ccacaa8c390c2495cf27c77e\", element=\"b5a7ca85-0fb1-4b22-b22b-4642df2f7732\")>,\n",
       " <selenium.webdriver.remote.webelement.WebElement (session=\"d3942f50ccacaa8c390c2495cf27c77e\", element=\"5e36ffac-dd7c-44d9-ac8a-fbecf675a85b\")>,\n",
       " <selenium.webdriver.remote.webelement.WebElement (session=\"d3942f50ccacaa8c390c2495cf27c77e\", element=\"de8f570f-d5db-4ce5-bf0e-cdac64fdffbd\")>,\n",
       " <selenium.webdriver.remote.webelement.WebElement (session=\"d3942f50ccacaa8c390c2495cf27c77e\", element=\"f30ae485-d571-4cdd-bf83-a313e655c805\")>,\n",
       " <selenium.webdriver.remote.webelement.WebElement (session=\"d3942f50ccacaa8c390c2495cf27c77e\", element=\"a1cb45d9-398d-4d38-ae80-50456f69a05c\")>,\n",
       " <selenium.webdriver.remote.webelement.WebElement (session=\"d3942f50ccacaa8c390c2495cf27c77e\", element=\"62a5dc73-b4c6-46ab-a7bb-a607d5234629\")>,\n",
       " <selenium.webdriver.remote.webelement.WebElement (session=\"d3942f50ccacaa8c390c2495cf27c77e\", element=\"aeadb1f9-8132-47cd-a8c4-25578d80239c\")>,\n",
       " <selenium.webdriver.remote.webelement.WebElement (session=\"d3942f50ccacaa8c390c2495cf27c77e\", element=\"be802bb0-405d-470b-a200-70644702d0ae\")>]"
      ]
     },
     "execution_count": 13,
     "metadata": {},
     "output_type": "execute_result"
    }
   ],
   "source": [
    "description_=driver.find_elements_by_xpath(\"//p[@class='col-9 color-text-secondary my-1 pr-4']\")\n",
    "description_"
   ]
  },
  {
   "cell_type": "code",
   "execution_count": 14,
   "id": "aa67f0b9",
   "metadata": {},
   "outputs": [
    {
     "data": {
      "text/plain": [
       "['Descomplicando o Docker, o livro.',\n",
       " 'PS3 emulator/debugger',\n",
       " \"An open letter against Apple's new privacy-invasive client-side content scanning.\",\n",
       " 'This repository is for active development of the Azure SDK for .NET. For consumers of the SDK we recommend visiting our public developer docs at https://docs.microsoft.com/en-us/dotnet/azure/ or our versioned developer docs at https://azure.github.io/azure-sdk-for-net.',\n",
       " 'Jetpack Compose for Desktop and Web, a modern UI framework for Kotlin that makes building performant and beautiful user interfaces easy and enjoyable.',\n",
       " 'openpilot is an open source driver assistance system. openpilot performs the functions of Automated Lane Centering and Adaptive Cruise Control for over 100 supported car makes and models.',\n",
       " 'RTMP/RTSP/HLS bridge for Wyze cams in a docker container',\n",
       " 'Flax Engine – multi-platform 3D game engine',\n",
       " 'Nintendo Switch Emulator',\n",
       " 'Model parallel transformers in JAX and Haiku',\n",
       " 'A Modern Real-Time Data Processing & Analytics DBMS with Cloud-Native Architecture, built to make the Data Cloud easy',\n",
       " 'Go from Docker Compose to Kubernetes',\n",
       " '⭐ Linux / Windows / macOS 跨平台 V2Ray 客户端 | 支持 VMess / VLESS / SSR / Trojan / Trojan-Go / NaiveProxy / HTTP / HTTPS / SOCKS5 | 使用 C++ / Qt 开发 | 可拓展插件式设计 ⭐',\n",
       " 'Textual is a TUI (Text User Interface) framework for Python inspired by modern web development.',\n",
       " '技术面试最后反问面试官的话',\n",
       " 'A BSD-based OS project that aims to provide an experience like and some compatibility with macOS',\n",
       " 'Voron 2 CoreXY 3D Printer design',\n",
       " 'Tool for parsing GC logs',\n",
       " '📜 33 JavaScript concepts every developer should know.',\n",
       " 'Smart Activation Script',\n",
       " 'Windows system utilities to maximize productivity',\n",
       " 'Alternative firmware for ESP8266 with easy configuration using webUI, OTA updates, automation using timers or rules, expandability and entirely local control over MQTT, HTTP, Serial or KNX. Full documentation at',\n",
       " 'A tool for developing smart contracts. Crafted with the finest cacaos.',\n",
       " 'Repository to store sample python programs for python learning']"
      ]
     },
     "execution_count": 14,
     "metadata": {},
     "output_type": "execute_result"
    }
   ],
   "source": [
    "description_list=[]\n",
    "for i in description_:\n",
    "    description_list.append(i.text)\n",
    "description_list"
   ]
  },
  {
   "cell_type": "code",
   "execution_count": 20,
   "id": "66bc4a61",
   "metadata": {},
   "outputs": [
    {
     "data": {
      "text/plain": [
       "[<selenium.webdriver.remote.webelement.WebElement (session=\"d3942f50ccacaa8c390c2495cf27c77e\", element=\"b436d8c1-79dc-494d-b518-667bcd3ed3a1\")>,\n",
       " <selenium.webdriver.remote.webelement.WebElement (session=\"d3942f50ccacaa8c390c2495cf27c77e\", element=\"f6fe4735-b71d-4239-8ba5-2db94766303c\")>,\n",
       " <selenium.webdriver.remote.webelement.WebElement (session=\"d3942f50ccacaa8c390c2495cf27c77e\", element=\"de9dffb6-c063-476a-a77b-96c157fea543\")>,\n",
       " <selenium.webdriver.remote.webelement.WebElement (session=\"d3942f50ccacaa8c390c2495cf27c77e\", element=\"74f0b917-401c-4d3f-bb15-35e6ac77f936\")>,\n",
       " <selenium.webdriver.remote.webelement.WebElement (session=\"d3942f50ccacaa8c390c2495cf27c77e\", element=\"1d7911b9-181d-4f79-91e7-7fdff130c339\")>,\n",
       " <selenium.webdriver.remote.webelement.WebElement (session=\"d3942f50ccacaa8c390c2495cf27c77e\", element=\"ce9ee2a2-6f16-4be9-98bb-bea734d8f3ff\")>,\n",
       " <selenium.webdriver.remote.webelement.WebElement (session=\"d3942f50ccacaa8c390c2495cf27c77e\", element=\"fdb44774-1f18-4e9e-b5e9-04de0826c7ba\")>,\n",
       " <selenium.webdriver.remote.webelement.WebElement (session=\"d3942f50ccacaa8c390c2495cf27c77e\", element=\"66312662-0835-414e-8e30-31d26e95a714\")>,\n",
       " <selenium.webdriver.remote.webelement.WebElement (session=\"d3942f50ccacaa8c390c2495cf27c77e\", element=\"d2f47819-ed97-4654-99aa-2eb2080d717c\")>,\n",
       " <selenium.webdriver.remote.webelement.WebElement (session=\"d3942f50ccacaa8c390c2495cf27c77e\", element=\"40a944ac-621f-4309-a0ec-0564cfe47ac3\")>,\n",
       " <selenium.webdriver.remote.webelement.WebElement (session=\"d3942f50ccacaa8c390c2495cf27c77e\", element=\"f86e2f76-dd4e-415f-83a6-cb7572be3e9f\")>,\n",
       " <selenium.webdriver.remote.webelement.WebElement (session=\"d3942f50ccacaa8c390c2495cf27c77e\", element=\"26fe93f2-9da7-4e0c-9f40-eb50aafdcc43\")>,\n",
       " <selenium.webdriver.remote.webelement.WebElement (session=\"d3942f50ccacaa8c390c2495cf27c77e\", element=\"3b4d339f-edab-4e81-ab1d-40be572212e0\")>,\n",
       " <selenium.webdriver.remote.webelement.WebElement (session=\"d3942f50ccacaa8c390c2495cf27c77e\", element=\"ef2fc751-7cd8-45db-a07b-204df67e0055\")>,\n",
       " <selenium.webdriver.remote.webelement.WebElement (session=\"d3942f50ccacaa8c390c2495cf27c77e\", element=\"d076e00a-3a74-406b-9187-8da7b3891436\")>,\n",
       " <selenium.webdriver.remote.webelement.WebElement (session=\"d3942f50ccacaa8c390c2495cf27c77e\", element=\"a02c551a-9fa4-4c50-b023-ae96769f719c\")>,\n",
       " <selenium.webdriver.remote.webelement.WebElement (session=\"d3942f50ccacaa8c390c2495cf27c77e\", element=\"38b42529-3272-46ba-9742-eb454507a1b2\")>,\n",
       " <selenium.webdriver.remote.webelement.WebElement (session=\"d3942f50ccacaa8c390c2495cf27c77e\", element=\"a256c52a-1493-4363-bb39-42b9fa4f990e\")>,\n",
       " <selenium.webdriver.remote.webelement.WebElement (session=\"d3942f50ccacaa8c390c2495cf27c77e\", element=\"981f70ae-8f1e-4c61-a71e-2eac30845dbf\")>,\n",
       " <selenium.webdriver.remote.webelement.WebElement (session=\"d3942f50ccacaa8c390c2495cf27c77e\", element=\"17c23f4b-2a86-4780-bef9-272a1e7cf89d\")>,\n",
       " <selenium.webdriver.remote.webelement.WebElement (session=\"d3942f50ccacaa8c390c2495cf27c77e\", element=\"d5650132-b407-45b6-8d38-4ef3f374b8ff\")>,\n",
       " <selenium.webdriver.remote.webelement.WebElement (session=\"d3942f50ccacaa8c390c2495cf27c77e\", element=\"61c6a026-020b-4e51-83f7-f01607c0dce1\")>,\n",
       " <selenium.webdriver.remote.webelement.WebElement (session=\"d3942f50ccacaa8c390c2495cf27c77e\", element=\"9e70b8ca-5283-4b29-9f76-15325f724d81\")>,\n",
       " <selenium.webdriver.remote.webelement.WebElement (session=\"d3942f50ccacaa8c390c2495cf27c77e\", element=\"4832377e-f573-4ade-880b-996670362fcf\")>,\n",
       " <selenium.webdriver.remote.webelement.WebElement (session=\"d3942f50ccacaa8c390c2495cf27c77e\", element=\"9eeed929-2ed1-4510-8aa8-84afa8ce898b\")>]"
      ]
     },
     "execution_count": 20,
     "metadata": {},
     "output_type": "execute_result"
    }
   ],
   "source": [
    "Repositories_url=driver.find_elements_by_xpath(\"//h1[@class='h3 lh-condensed']/a\")\n",
    "Repositories_url\n"
   ]
  },
  {
   "cell_type": "code",
   "execution_count": 21,
   "id": "4957032d",
   "metadata": {},
   "outputs": [
    {
     "data": {
      "text/plain": [
       "['LoveSy',\n",
       " 'Niklas von Hertzen',\n",
       " 'Henrik Rydgård',\n",
       " 'Jonah Lawrence',\n",
       " 'Adam Ralph',\n",
       " 'Marten Seemann',\n",
       " 'fatedier',\n",
       " 'Yoni Goldberg',\n",
       " 'Steven',\n",
       " 'Remi Rousselet',\n",
       " 'Elvis Pranskevichus',\n",
       " 'Bjørn Erik Pedersen',\n",
       " 'Patrick Arminio',\n",
       " 'Johnny Chen',\n",
       " 'Daniel Lemire',\n",
       " 'Tim Holy',\n",
       " 'Hyo',\n",
       " 'Ariya Hidayat',\n",
       " 'Takafumi Arakaki',\n",
       " 'Casey Rodarmor',\n",
       " 'Chris Banes',\n",
       " 'Jose Diaz-Gonzalez',\n",
       " 'Matthew Phillips',\n",
       " 'Eliza Weisman',\n",
       " 'Jonny Borges']"
      ]
     },
     "execution_count": 21,
     "metadata": {},
     "output_type": "execute_result"
    }
   ],
   "source": [
    "Repositories=[]\n",
    "for i in Repositories_url:\n",
    "    Repositories.append(i.text)\n",
    "Repositories"
   ]
  },
  {
   "cell_type": "code",
   "execution_count": 32,
   "id": "28453fba",
   "metadata": {},
   "outputs": [
    {
     "data": {
      "text/plain": [
       "[<selenium.webdriver.remote.webelement.WebElement (session=\"d3942f50ccacaa8c390c2495cf27c77e\", element=\"afb2e882-7cc8-4e7b-ab7d-585daf393db3\")>]"
      ]
     },
     "execution_count": 32,
     "metadata": {},
     "output_type": "execute_result"
    }
   ],
   "source": [
    "Contributor_=driver.find_elements_by_xpath(\"//h2[@class='h4 mb-3']/a[contains(text(),'Contributors')]/span\")\n",
    "Contributor_"
   ]
  },
  {
   "cell_type": "code",
   "execution_count": 33,
   "id": "fd0363fb",
   "metadata": {},
   "outputs": [
    {
     "data": {
      "text/plain": [
       "['5']"
      ]
     },
     "execution_count": 33,
     "metadata": {},
     "output_type": "execute_result"
    }
   ],
   "source": [
    "Contributor=[]\n",
    "for i in Contributor_:\n",
    "    Contributor.append(i.text)\n",
    "Contributor"
   ]
  },
  {
   "cell_type": "code",
   "execution_count": 36,
   "id": "ad7f9c9d",
   "metadata": {},
   "outputs": [
    {
     "data": {
      "text/plain": [
       "[]"
      ]
     },
     "execution_count": 36,
     "metadata": {},
     "output_type": "execute_result"
    }
   ],
   "source": [
    "Language_=driver.find_elements_by_xpath(\"//span[@class='text-gray-dark text-bold mr-1']\")\n",
    "Language_"
   ]
  },
  {
   "cell_type": "code",
   "execution_count": null,
   "id": "40d2a234",
   "metadata": {},
   "outputs": [],
   "source": []
  }
 ],
 "metadata": {
  "kernelspec": {
   "display_name": "Python 3",
   "language": "python",
   "name": "python3"
  },
  "language_info": {
   "codemirror_mode": {
    "name": "ipython",
    "version": 3
   },
   "file_extension": ".py",
   "mimetype": "text/x-python",
   "name": "python",
   "nbconvert_exporter": "python",
   "pygments_lexer": "ipython3",
   "version": "3.8.8"
  }
 },
 "nbformat": 4,
 "nbformat_minor": 5
}

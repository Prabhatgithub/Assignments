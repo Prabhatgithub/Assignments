{
 "cells": [
  {
   "cell_type": "code",
   "execution_count": 5,
   "id": "9b0d9545",
   "metadata": {},
   "outputs": [],
   "source": [
    "import selenium\n",
    "import pandas as pd\n",
    "from selenium import webdriver\n",
    "from bs4 import BeautifulSoup\n",
    "from selenium.common.exceptions import StaleElementReferenceException, NoSuchElementException,ElementNotInteractableException"
   ]
  },
  {
   "cell_type": "code",
   "execution_count": 6,
   "id": "ad31da0b",
   "metadata": {},
   "outputs": [],
   "source": [
    "driver=webdriver.Chrome(r\"C:\\Users\\DELL\\Downloads\\chromedriver_win32\\chromedriver.exe\")"
   ]
  },
  {
   "cell_type": "code",
   "execution_count": 7,
   "id": "faf9dc76",
   "metadata": {},
   "outputs": [],
   "source": [
    "url='https://www.guru99.com/'\n",
    "driver.get(url)"
   ]
  },
  {
   "cell_type": "code",
   "execution_count": 10,
   "id": "b11810a8",
   "metadata": {},
   "outputs": [],
   "source": [
    "selenium_link=driver.find_element_by_xpath(\"//li[@class='g-menu-item g-menu-item-type-component g-menu-item-121  ']/a\")\n",
    "try:\n",
    "    selenium_link.click()\n",
    "except ElementNotInteractableException:\n",
    "    driver.get(selenium_link.get_attribute('href'))"
   ]
  },
  {
   "cell_type": "code",
   "execution_count": 12,
   "id": "dc6fbca1",
   "metadata": {},
   "outputs": [],
   "source": [
    "exception_handle_link=driver.find_element_by_xpath(\"//a[@title='Selenium Exception Handling (Common Exceptions List)']\")\n",
    "try:\n",
    "    exception_handle_link.click()\n",
    "except ElementNotInteractableException:\n",
    "    driver.get(exception_handle_link.get_attribute('href'))"
   ]
  },
  {
   "cell_type": "code",
   "execution_count": 13,
   "id": "4f891209",
   "metadata": {},
   "outputs": [
    {
     "name": "stdout",
     "output_type": "stream",
     "text": [
      "41\n"
     ]
    }
   ],
   "source": [
    "name=[]\n",
    "try:\n",
    "    names=driver.find_elements_by_xpath(\"//table[@class='table table-striped']/tbody/tr/td[1]\")\n",
    "    for i in names[1:]:\n",
    "        name.append(i.text)\n",
    "except NoSuchElementException:#handling no such element exception\n",
    "    name.append('No details available')\n",
    "print(len(name))"
   ]
  },
  {
   "cell_type": "code",
   "execution_count": 15,
   "id": "807679e6",
   "metadata": {},
   "outputs": [
    {
     "name": "stdout",
     "output_type": "stream",
     "text": [
      "41\n"
     ]
    }
   ],
   "source": [
    "desc=[]\n",
    "try:\n",
    "    desc_list=driver.find_elements_by_xpath(\"//table[@class='table table-striped']/tbody/tr/td[2]\")\n",
    "    for i in desc_list[1:]:\n",
    "        desc.append(i.text)\n",
    "except NoSuchElementException:#handling no such element exception\n",
    "    desc.append('No details available')\n",
    "print(len(desc))"
   ]
  },
  {
   "cell_type": "code",
   "execution_count": 16,
   "id": "f2fccadc",
   "metadata": {},
   "outputs": [
    {
     "name": "stdout",
     "output_type": "stream",
     "text": [
      "                         Exception_name  \\\n",
      "0            ElementNotVisibleException   \n",
      "1         ElementNotSelectableException   \n",
      "2                NoSuchElementException   \n",
      "3                  NoSuchFrameException   \n",
      "4               NoAlertPresentException   \n",
      "5                 NoSuchWindowException   \n",
      "6        StaleElementReferenceException   \n",
      "7              SessionNotFoundException   \n",
      "8                      TimeoutException   \n",
      "9                    WebDriverException   \n",
      "10            ConnectionClosedException   \n",
      "11     ElementClickInterceptedException   \n",
      "12      ElementNotInteractableException   \n",
      "13             ErrorInResponseException   \n",
      "14  ErrorHandler.UnknownServerException   \n",
      "15         ImeActivationFailedException   \n",
      "16             ImeNotAvailableException   \n",
      "17         InsecureCertificateException   \n",
      "18             InvalidArgumentException   \n",
      "19         InvalidCookieDomainException   \n",
      "20          InvalidCoordinatesException   \n",
      "21          InvalidElementStateExceptio   \n",
      "22            InvalidSessionIdException   \n",
      "23       InvalidSwitchToTargetException   \n",
      "24                  JavascriptException   \n",
      "25                        JsonException   \n",
      "26             NoSuchAttributeException   \n",
      "27       MoveTargetOutOfBoundsException   \n",
      "28               NoSuchContextException   \n",
      "29                NoSuchCookieException   \n",
      "30                    NotFoundException   \n",
      "31          RemoteDriverServerException   \n",
      "32                  ScreenshotException   \n",
      "33           SessionNotCreatedException   \n",
      "34           UnableToSetCookieException   \n",
      "35           UnexpectedTagNameException   \n",
      "36              UnhandledAlertException   \n",
      "37      UnexpectedAlertPresentException   \n",
      "38               UnknownMethodException   \n",
      "39          UnreachableBrowserException   \n",
      "40          UnsupportedCommandException   \n",
      "\n",
      "                                          Description  \n",
      "0   This type of Selenium exception occurs when an...  \n",
      "1   This Selenium exception occurs when an element...  \n",
      "2   This Exception occurs if an element could not ...  \n",
      "3   This Exception occurs if the frame target to b...  \n",
      "4   This Exception occurs when you switch to no pr...  \n",
      "5   This Exception occurs if the window target to ...  \n",
      "6   This Selenium exception occurs happens when th...  \n",
      "7   The WebDriver is acting after you quit the bro...  \n",
      "8   Thrown when there is not enough time for a com...  \n",
      "9   This Exception takes place when the WebDriver ...  \n",
      "10  This type of Exception takes place when there ...  \n",
      "11  The command may not be completed as the elemen...  \n",
      "12  This Selenium exception is thrown when any ele...  \n",
      "13  This happens while interacting with the Firefo...  \n",
      "14  Exception is used as a placeholder in case if ...  \n",
      "15  This expectation will occur when IME engine ac...  \n",
      "16    It takes place when IME support is unavailable.  \n",
      "17  Navigation made the user agent to hit a certif...  \n",
      "18  It occurs when an argument does not belong to ...  \n",
      "19  This happens when you try to add a cookie unde...  \n",
      "20  This type of Exception matches an interacting ...  \n",
      "21  It occurs when command can't be finished when ...  \n",
      "22  This Exception took place when the given sessi...  \n",
      "23  This occurs when the frame or window target to...  \n",
      "24  This issue occurs while executing JavaScript g...  \n",
      "25  It occurs when you afford to get the session w...  \n",
      "26  This kind of Exception occurs when the attribu...  \n",
      "27  It takes place if the target provided to the A...  \n",
      "28           ContextAware does mobile device testing.  \n",
      "29  This Exception occurs when no cookie matching ...  \n",
      "30  This Exception is a subclass of WebDriverExcep...  \n",
      "31  This Selenium exception is thrown when the ser...  \n",
      "32            It is not possible to capture a screen.  \n",
      "33  It happens when a new session could not be suc...  \n",
      "34  This occurs if a driver is unable to set a coo...  \n",
      "35  Happens if a support class did not get a web e...  \n",
      "36  This expectation occurs when there is an alert...  \n",
      "37  It occurs when there is the appearance of an u...  \n",
      "38  This Exception happens when the requested comm...  \n",
      "39  This Exception occurs only when the browser is...  \n",
      "40  This occurs when remote WebDriver does n't sen...  \n"
     ]
    }
   ],
   "source": [
    "\n",
    "#creating dataframe\n",
    "df=pd.DataFrame({\"Exception_name\":name,\n",
    "                \"Description\":desc})\n",
    "print(df)"
   ]
  },
  {
   "cell_type": "code",
   "execution_count": null,
   "id": "13f95e85",
   "metadata": {},
   "outputs": [],
   "source": []
  }
 ],
 "metadata": {
  "kernelspec": {
   "display_name": "Python 3",
   "language": "python",
   "name": "python3"
  },
  "language_info": {
   "codemirror_mode": {
    "name": "ipython",
    "version": 3
   },
   "file_extension": ".py",
   "mimetype": "text/x-python",
   "name": "python",
   "nbconvert_exporter": "python",
   "pygments_lexer": "ipython3",
   "version": "3.8.8"
  }
 },
 "nbformat": 4,
 "nbformat_minor": 5
}

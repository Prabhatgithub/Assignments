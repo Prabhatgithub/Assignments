{
 "cells": [
  {
   "cell_type": "code",
   "execution_count": 1,
   "metadata": {},
   "outputs": [],
   "source": [
    "import selenium\n",
    "import pandas as pd\n",
    "from selenium import webdriver"
   ]
  },
  {
   "cell_type": "code",
   "execution_count": 2,
   "metadata": {},
   "outputs": [],
   "source": [
    "driver=webdriver.Chrome(r\"C:\\Users\\DELL\\Downloads\\chromedriver_win32\\chromedriver.exe\")"
   ]
  },
  {
   "cell_type": "code",
   "execution_count": 3,
   "metadata": {},
   "outputs": [],
   "source": [
    "url='https://www.hostelworld.com/ '\n",
    "driver.get(url)"
   ]
  },
  {
   "cell_type": "code",
   "execution_count": 5,
   "metadata": {},
   "outputs": [
    {
     "data": {
      "text/plain": [
       "<selenium.webdriver.remote.webelement.WebElement (session=\"29b2f9caede1393396810b1ac85bca84\", element=\"3531154c-fcaa-4cd6-b09e-c876c1b52a4a\")>"
      ]
     },
     "execution_count": 5,
     "metadata": {},
     "output_type": "execute_result"
    }
   ],
   "source": [
    "hotels=driver.find_element_by_id('search-input-field')\n",
    "hotels"
   ]
  },
  {
   "cell_type": "code",
   "execution_count": 6,
   "metadata": {},
   "outputs": [],
   "source": [
    "hotels.send_keys('London')"
   ]
  },
  {
   "cell_type": "code",
   "execution_count": 7,
   "metadata": {},
   "outputs": [
    {
     "data": {
      "text/plain": [
       "<selenium.webdriver.remote.webelement.WebElement (session=\"29b2f9caede1393396810b1ac85bca84\", element=\"3531154c-fcaa-4cd6-b09e-c876c1b52a4a\")>"
      ]
     },
     "execution_count": 7,
     "metadata": {},
     "output_type": "execute_result"
    }
   ],
   "source": [
    "search_loc=driver.find_element_by_id('search-input-field')\n",
    "search_loc\n"
   ]
  },
  {
   "cell_type": "code",
   "execution_count": 10,
   "metadata": {},
   "outputs": [
    {
     "data": {
      "text/plain": [
       "[<selenium.webdriver.remote.webelement.WebElement (session=\"29b2f9caede1393396810b1ac85bca84\", element=\"7f324432-a372-4de5-bdcb-a99171ddee73\")>,\n",
       " <selenium.webdriver.remote.webelement.WebElement (session=\"29b2f9caede1393396810b1ac85bca84\", element=\"8c7c3eb7-3d72-4786-978a-dd0baa0b1d71\")>,\n",
       " <selenium.webdriver.remote.webelement.WebElement (session=\"29b2f9caede1393396810b1ac85bca84\", element=\"5e9ac829-1302-4ac0-a41f-61741834bf85\")>,\n",
       " <selenium.webdriver.remote.webelement.WebElement (session=\"29b2f9caede1393396810b1ac85bca84\", element=\"09bc4c0a-7d35-48df-9b04-4b4cb98afb3e\")>,\n",
       " <selenium.webdriver.remote.webelement.WebElement (session=\"29b2f9caede1393396810b1ac85bca84\", element=\"b693a211-8917-4365-af8a-57742bc717fd\")>,\n",
       " <selenium.webdriver.remote.webelement.WebElement (session=\"29b2f9caede1393396810b1ac85bca84\", element=\"37d302fa-3ecc-4858-b5fc-20e1e0dc278f\")>,\n",
       " <selenium.webdriver.remote.webelement.WebElement (session=\"29b2f9caede1393396810b1ac85bca84\", element=\"e4cd2200-0c5c-4d82-8f6e-09e64607f166\")>,\n",
       " <selenium.webdriver.remote.webelement.WebElement (session=\"29b2f9caede1393396810b1ac85bca84\", element=\"62549a86-30a6-4eec-9cf7-c3bea86b79d8\")>,\n",
       " <selenium.webdriver.remote.webelement.WebElement (session=\"29b2f9caede1393396810b1ac85bca84\", element=\"ab92019a-e288-4eb6-85d0-422276398acf\")>,\n",
       " <selenium.webdriver.remote.webelement.WebElement (session=\"29b2f9caede1393396810b1ac85bca84\", element=\"a2e39c65-a49c-4758-bf30-c9aae154c196\")>,\n",
       " <selenium.webdriver.remote.webelement.WebElement (session=\"29b2f9caede1393396810b1ac85bca84\", element=\"26ed272f-0d98-4908-8b5c-67168b5f9f7d\")>,\n",
       " <selenium.webdriver.remote.webelement.WebElement (session=\"29b2f9caede1393396810b1ac85bca84\", element=\"662fc1e8-762c-47d2-8996-eed6202405d5\")>,\n",
       " <selenium.webdriver.remote.webelement.WebElement (session=\"29b2f9caede1393396810b1ac85bca84\", element=\"5c6014e6-c7d6-4771-b862-8bdf6094a63c\")>,\n",
       " <selenium.webdriver.remote.webelement.WebElement (session=\"29b2f9caede1393396810b1ac85bca84\", element=\"5b0b008b-60cc-4d35-ac93-16fed0c8a370\")>,\n",
       " <selenium.webdriver.remote.webelement.WebElement (session=\"29b2f9caede1393396810b1ac85bca84\", element=\"60b4a51b-6ad4-41e0-a215-cef41d28767f\")>,\n",
       " <selenium.webdriver.remote.webelement.WebElement (session=\"29b2f9caede1393396810b1ac85bca84\", element=\"ac3b1755-f123-4a69-8635-79a5f0279953\")>,\n",
       " <selenium.webdriver.remote.webelement.WebElement (session=\"29b2f9caede1393396810b1ac85bca84\", element=\"d04a4128-757e-48da-bd2b-3c0abc59d129\")>,\n",
       " <selenium.webdriver.remote.webelement.WebElement (session=\"29b2f9caede1393396810b1ac85bca84\", element=\"1d17fe2e-55a0-40c0-bad0-7be48190d26f\")>,\n",
       " <selenium.webdriver.remote.webelement.WebElement (session=\"29b2f9caede1393396810b1ac85bca84\", element=\"766ebf7e-7633-400f-85bb-8ce7c02f262f\")>,\n",
       " <selenium.webdriver.remote.webelement.WebElement (session=\"29b2f9caede1393396810b1ac85bca84\", element=\"0178183d-86c8-4a16-b5bc-791a6d06ceb9\")>,\n",
       " <selenium.webdriver.remote.webelement.WebElement (session=\"29b2f9caede1393396810b1ac85bca84\", element=\"5bcc6fba-125a-4382-83fa-bf690554e476\")>,\n",
       " <selenium.webdriver.remote.webelement.WebElement (session=\"29b2f9caede1393396810b1ac85bca84\", element=\"fd6ec3b7-f505-4772-a0f8-d868f631061a\")>,\n",
       " <selenium.webdriver.remote.webelement.WebElement (session=\"29b2f9caede1393396810b1ac85bca84\", element=\"0d9aa13c-374f-46c1-ab34-f0a6af812980\")>,\n",
       " <selenium.webdriver.remote.webelement.WebElement (session=\"29b2f9caede1393396810b1ac85bca84\", element=\"1496a8dd-baf9-4456-8520-6a231b7a30f9\")>,\n",
       " <selenium.webdriver.remote.webelement.WebElement (session=\"29b2f9caede1393396810b1ac85bca84\", element=\"15711845-daf5-467f-bad6-23063a1b3668\")>,\n",
       " <selenium.webdriver.remote.webelement.WebElement (session=\"29b2f9caede1393396810b1ac85bca84\", element=\"a1568cd7-7dae-4ecd-a3b0-8552e2deaa76\")>,\n",
       " <selenium.webdriver.remote.webelement.WebElement (session=\"29b2f9caede1393396810b1ac85bca84\", element=\"f5543c64-f191-406e-bf62-2a5df662b8eb\")>,\n",
       " <selenium.webdriver.remote.webelement.WebElement (session=\"29b2f9caede1393396810b1ac85bca84\", element=\"21b15246-bed1-4a2b-ba3d-8ccf6e8b433e\")>,\n",
       " <selenium.webdriver.remote.webelement.WebElement (session=\"29b2f9caede1393396810b1ac85bca84\", element=\"02fa2a40-1964-45fb-8e78-f70a5d825b76\")>,\n",
       " <selenium.webdriver.remote.webelement.WebElement (session=\"29b2f9caede1393396810b1ac85bca84\", element=\"e028e007-db0e-4eb0-bb98-df0a9123b483\")>]"
      ]
     },
     "execution_count": 10,
     "metadata": {},
     "output_type": "execute_result"
    }
   ],
   "source": [
    "hotel_name=driver.find_elements_by_xpath(\"//h2[@class='title title-6']\")\n",
    "hotel_name"
   ]
  },
  {
   "cell_type": "code",
   "execution_count": 12,
   "metadata": {},
   "outputs": [
    {
     "data": {
      "text/plain": [
       "[<selenium.webdriver.remote.webelement.WebElement (session=\"29b2f9caede1393396810b1ac85bca84\", element=\"94131ed5-645e-4a07-b8d0-9d443bf35af1\")>,\n",
       " <selenium.webdriver.remote.webelement.WebElement (session=\"29b2f9caede1393396810b1ac85bca84\", element=\"0dde46a9-2aa7-4d72-af73-d22c776ce7af\")>,\n",
       " <selenium.webdriver.remote.webelement.WebElement (session=\"29b2f9caede1393396810b1ac85bca84\", element=\"4432e4b6-bbe5-4464-bfc7-549ac3e28aa0\")>,\n",
       " <selenium.webdriver.remote.webelement.WebElement (session=\"29b2f9caede1393396810b1ac85bca84\", element=\"79844352-de56-4fcc-b975-e80a2f21e3d7\")>,\n",
       " <selenium.webdriver.remote.webelement.WebElement (session=\"29b2f9caede1393396810b1ac85bca84\", element=\"57486986-4239-4123-8ead-5f9ca34539bf\")>,\n",
       " <selenium.webdriver.remote.webelement.WebElement (session=\"29b2f9caede1393396810b1ac85bca84\", element=\"e693bd89-d2eb-4658-9da5-eaa066893279\")>,\n",
       " <selenium.webdriver.remote.webelement.WebElement (session=\"29b2f9caede1393396810b1ac85bca84\", element=\"83ba4556-87eb-490b-831d-83b19f102b68\")>,\n",
       " <selenium.webdriver.remote.webelement.WebElement (session=\"29b2f9caede1393396810b1ac85bca84\", element=\"e9d7161f-23d8-409c-a6ed-895aa07e304c\")>,\n",
       " <selenium.webdriver.remote.webelement.WebElement (session=\"29b2f9caede1393396810b1ac85bca84\", element=\"8fbe6cdd-b9d4-4477-adec-8a71e06f1773\")>,\n",
       " <selenium.webdriver.remote.webelement.WebElement (session=\"29b2f9caede1393396810b1ac85bca84\", element=\"2357de73-6523-4a38-8b0d-0ed6163fb92b\")>,\n",
       " <selenium.webdriver.remote.webelement.WebElement (session=\"29b2f9caede1393396810b1ac85bca84\", element=\"fd96da02-3e6c-41cf-9233-83c2c572c4dd\")>,\n",
       " <selenium.webdriver.remote.webelement.WebElement (session=\"29b2f9caede1393396810b1ac85bca84\", element=\"c55b4e5c-cfdb-4979-bfef-6a10133da41f\")>,\n",
       " <selenium.webdriver.remote.webelement.WebElement (session=\"29b2f9caede1393396810b1ac85bca84\", element=\"ef873b31-4bb3-4d42-b097-09c0b1aed92b\")>,\n",
       " <selenium.webdriver.remote.webelement.WebElement (session=\"29b2f9caede1393396810b1ac85bca84\", element=\"8e54cba0-0ce5-439a-af62-326a7351dc75\")>,\n",
       " <selenium.webdriver.remote.webelement.WebElement (session=\"29b2f9caede1393396810b1ac85bca84\", element=\"7e611089-f8d7-4296-9623-e38ed7514282\")>,\n",
       " <selenium.webdriver.remote.webelement.WebElement (session=\"29b2f9caede1393396810b1ac85bca84\", element=\"27480be7-2f81-42f7-b2a7-e1836b9928b5\")>,\n",
       " <selenium.webdriver.remote.webelement.WebElement (session=\"29b2f9caede1393396810b1ac85bca84\", element=\"2572b7e7-d9ba-40ee-80ed-ce8d93fa0d7d\")>,\n",
       " <selenium.webdriver.remote.webelement.WebElement (session=\"29b2f9caede1393396810b1ac85bca84\", element=\"ff44fe10-2a02-4bfd-9ed2-16d254932c24\")>,\n",
       " <selenium.webdriver.remote.webelement.WebElement (session=\"29b2f9caede1393396810b1ac85bca84\", element=\"644075b1-d662-49c8-befc-b3cf5b83d1e5\")>,\n",
       " <selenium.webdriver.remote.webelement.WebElement (session=\"29b2f9caede1393396810b1ac85bca84\", element=\"7c8a1c21-0cc0-4fed-8a02-77e0a0ea1d16\")>,\n",
       " <selenium.webdriver.remote.webelement.WebElement (session=\"29b2f9caede1393396810b1ac85bca84\", element=\"97d2c518-1622-44b4-9e43-19ef3d6764a7\")>,\n",
       " <selenium.webdriver.remote.webelement.WebElement (session=\"29b2f9caede1393396810b1ac85bca84\", element=\"3ae36d12-a6cb-43a3-b0c0-9de092d2a6b3\")>,\n",
       " <selenium.webdriver.remote.webelement.WebElement (session=\"29b2f9caede1393396810b1ac85bca84\", element=\"8fc241d3-1463-42b1-b717-b0f890a9c6b5\")>,\n",
       " <selenium.webdriver.remote.webelement.WebElement (session=\"29b2f9caede1393396810b1ac85bca84\", element=\"097195d6-7010-4929-91f2-a149598e6267\")>,\n",
       " <selenium.webdriver.remote.webelement.WebElement (session=\"29b2f9caede1393396810b1ac85bca84\", element=\"7a04c4a5-9835-4e82-9156-c0fd07700a95\")>,\n",
       " <selenium.webdriver.remote.webelement.WebElement (session=\"29b2f9caede1393396810b1ac85bca84\", element=\"b3659e47-1369-4417-9796-cbaca7e4dea7\")>,\n",
       " <selenium.webdriver.remote.webelement.WebElement (session=\"29b2f9caede1393396810b1ac85bca84\", element=\"05fa3610-9143-4a45-bc63-d80cd7aa35fc\")>,\n",
       " <selenium.webdriver.remote.webelement.WebElement (session=\"29b2f9caede1393396810b1ac85bca84\", element=\"b3cdcf92-e769-490c-9286-edf52e34c0d0\")>,\n",
       " <selenium.webdriver.remote.webelement.WebElement (session=\"29b2f9caede1393396810b1ac85bca84\", element=\"bc64562d-08d5-4a1c-ab08-3e64e51d4a4e\")>,\n",
       " <selenium.webdriver.remote.webelement.WebElement (session=\"29b2f9caede1393396810b1ac85bca84\", element=\"521c881a-89d9-403e-a692-cfe7402dadb0\")>]"
      ]
     },
     "execution_count": 12,
     "metadata": {},
     "output_type": "execute_result"
    }
   ],
   "source": [
    "hotel_distance=driver.find_elements_by_xpath(\"//span[@class='description']\")\n",
    "hotel_distance"
   ]
  },
  {
   "cell_type": "code",
   "execution_count": 13,
   "metadata": {},
   "outputs": [
    {
     "data": {
      "text/plain": [
       "[<selenium.webdriver.remote.webelement.WebElement (session=\"29b2f9caede1393396810b1ac85bca84\", element=\"7341dfb4-d599-4925-a99e-278ff15b058c\")>,\n",
       " <selenium.webdriver.remote.webelement.WebElement (session=\"29b2f9caede1393396810b1ac85bca84\", element=\"227ae871-8698-4f27-bed0-e1b51d20f1f0\")>,\n",
       " <selenium.webdriver.remote.webelement.WebElement (session=\"29b2f9caede1393396810b1ac85bca84\", element=\"d0ead1ce-1a63-4c5f-be7a-24ba432c319e\")>,\n",
       " <selenium.webdriver.remote.webelement.WebElement (session=\"29b2f9caede1393396810b1ac85bca84\", element=\"74c6aea9-b9c3-46af-86ae-63034b102379\")>,\n",
       " <selenium.webdriver.remote.webelement.WebElement (session=\"29b2f9caede1393396810b1ac85bca84\", element=\"e9949545-358c-45e3-a23d-5ff7d3f10b8b\")>,\n",
       " <selenium.webdriver.remote.webelement.WebElement (session=\"29b2f9caede1393396810b1ac85bca84\", element=\"336a416b-650a-4ce0-9805-355f90bb0ecc\")>,\n",
       " <selenium.webdriver.remote.webelement.WebElement (session=\"29b2f9caede1393396810b1ac85bca84\", element=\"61e43f81-4f9b-4ad7-b40c-7e1c75f7f27d\")>,\n",
       " <selenium.webdriver.remote.webelement.WebElement (session=\"29b2f9caede1393396810b1ac85bca84\", element=\"4b639a9a-1d80-4a40-a5cf-7847552ce6dc\")>,\n",
       " <selenium.webdriver.remote.webelement.WebElement (session=\"29b2f9caede1393396810b1ac85bca84\", element=\"686c6bf8-dc4e-4f7b-8ba5-01edc4221b23\")>,\n",
       " <selenium.webdriver.remote.webelement.WebElement (session=\"29b2f9caede1393396810b1ac85bca84\", element=\"c9d17218-b9f6-4ec3-9943-474c14ef5e5b\")>,\n",
       " <selenium.webdriver.remote.webelement.WebElement (session=\"29b2f9caede1393396810b1ac85bca84\", element=\"a5bd766c-e925-4c21-95e5-a08effb51404\")>,\n",
       " <selenium.webdriver.remote.webelement.WebElement (session=\"29b2f9caede1393396810b1ac85bca84\", element=\"3e315936-44df-4a16-ba02-69176b2bc8f9\")>,\n",
       " <selenium.webdriver.remote.webelement.WebElement (session=\"29b2f9caede1393396810b1ac85bca84\", element=\"d4ca5b54-834f-4728-a14f-720a8c7e056a\")>,\n",
       " <selenium.webdriver.remote.webelement.WebElement (session=\"29b2f9caede1393396810b1ac85bca84\", element=\"2a99c8d2-f6d8-4aa2-9671-b34479530ce6\")>,\n",
       " <selenium.webdriver.remote.webelement.WebElement (session=\"29b2f9caede1393396810b1ac85bca84\", element=\"da8059d6-c6cb-4cf2-92e7-c89cfe3607db\")>,\n",
       " <selenium.webdriver.remote.webelement.WebElement (session=\"29b2f9caede1393396810b1ac85bca84\", element=\"3f01052b-4c00-47b8-8f34-454979a18647\")>,\n",
       " <selenium.webdriver.remote.webelement.WebElement (session=\"29b2f9caede1393396810b1ac85bca84\", element=\"a7b4afb2-9a84-466f-8f84-82203e3c1a0e\")>,\n",
       " <selenium.webdriver.remote.webelement.WebElement (session=\"29b2f9caede1393396810b1ac85bca84\", element=\"61a0f1ce-f713-44e9-adb5-6a8f95bd6d44\")>,\n",
       " <selenium.webdriver.remote.webelement.WebElement (session=\"29b2f9caede1393396810b1ac85bca84\", element=\"0173db72-c78d-4c2a-9bb8-8d24bf67a711\")>,\n",
       " <selenium.webdriver.remote.webelement.WebElement (session=\"29b2f9caede1393396810b1ac85bca84\", element=\"3be45f1e-d2ab-4ddc-82d7-4c806af19704\")>,\n",
       " <selenium.webdriver.remote.webelement.WebElement (session=\"29b2f9caede1393396810b1ac85bca84\", element=\"e9f2c64e-df15-4d4c-8aac-d4fa42a3c616\")>,\n",
       " <selenium.webdriver.remote.webelement.WebElement (session=\"29b2f9caede1393396810b1ac85bca84\", element=\"ccf10c69-f1c9-4a2b-9541-8f45a69d0b76\")>,\n",
       " <selenium.webdriver.remote.webelement.WebElement (session=\"29b2f9caede1393396810b1ac85bca84\", element=\"c8cd3aba-5e39-47b9-93df-bb044d4321b6\")>,\n",
       " <selenium.webdriver.remote.webelement.WebElement (session=\"29b2f9caede1393396810b1ac85bca84\", element=\"5a00f8a7-eb6c-4043-a87f-e8ac8745993d\")>,\n",
       " <selenium.webdriver.remote.webelement.WebElement (session=\"29b2f9caede1393396810b1ac85bca84\", element=\"33f6f8e3-3417-4adb-b0b0-c435e0b6d058\")>,\n",
       " <selenium.webdriver.remote.webelement.WebElement (session=\"29b2f9caede1393396810b1ac85bca84\", element=\"371f9b6b-11cb-4a4b-9d85-ed3856c6ff68\")>,\n",
       " <selenium.webdriver.remote.webelement.WebElement (session=\"29b2f9caede1393396810b1ac85bca84\", element=\"dcccd69a-c4f3-482d-b904-aef5ec941cea\")>,\n",
       " <selenium.webdriver.remote.webelement.WebElement (session=\"29b2f9caede1393396810b1ac85bca84\", element=\"1721db38-6556-4da7-a3de-cbb715099a6e\")>,\n",
       " <selenium.webdriver.remote.webelement.WebElement (session=\"29b2f9caede1393396810b1ac85bca84\", element=\"beb5bf1c-6044-4668-b9f0-87624cfbd99b\")>]"
      ]
     },
     "execution_count": 13,
     "metadata": {},
     "output_type": "execute_result"
    }
   ],
   "source": [
    "hotel_rating=driver.find_elements_by_xpath(\"//div[@class='score orange big']\")\n",
    "hotel_rating"
   ]
  },
  {
   "cell_type": "code",
   "execution_count": 14,
   "metadata": {},
   "outputs": [
    {
     "data": {
      "text/plain": [
       "[<selenium.webdriver.remote.webelement.WebElement (session=\"29b2f9caede1393396810b1ac85bca84\", element=\"12a65f67-fc79-491d-a10e-fd4ab6c91baa\")>,\n",
       " <selenium.webdriver.remote.webelement.WebElement (session=\"29b2f9caede1393396810b1ac85bca84\", element=\"72a993dc-7c84-4cec-bf57-fba616e112ff\")>,\n",
       " <selenium.webdriver.remote.webelement.WebElement (session=\"29b2f9caede1393396810b1ac85bca84\", element=\"c6da7f34-7e54-4b3b-9102-7805efc19043\")>,\n",
       " <selenium.webdriver.remote.webelement.WebElement (session=\"29b2f9caede1393396810b1ac85bca84\", element=\"e1c0f963-c66d-457f-ad8f-78b4a13ec9e3\")>,\n",
       " <selenium.webdriver.remote.webelement.WebElement (session=\"29b2f9caede1393396810b1ac85bca84\", element=\"316853af-19cc-4481-91e8-7c16ff1fafcd\")>,\n",
       " <selenium.webdriver.remote.webelement.WebElement (session=\"29b2f9caede1393396810b1ac85bca84\", element=\"b40b391c-a532-4152-84ea-86e47a989f0e\")>,\n",
       " <selenium.webdriver.remote.webelement.WebElement (session=\"29b2f9caede1393396810b1ac85bca84\", element=\"6416c153-d64e-47b6-9c4d-7890d467a838\")>,\n",
       " <selenium.webdriver.remote.webelement.WebElement (session=\"29b2f9caede1393396810b1ac85bca84\", element=\"43a0c3e9-aebb-4d12-9dbb-62262f623370\")>,\n",
       " <selenium.webdriver.remote.webelement.WebElement (session=\"29b2f9caede1393396810b1ac85bca84\", element=\"3efd5734-3e35-4e21-b485-7b85d6ac4caa\")>,\n",
       " <selenium.webdriver.remote.webelement.WebElement (session=\"29b2f9caede1393396810b1ac85bca84\", element=\"819c166e-0ecd-4dc9-81db-7e371dcb697e\")>,\n",
       " <selenium.webdriver.remote.webelement.WebElement (session=\"29b2f9caede1393396810b1ac85bca84\", element=\"29cca357-79a3-4c87-961f-e8514f055cd1\")>,\n",
       " <selenium.webdriver.remote.webelement.WebElement (session=\"29b2f9caede1393396810b1ac85bca84\", element=\"649a7542-76d4-4225-959e-f7c16e65b6e3\")>,\n",
       " <selenium.webdriver.remote.webelement.WebElement (session=\"29b2f9caede1393396810b1ac85bca84\", element=\"31c17337-0d1b-40e8-804c-6d2e1e2c54eb\")>,\n",
       " <selenium.webdriver.remote.webelement.WebElement (session=\"29b2f9caede1393396810b1ac85bca84\", element=\"72ec0392-09b8-4d3a-a8c8-3cae50171ccb\")>,\n",
       " <selenium.webdriver.remote.webelement.WebElement (session=\"29b2f9caede1393396810b1ac85bca84\", element=\"4cc61d7f-4d95-4dd6-91a4-72d286f6d832\")>,\n",
       " <selenium.webdriver.remote.webelement.WebElement (session=\"29b2f9caede1393396810b1ac85bca84\", element=\"8a3a3aa1-18d2-47ae-8958-5a8b6335e794\")>,\n",
       " <selenium.webdriver.remote.webelement.WebElement (session=\"29b2f9caede1393396810b1ac85bca84\", element=\"1bb8ebfa-573e-492c-b0f0-42c30c2d65a8\")>,\n",
       " <selenium.webdriver.remote.webelement.WebElement (session=\"29b2f9caede1393396810b1ac85bca84\", element=\"04300cf7-35a4-45db-92a5-9d30a1385ba9\")>,\n",
       " <selenium.webdriver.remote.webelement.WebElement (session=\"29b2f9caede1393396810b1ac85bca84\", element=\"a89408c9-3ff8-4c92-8446-31e8916a2256\")>,\n",
       " <selenium.webdriver.remote.webelement.WebElement (session=\"29b2f9caede1393396810b1ac85bca84\", element=\"2eb8a960-4d8a-4482-8f54-58a32082fc49\")>,\n",
       " <selenium.webdriver.remote.webelement.WebElement (session=\"29b2f9caede1393396810b1ac85bca84\", element=\"77116ca5-d55b-4da9-a9c1-9f3ef17dd0cf\")>,\n",
       " <selenium.webdriver.remote.webelement.WebElement (session=\"29b2f9caede1393396810b1ac85bca84\", element=\"88c0b24c-6990-4280-8727-6fb7ca169825\")>,\n",
       " <selenium.webdriver.remote.webelement.WebElement (session=\"29b2f9caede1393396810b1ac85bca84\", element=\"85876798-a766-4d54-a143-a06c5240b330\")>,\n",
       " <selenium.webdriver.remote.webelement.WebElement (session=\"29b2f9caede1393396810b1ac85bca84\", element=\"af3ba20e-b054-4927-b2ad-fea11af313bc\")>,\n",
       " <selenium.webdriver.remote.webelement.WebElement (session=\"29b2f9caede1393396810b1ac85bca84\", element=\"8c92f313-ab3b-4bab-85ba-2911187672e3\")>,\n",
       " <selenium.webdriver.remote.webelement.WebElement (session=\"29b2f9caede1393396810b1ac85bca84\", element=\"b9230dbf-8106-4e24-99a1-a15c58b4678d\")>,\n",
       " <selenium.webdriver.remote.webelement.WebElement (session=\"29b2f9caede1393396810b1ac85bca84\", element=\"bcf339e2-8cd0-43e9-918e-ee036f6a2211\")>,\n",
       " <selenium.webdriver.remote.webelement.WebElement (session=\"29b2f9caede1393396810b1ac85bca84\", element=\"786c3278-8574-41f0-9c24-294e483a34fa\")>,\n",
       " <selenium.webdriver.remote.webelement.WebElement (session=\"29b2f9caede1393396810b1ac85bca84\", element=\"04c3b55f-3efd-4f63-9973-b5e1010a1d1a\")>,\n",
       " <selenium.webdriver.remote.webelement.WebElement (session=\"29b2f9caede1393396810b1ac85bca84\", element=\"c1ada8dc-5c05-4704-b214-92fda1ebd164\")>]"
      ]
     },
     "execution_count": 14,
     "metadata": {},
     "output_type": "execute_result"
    }
   ],
   "source": [
    "hotel_review=driver.find_elements_by_xpath(\"//div[@class='reviews']\")\n",
    "hotel_review"
   ]
  },
  {
   "cell_type": "code",
   "execution_count": 15,
   "metadata": {},
   "outputs": [
    {
     "data": {
      "text/plain": [
       "[<selenium.webdriver.remote.webelement.WebElement (session=\"29b2f9caede1393396810b1ac85bca84\", element=\"e5180aee-0c1a-42ed-9130-5a86ddcaf853\")>,\n",
       " <selenium.webdriver.remote.webelement.WebElement (session=\"29b2f9caede1393396810b1ac85bca84\", element=\"7510c94a-66f6-4dca-b047-c08072f842ad\")>,\n",
       " <selenium.webdriver.remote.webelement.WebElement (session=\"29b2f9caede1393396810b1ac85bca84\", element=\"bcafced5-464e-4fc7-89ac-57d3df6f64e8\")>,\n",
       " <selenium.webdriver.remote.webelement.WebElement (session=\"29b2f9caede1393396810b1ac85bca84\", element=\"e1af8833-2ef4-44b7-9379-b4b9d7eef144\")>,\n",
       " <selenium.webdriver.remote.webelement.WebElement (session=\"29b2f9caede1393396810b1ac85bca84\", element=\"b0d5ff4b-af06-4fc9-b3d6-11e612107627\")>,\n",
       " <selenium.webdriver.remote.webelement.WebElement (session=\"29b2f9caede1393396810b1ac85bca84\", element=\"a29ba168-f2c2-4b0a-8a63-263014bc7254\")>,\n",
       " <selenium.webdriver.remote.webelement.WebElement (session=\"29b2f9caede1393396810b1ac85bca84\", element=\"112b3a72-3bdc-46e5-bd9b-0dbae2b90b23\")>,\n",
       " <selenium.webdriver.remote.webelement.WebElement (session=\"29b2f9caede1393396810b1ac85bca84\", element=\"1eab6f65-d604-40d2-8aaa-74ec33d51919\")>,\n",
       " <selenium.webdriver.remote.webelement.WebElement (session=\"29b2f9caede1393396810b1ac85bca84\", element=\"886cea73-01e3-4658-a601-be772b0a7848\")>,\n",
       " <selenium.webdriver.remote.webelement.WebElement (session=\"29b2f9caede1393396810b1ac85bca84\", element=\"23ff6312-faf2-4e59-b13e-cb25cce26ff7\")>,\n",
       " <selenium.webdriver.remote.webelement.WebElement (session=\"29b2f9caede1393396810b1ac85bca84\", element=\"18c78f46-75cd-4955-88d9-f3af08c1f39e\")>,\n",
       " <selenium.webdriver.remote.webelement.WebElement (session=\"29b2f9caede1393396810b1ac85bca84\", element=\"7639f997-ff05-4b96-8225-6d8be4d3946f\")>,\n",
       " <selenium.webdriver.remote.webelement.WebElement (session=\"29b2f9caede1393396810b1ac85bca84\", element=\"dc9f4911-bfb3-46dd-856a-08ab67fa554d\")>,\n",
       " <selenium.webdriver.remote.webelement.WebElement (session=\"29b2f9caede1393396810b1ac85bca84\", element=\"a9e0e6d0-c25d-458b-bc95-561a8e5aa4a7\")>,\n",
       " <selenium.webdriver.remote.webelement.WebElement (session=\"29b2f9caede1393396810b1ac85bca84\", element=\"6a85eadf-cbf1-4ecf-839b-1941e3d69b32\")>,\n",
       " <selenium.webdriver.remote.webelement.WebElement (session=\"29b2f9caede1393396810b1ac85bca84\", element=\"d760a416-5b89-4b05-9ae6-d64d97ba46fd\")>,\n",
       " <selenium.webdriver.remote.webelement.WebElement (session=\"29b2f9caede1393396810b1ac85bca84\", element=\"7667375a-3e4b-4ebf-9f6c-629a64617e98\")>,\n",
       " <selenium.webdriver.remote.webelement.WebElement (session=\"29b2f9caede1393396810b1ac85bca84\", element=\"bb0ad55f-4085-47cb-8e07-542d6f56777a\")>,\n",
       " <selenium.webdriver.remote.webelement.WebElement (session=\"29b2f9caede1393396810b1ac85bca84\", element=\"337a9729-5725-409c-95ff-c2b731d8ecb2\")>,\n",
       " <selenium.webdriver.remote.webelement.WebElement (session=\"29b2f9caede1393396810b1ac85bca84\", element=\"e323fe7d-530d-4ac7-9b75-60014b6212fe\")>,\n",
       " <selenium.webdriver.remote.webelement.WebElement (session=\"29b2f9caede1393396810b1ac85bca84\", element=\"4b5489ea-32b0-4f6a-981a-00e14c03c8be\")>,\n",
       " <selenium.webdriver.remote.webelement.WebElement (session=\"29b2f9caede1393396810b1ac85bca84\", element=\"8cb8e697-ae3a-4c36-8fab-dd71302ffe7f\")>,\n",
       " <selenium.webdriver.remote.webelement.WebElement (session=\"29b2f9caede1393396810b1ac85bca84\", element=\"2bb004d5-2ea2-4d52-b5ff-9e2c7b322b08\")>,\n",
       " <selenium.webdriver.remote.webelement.WebElement (session=\"29b2f9caede1393396810b1ac85bca84\", element=\"40bd3088-17b5-4bd1-b52e-8fa32adef1a8\")>,\n",
       " <selenium.webdriver.remote.webelement.WebElement (session=\"29b2f9caede1393396810b1ac85bca84\", element=\"71a61125-5b87-483b-914b-d8cca5365740\")>,\n",
       " <selenium.webdriver.remote.webelement.WebElement (session=\"29b2f9caede1393396810b1ac85bca84\", element=\"ef55891a-fb13-4338-92b6-e8a9974da4e3\")>,\n",
       " <selenium.webdriver.remote.webelement.WebElement (session=\"29b2f9caede1393396810b1ac85bca84\", element=\"28cf97d1-f8ce-452c-bd09-a64096d5fe29\")>,\n",
       " <selenium.webdriver.remote.webelement.WebElement (session=\"29b2f9caede1393396810b1ac85bca84\", element=\"367f10cd-c3f2-4894-8318-d23fafe828c1\")>,\n",
       " <selenium.webdriver.remote.webelement.WebElement (session=\"29b2f9caede1393396810b1ac85bca84\", element=\"a63442e5-eca3-4a31-abe0-0e55a85a49d6\")>,\n",
       " <selenium.webdriver.remote.webelement.WebElement (session=\"29b2f9caede1393396810b1ac85bca84\", element=\"9f81d541-7a8c-4ac7-96eb-606b49203788\")>,\n",
       " <selenium.webdriver.remote.webelement.WebElement (session=\"29b2f9caede1393396810b1ac85bca84\", element=\"f3d3f3e6-26bc-4349-be3c-648817fa0049\")>,\n",
       " <selenium.webdriver.remote.webelement.WebElement (session=\"29b2f9caede1393396810b1ac85bca84\", element=\"c14cd522-9616-42a4-96ef-c9a919791e7a\")>,\n",
       " <selenium.webdriver.remote.webelement.WebElement (session=\"29b2f9caede1393396810b1ac85bca84\", element=\"5af080a9-99b9-439e-82f0-b6e11d9140b6\")>,\n",
       " <selenium.webdriver.remote.webelement.WebElement (session=\"29b2f9caede1393396810b1ac85bca84\", element=\"2d60802d-7087-4e0c-b309-ba7d33508535\")>,\n",
       " <selenium.webdriver.remote.webelement.WebElement (session=\"29b2f9caede1393396810b1ac85bca84\", element=\"58d60877-1e68-4fb5-9396-730fcd6d2e7a\")>,\n",
       " <selenium.webdriver.remote.webelement.WebElement (session=\"29b2f9caede1393396810b1ac85bca84\", element=\"dc7efc3b-44ab-42db-8bc1-427d52b01146\")>,\n",
       " <selenium.webdriver.remote.webelement.WebElement (session=\"29b2f9caede1393396810b1ac85bca84\", element=\"ffc72322-5b3c-40cf-b3dc-d5db6d3c3802\")>,\n",
       " <selenium.webdriver.remote.webelement.WebElement (session=\"29b2f9caede1393396810b1ac85bca84\", element=\"5debdd98-7b15-4ec1-91a3-e2d57177d234\")>,\n",
       " <selenium.webdriver.remote.webelement.WebElement (session=\"29b2f9caede1393396810b1ac85bca84\", element=\"f73cf2d3-b465-4468-b121-72761beff7f1\")>,\n",
       " <selenium.webdriver.remote.webelement.WebElement (session=\"29b2f9caede1393396810b1ac85bca84\", element=\"dc1101ce-f422-49ab-bf87-1551b5513cd2\")>,\n",
       " <selenium.webdriver.remote.webelement.WebElement (session=\"29b2f9caede1393396810b1ac85bca84\", element=\"bc4ddefc-b2aa-4a48-a570-c82fd2fa65d2\")>,\n",
       " <selenium.webdriver.remote.webelement.WebElement (session=\"29b2f9caede1393396810b1ac85bca84\", element=\"fffee1fb-71e9-4ac4-898d-dbfaf9ced38c\")>,\n",
       " <selenium.webdriver.remote.webelement.WebElement (session=\"29b2f9caede1393396810b1ac85bca84\", element=\"ebcdc439-1cc1-463d-a2c1-87c10eaf05bd\")>,\n",
       " <selenium.webdriver.remote.webelement.WebElement (session=\"29b2f9caede1393396810b1ac85bca84\", element=\"c0fd6daa-9740-4782-9ff3-6e6dcc893d8c\")>,\n",
       " <selenium.webdriver.remote.webelement.WebElement (session=\"29b2f9caede1393396810b1ac85bca84\", element=\"58a4b980-1884-44fd-9344-bdc4c9a8ec67\")>,\n",
       " <selenium.webdriver.remote.webelement.WebElement (session=\"29b2f9caede1393396810b1ac85bca84\", element=\"54f5e398-59d3-478d-85f1-9191d40cd800\")>,\n",
       " <selenium.webdriver.remote.webelement.WebElement (session=\"29b2f9caede1393396810b1ac85bca84\", element=\"be77653b-71d1-49d7-ae14-1b1e2e1ad945\")>,\n",
       " <selenium.webdriver.remote.webelement.WebElement (session=\"29b2f9caede1393396810b1ac85bca84\", element=\"c9d06268-a458-48b4-920c-20ab2830cab6\")>,\n",
       " <selenium.webdriver.remote.webelement.WebElement (session=\"29b2f9caede1393396810b1ac85bca84\", element=\"a8b4c8d1-0b25-4f89-bd57-8dc399af4d90\")>,\n",
       " <selenium.webdriver.remote.webelement.WebElement (session=\"29b2f9caede1393396810b1ac85bca84\", element=\"79cf49db-206e-463f-961b-5e6b72e91b22\")>]"
      ]
     },
     "execution_count": 15,
     "metadata": {},
     "output_type": "execute_result"
    }
   ],
   "source": [
    "hotel_price=driver.find_elements_by_xpath(\"//p[@class='price-label body-3']\")\n",
    "hotel_price"
   ]
  },
  {
   "cell_type": "code",
   "execution_count": 16,
   "metadata": {},
   "outputs": [
    {
     "data": {
      "text/plain": [
       "[<selenium.webdriver.remote.webelement.WebElement (session=\"29b2f9caede1393396810b1ac85bca84\", element=\"e5180aee-0c1a-42ed-9130-5a86ddcaf853\")>,\n",
       " <selenium.webdriver.remote.webelement.WebElement (session=\"29b2f9caede1393396810b1ac85bca84\", element=\"7510c94a-66f6-4dca-b047-c08072f842ad\")>,\n",
       " <selenium.webdriver.remote.webelement.WebElement (session=\"29b2f9caede1393396810b1ac85bca84\", element=\"bcafced5-464e-4fc7-89ac-57d3df6f64e8\")>,\n",
       " <selenium.webdriver.remote.webelement.WebElement (session=\"29b2f9caede1393396810b1ac85bca84\", element=\"e1af8833-2ef4-44b7-9379-b4b9d7eef144\")>,\n",
       " <selenium.webdriver.remote.webelement.WebElement (session=\"29b2f9caede1393396810b1ac85bca84\", element=\"b0d5ff4b-af06-4fc9-b3d6-11e612107627\")>,\n",
       " <selenium.webdriver.remote.webelement.WebElement (session=\"29b2f9caede1393396810b1ac85bca84\", element=\"a29ba168-f2c2-4b0a-8a63-263014bc7254\")>,\n",
       " <selenium.webdriver.remote.webelement.WebElement (session=\"29b2f9caede1393396810b1ac85bca84\", element=\"112b3a72-3bdc-46e5-bd9b-0dbae2b90b23\")>,\n",
       " <selenium.webdriver.remote.webelement.WebElement (session=\"29b2f9caede1393396810b1ac85bca84\", element=\"1eab6f65-d604-40d2-8aaa-74ec33d51919\")>,\n",
       " <selenium.webdriver.remote.webelement.WebElement (session=\"29b2f9caede1393396810b1ac85bca84\", element=\"886cea73-01e3-4658-a601-be772b0a7848\")>,\n",
       " <selenium.webdriver.remote.webelement.WebElement (session=\"29b2f9caede1393396810b1ac85bca84\", element=\"23ff6312-faf2-4e59-b13e-cb25cce26ff7\")>,\n",
       " <selenium.webdriver.remote.webelement.WebElement (session=\"29b2f9caede1393396810b1ac85bca84\", element=\"18c78f46-75cd-4955-88d9-f3af08c1f39e\")>,\n",
       " <selenium.webdriver.remote.webelement.WebElement (session=\"29b2f9caede1393396810b1ac85bca84\", element=\"7639f997-ff05-4b96-8225-6d8be4d3946f\")>,\n",
       " <selenium.webdriver.remote.webelement.WebElement (session=\"29b2f9caede1393396810b1ac85bca84\", element=\"dc9f4911-bfb3-46dd-856a-08ab67fa554d\")>,\n",
       " <selenium.webdriver.remote.webelement.WebElement (session=\"29b2f9caede1393396810b1ac85bca84\", element=\"a9e0e6d0-c25d-458b-bc95-561a8e5aa4a7\")>,\n",
       " <selenium.webdriver.remote.webelement.WebElement (session=\"29b2f9caede1393396810b1ac85bca84\", element=\"6a85eadf-cbf1-4ecf-839b-1941e3d69b32\")>,\n",
       " <selenium.webdriver.remote.webelement.WebElement (session=\"29b2f9caede1393396810b1ac85bca84\", element=\"d760a416-5b89-4b05-9ae6-d64d97ba46fd\")>,\n",
       " <selenium.webdriver.remote.webelement.WebElement (session=\"29b2f9caede1393396810b1ac85bca84\", element=\"7667375a-3e4b-4ebf-9f6c-629a64617e98\")>,\n",
       " <selenium.webdriver.remote.webelement.WebElement (session=\"29b2f9caede1393396810b1ac85bca84\", element=\"bb0ad55f-4085-47cb-8e07-542d6f56777a\")>,\n",
       " <selenium.webdriver.remote.webelement.WebElement (session=\"29b2f9caede1393396810b1ac85bca84\", element=\"337a9729-5725-409c-95ff-c2b731d8ecb2\")>,\n",
       " <selenium.webdriver.remote.webelement.WebElement (session=\"29b2f9caede1393396810b1ac85bca84\", element=\"e323fe7d-530d-4ac7-9b75-60014b6212fe\")>,\n",
       " <selenium.webdriver.remote.webelement.WebElement (session=\"29b2f9caede1393396810b1ac85bca84\", element=\"4b5489ea-32b0-4f6a-981a-00e14c03c8be\")>,\n",
       " <selenium.webdriver.remote.webelement.WebElement (session=\"29b2f9caede1393396810b1ac85bca84\", element=\"8cb8e697-ae3a-4c36-8fab-dd71302ffe7f\")>,\n",
       " <selenium.webdriver.remote.webelement.WebElement (session=\"29b2f9caede1393396810b1ac85bca84\", element=\"2bb004d5-2ea2-4d52-b5ff-9e2c7b322b08\")>,\n",
       " <selenium.webdriver.remote.webelement.WebElement (session=\"29b2f9caede1393396810b1ac85bca84\", element=\"40bd3088-17b5-4bd1-b52e-8fa32adef1a8\")>,\n",
       " <selenium.webdriver.remote.webelement.WebElement (session=\"29b2f9caede1393396810b1ac85bca84\", element=\"71a61125-5b87-483b-914b-d8cca5365740\")>,\n",
       " <selenium.webdriver.remote.webelement.WebElement (session=\"29b2f9caede1393396810b1ac85bca84\", element=\"ef55891a-fb13-4338-92b6-e8a9974da4e3\")>,\n",
       " <selenium.webdriver.remote.webelement.WebElement (session=\"29b2f9caede1393396810b1ac85bca84\", element=\"28cf97d1-f8ce-452c-bd09-a64096d5fe29\")>,\n",
       " <selenium.webdriver.remote.webelement.WebElement (session=\"29b2f9caede1393396810b1ac85bca84\", element=\"367f10cd-c3f2-4894-8318-d23fafe828c1\")>,\n",
       " <selenium.webdriver.remote.webelement.WebElement (session=\"29b2f9caede1393396810b1ac85bca84\", element=\"a63442e5-eca3-4a31-abe0-0e55a85a49d6\")>,\n",
       " <selenium.webdriver.remote.webelement.WebElement (session=\"29b2f9caede1393396810b1ac85bca84\", element=\"9f81d541-7a8c-4ac7-96eb-606b49203788\")>,\n",
       " <selenium.webdriver.remote.webelement.WebElement (session=\"29b2f9caede1393396810b1ac85bca84\", element=\"f3d3f3e6-26bc-4349-be3c-648817fa0049\")>,\n",
       " <selenium.webdriver.remote.webelement.WebElement (session=\"29b2f9caede1393396810b1ac85bca84\", element=\"c14cd522-9616-42a4-96ef-c9a919791e7a\")>,\n",
       " <selenium.webdriver.remote.webelement.WebElement (session=\"29b2f9caede1393396810b1ac85bca84\", element=\"5af080a9-99b9-439e-82f0-b6e11d9140b6\")>,\n",
       " <selenium.webdriver.remote.webelement.WebElement (session=\"29b2f9caede1393396810b1ac85bca84\", element=\"2d60802d-7087-4e0c-b309-ba7d33508535\")>,\n",
       " <selenium.webdriver.remote.webelement.WebElement (session=\"29b2f9caede1393396810b1ac85bca84\", element=\"58d60877-1e68-4fb5-9396-730fcd6d2e7a\")>,\n",
       " <selenium.webdriver.remote.webelement.WebElement (session=\"29b2f9caede1393396810b1ac85bca84\", element=\"dc7efc3b-44ab-42db-8bc1-427d52b01146\")>,\n",
       " <selenium.webdriver.remote.webelement.WebElement (session=\"29b2f9caede1393396810b1ac85bca84\", element=\"ffc72322-5b3c-40cf-b3dc-d5db6d3c3802\")>,\n",
       " <selenium.webdriver.remote.webelement.WebElement (session=\"29b2f9caede1393396810b1ac85bca84\", element=\"5debdd98-7b15-4ec1-91a3-e2d57177d234\")>,\n",
       " <selenium.webdriver.remote.webelement.WebElement (session=\"29b2f9caede1393396810b1ac85bca84\", element=\"f73cf2d3-b465-4468-b121-72761beff7f1\")>,\n",
       " <selenium.webdriver.remote.webelement.WebElement (session=\"29b2f9caede1393396810b1ac85bca84\", element=\"dc1101ce-f422-49ab-bf87-1551b5513cd2\")>,\n",
       " <selenium.webdriver.remote.webelement.WebElement (session=\"29b2f9caede1393396810b1ac85bca84\", element=\"bc4ddefc-b2aa-4a48-a570-c82fd2fa65d2\")>,\n",
       " <selenium.webdriver.remote.webelement.WebElement (session=\"29b2f9caede1393396810b1ac85bca84\", element=\"fffee1fb-71e9-4ac4-898d-dbfaf9ced38c\")>,\n",
       " <selenium.webdriver.remote.webelement.WebElement (session=\"29b2f9caede1393396810b1ac85bca84\", element=\"ebcdc439-1cc1-463d-a2c1-87c10eaf05bd\")>,\n",
       " <selenium.webdriver.remote.webelement.WebElement (session=\"29b2f9caede1393396810b1ac85bca84\", element=\"c0fd6daa-9740-4782-9ff3-6e6dcc893d8c\")>,\n",
       " <selenium.webdriver.remote.webelement.WebElement (session=\"29b2f9caede1393396810b1ac85bca84\", element=\"58a4b980-1884-44fd-9344-bdc4c9a8ec67\")>,\n",
       " <selenium.webdriver.remote.webelement.WebElement (session=\"29b2f9caede1393396810b1ac85bca84\", element=\"54f5e398-59d3-478d-85f1-9191d40cd800\")>,\n",
       " <selenium.webdriver.remote.webelement.WebElement (session=\"29b2f9caede1393396810b1ac85bca84\", element=\"be77653b-71d1-49d7-ae14-1b1e2e1ad945\")>,\n",
       " <selenium.webdriver.remote.webelement.WebElement (session=\"29b2f9caede1393396810b1ac85bca84\", element=\"c9d06268-a458-48b4-920c-20ab2830cab6\")>,\n",
       " <selenium.webdriver.remote.webelement.WebElement (session=\"29b2f9caede1393396810b1ac85bca84\", element=\"a8b4c8d1-0b25-4f89-bd57-8dc399af4d90\")>,\n",
       " <selenium.webdriver.remote.webelement.WebElement (session=\"29b2f9caede1393396810b1ac85bca84\", element=\"79cf49db-206e-463f-961b-5e6b72e91b22\")>]"
      ]
     },
     "execution_count": 16,
     "metadata": {},
     "output_type": "execute_result"
    }
   ],
   "source": [
    "hoteldorm_price=driver.find_elements_by_xpath(\"//p[@class='price-label body-3']\")\n",
    "hoteldorm_price"
   ]
  },
  {
   "cell_type": "code",
   "execution_count": 18,
   "metadata": {},
   "outputs": [
    {
     "data": {
      "text/plain": [
       "[<selenium.webdriver.remote.webelement.WebElement (session=\"29b2f9caede1393396810b1ac85bca84\", element=\"fae34f3c-fb99-4ab6-8c6c-cfdd0c998607\")>,\n",
       " <selenium.webdriver.remote.webelement.WebElement (session=\"29b2f9caede1393396810b1ac85bca84\", element=\"58db8f6b-a6a1-4331-b86b-95c59a153601\")>,\n",
       " <selenium.webdriver.remote.webelement.WebElement (session=\"29b2f9caede1393396810b1ac85bca84\", element=\"3ce379eb-08ad-4826-adcf-f3b2d016a14e\")>,\n",
       " <selenium.webdriver.remote.webelement.WebElement (session=\"29b2f9caede1393396810b1ac85bca84\", element=\"892ddf0e-65c8-49ac-ab7e-def89c9b4011\")>]"
      ]
     },
     "execution_count": 18,
     "metadata": {},
     "output_type": "execute_result"
    }
   ],
   "source": [
    "hotel_facilities=driver.find_elements_by_xpath(\"//h4[@class='title-4']\")\n",
    "hotel_facilities"
   ]
  },
  {
   "cell_type": "code",
   "execution_count": 21,
   "metadata": {},
   "outputs": [
    {
     "ename": "StaleElementReferenceException",
     "evalue": "Message: stale element reference: element is not attached to the page document\n  (Session info: chrome=92.0.4515.107)\n",
     "output_type": "error",
     "traceback": [
      "\u001b[1;31m---------------------------------------------------------------------------\u001b[0m",
      "\u001b[1;31mStaleElementReferenceException\u001b[0m            Traceback (most recent call last)",
      "\u001b[1;32m<ipython-input-21-4404fb78f827>\u001b[0m in \u001b[0;36m<module>\u001b[1;34m\u001b[0m\n\u001b[0;32m      9\u001b[0m \u001b[1;33m\u001b[0m\u001b[0m\n\u001b[0;32m     10\u001b[0m \u001b[1;32mfor\u001b[0m \u001b[0mname\u001b[0m \u001b[1;32min\u001b[0m \u001b[0mhotel_name\u001b[0m\u001b[1;33m:\u001b[0m\u001b[1;33m\u001b[0m\u001b[1;33m\u001b[0m\u001b[0m\n\u001b[1;32m---> 11\u001b[1;33m     \u001b[0mprint\u001b[0m\u001b[1;33m(\u001b[0m\u001b[0mname\u001b[0m\u001b[1;33m.\u001b[0m\u001b[0mtext\u001b[0m\u001b[1;33m)\u001b[0m\u001b[1;33m\u001b[0m\u001b[1;33m\u001b[0m\u001b[0m\n\u001b[0m\u001b[0;32m     12\u001b[0m     \u001b[0mmyname\u001b[0m\u001b[1;33m.\u001b[0m\u001b[0mappend\u001b[0m\u001b[1;33m(\u001b[0m\u001b[0mname\u001b[0m\u001b[1;33m.\u001b[0m\u001b[0mtext\u001b[0m\u001b[1;33m)\u001b[0m\u001b[1;33m\u001b[0m\u001b[1;33m\u001b[0m\u001b[0m\n\u001b[0;32m     13\u001b[0m \u001b[1;33m\u001b[0m\u001b[0m\n",
      "\u001b[1;32m~\\anaconda3\\lib\\site-packages\\selenium\\webdriver\\remote\\webelement.py\u001b[0m in \u001b[0;36mtext\u001b[1;34m(self)\u001b[0m\n\u001b[0;32m     74\u001b[0m     \u001b[1;32mdef\u001b[0m \u001b[0mtext\u001b[0m\u001b[1;33m(\u001b[0m\u001b[0mself\u001b[0m\u001b[1;33m)\u001b[0m\u001b[1;33m:\u001b[0m\u001b[1;33m\u001b[0m\u001b[1;33m\u001b[0m\u001b[0m\n\u001b[0;32m     75\u001b[0m         \u001b[1;34m\"\"\"The text of the element.\"\"\"\u001b[0m\u001b[1;33m\u001b[0m\u001b[1;33m\u001b[0m\u001b[0m\n\u001b[1;32m---> 76\u001b[1;33m         \u001b[1;32mreturn\u001b[0m \u001b[0mself\u001b[0m\u001b[1;33m.\u001b[0m\u001b[0m_execute\u001b[0m\u001b[1;33m(\u001b[0m\u001b[0mCommand\u001b[0m\u001b[1;33m.\u001b[0m\u001b[0mGET_ELEMENT_TEXT\u001b[0m\u001b[1;33m)\u001b[0m\u001b[1;33m[\u001b[0m\u001b[1;34m'value'\u001b[0m\u001b[1;33m]\u001b[0m\u001b[1;33m\u001b[0m\u001b[1;33m\u001b[0m\u001b[0m\n\u001b[0m\u001b[0;32m     77\u001b[0m \u001b[1;33m\u001b[0m\u001b[0m\n\u001b[0;32m     78\u001b[0m     \u001b[1;32mdef\u001b[0m \u001b[0mclick\u001b[0m\u001b[1;33m(\u001b[0m\u001b[0mself\u001b[0m\u001b[1;33m)\u001b[0m\u001b[1;33m:\u001b[0m\u001b[1;33m\u001b[0m\u001b[1;33m\u001b[0m\u001b[0m\n",
      "\u001b[1;32m~\\anaconda3\\lib\\site-packages\\selenium\\webdriver\\remote\\webelement.py\u001b[0m in \u001b[0;36m_execute\u001b[1;34m(self, command, params)\u001b[0m\n\u001b[0;32m    631\u001b[0m             \u001b[0mparams\u001b[0m \u001b[1;33m=\u001b[0m \u001b[1;33m{\u001b[0m\u001b[1;33m}\u001b[0m\u001b[1;33m\u001b[0m\u001b[1;33m\u001b[0m\u001b[0m\n\u001b[0;32m    632\u001b[0m         \u001b[0mparams\u001b[0m\u001b[1;33m[\u001b[0m\u001b[1;34m'id'\u001b[0m\u001b[1;33m]\u001b[0m \u001b[1;33m=\u001b[0m \u001b[0mself\u001b[0m\u001b[1;33m.\u001b[0m\u001b[0m_id\u001b[0m\u001b[1;33m\u001b[0m\u001b[1;33m\u001b[0m\u001b[0m\n\u001b[1;32m--> 633\u001b[1;33m         \u001b[1;32mreturn\u001b[0m \u001b[0mself\u001b[0m\u001b[1;33m.\u001b[0m\u001b[0m_parent\u001b[0m\u001b[1;33m.\u001b[0m\u001b[0mexecute\u001b[0m\u001b[1;33m(\u001b[0m\u001b[0mcommand\u001b[0m\u001b[1;33m,\u001b[0m \u001b[0mparams\u001b[0m\u001b[1;33m)\u001b[0m\u001b[1;33m\u001b[0m\u001b[1;33m\u001b[0m\u001b[0m\n\u001b[0m\u001b[0;32m    634\u001b[0m \u001b[1;33m\u001b[0m\u001b[0m\n\u001b[0;32m    635\u001b[0m     \u001b[1;32mdef\u001b[0m \u001b[0mfind_element\u001b[0m\u001b[1;33m(\u001b[0m\u001b[0mself\u001b[0m\u001b[1;33m,\u001b[0m \u001b[0mby\u001b[0m\u001b[1;33m=\u001b[0m\u001b[0mBy\u001b[0m\u001b[1;33m.\u001b[0m\u001b[0mID\u001b[0m\u001b[1;33m,\u001b[0m \u001b[0mvalue\u001b[0m\u001b[1;33m=\u001b[0m\u001b[1;32mNone\u001b[0m\u001b[1;33m)\u001b[0m\u001b[1;33m:\u001b[0m\u001b[1;33m\u001b[0m\u001b[1;33m\u001b[0m\u001b[0m\n",
      "\u001b[1;32m~\\anaconda3\\lib\\site-packages\\selenium\\webdriver\\remote\\webdriver.py\u001b[0m in \u001b[0;36mexecute\u001b[1;34m(self, driver_command, params)\u001b[0m\n\u001b[0;32m    319\u001b[0m         \u001b[0mresponse\u001b[0m \u001b[1;33m=\u001b[0m \u001b[0mself\u001b[0m\u001b[1;33m.\u001b[0m\u001b[0mcommand_executor\u001b[0m\u001b[1;33m.\u001b[0m\u001b[0mexecute\u001b[0m\u001b[1;33m(\u001b[0m\u001b[0mdriver_command\u001b[0m\u001b[1;33m,\u001b[0m \u001b[0mparams\u001b[0m\u001b[1;33m)\u001b[0m\u001b[1;33m\u001b[0m\u001b[1;33m\u001b[0m\u001b[0m\n\u001b[0;32m    320\u001b[0m         \u001b[1;32mif\u001b[0m \u001b[0mresponse\u001b[0m\u001b[1;33m:\u001b[0m\u001b[1;33m\u001b[0m\u001b[1;33m\u001b[0m\u001b[0m\n\u001b[1;32m--> 321\u001b[1;33m             \u001b[0mself\u001b[0m\u001b[1;33m.\u001b[0m\u001b[0merror_handler\u001b[0m\u001b[1;33m.\u001b[0m\u001b[0mcheck_response\u001b[0m\u001b[1;33m(\u001b[0m\u001b[0mresponse\u001b[0m\u001b[1;33m)\u001b[0m\u001b[1;33m\u001b[0m\u001b[1;33m\u001b[0m\u001b[0m\n\u001b[0m\u001b[0;32m    322\u001b[0m             response['value'] = self._unwrap_value(\n\u001b[0;32m    323\u001b[0m                 response.get('value', None))\n",
      "\u001b[1;32m~\\anaconda3\\lib\\site-packages\\selenium\\webdriver\\remote\\errorhandler.py\u001b[0m in \u001b[0;36mcheck_response\u001b[1;34m(self, response)\u001b[0m\n\u001b[0;32m    240\u001b[0m                 \u001b[0malert_text\u001b[0m \u001b[1;33m=\u001b[0m \u001b[0mvalue\u001b[0m\u001b[1;33m[\u001b[0m\u001b[1;34m'alert'\u001b[0m\u001b[1;33m]\u001b[0m\u001b[1;33m.\u001b[0m\u001b[0mget\u001b[0m\u001b[1;33m(\u001b[0m\u001b[1;34m'text'\u001b[0m\u001b[1;33m)\u001b[0m\u001b[1;33m\u001b[0m\u001b[1;33m\u001b[0m\u001b[0m\n\u001b[0;32m    241\u001b[0m             \u001b[1;32mraise\u001b[0m \u001b[0mexception_class\u001b[0m\u001b[1;33m(\u001b[0m\u001b[0mmessage\u001b[0m\u001b[1;33m,\u001b[0m \u001b[0mscreen\u001b[0m\u001b[1;33m,\u001b[0m \u001b[0mstacktrace\u001b[0m\u001b[1;33m,\u001b[0m \u001b[0malert_text\u001b[0m\u001b[1;33m)\u001b[0m\u001b[1;33m\u001b[0m\u001b[1;33m\u001b[0m\u001b[0m\n\u001b[1;32m--> 242\u001b[1;33m         \u001b[1;32mraise\u001b[0m \u001b[0mexception_class\u001b[0m\u001b[1;33m(\u001b[0m\u001b[0mmessage\u001b[0m\u001b[1;33m,\u001b[0m \u001b[0mscreen\u001b[0m\u001b[1;33m,\u001b[0m \u001b[0mstacktrace\u001b[0m\u001b[1;33m)\u001b[0m\u001b[1;33m\u001b[0m\u001b[1;33m\u001b[0m\u001b[0m\n\u001b[0m\u001b[0;32m    243\u001b[0m \u001b[1;33m\u001b[0m\u001b[0m\n\u001b[0;32m    244\u001b[0m     \u001b[1;32mdef\u001b[0m \u001b[0m_value_or_default\u001b[0m\u001b[1;33m(\u001b[0m\u001b[0mself\u001b[0m\u001b[1;33m,\u001b[0m \u001b[0mobj\u001b[0m\u001b[1;33m,\u001b[0m \u001b[0mkey\u001b[0m\u001b[1;33m,\u001b[0m \u001b[0mdefault\u001b[0m\u001b[1;33m)\u001b[0m\u001b[1;33m:\u001b[0m\u001b[1;33m\u001b[0m\u001b[1;33m\u001b[0m\u001b[0m\n",
      "\u001b[1;31mStaleElementReferenceException\u001b[0m: Message: stale element reference: element is not attached to the page document\n  (Session info: chrome=92.0.4515.107)\n"
     ]
    }
   ],
   "source": [
    "myname=[]\n",
    "mydistance=[]\n",
    "myratings=[]\n",
    "myreviews=[] \n",
    "myprivates=[]\n",
    "mydorms=[]\n",
    "myfacilities=[]\n",
    "\n",
    "\n",
    "for name in hotel_name:\n",
    "    print(name.text)  \n",
    "    myname.append(name.text)\n",
    "\n",
    "for distance in hotel_distance:\n",
    "    print(distance.text)\n",
    "    mydistance.append(distance.text)\n",
    "    \n",
    "for ratings in phones_rating:\n",
    "    print(ratings.text)\n",
    "    myratings.append(ratings.text)\n",
    "    \n",
    "for reviews in hotel_review:\n",
    "    print(reviews.text)\n",
    "    myreviews.append(reviews.text)\n",
    "    \n",
    "for privates in hotel_price:\n",
    "    print(privates.text)\n",
    "    myprivates.append(privates.text)\n",
    "    \n",
    "for dorms in hoteldorm_price:\n",
    "    print(dorms.text)\n",
    "    mydorms.append(dorms.text)\n",
    "    \n",
    "for facilities in hotel_facilities:\n",
    "    print(facilities.text)\n",
    "    myfacilities.append(facilities.text) "
   ]
  },
  {
   "cell_type": "code",
   "execution_count": null,
   "metadata": {},
   "outputs": [],
   "source": []
  }
 ],
 "metadata": {
  "kernelspec": {
   "display_name": "Python 3",
   "language": "python",
   "name": "python3"
  },
  "language_info": {
   "codemirror_mode": {
    "name": "ipython",
    "version": 3
   },
   "file_extension": ".py",
   "mimetype": "text/x-python",
   "name": "python",
   "nbconvert_exporter": "python",
   "pygments_lexer": "ipython3",
   "version": "3.8.5"
  }
 },
 "nbformat": 4,
 "nbformat_minor": 4
}

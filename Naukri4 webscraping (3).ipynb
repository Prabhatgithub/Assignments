{
 "cells": [
  {
   "cell_type": "code",
   "execution_count": 13,
   "id": "9a4bb1bb",
   "metadata": {},
   "outputs": [],
   "source": [
    "import selenium\n",
    "import pandas as pd\n",
    "from selenium import webdriver"
   ]
  },
  {
   "cell_type": "code",
   "execution_count": 14,
   "id": "12550651",
   "metadata": {},
   "outputs": [],
   "source": [
    "driver=webdriver.Chrome(r\"C:\\Users\\DELL\\Downloads\\chromedriver_win32\\chromedriver.exe\")"
   ]
  },
  {
   "cell_type": "code",
   "execution_count": 15,
   "id": "ba648c92",
   "metadata": {},
   "outputs": [],
   "source": [
    "url='https://www.naukri.com/'\n",
    "driver.get(url)"
   ]
  },
  {
   "cell_type": "code",
   "execution_count": 19,
   "id": "6374e95b",
   "metadata": {},
   "outputs": [],
   "source": [
    "recruiters=driver.find_element_by_xpath(\"//a[@title='Search Recruiters']\")\n",
    "driver.get(recruiters.get_attribute('href'))"
   ]
  },
  {
   "cell_type": "code",
   "execution_count": 20,
   "id": "5e120be7",
   "metadata": {},
   "outputs": [
    {
     "data": {
      "text/plain": [
       "<selenium.webdriver.remote.webelement.WebElement (session=\"51e5941a0424e14c29958a9036b9284d\", element=\"59e6ee90-51ed-4e5d-91c3-583491281ee5\")>"
      ]
     },
     "execution_count": 20,
     "metadata": {},
     "output_type": "execute_result"
    }
   ],
   "source": [
    "search_list=driver.find_element_by_xpath('//input[@class=\"sugInp\"]')\n",
    "search_list"
   ]
  },
  {
   "cell_type": "code",
   "execution_count": 21,
   "id": "a5fceb2d",
   "metadata": {},
   "outputs": [],
   "source": [
    "search_list.send_keys('Data Science')"
   ]
  },
  {
   "cell_type": "code",
   "execution_count": 23,
   "id": "71aef528",
   "metadata": {},
   "outputs": [
    {
     "data": {
      "text/plain": [
       "<selenium.webdriver.remote.webelement.WebElement (session=\"51e5941a0424e14c29958a9036b9284d\", element=\"12502ce5-0756-4e2b-a403-9cc65d188008\")>"
      ]
     },
     "execution_count": 23,
     "metadata": {},
     "output_type": "execute_result"
    }
   ],
   "source": [
    "search=driver.find_element_by_id('qsbFormBtn')\n",
    "search"
   ]
  },
  {
   "cell_type": "code",
   "execution_count": 30,
   "id": "9ea0cc07",
   "metadata": {},
   "outputs": [
    {
     "data": {
      "text/plain": [
       "[<selenium.webdriver.remote.webelement.WebElement (session=\"51e5941a0424e14c29958a9036b9284d\", element=\"36e98c59-5bcd-47d5-b5b8-521ef8b543ef\")>,\n",
       " <selenium.webdriver.remote.webelement.WebElement (session=\"51e5941a0424e14c29958a9036b9284d\", element=\"e53e10b4-5675-4ac4-a278-63a3d15c4679\")>,\n",
       " <selenium.webdriver.remote.webelement.WebElement (session=\"51e5941a0424e14c29958a9036b9284d\", element=\"10bdb8eb-f7aa-4672-9db7-d0f2612e2ae0\")>,\n",
       " <selenium.webdriver.remote.webelement.WebElement (session=\"51e5941a0424e14c29958a9036b9284d\", element=\"ed1f59a3-c79d-4c1c-97bc-b0d4346cf0fb\")>,\n",
       " <selenium.webdriver.remote.webelement.WebElement (session=\"51e5941a0424e14c29958a9036b9284d\", element=\"0e84f896-ef85-48d1-90dc-8742cd1d18c8\")>,\n",
       " <selenium.webdriver.remote.webelement.WebElement (session=\"51e5941a0424e14c29958a9036b9284d\", element=\"f73fc334-82ff-4baf-a282-b07e9a2e2ec2\")>,\n",
       " <selenium.webdriver.remote.webelement.WebElement (session=\"51e5941a0424e14c29958a9036b9284d\", element=\"21aa3e2c-5285-47ae-9c38-76476a518c80\")>,\n",
       " <selenium.webdriver.remote.webelement.WebElement (session=\"51e5941a0424e14c29958a9036b9284d\", element=\"e32ea708-6eeb-4df0-98f7-ef74124b8fc8\")>,\n",
       " <selenium.webdriver.remote.webelement.WebElement (session=\"51e5941a0424e14c29958a9036b9284d\", element=\"b1795af9-a121-40ec-b6b6-38ba35fa43aa\")>,\n",
       " <selenium.webdriver.remote.webelement.WebElement (session=\"51e5941a0424e14c29958a9036b9284d\", element=\"83e61bdd-d484-4c99-a8ee-2cb966f995d4\")>,\n",
       " <selenium.webdriver.remote.webelement.WebElement (session=\"51e5941a0424e14c29958a9036b9284d\", element=\"6bd64982-314a-4805-b95f-18ea87e5f78a\")>,\n",
       " <selenium.webdriver.remote.webelement.WebElement (session=\"51e5941a0424e14c29958a9036b9284d\", element=\"838562fe-8b9b-4a14-932e-b1b079a1fb41\")>,\n",
       " <selenium.webdriver.remote.webelement.WebElement (session=\"51e5941a0424e14c29958a9036b9284d\", element=\"c2a79687-28ad-48a0-8884-6db6913a9f15\")>,\n",
       " <selenium.webdriver.remote.webelement.WebElement (session=\"51e5941a0424e14c29958a9036b9284d\", element=\"2c4ec64e-e02e-41d6-84e9-e377385eae7d\")>,\n",
       " <selenium.webdriver.remote.webelement.WebElement (session=\"51e5941a0424e14c29958a9036b9284d\", element=\"009914e7-794e-4860-a191-b2e1f8630351\")>,\n",
       " <selenium.webdriver.remote.webelement.WebElement (session=\"51e5941a0424e14c29958a9036b9284d\", element=\"680ab091-5d8f-4be0-a930-c180306cae26\")>,\n",
       " <selenium.webdriver.remote.webelement.WebElement (session=\"51e5941a0424e14c29958a9036b9284d\", element=\"ee915ac6-3911-4e09-9276-30324931a1f4\")>,\n",
       " <selenium.webdriver.remote.webelement.WebElement (session=\"51e5941a0424e14c29958a9036b9284d\", element=\"8a2a4872-2d02-4fec-82d3-329daf74ce4b\")>,\n",
       " <selenium.webdriver.remote.webelement.WebElement (session=\"51e5941a0424e14c29958a9036b9284d\", element=\"d1a3e482-2d27-4cd8-81b0-d30cc6a13d39\")>,\n",
       " <selenium.webdriver.remote.webelement.WebElement (session=\"51e5941a0424e14c29958a9036b9284d\", element=\"e49775f9-dc44-457f-8e50-d26de70f0fff\")>,\n",
       " <selenium.webdriver.remote.webelement.WebElement (session=\"51e5941a0424e14c29958a9036b9284d\", element=\"42b6258e-4b4b-4cad-a7f5-fc73ec7b3b08\")>,\n",
       " <selenium.webdriver.remote.webelement.WebElement (session=\"51e5941a0424e14c29958a9036b9284d\", element=\"c2233596-056e-486d-9d03-b8438e2139f1\")>,\n",
       " <selenium.webdriver.remote.webelement.WebElement (session=\"51e5941a0424e14c29958a9036b9284d\", element=\"745c7a53-f4e9-480e-8e2d-cc9478b68dc1\")>,\n",
       " <selenium.webdriver.remote.webelement.WebElement (session=\"51e5941a0424e14c29958a9036b9284d\", element=\"cf2a3c13-c611-4842-b9be-7ab9e7afdf00\")>,\n",
       " <selenium.webdriver.remote.webelement.WebElement (session=\"51e5941a0424e14c29958a9036b9284d\", element=\"f7b99622-ba46-4144-a571-4defe0bd921b\")>,\n",
       " <selenium.webdriver.remote.webelement.WebElement (session=\"51e5941a0424e14c29958a9036b9284d\", element=\"2dac622e-497e-490d-8a3f-d72215d6354b\")>,\n",
       " <selenium.webdriver.remote.webelement.WebElement (session=\"51e5941a0424e14c29958a9036b9284d\", element=\"3baa0f74-cebb-4886-9275-9342409d7f14\")>,\n",
       " <selenium.webdriver.remote.webelement.WebElement (session=\"51e5941a0424e14c29958a9036b9284d\", element=\"0c24e26c-ddec-49a1-b5bc-bc9d544d52b8\")>,\n",
       " <selenium.webdriver.remote.webelement.WebElement (session=\"51e5941a0424e14c29958a9036b9284d\", element=\"8494884f-2df4-4c97-90ef-d2e3e7ab4c60\")>,\n",
       " <selenium.webdriver.remote.webelement.WebElement (session=\"51e5941a0424e14c29958a9036b9284d\", element=\"17d8720b-b5e0-4259-863b-2a3ca50294e3\")>,\n",
       " <selenium.webdriver.remote.webelement.WebElement (session=\"51e5941a0424e14c29958a9036b9284d\", element=\"133057c3-b4df-44d1-8e99-e49dd8cc71f4\")>,\n",
       " <selenium.webdriver.remote.webelement.WebElement (session=\"51e5941a0424e14c29958a9036b9284d\", element=\"3c9b34b2-97c2-4043-b3a2-c8ad457ffe44\")>,\n",
       " <selenium.webdriver.remote.webelement.WebElement (session=\"51e5941a0424e14c29958a9036b9284d\", element=\"4ab907e8-ed92-417c-9288-014353ecc3d3\")>,\n",
       " <selenium.webdriver.remote.webelement.WebElement (session=\"51e5941a0424e14c29958a9036b9284d\", element=\"0765ffb0-cbd0-44c6-8e82-1a5d8e371429\")>,\n",
       " <selenium.webdriver.remote.webelement.WebElement (session=\"51e5941a0424e14c29958a9036b9284d\", element=\"622e47b4-b33d-4db6-b7b5-0b255124852d\")>,\n",
       " <selenium.webdriver.remote.webelement.WebElement (session=\"51e5941a0424e14c29958a9036b9284d\", element=\"7035e574-f6a8-439f-bb0c-7bd3858597cc\")>,\n",
       " <selenium.webdriver.remote.webelement.WebElement (session=\"51e5941a0424e14c29958a9036b9284d\", element=\"04c4e7f2-74fb-414f-8af3-9ff2926be722\")>,\n",
       " <selenium.webdriver.remote.webelement.WebElement (session=\"51e5941a0424e14c29958a9036b9284d\", element=\"c5e9715e-820a-4a22-b1e4-b8ef7d719a4d\")>,\n",
       " <selenium.webdriver.remote.webelement.WebElement (session=\"51e5941a0424e14c29958a9036b9284d\", element=\"a302c899-09db-4aeb-a974-ab646f3e2615\")>,\n",
       " <selenium.webdriver.remote.webelement.WebElement (session=\"51e5941a0424e14c29958a9036b9284d\", element=\"acb9aa13-47de-402b-93be-ccbe15914a76\")>,\n",
       " <selenium.webdriver.remote.webelement.WebElement (session=\"51e5941a0424e14c29958a9036b9284d\", element=\"38e7dc84-5f27-4257-ab16-e1254a229a7f\")>,\n",
       " <selenium.webdriver.remote.webelement.WebElement (session=\"51e5941a0424e14c29958a9036b9284d\", element=\"211b7db9-4d22-4dde-ae07-ffdd1fdd224a\")>,\n",
       " <selenium.webdriver.remote.webelement.WebElement (session=\"51e5941a0424e14c29958a9036b9284d\", element=\"775d3da7-3c64-4348-aa40-8745c12f064b\")>,\n",
       " <selenium.webdriver.remote.webelement.WebElement (session=\"51e5941a0424e14c29958a9036b9284d\", element=\"78a59bd9-d0b8-48ab-8661-df437e432950\")>,\n",
       " <selenium.webdriver.remote.webelement.WebElement (session=\"51e5941a0424e14c29958a9036b9284d\", element=\"31d082e8-b36b-4260-87fb-399ee5a68742\")>,\n",
       " <selenium.webdriver.remote.webelement.WebElement (session=\"51e5941a0424e14c29958a9036b9284d\", element=\"26681ece-a670-4723-a2a4-9e0d7f490749\")>,\n",
       " <selenium.webdriver.remote.webelement.WebElement (session=\"51e5941a0424e14c29958a9036b9284d\", element=\"4ed297b3-c159-477a-9e70-be6eca9fdcea\")>,\n",
       " <selenium.webdriver.remote.webelement.WebElement (session=\"51e5941a0424e14c29958a9036b9284d\", element=\"4ec1592d-a1c5-4384-9898-623e71e64c1a\")>,\n",
       " <selenium.webdriver.remote.webelement.WebElement (session=\"51e5941a0424e14c29958a9036b9284d\", element=\"89221750-d6d9-4c83-9012-90db7479606d\")>,\n",
       " <selenium.webdriver.remote.webelement.WebElement (session=\"51e5941a0424e14c29958a9036b9284d\", element=\"9fc98182-9bba-43df-98e8-926bfe685ba1\")>]"
      ]
     },
     "execution_count": 30,
     "metadata": {},
     "output_type": "execute_result"
    }
   ],
   "source": [
    "job_name=driver.find_elements_by_xpath(\"//span[@class='fl ellipsis']\")\n",
    "job_name"
   ]
  },
  {
   "cell_type": "code",
   "execution_count": 35,
   "id": "7e811dc0",
   "metadata": {},
   "outputs": [
    {
     "data": {
      "text/plain": [
       "['Aakash Harit',\n",
       " 'shravan Kumar Gaddam',\n",
       " 'MARSIAN Technologies LLP',\n",
       " 'Anik Agrawal',\n",
       " 'subhas patel',\n",
       " 'Abhishek - Only Analytics Hiring - India and',\n",
       " 'Institute for Financial Management and Resear',\n",
       " 'Balu Ramesh',\n",
       " 'Asif Lucknowi',\n",
       " 'InstaFinancials',\n",
       " 'Priyanka Akiri',\n",
       " 'Kalpana Dumpala',\n",
       " 'Mubarak',\n",
       " 'Kushal Rastogi',\n",
       " 'Ruchi Dhote',\n",
       " 'Mahesh Babu Channa',\n",
       " 'Kapil Devang',\n",
       " 'Manisha Yadav',\n",
       " 'Riya Rajesh',\n",
       " 'Rashmi Bhattacharjee',\n",
       " 'Faizan Kareem',\n",
       " 'Rithika dadwal',\n",
       " 'Sandhya Khandagale',\n",
       " 'Shaun Rao',\n",
       " 'Azahar Shaikh',\n",
       " 'Manas',\n",
       " 'kumar',\n",
       " 'Sunil Vedula',\n",
       " 'Rajat Kumar',\n",
       " 'Radha Manivasagam',\n",
       " 'Priya Khare',\n",
       " 'Dhruv Dev Dubey',\n",
       " 'Jayanth N',\n",
       " 'SREEDHAR',\n",
       " 'Ravi Dubey',\n",
       " 'Prateek Kumar',\n",
       " 'Amit Sharma',\n",
       " 'Kanan',\n",
       " 'Shashikant Chaudhary',\n",
       " 'Brad',\n",
       " 'Rutuja Pawar',\n",
       " 'Madhusudhan Sridhar',\n",
       " 'Ankit Sinha',\n",
       " 'Gaurav Chouhan',\n",
       " 'Rashi Kacker',\n",
       " 'Ashwini',\n",
       " 'Balaji Kolli',\n",
       " 'Rajani Nagaraj',\n",
       " 'ROHIT Kumar',\n",
       " 'Amir Chowdhury']"
      ]
     },
     "execution_count": 35,
     "metadata": {},
     "output_type": "execute_result"
    }
   ],
   "source": [
    "name_list=[]\n",
    "for i in job_name:\n",
    "    name_list.append(i.text)\n",
    "name_list "
   ]
  },
  {
   "cell_type": "code",
   "execution_count": 33,
   "id": "e36f960f",
   "metadata": {
    "scrolled": false
   },
   "outputs": [
    {
     "data": {
      "text/plain": [
       "[<selenium.webdriver.remote.webelement.WebElement (session=\"51e5941a0424e14c29958a9036b9284d\", element=\"edb69e13-da22-4c9a-99ba-b2dac17ce2a4\")>,\n",
       " <selenium.webdriver.remote.webelement.WebElement (session=\"51e5941a0424e14c29958a9036b9284d\", element=\"e3fcaee5-d887-449c-aff6-46e223edb4af\")>,\n",
       " <selenium.webdriver.remote.webelement.WebElement (session=\"51e5941a0424e14c29958a9036b9284d\", element=\"70eac06b-e520-4e62-bd8c-b1b8167ea7fb\")>,\n",
       " <selenium.webdriver.remote.webelement.WebElement (session=\"51e5941a0424e14c29958a9036b9284d\", element=\"1b4cec76-1117-4ed7-b733-84f7953666ab\")>,\n",
       " <selenium.webdriver.remote.webelement.WebElement (session=\"51e5941a0424e14c29958a9036b9284d\", element=\"c0a00503-ee87-4ab9-8fd1-6cdbf11b7f11\")>,\n",
       " <selenium.webdriver.remote.webelement.WebElement (session=\"51e5941a0424e14c29958a9036b9284d\", element=\"dd235698-08dc-4a99-a87b-2bdad024d4b9\")>,\n",
       " <selenium.webdriver.remote.webelement.WebElement (session=\"51e5941a0424e14c29958a9036b9284d\", element=\"e0b39b8b-ef26-4e8a-892f-d1a9ebf76eda\")>,\n",
       " <selenium.webdriver.remote.webelement.WebElement (session=\"51e5941a0424e14c29958a9036b9284d\", element=\"27a35211-eb7f-4366-85e6-89d468ba191e\")>,\n",
       " <selenium.webdriver.remote.webelement.WebElement (session=\"51e5941a0424e14c29958a9036b9284d\", element=\"555266d8-5b8c-47a3-987c-db37673233af\")>,\n",
       " <selenium.webdriver.remote.webelement.WebElement (session=\"51e5941a0424e14c29958a9036b9284d\", element=\"82220d6b-7b13-4805-8757-1298e3bafaaf\")>,\n",
       " <selenium.webdriver.remote.webelement.WebElement (session=\"51e5941a0424e14c29958a9036b9284d\", element=\"c3f0d7a8-61d9-4a33-80a5-a0f94dd55edd\")>,\n",
       " <selenium.webdriver.remote.webelement.WebElement (session=\"51e5941a0424e14c29958a9036b9284d\", element=\"09d93b25-f340-4505-989d-f54974e878c5\")>,\n",
       " <selenium.webdriver.remote.webelement.WebElement (session=\"51e5941a0424e14c29958a9036b9284d\", element=\"81f1ac4d-2ab2-4b35-a922-5d3bf90bcf0b\")>,\n",
       " <selenium.webdriver.remote.webelement.WebElement (session=\"51e5941a0424e14c29958a9036b9284d\", element=\"4e2375c4-2169-4c29-9573-cbaf2e3a82a6\")>,\n",
       " <selenium.webdriver.remote.webelement.WebElement (session=\"51e5941a0424e14c29958a9036b9284d\", element=\"8b176367-00a5-44aa-ab8c-29351b3c0f8e\")>,\n",
       " <selenium.webdriver.remote.webelement.WebElement (session=\"51e5941a0424e14c29958a9036b9284d\", element=\"14cd5673-1403-44bf-9581-edd93fefe37f\")>,\n",
       " <selenium.webdriver.remote.webelement.WebElement (session=\"51e5941a0424e14c29958a9036b9284d\", element=\"3913529a-b872-4c8d-a13d-dc88e6e89583\")>,\n",
       " <selenium.webdriver.remote.webelement.WebElement (session=\"51e5941a0424e14c29958a9036b9284d\", element=\"3a9c02c7-2cf7-459a-9417-d6109ed2e364\")>,\n",
       " <selenium.webdriver.remote.webelement.WebElement (session=\"51e5941a0424e14c29958a9036b9284d\", element=\"30488fd7-b47d-4353-b940-e86724091a6c\")>,\n",
       " <selenium.webdriver.remote.webelement.WebElement (session=\"51e5941a0424e14c29958a9036b9284d\", element=\"9d10127a-59fe-4053-933b-133918137f7d\")>,\n",
       " <selenium.webdriver.remote.webelement.WebElement (session=\"51e5941a0424e14c29958a9036b9284d\", element=\"c4f11732-8393-42ed-8ce6-f8814c26b61c\")>,\n",
       " <selenium.webdriver.remote.webelement.WebElement (session=\"51e5941a0424e14c29958a9036b9284d\", element=\"e76d84d2-412d-42d4-849e-91927f2f7365\")>,\n",
       " <selenium.webdriver.remote.webelement.WebElement (session=\"51e5941a0424e14c29958a9036b9284d\", element=\"0c0a643e-df72-4049-b062-41b4d06c5df7\")>,\n",
       " <selenium.webdriver.remote.webelement.WebElement (session=\"51e5941a0424e14c29958a9036b9284d\", element=\"a9ac9f65-1845-43cf-8ae7-9bd777c2ce33\")>,\n",
       " <selenium.webdriver.remote.webelement.WebElement (session=\"51e5941a0424e14c29958a9036b9284d\", element=\"5ddf33c0-b334-4be9-addc-7ff5fa787e4a\")>,\n",
       " <selenium.webdriver.remote.webelement.WebElement (session=\"51e5941a0424e14c29958a9036b9284d\", element=\"385fe8df-b548-4541-bb81-d55b67636a79\")>,\n",
       " <selenium.webdriver.remote.webelement.WebElement (session=\"51e5941a0424e14c29958a9036b9284d\", element=\"5b57dffe-e8f8-4159-842c-af8d235fba99\")>,\n",
       " <selenium.webdriver.remote.webelement.WebElement (session=\"51e5941a0424e14c29958a9036b9284d\", element=\"06259bda-315d-4c05-824d-4d0aa5e832ad\")>,\n",
       " <selenium.webdriver.remote.webelement.WebElement (session=\"51e5941a0424e14c29958a9036b9284d\", element=\"d6a5e930-a879-45f7-b96f-3fe857466c76\")>,\n",
       " <selenium.webdriver.remote.webelement.WebElement (session=\"51e5941a0424e14c29958a9036b9284d\", element=\"277068ee-cd62-4ad2-a335-1ca23d7a64f2\")>,\n",
       " <selenium.webdriver.remote.webelement.WebElement (session=\"51e5941a0424e14c29958a9036b9284d\", element=\"2a1df044-172c-48e7-91f7-636664fbdb0b\")>,\n",
       " <selenium.webdriver.remote.webelement.WebElement (session=\"51e5941a0424e14c29958a9036b9284d\", element=\"f918f1fc-32e0-48af-9a08-0d4930503c4a\")>,\n",
       " <selenium.webdriver.remote.webelement.WebElement (session=\"51e5941a0424e14c29958a9036b9284d\", element=\"24bbe107-5b39-4afb-a77e-d342044cbc8c\")>,\n",
       " <selenium.webdriver.remote.webelement.WebElement (session=\"51e5941a0424e14c29958a9036b9284d\", element=\"06486784-be71-4462-a475-6d3dcfd8f733\")>,\n",
       " <selenium.webdriver.remote.webelement.WebElement (session=\"51e5941a0424e14c29958a9036b9284d\", element=\"d2eff76b-dce9-4ba6-bb81-56fbc2c1be65\")>,\n",
       " <selenium.webdriver.remote.webelement.WebElement (session=\"51e5941a0424e14c29958a9036b9284d\", element=\"ef99162d-1947-41e4-8736-f9e7c80fd213\")>,\n",
       " <selenium.webdriver.remote.webelement.WebElement (session=\"51e5941a0424e14c29958a9036b9284d\", element=\"bd4b7765-0bdf-4c36-9f12-95c39247bb26\")>,\n",
       " <selenium.webdriver.remote.webelement.WebElement (session=\"51e5941a0424e14c29958a9036b9284d\", element=\"bc765ca6-bdfa-4346-a4b8-6bb658bfe4e5\")>,\n",
       " <selenium.webdriver.remote.webelement.WebElement (session=\"51e5941a0424e14c29958a9036b9284d\", element=\"79a170d7-aded-4f95-a570-cc8264618476\")>,\n",
       " <selenium.webdriver.remote.webelement.WebElement (session=\"51e5941a0424e14c29958a9036b9284d\", element=\"959b50d4-df11-49fb-85af-05e7cf37df23\")>,\n",
       " <selenium.webdriver.remote.webelement.WebElement (session=\"51e5941a0424e14c29958a9036b9284d\", element=\"0fbb49c9-81ad-4b3a-b28d-0ff58c94c127\")>,\n",
       " <selenium.webdriver.remote.webelement.WebElement (session=\"51e5941a0424e14c29958a9036b9284d\", element=\"aa3a9989-4542-4ac6-8106-6852fddfb911\")>,\n",
       " <selenium.webdriver.remote.webelement.WebElement (session=\"51e5941a0424e14c29958a9036b9284d\", element=\"5601edc9-289e-4742-bbe6-9fc9de94064e\")>,\n",
       " <selenium.webdriver.remote.webelement.WebElement (session=\"51e5941a0424e14c29958a9036b9284d\", element=\"54445cc5-3788-4d3c-ac94-0134a25fa7a6\")>,\n",
       " <selenium.webdriver.remote.webelement.WebElement (session=\"51e5941a0424e14c29958a9036b9284d\", element=\"0b7891ef-9604-4dcb-babd-3e3975b17c68\")>,\n",
       " <selenium.webdriver.remote.webelement.WebElement (session=\"51e5941a0424e14c29958a9036b9284d\", element=\"1ed0998b-5c7e-4c5d-9b57-b602fb44d1f3\")>,\n",
       " <selenium.webdriver.remote.webelement.WebElement (session=\"51e5941a0424e14c29958a9036b9284d\", element=\"d93c9e59-6da3-438c-bf9d-da7921ddd8ad\")>,\n",
       " <selenium.webdriver.remote.webelement.WebElement (session=\"51e5941a0424e14c29958a9036b9284d\", element=\"fbdb18eb-2d4d-4a6f-9f56-a7955fbc70f0\")>,\n",
       " <selenium.webdriver.remote.webelement.WebElement (session=\"51e5941a0424e14c29958a9036b9284d\", element=\"5c3c594d-3e96-4098-8544-1e420dfd4fea\")>,\n",
       " <selenium.webdriver.remote.webelement.WebElement (session=\"51e5941a0424e14c29958a9036b9284d\", element=\"349186c8-7343-4ac0-b6e3-4cb29b912cd4\")>]"
      ]
     },
     "execution_count": 33,
     "metadata": {},
     "output_type": "execute_result"
    }
   ],
   "source": [
    "search_designation=driver.find_elements_by_xpath(\"//span[@class='ellipsis clr']\")\n",
    "search_designation"
   ]
  },
  {
   "cell_type": "code",
   "execution_count": 40,
   "id": "e24355bb",
   "metadata": {},
   "outputs": [
    {
     "data": {
      "text/plain": [
       "['HR Manager',\n",
       " 'Company Recruiter',\n",
       " 'Company HR',\n",
       " 'Company Recruiter',\n",
       " 'Founder CEO',\n",
       " 'Recruitment Lead Consultant',\n",
       " 'Programme Manager',\n",
       " 'HR Administrator',\n",
       " 'Director',\n",
       " 'Human Resource',\n",
       " 'HR Manager',\n",
       " 'Executive Hiring',\n",
       " 'Company HR',\n",
       " 'Company HR',\n",
       " 'Senior Executive Talent Acquisition',\n",
       " 'HR Team Lead',\n",
       " 'HR Manager',\n",
       " 'HR Executive',\n",
       " 'Manager Talent Acquisition',\n",
       " 'HR Head',\n",
       " 'HR MANAGER',\n",
       " 'HR Recruiter',\n",
       " 'HR Recruiter',\n",
       " 'Manager Human Resources',\n",
       " 'Company Recruiter',\n",
       " 'Lead Talent acquisition',\n",
       " 'Proprietor',\n",
       " 'CEO',\n",
       " 'Founder CEO',\n",
       " 'HR Executive',\n",
       " 'Senior Manager',\n",
       " 'Company Recruitment Head',\n",
       " 'Project Manager',\n",
       " 'Recruitment Consultant',\n",
       " 'Recruitment Manager',\n",
       " 'Head',\n",
       " 'Consultant',\n",
       " 'senior technology instructor',\n",
       " 'HR Recruiter/HR Excutive',\n",
       " 'Manager, Technical Recruiting',\n",
       " 'Technical Recruiter',\n",
       " 'Erp Implementer',\n",
       " 'Head Analytics',\n",
       " 'Chief Technical Officer',\n",
       " 'Sr Product Manager',\n",
       " 'Director Global Delivery',\n",
       " 'Co Founder',\n",
       " 'HR Manager',\n",
       " 'Architect',\n",
       " 'Managing Partner']"
      ]
     },
     "execution_count": 40,
     "metadata": {},
     "output_type": "execute_result"
    }
   ],
   "source": [
    "designation_list=[]\n",
    "for i in search_designation:\n",
    "    designation_list.append(i.text)\n",
    "designation_list "
   ]
  },
  {
   "cell_type": "code",
   "execution_count": 46,
   "id": "4d3b1fc5",
   "metadata": {},
   "outputs": [
    {
     "data": {
      "text/plain": [
       "[<selenium.webdriver.remote.webelement.WebElement (session=\"51e5941a0424e14c29958a9036b9284d\", element=\"a412b1c0-d054-41ee-90af-9981b44838fd\")>,\n",
       " <selenium.webdriver.remote.webelement.WebElement (session=\"51e5941a0424e14c29958a9036b9284d\", element=\"769ee6e4-4901-4ee2-859d-41825a7c7154\")>,\n",
       " <selenium.webdriver.remote.webelement.WebElement (session=\"51e5941a0424e14c29958a9036b9284d\", element=\"c6d730be-8fde-4949-9a8d-265256712403\")>,\n",
       " <selenium.webdriver.remote.webelement.WebElement (session=\"51e5941a0424e14c29958a9036b9284d\", element=\"6de09280-f5e0-4ce4-9d06-3f03b2edbc6e\")>,\n",
       " <selenium.webdriver.remote.webelement.WebElement (session=\"51e5941a0424e14c29958a9036b9284d\", element=\"aca013f7-c283-4c5d-bd7a-139f406f321d\")>,\n",
       " <selenium.webdriver.remote.webelement.WebElement (session=\"51e5941a0424e14c29958a9036b9284d\", element=\"3425e342-243a-4ef6-9fb6-09dcd5190c9c\")>,\n",
       " <selenium.webdriver.remote.webelement.WebElement (session=\"51e5941a0424e14c29958a9036b9284d\", element=\"cf865dc7-dceb-4dae-9c2e-275cd0ccdbcb\")>,\n",
       " <selenium.webdriver.remote.webelement.WebElement (session=\"51e5941a0424e14c29958a9036b9284d\", element=\"b650b6ee-7343-4bae-9764-1d57539b839c\")>,\n",
       " <selenium.webdriver.remote.webelement.WebElement (session=\"51e5941a0424e14c29958a9036b9284d\", element=\"6ca34b30-c0ad-45f2-ab37-5e35387c5f75\")>,\n",
       " <selenium.webdriver.remote.webelement.WebElement (session=\"51e5941a0424e14c29958a9036b9284d\", element=\"9c894978-f501-41d7-aba2-b53421bdab9c\")>,\n",
       " <selenium.webdriver.remote.webelement.WebElement (session=\"51e5941a0424e14c29958a9036b9284d\", element=\"fae39afc-b0c6-4b28-953f-476356680bdd\")>,\n",
       " <selenium.webdriver.remote.webelement.WebElement (session=\"51e5941a0424e14c29958a9036b9284d\", element=\"39eb1586-3ab0-415f-9c60-4b3937448868\")>,\n",
       " <selenium.webdriver.remote.webelement.WebElement (session=\"51e5941a0424e14c29958a9036b9284d\", element=\"64f359cb-6f21-47f4-8b93-6116f357d675\")>,\n",
       " <selenium.webdriver.remote.webelement.WebElement (session=\"51e5941a0424e14c29958a9036b9284d\", element=\"627e8a53-4ba3-4120-8738-d4f8f0170268\")>,\n",
       " <selenium.webdriver.remote.webelement.WebElement (session=\"51e5941a0424e14c29958a9036b9284d\", element=\"43048f38-7751-4773-83e1-a47c94d425b3\")>,\n",
       " <selenium.webdriver.remote.webelement.WebElement (session=\"51e5941a0424e14c29958a9036b9284d\", element=\"1bbe152a-50c7-489b-a652-6b19b245633a\")>,\n",
       " <selenium.webdriver.remote.webelement.WebElement (session=\"51e5941a0424e14c29958a9036b9284d\", element=\"378c773d-b57c-4dbb-a890-a1bef0feedf4\")>,\n",
       " <selenium.webdriver.remote.webelement.WebElement (session=\"51e5941a0424e14c29958a9036b9284d\", element=\"112c32a2-9e41-4b6f-ad24-58202a485653\")>,\n",
       " <selenium.webdriver.remote.webelement.WebElement (session=\"51e5941a0424e14c29958a9036b9284d\", element=\"0cdb1707-c5dc-41bd-9349-1b74c0f5a552\")>,\n",
       " <selenium.webdriver.remote.webelement.WebElement (session=\"51e5941a0424e14c29958a9036b9284d\", element=\"7dc41f41-0e22-4c83-afe7-a37211ecad1c\")>,\n",
       " <selenium.webdriver.remote.webelement.WebElement (session=\"51e5941a0424e14c29958a9036b9284d\", element=\"edc1aa38-b2b9-4bb0-8baf-75f236293b5d\")>,\n",
       " <selenium.webdriver.remote.webelement.WebElement (session=\"51e5941a0424e14c29958a9036b9284d\", element=\"364d1a2e-b0df-414b-a1cc-88a952243080\")>,\n",
       " <selenium.webdriver.remote.webelement.WebElement (session=\"51e5941a0424e14c29958a9036b9284d\", element=\"57187595-f7ff-4bdf-914b-af12b4c75155\")>,\n",
       " <selenium.webdriver.remote.webelement.WebElement (session=\"51e5941a0424e14c29958a9036b9284d\", element=\"7b623d5f-089d-4caf-bd6c-0a111f897b65\")>,\n",
       " <selenium.webdriver.remote.webelement.WebElement (session=\"51e5941a0424e14c29958a9036b9284d\", element=\"9ba087c9-eeb1-4b72-ab5c-b8ca95de7058\")>,\n",
       " <selenium.webdriver.remote.webelement.WebElement (session=\"51e5941a0424e14c29958a9036b9284d\", element=\"c9bd93e4-1ded-4d38-a776-b81923c64993\")>,\n",
       " <selenium.webdriver.remote.webelement.WebElement (session=\"51e5941a0424e14c29958a9036b9284d\", element=\"81d4f862-3009-4de6-ae42-8d4da9d2e1e6\")>,\n",
       " <selenium.webdriver.remote.webelement.WebElement (session=\"51e5941a0424e14c29958a9036b9284d\", element=\"fa31e82a-eb3a-41bc-a811-35c020115baa\")>,\n",
       " <selenium.webdriver.remote.webelement.WebElement (session=\"51e5941a0424e14c29958a9036b9284d\", element=\"32146b21-e95d-46d2-94f5-e6a2c4494dd6\")>,\n",
       " <selenium.webdriver.remote.webelement.WebElement (session=\"51e5941a0424e14c29958a9036b9284d\", element=\"035aed3d-fad8-4580-a539-09031dd8a955\")>,\n",
       " <selenium.webdriver.remote.webelement.WebElement (session=\"51e5941a0424e14c29958a9036b9284d\", element=\"6a23eac4-f380-4fa9-af1f-b3d94a3192eb\")>,\n",
       " <selenium.webdriver.remote.webelement.WebElement (session=\"51e5941a0424e14c29958a9036b9284d\", element=\"24982d25-6f7c-4b47-849e-485c91fa9d86\")>,\n",
       " <selenium.webdriver.remote.webelement.WebElement (session=\"51e5941a0424e14c29958a9036b9284d\", element=\"28d76c45-4f92-4457-9559-087ac1a9ae52\")>,\n",
       " <selenium.webdriver.remote.webelement.WebElement (session=\"51e5941a0424e14c29958a9036b9284d\", element=\"1daeada4-29bd-46cc-8291-4b30fe1b6f33\")>,\n",
       " <selenium.webdriver.remote.webelement.WebElement (session=\"51e5941a0424e14c29958a9036b9284d\", element=\"b421d054-e0bb-482b-bb53-59a8de200f83\")>,\n",
       " <selenium.webdriver.remote.webelement.WebElement (session=\"51e5941a0424e14c29958a9036b9284d\", element=\"8c40a96f-8835-4059-a7f7-cc721f108e0c\")>,\n",
       " <selenium.webdriver.remote.webelement.WebElement (session=\"51e5941a0424e14c29958a9036b9284d\", element=\"e1f60e11-874e-47af-9e87-c781f422710e\")>,\n",
       " <selenium.webdriver.remote.webelement.WebElement (session=\"51e5941a0424e14c29958a9036b9284d\", element=\"379bcdc1-d944-4054-a7c4-6da6abb777b9\")>,\n",
       " <selenium.webdriver.remote.webelement.WebElement (session=\"51e5941a0424e14c29958a9036b9284d\", element=\"e7687c02-8376-4ff3-a8e9-7c70f293908d\")>,\n",
       " <selenium.webdriver.remote.webelement.WebElement (session=\"51e5941a0424e14c29958a9036b9284d\", element=\"f2dd782b-074a-4d83-98a0-ac366be43177\")>,\n",
       " <selenium.webdriver.remote.webelement.WebElement (session=\"51e5941a0424e14c29958a9036b9284d\", element=\"48680697-7d4d-4bd4-af80-6f3cb83a930d\")>,\n",
       " <selenium.webdriver.remote.webelement.WebElement (session=\"51e5941a0424e14c29958a9036b9284d\", element=\"da86d329-84d6-4702-b7c6-7694ab796371\")>,\n",
       " <selenium.webdriver.remote.webelement.WebElement (session=\"51e5941a0424e14c29958a9036b9284d\", element=\"d89f9e5e-440d-4caa-bdde-d94250016027\")>,\n",
       " <selenium.webdriver.remote.webelement.WebElement (session=\"51e5941a0424e14c29958a9036b9284d\", element=\"3e026724-64dd-4151-8973-2e4f1ef64851\")>,\n",
       " <selenium.webdriver.remote.webelement.WebElement (session=\"51e5941a0424e14c29958a9036b9284d\", element=\"22973d32-21cf-40aa-9bf0-d8d9bd3d67e2\")>,\n",
       " <selenium.webdriver.remote.webelement.WebElement (session=\"51e5941a0424e14c29958a9036b9284d\", element=\"322a2f7e-dfd8-49c6-86e7-e3cd0fb88b94\")>,\n",
       " <selenium.webdriver.remote.webelement.WebElement (session=\"51e5941a0424e14c29958a9036b9284d\", element=\"02f876ad-66cc-441f-ade3-a895d1a660b0\")>,\n",
       " <selenium.webdriver.remote.webelement.WebElement (session=\"51e5941a0424e14c29958a9036b9284d\", element=\"94a355ad-f090-4fe2-b69e-6018add9179e\")>,\n",
       " <selenium.webdriver.remote.webelement.WebElement (session=\"51e5941a0424e14c29958a9036b9284d\", element=\"e6982b7f-b873-4309-b00e-3d2a333e7b9e\")>,\n",
       " <selenium.webdriver.remote.webelement.WebElement (session=\"51e5941a0424e14c29958a9036b9284d\", element=\"97ebfaff-f2c0-4bf0-aeab-451bd9738ae1\")>]"
      ]
     },
     "execution_count": 46,
     "metadata": {},
     "output_type": "execute_result"
    }
   ],
   "source": [
    "search_company=driver.find_elements_by_xpath(\"//div[@class='recInfo']/div/p/a[2]\")\n",
    "search_company"
   ]
  },
  {
   "cell_type": "code",
   "execution_count": 47,
   "id": "862420a9",
   "metadata": {},
   "outputs": [
    {
     "data": {
      "text/plain": [
       "['Data Science Network',\n",
       " 'Shore Infotech India Pvt. Ltd',\n",
       " 'MARSIAN Technologies LLP',\n",
       " 'Enerlytics Software Solutions Pvt Ltd',\n",
       " 'LibraryXProject',\n",
       " 'Apidel Technologies Division of Transpower',\n",
       " 'IFMR',\n",
       " 'Techvantage Systems Pvt Ltd',\n",
       " 'Weupskill- Live Wire India',\n",
       " 'CBL Data Science Private Limited',\n",
       " 'Infinitive Software Solutions Pvt.Ltd.',\n",
       " 'Innominds Software',\n",
       " 'MoneyTap',\n",
       " 'QuantMagnum Technologies Pvt. Ltd.',\n",
       " 'Bristlecone India Ltd',\n",
       " 'SocialPrachar.com',\n",
       " 'BISP Solutions',\n",
       " 'Easi Tax',\n",
       " 'Novelworx Digital Solutions',\n",
       " 'AXESTRACK SOFTWARE SOLUTIONS PRIVATE...',\n",
       " 'FirstTech Consaltants Pvt.Ltd',\n",
       " 'Affine Analytics',\n",
       " 'Compumatrice Multimedia Pvt Ltd',\n",
       " 'Exela Technologies',\n",
       " 'NEAL ANALYTICS SERVICES PVT LTD',\n",
       " 'Autumn Leaf Consulting Services Private...',\n",
       " 'trainin',\n",
       " 'Nanoprecise Sci Corp',\n",
       " 'R.S Consultancy &amp; Services',\n",
       " 'Techcovery',\n",
       " 'Independent Consultant',\n",
       " 'Confidential',\n",
       " 'Dollarbird Information Services Pvt, Ltd',\n",
       " 'JOBSMILL BUSINESS SOLUTIONS PRIVATE LIMITED',\n",
       " 'HyrEzy Talent Solutions LLP',\n",
       " 'Trisect',\n",
       " 'ASCO consulting',\n",
       " 'NY INST',\n",
       " '3D India Staffing Research &amp; Consulting...',\n",
       " 'O.C. Tanner',\n",
       " 'Demand Matrix',\n",
       " 'MADHUSUDHAN SRIDHAR',\n",
       " 'Suntech Global',\n",
       " 'Strategic Consulting Lab',\n",
       " 'Impel Labs Pvt. Ltd.',\n",
       " 'MRP Advisers',\n",
       " 'Saras Solutions India Pvt Ltd',\n",
       " 'WildJasmine',\n",
       " 'LNT Private Limited',\n",
       " 'Granular.ai']"
      ]
     },
     "execution_count": 47,
     "metadata": {},
     "output_type": "execute_result"
    }
   ],
   "source": [
    "company_list=[]\n",
    "for i in search_company:\n",
    "    company_list.append(i.text)\n",
    "company_list \n"
   ]
  },
  {
   "cell_type": "code",
   "execution_count": 52,
   "id": "134377be",
   "metadata": {},
   "outputs": [
    {
     "data": {
      "text/plain": [
       "[<selenium.webdriver.remote.webelement.WebElement (session=\"51e5941a0424e14c29958a9036b9284d\", element=\"1e460421-06e4-4874-9bd0-401d297420ad\")>,\n",
       " <selenium.webdriver.remote.webelement.WebElement (session=\"51e5941a0424e14c29958a9036b9284d\", element=\"1d160282-e299-4071-b953-927e07f9eed9\")>,\n",
       " <selenium.webdriver.remote.webelement.WebElement (session=\"51e5941a0424e14c29958a9036b9284d\", element=\"b7a9fd24-35b3-4837-8d85-61ed6331dce8\")>,\n",
       " <selenium.webdriver.remote.webelement.WebElement (session=\"51e5941a0424e14c29958a9036b9284d\", element=\"08d346da-4a74-4bb4-9fb7-2fa7108b2f8e\")>,\n",
       " <selenium.webdriver.remote.webelement.WebElement (session=\"51e5941a0424e14c29958a9036b9284d\", element=\"857f7ac9-7fb8-43d9-9274-c948e1f22743\")>,\n",
       " <selenium.webdriver.remote.webelement.WebElement (session=\"51e5941a0424e14c29958a9036b9284d\", element=\"dcee526b-cc05-46d3-8684-d38655179b29\")>,\n",
       " <selenium.webdriver.remote.webelement.WebElement (session=\"51e5941a0424e14c29958a9036b9284d\", element=\"0ca4f681-07ad-434d-8fdc-8de6840e0cef\")>,\n",
       " <selenium.webdriver.remote.webelement.WebElement (session=\"51e5941a0424e14c29958a9036b9284d\", element=\"ac8fb010-e757-4d7e-bcbc-f58b08688fa8\")>,\n",
       " <selenium.webdriver.remote.webelement.WebElement (session=\"51e5941a0424e14c29958a9036b9284d\", element=\"4671ecf9-3067-48ee-82f6-d3b644ed6c6a\")>,\n",
       " <selenium.webdriver.remote.webelement.WebElement (session=\"51e5941a0424e14c29958a9036b9284d\", element=\"68b1e1ae-8bfc-436c-9e8e-661e72063d06\")>,\n",
       " <selenium.webdriver.remote.webelement.WebElement (session=\"51e5941a0424e14c29958a9036b9284d\", element=\"1d05429e-6f63-4cf1-a45e-a10ca69d51db\")>,\n",
       " <selenium.webdriver.remote.webelement.WebElement (session=\"51e5941a0424e14c29958a9036b9284d\", element=\"e003b06b-1ca7-426a-b837-3ca9efbe9569\")>,\n",
       " <selenium.webdriver.remote.webelement.WebElement (session=\"51e5941a0424e14c29958a9036b9284d\", element=\"14c68368-3e29-4c1e-8368-dd03ea1c54d7\")>,\n",
       " <selenium.webdriver.remote.webelement.WebElement (session=\"51e5941a0424e14c29958a9036b9284d\", element=\"adbee96f-ea73-4b14-9508-b433ab5997e0\")>,\n",
       " <selenium.webdriver.remote.webelement.WebElement (session=\"51e5941a0424e14c29958a9036b9284d\", element=\"9b6e3433-19fc-41ee-94eb-5dbf24606c7a\")>,\n",
       " <selenium.webdriver.remote.webelement.WebElement (session=\"51e5941a0424e14c29958a9036b9284d\", element=\"3718120f-d2f7-4edc-a0f4-17c2eb9df304\")>,\n",
       " <selenium.webdriver.remote.webelement.WebElement (session=\"51e5941a0424e14c29958a9036b9284d\", element=\"b6fa6b72-8d44-414b-b523-34568885f967\")>,\n",
       " <selenium.webdriver.remote.webelement.WebElement (session=\"51e5941a0424e14c29958a9036b9284d\", element=\"b3e213d9-dd17-4fb1-a50a-81f96857e0d7\")>,\n",
       " <selenium.webdriver.remote.webelement.WebElement (session=\"51e5941a0424e14c29958a9036b9284d\", element=\"c13aa5a3-2375-4eae-9b41-93213d1dbbe0\")>,\n",
       " <selenium.webdriver.remote.webelement.WebElement (session=\"51e5941a0424e14c29958a9036b9284d\", element=\"06d07a23-3ae4-478b-98c5-a7fe35ad4129\")>,\n",
       " <selenium.webdriver.remote.webelement.WebElement (session=\"51e5941a0424e14c29958a9036b9284d\", element=\"62b7cdab-d3b1-48bb-b1fc-ae4cbd1772f3\")>,\n",
       " <selenium.webdriver.remote.webelement.WebElement (session=\"51e5941a0424e14c29958a9036b9284d\", element=\"1fa36fc1-2671-43af-b14a-545b7475d1bf\")>,\n",
       " <selenium.webdriver.remote.webelement.WebElement (session=\"51e5941a0424e14c29958a9036b9284d\", element=\"2c424841-c69b-4a23-8e00-ec6e4b33a123\")>,\n",
       " <selenium.webdriver.remote.webelement.WebElement (session=\"51e5941a0424e14c29958a9036b9284d\", element=\"14d3e1bd-b73b-4297-b868-850d86fc96f7\")>,\n",
       " <selenium.webdriver.remote.webelement.WebElement (session=\"51e5941a0424e14c29958a9036b9284d\", element=\"96c1b0aa-1be8-4ea1-8b01-4f5e467ca748\")>,\n",
       " <selenium.webdriver.remote.webelement.WebElement (session=\"51e5941a0424e14c29958a9036b9284d\", element=\"69f9cbed-82b2-4dc9-bde4-a4b0c974cac7\")>,\n",
       " <selenium.webdriver.remote.webelement.WebElement (session=\"51e5941a0424e14c29958a9036b9284d\", element=\"f665711e-bf86-4420-9c5a-ccfac61d7303\")>,\n",
       " <selenium.webdriver.remote.webelement.WebElement (session=\"51e5941a0424e14c29958a9036b9284d\", element=\"1a8abdee-59f8-42a0-9122-b66314d912ff\")>,\n",
       " <selenium.webdriver.remote.webelement.WebElement (session=\"51e5941a0424e14c29958a9036b9284d\", element=\"a9c24513-e6a4-4237-b8cd-4773e20eae89\")>,\n",
       " <selenium.webdriver.remote.webelement.WebElement (session=\"51e5941a0424e14c29958a9036b9284d\", element=\"62e6f72e-969b-49d7-afac-9bb8d990c8c2\")>,\n",
       " <selenium.webdriver.remote.webelement.WebElement (session=\"51e5941a0424e14c29958a9036b9284d\", element=\"1b3880c8-31a0-47a3-be14-808934151953\")>,\n",
       " <selenium.webdriver.remote.webelement.WebElement (session=\"51e5941a0424e14c29958a9036b9284d\", element=\"0c2b5d1b-1df9-43cd-a012-302019ab4897\")>,\n",
       " <selenium.webdriver.remote.webelement.WebElement (session=\"51e5941a0424e14c29958a9036b9284d\", element=\"b1195aa3-2c86-42bd-ac09-a967c6aade7a\")>,\n",
       " <selenium.webdriver.remote.webelement.WebElement (session=\"51e5941a0424e14c29958a9036b9284d\", element=\"fa643fbb-08ef-48db-afee-53ab7f530c6b\")>,\n",
       " <selenium.webdriver.remote.webelement.WebElement (session=\"51e5941a0424e14c29958a9036b9284d\", element=\"10ef760e-948c-4b4b-8170-effeb44475ad\")>,\n",
       " <selenium.webdriver.remote.webelement.WebElement (session=\"51e5941a0424e14c29958a9036b9284d\", element=\"997552b2-9574-4086-86a1-3e732cb0310d\")>,\n",
       " <selenium.webdriver.remote.webelement.WebElement (session=\"51e5941a0424e14c29958a9036b9284d\", element=\"dca7a939-d473-41ba-9981-37d5e342652e\")>,\n",
       " <selenium.webdriver.remote.webelement.WebElement (session=\"51e5941a0424e14c29958a9036b9284d\", element=\"9a0ce0c5-b2ae-4cef-ba5b-52831b090426\")>,\n",
       " <selenium.webdriver.remote.webelement.WebElement (session=\"51e5941a0424e14c29958a9036b9284d\", element=\"07bf500c-f92f-40c0-bfaa-6b4f14b4cc99\")>,\n",
       " <selenium.webdriver.remote.webelement.WebElement (session=\"51e5941a0424e14c29958a9036b9284d\", element=\"936a31c5-0039-4053-ac0b-b79d20ac2710\")>,\n",
       " <selenium.webdriver.remote.webelement.WebElement (session=\"51e5941a0424e14c29958a9036b9284d\", element=\"ba8068c1-66c1-4727-aece-a1f482641556\")>,\n",
       " <selenium.webdriver.remote.webelement.WebElement (session=\"51e5941a0424e14c29958a9036b9284d\", element=\"4a23d1d0-19f2-426e-9e20-1dd5b9158f62\")>,\n",
       " <selenium.webdriver.remote.webelement.WebElement (session=\"51e5941a0424e14c29958a9036b9284d\", element=\"eed7370e-519c-477e-b11c-a03472fe8c5e\")>,\n",
       " <selenium.webdriver.remote.webelement.WebElement (session=\"51e5941a0424e14c29958a9036b9284d\", element=\"5618b4fc-70eb-43bb-bc57-6889ec87717a\")>,\n",
       " <selenium.webdriver.remote.webelement.WebElement (session=\"51e5941a0424e14c29958a9036b9284d\", element=\"e47515f5-4c11-4c81-af2b-ce2d0e9ddc3c\")>,\n",
       " <selenium.webdriver.remote.webelement.WebElement (session=\"51e5941a0424e14c29958a9036b9284d\", element=\"c9c4f261-5042-4c4b-b473-9d00dfbc2e34\")>,\n",
       " <selenium.webdriver.remote.webelement.WebElement (session=\"51e5941a0424e14c29958a9036b9284d\", element=\"3ed41b6c-97c8-4c98-8596-8e135297cd66\")>,\n",
       " <selenium.webdriver.remote.webelement.WebElement (session=\"51e5941a0424e14c29958a9036b9284d\", element=\"6dcf4105-3c76-41b0-9202-346eb1cf5e2f\")>,\n",
       " <selenium.webdriver.remote.webelement.WebElement (session=\"51e5941a0424e14c29958a9036b9284d\", element=\"42bcd31f-d143-4840-b645-f74d3beb091d\")>,\n",
       " <selenium.webdriver.remote.webelement.WebElement (session=\"51e5941a0424e14c29958a9036b9284d\", element=\"2be1f36b-2b42-4e7e-a186-334d8e8fb772\")>]"
      ]
     },
     "execution_count": 52,
     "metadata": {},
     "output_type": "execute_result"
    }
   ],
   "source": [
    "required_skills=driver.find_elements_by_xpath(\"//div[@class='hireSec highlightable']\")\n",
    "required_skills"
   ]
  },
  {
   "cell_type": "code",
   "execution_count": 53,
   "id": "ef70204c",
   "metadata": {},
   "outputs": [
    {
     "data": {
      "text/plain": [
       "['Classic ASP Developer, Internet Marketing Professional, Data Science SME, Content Writers, SEO Professional, Revenue Professional',\n",
       " '.Net, Java, Data Science, Linux Administration, Sql Server Development, Winforms, Wcf Services, Wpf, Telecom Engineering, Technical Management, Software',\n",
       " 'Data Science, Artificial Intelligence, Machine Learning, Business Analytics',\n",
       " 'Mean Stack, javascript, angularjs, mongodb, Web Services, rest, express, Node.js, Big Data, iot, Data Science, Cloud Computing, saas, Aws',\n",
       " 'Hadoop, Spark, Digital Strategy, Data Architecture, Command Center, Cdp, Dmp, Kafka, Data Science, Data Analysis, Big Data Analytics, Real Time Analysis, SQL',\n",
       " 'Analytics, Business Intelligence, Business Analytics, Predictive Modeling, Predictive Analytics, Data Science, Data Analysis, Data Analytics, Big Data, Big',\n",
       " 'Data Science',\n",
       " 'Machine Learning, algorithms, Go Getter, Computer Science, spark, Big Data, hdfs, sql, cassandra, hadoop, python, scala, java, Data Science, Front End',\n",
       " 'Technical Training, Software Development, Presentation Skills, B.tech, M.tech, B.e., mca, msc, Computer Science, freshers, jobs in indore, Data Science, itil',\n",
       " 'Software Development, It Sales, Account Management, Data Analysis, Customer Service, Sr, Software Engineering, Mvc, Ajax, Asp.net, Html, C#, Javascript',\n",
       " 'Oracle Dba, Data Science, Data Warehousing, ETL, Jupyter, Numpy, Data Transformation, Snowflake, Teradata, Python, Data Manipulation, Relational Databases',\n",
       " 'Qa, Ui/ux, Java Developer, Java Architect, C++/qt, Php, Lamp, Api, J2ee, Java, Soa, Esb, Middleware, Bigdata Achitect, Hadoop Architect, Deep',\n",
       " 'Business Intelligence, Data Warehousing, Data Science, Business Analytics, Customer Support, Business Reporting, Bi',\n",
       " 'Office Administration, Hr Administration, telecalling, client relationship management, Client Acquisition, Sales, Reception, HR, Recruitment, Onboarding, Human',\n",
       " 'Qlikview, Qlik Sense, Microsoft Azure, Power Bi, Data Science, Machine Learning',\n",
       " 'Social Media, digital media maketing, seo, smm, smo, sem, Content Wirting, social media marketing, social media manager, digital media marketing manager',\n",
       " 'Big Data, Hadoop, Data Analytics, Data Science',\n",
       " 'Telecalling, Client Interaction, Marketing, Research, Web Development, Social Media Marketing, Data Entry Operation, Excel, Ms Office, Invoicing',\n",
       " 'Data Science',\n",
       " 'Corporate Sales, Software Development, Software Sales, Marketing, Creative Designing, Corporate Planning, Senior Management, Crm, Client Relationship',\n",
       " 'Data Analytics, Data Science, Machine Learning, Deep Learning, Nlp, Data Mining, Python, R, Database Administration, Text Mining',\n",
       " 'Data Science, Machine Learning, Python, R, Deep Learning, Big Data, Hadoop',\n",
       " 'Big Data, Data Science, Artificial Intelligence, Hadoop, Ui Development, Php, Freelancing, .Net, Software Testing, Sap, Leadership Hiring',\n",
       " 'Java, Net, Angularjs, Hr, Infrastructure, Management, Project Management, Business Analysis, Data Science, Information Technology, Technology',\n",
       " 'Data Science, Artificial Intelligence, Machine Learning, Data Analytics',\n",
       " 'Software Architecture, Vp Engineering, Product Management, analytics, Data Science, Node.js, Principal Engineer, Big Data, python, angularjs, React.js',\n",
       " 'Data Science, Hadoop, Rpas, Devops, Python, Aws, Teaching, Big Data',\n",
       " 'Signal Processing, Machine Learning, Neural Networks, Data Science, Predictive Analytics, Time Series Analysis, Data Visualization, Technical Leadership, Data',\n",
       " 'Web Technologies, Project Management, Software Architecture, Data Science, Object Oriented Programming, Computer Science, Electrical Engineering, Architecture',\n",
       " 'Python, Artificial Intelligence, Machine Learning, Data Science',\n",
       " 'Data Science, Artificial Intelligence, analytics, Business Intelligence, python, tableau, Power Bi, qlikview, sql, Data Warehousing, Data Visualization',\n",
       " 'Server Administartion, Verilog, Vhdl, Digital Marketing, Market Research, Property Research, Legal, It And Non It Recruitment, Logistics, Supply Chain, Bfsi',\n",
       " 'Data Analytics, Managed Services, Team Leading, python, Machine Learning, Google Analytics, Dmp, Aws, Campaign Analytics, Digital Campaigns, Audience',\n",
       " 'Data Science, Machine Learning, Big Data Analytics, Spark, Python, R, Networking, Network Engineering, Placement, Training, Sql, Marketing, Mainframes, All',\n",
       " 'Walmart Interra Skeps Expressstores indifi whitehatJr Practo Zylo Doctalk Medtrail',\n",
       " 'Java, Python, Angularjs, Software Testing, Machine Learning, Data Science, Javascript, Django, React.js, Node.js, Augmented Reality, Virtual Reality, Advanced',\n",
       " 'Machine Learning, Artificial Intelligence, Data Science, Software Engineering, Software Development, Graduate Engineer Trainee, Fresher, Data Analytics, Java',\n",
       " 'C, C++, Artificial Intelligence, Python, Php, Web Development, Matlab, Data Science, Augmented Reality, C C++',\n",
       " 'Relationship Management, Retail Sales, Private Banking, Mutual Funds, NISM, Equity, Finance, Financial Products, Financial Services, Verbal, Written',\n",
       " 'Data Science, Software Engineering',\n",
       " 'Data Science, Big Data Analytics, Digital Marketing, Content Writing, Ui Development, Database Development, Qa Automation, Python, Project Management',\n",
       " 'Data Science, Recruitment, Salary',\n",
       " 'B.Tech, Tableau, Statistics, R, Analytics, Time Series, Data Science, Business Solutions, SQL, Technical Skills, SSAS, SQL Server, Analysis Services, Qlikview',\n",
       " 'Software Development, Business Intelligence, Big Data Analytics, Database Administration, Data Science, Microsoft Azure, Spark, Cassandra, Object Oriented',\n",
       " 'Data Science, Node.js, Angularjs',\n",
       " 'Data Science, Media Marketing, Resource Planning, Managed Services, Display Advertising, Machine Learning, Python, Etl, Sql',\n",
       " 'Data Analysis, Learning, Data Science, Computer Science, Communication Skills',\n",
       " 'Java, Hadoop, R, Machine Learning, Spark, Flume, Hdfs, Data Mining, Sas, Big, Data Science, Cloudera, Impala, Bigdata',\n",
       " 'Software Development, Core Java, Unit Testing, Customer Experience, Problem Solving, Communication Skills, Mysql, Data Science, Sales Management, Analytics',\n",
       " 'Machine Learning, Data Science, Product Management, New Product, Data Analysis, Computer Vision, Deep Learning, Python, Remote Sensing']"
      ]
     },
     "execution_count": 53,
     "metadata": {},
     "output_type": "execute_result"
    }
   ],
   "source": [
    "skills_list=[]\n",
    "for i in required_skills:\n",
    "    skills_list.append(i.text)\n",
    "skills_list "
   ]
  },
  {
   "cell_type": "code",
   "execution_count": 58,
   "id": "d89501b3",
   "metadata": {},
   "outputs": [
    {
     "data": {
      "text/plain": [
       "[<selenium.webdriver.remote.webelement.WebElement (session=\"51e5941a0424e14c29958a9036b9284d\", element=\"f14393f3-3b3b-46cd-9cf3-2efeb555dc5f\")>,\n",
       " <selenium.webdriver.remote.webelement.WebElement (session=\"51e5941a0424e14c29958a9036b9284d\", element=\"eff2d001-99a1-41ba-be64-52700b0d0567\")>,\n",
       " <selenium.webdriver.remote.webelement.WebElement (session=\"51e5941a0424e14c29958a9036b9284d\", element=\"b2bd59cc-63ed-4bec-b9aa-57dc82df8053\")>,\n",
       " <selenium.webdriver.remote.webelement.WebElement (session=\"51e5941a0424e14c29958a9036b9284d\", element=\"09121a60-ec43-4e7e-bd2c-a7663bacca75\")>,\n",
       " <selenium.webdriver.remote.webelement.WebElement (session=\"51e5941a0424e14c29958a9036b9284d\", element=\"171f5cf6-f0e8-4536-9e29-d5442d1b58fe\")>,\n",
       " <selenium.webdriver.remote.webelement.WebElement (session=\"51e5941a0424e14c29958a9036b9284d\", element=\"45a3e72e-ee76-4995-afc3-92c6c772e002\")>,\n",
       " <selenium.webdriver.remote.webelement.WebElement (session=\"51e5941a0424e14c29958a9036b9284d\", element=\"d004842c-55a5-4f6d-b07e-b979d6462cb5\")>,\n",
       " <selenium.webdriver.remote.webelement.WebElement (session=\"51e5941a0424e14c29958a9036b9284d\", element=\"9ccec631-3f70-494e-822c-332897ed4a07\")>,\n",
       " <selenium.webdriver.remote.webelement.WebElement (session=\"51e5941a0424e14c29958a9036b9284d\", element=\"afb371ae-c80a-40cc-a1b1-cee58a3d3010\")>,\n",
       " <selenium.webdriver.remote.webelement.WebElement (session=\"51e5941a0424e14c29958a9036b9284d\", element=\"5be5d2a4-8a15-4ec1-ae84-cd6afeef274a\")>,\n",
       " <selenium.webdriver.remote.webelement.WebElement (session=\"51e5941a0424e14c29958a9036b9284d\", element=\"8933dd31-fa06-4274-8d6d-f5070b2c8a9d\")>,\n",
       " <selenium.webdriver.remote.webelement.WebElement (session=\"51e5941a0424e14c29958a9036b9284d\", element=\"9d5be050-60c5-45be-88a6-c68efeb475a7\")>,\n",
       " <selenium.webdriver.remote.webelement.WebElement (session=\"51e5941a0424e14c29958a9036b9284d\", element=\"422cbfa4-cd0d-46d7-8ca2-d5521afe57c6\")>,\n",
       " <selenium.webdriver.remote.webelement.WebElement (session=\"51e5941a0424e14c29958a9036b9284d\", element=\"9f3cddcc-b0ea-44b1-a4c5-01935b9841a3\")>,\n",
       " <selenium.webdriver.remote.webelement.WebElement (session=\"51e5941a0424e14c29958a9036b9284d\", element=\"96ee58c5-23bd-40eb-92bc-2b03ba138da8\")>,\n",
       " <selenium.webdriver.remote.webelement.WebElement (session=\"51e5941a0424e14c29958a9036b9284d\", element=\"eca95d37-1785-4b03-b603-ac8c6824bedd\")>,\n",
       " <selenium.webdriver.remote.webelement.WebElement (session=\"51e5941a0424e14c29958a9036b9284d\", element=\"5b753dc6-6825-44c6-beeb-a2a24dd54ac7\")>,\n",
       " <selenium.webdriver.remote.webelement.WebElement (session=\"51e5941a0424e14c29958a9036b9284d\", element=\"014d660d-8b00-4e1d-950c-a25cb7fa3c5d\")>,\n",
       " <selenium.webdriver.remote.webelement.WebElement (session=\"51e5941a0424e14c29958a9036b9284d\", element=\"813c89ea-b32c-478a-b02f-87e0c5e90c7c\")>,\n",
       " <selenium.webdriver.remote.webelement.WebElement (session=\"51e5941a0424e14c29958a9036b9284d\", element=\"f848ab8f-36cb-4bc2-a2a1-59dfa76254ce\")>,\n",
       " <selenium.webdriver.remote.webelement.WebElement (session=\"51e5941a0424e14c29958a9036b9284d\", element=\"fb598501-c393-426e-bb4e-e0145d8d15b5\")>,\n",
       " <selenium.webdriver.remote.webelement.WebElement (session=\"51e5941a0424e14c29958a9036b9284d\", element=\"a82f74db-d6d5-4022-854b-65e3ac1c3563\")>,\n",
       " <selenium.webdriver.remote.webelement.WebElement (session=\"51e5941a0424e14c29958a9036b9284d\", element=\"db620931-939b-464e-9efa-44f899076a98\")>,\n",
       " <selenium.webdriver.remote.webelement.WebElement (session=\"51e5941a0424e14c29958a9036b9284d\", element=\"75c11738-7b01-4888-812c-cc8c6974f219\")>,\n",
       " <selenium.webdriver.remote.webelement.WebElement (session=\"51e5941a0424e14c29958a9036b9284d\", element=\"6b33e177-44c0-4052-b686-b9ad4c73cfbe\")>,\n",
       " <selenium.webdriver.remote.webelement.WebElement (session=\"51e5941a0424e14c29958a9036b9284d\", element=\"c8e64c4e-f390-4d55-aa0e-bef47830cbf8\")>,\n",
       " <selenium.webdriver.remote.webelement.WebElement (session=\"51e5941a0424e14c29958a9036b9284d\", element=\"1d6825b9-6712-4d6e-a177-030314260efc\")>,\n",
       " <selenium.webdriver.remote.webelement.WebElement (session=\"51e5941a0424e14c29958a9036b9284d\", element=\"e17c89b3-c001-497e-bf0b-ba9ec57e1848\")>,\n",
       " <selenium.webdriver.remote.webelement.WebElement (session=\"51e5941a0424e14c29958a9036b9284d\", element=\"2d434421-6e88-4695-80a7-b89660ffb205\")>,\n",
       " <selenium.webdriver.remote.webelement.WebElement (session=\"51e5941a0424e14c29958a9036b9284d\", element=\"c62661c1-52dc-4e80-abd6-c1fb5bd646d3\")>,\n",
       " <selenium.webdriver.remote.webelement.WebElement (session=\"51e5941a0424e14c29958a9036b9284d\", element=\"69b6bfcc-b89b-434f-b25c-41bb438ec0f9\")>,\n",
       " <selenium.webdriver.remote.webelement.WebElement (session=\"51e5941a0424e14c29958a9036b9284d\", element=\"0048d654-544a-44b4-b426-cd46cee54cf4\")>,\n",
       " <selenium.webdriver.remote.webelement.WebElement (session=\"51e5941a0424e14c29958a9036b9284d\", element=\"6cfa4860-57dc-4476-9823-9e1b11dffbd5\")>,\n",
       " <selenium.webdriver.remote.webelement.WebElement (session=\"51e5941a0424e14c29958a9036b9284d\", element=\"67a0e585-eec3-4d07-b1b1-2ecbedd0aa5a\")>,\n",
       " <selenium.webdriver.remote.webelement.WebElement (session=\"51e5941a0424e14c29958a9036b9284d\", element=\"5f8d5f3e-4a92-4638-be00-185ecc79fc8f\")>,\n",
       " <selenium.webdriver.remote.webelement.WebElement (session=\"51e5941a0424e14c29958a9036b9284d\", element=\"1221af2e-95e6-4fd2-82f6-89f53300c04d\")>,\n",
       " <selenium.webdriver.remote.webelement.WebElement (session=\"51e5941a0424e14c29958a9036b9284d\", element=\"baadef08-08d6-452d-a7a9-642fdacf2f5d\")>,\n",
       " <selenium.webdriver.remote.webelement.WebElement (session=\"51e5941a0424e14c29958a9036b9284d\", element=\"8eb5dd73-1dfa-4394-ba8a-354be8b012b7\")>,\n",
       " <selenium.webdriver.remote.webelement.WebElement (session=\"51e5941a0424e14c29958a9036b9284d\", element=\"fb31b6c3-5151-4798-a445-7ea0216297df\")>,\n",
       " <selenium.webdriver.remote.webelement.WebElement (session=\"51e5941a0424e14c29958a9036b9284d\", element=\"d2439b8d-8bec-4bec-824b-aece8b968898\")>,\n",
       " <selenium.webdriver.remote.webelement.WebElement (session=\"51e5941a0424e14c29958a9036b9284d\", element=\"f700003b-c392-4a19-961c-072f72a6a78c\")>,\n",
       " <selenium.webdriver.remote.webelement.WebElement (session=\"51e5941a0424e14c29958a9036b9284d\", element=\"43647b5d-8d42-42c8-b7f0-fdd9aaf20eee\")>,\n",
       " <selenium.webdriver.remote.webelement.WebElement (session=\"51e5941a0424e14c29958a9036b9284d\", element=\"e3efe7f2-f71f-44d9-a329-a2a41f0170bf\")>,\n",
       " <selenium.webdriver.remote.webelement.WebElement (session=\"51e5941a0424e14c29958a9036b9284d\", element=\"c56a8a4e-ad66-4012-88f2-f88c1ebcd989\")>,\n",
       " <selenium.webdriver.remote.webelement.WebElement (session=\"51e5941a0424e14c29958a9036b9284d\", element=\"d6098794-db1b-4545-9ad9-616684bf34c1\")>,\n",
       " <selenium.webdriver.remote.webelement.WebElement (session=\"51e5941a0424e14c29958a9036b9284d\", element=\"e0019bd1-3517-43d2-bc77-c8b59942f02a\")>,\n",
       " <selenium.webdriver.remote.webelement.WebElement (session=\"51e5941a0424e14c29958a9036b9284d\", element=\"8ca2346a-21eb-482d-ba1a-0c82727f637b\")>,\n",
       " <selenium.webdriver.remote.webelement.WebElement (session=\"51e5941a0424e14c29958a9036b9284d\", element=\"44843aa9-aae6-421b-abd2-b87c7f630ebe\")>]"
      ]
     },
     "execution_count": 58,
     "metadata": {},
     "output_type": "execute_result"
    }
   ],
   "source": [
    "search_location=driver.find_elements_by_xpath(\"//small[@class='ellipsis']\")\n",
    "search_location"
   ]
  },
  {
   "cell_type": "code",
   "execution_count": 60,
   "id": "38790fe3",
   "metadata": {},
   "outputs": [
    {
     "data": {
      "text/plain": [
       "['Delhi',\n",
       " 'Hyderabad / Secunderabad',\n",
       " 'Pune',\n",
       " 'Ahmedabad',\n",
       " 'UK - (london)',\n",
       " 'Vadodara / Baroda',\n",
       " 'Chennai',\n",
       " 'Trivandrum',\n",
       " 'Indore',\n",
       " 'Bengaluru / Bangalore',\n",
       " 'Hyderabad',\n",
       " 'Hyderabad / Secunderabad',\n",
       " 'Bengaluru / Bangalore',\n",
       " 'Mumbai',\n",
       " 'Pune',\n",
       " 'Hyderabad / Secunderabad',\n",
       " 'Bhopal',\n",
       " 'Navi Mumbai',\n",
       " 'Cochin',\n",
       " 'Delhi',\n",
       " 'Hyderabad / Secunderabad',\n",
       " 'Pune',\n",
       " 'Pune',\n",
       " 'Pune',\n",
       " 'Pune',\n",
       " 'Bengaluru / Bangalore',\n",
       " 'Bengaluru / Bangalore',\n",
       " 'Delhi',\n",
       " 'Bengaluru / Bangalore',\n",
       " 'Bengaluru / Bangalore',\n",
       " 'Bengaluru / Bangalore',\n",
       " 'Mysoru / Mysore',\n",
       " 'Hyderabad / Secunderabad',\n",
       " 'Ghaziabad',\n",
       " 'Noida',\n",
       " 'New Delhi',\n",
       " 'Chennai',\n",
       " 'Aligarh',\n",
       " 'Salt Lake City',\n",
       " 'Pune',\n",
       " 'Bengaluru / Bangalore',\n",
       " 'Mumbai',\n",
       " 'Indore',\n",
       " 'Bengaluru / Bangalore',\n",
       " 'MYSORE',\n",
       " 'Hyderabad / Secunderabad',\n",
       " 'Bengaluru / Bangalore',\n",
       " 'Mumbai']"
      ]
     },
     "execution_count": 60,
     "metadata": {},
     "output_type": "execute_result"
    }
   ],
   "source": [
    "location_list=[]\n",
    "for i in search_location:\n",
    "    location_list.append(i.text)\n",
    "location_list \n"
   ]
  },
  {
   "cell_type": "code",
   "execution_count": 56,
   "id": "c12cb01e",
   "metadata": {},
   "outputs": [
    {
     "ename": "ValueError",
     "evalue": "Length of values (48) does not match length of index (50)",
     "output_type": "error",
     "traceback": [
      "\u001b[1;31m---------------------------------------------------------------------------\u001b[0m",
      "\u001b[1;31mValueError\u001b[0m                                Traceback (most recent call last)",
      "\u001b[1;32m<ipython-input-56-f5445dbdc66c>\u001b[0m in \u001b[0;36m<module>\u001b[1;34m\u001b[0m\n\u001b[0;32m      4\u001b[0m \u001b[0mdf\u001b[0m\u001b[1;33m[\u001b[0m\u001b[1;34m'company'\u001b[0m\u001b[1;33m]\u001b[0m\u001b[1;33m=\u001b[0m\u001b[0mcompany_list\u001b[0m\u001b[1;33m\u001b[0m\u001b[1;33m\u001b[0m\u001b[0m\n\u001b[0;32m      5\u001b[0m \u001b[0mdf\u001b[0m\u001b[1;33m[\u001b[0m\u001b[1;34m'skills'\u001b[0m\u001b[1;33m]\u001b[0m\u001b[1;33m=\u001b[0m\u001b[0mskills_list\u001b[0m\u001b[1;33m\u001b[0m\u001b[1;33m\u001b[0m\u001b[0m\n\u001b[1;32m----> 6\u001b[1;33m \u001b[0mdf\u001b[0m\u001b[1;33m[\u001b[0m\u001b[1;34m'location'\u001b[0m\u001b[1;33m]\u001b[0m\u001b[1;33m=\u001b[0m\u001b[0mlocation_list\u001b[0m\u001b[1;33m\u001b[0m\u001b[1;33m\u001b[0m\u001b[0m\n\u001b[0m\u001b[0;32m      7\u001b[0m \u001b[0mdf\u001b[0m\u001b[1;33m\u001b[0m\u001b[1;33m\u001b[0m\u001b[0m\n",
      "\u001b[1;32mE:\\Users\\DELL\\anaconda3\\lib\\site-packages\\pandas\\core\\frame.py\u001b[0m in \u001b[0;36m__setitem__\u001b[1;34m(self, key, value)\u001b[0m\n\u001b[0;32m   3161\u001b[0m         \u001b[1;32melse\u001b[0m\u001b[1;33m:\u001b[0m\u001b[1;33m\u001b[0m\u001b[1;33m\u001b[0m\u001b[0m\n\u001b[0;32m   3162\u001b[0m             \u001b[1;31m# set column\u001b[0m\u001b[1;33m\u001b[0m\u001b[1;33m\u001b[0m\u001b[1;33m\u001b[0m\u001b[0m\n\u001b[1;32m-> 3163\u001b[1;33m             \u001b[0mself\u001b[0m\u001b[1;33m.\u001b[0m\u001b[0m_set_item\u001b[0m\u001b[1;33m(\u001b[0m\u001b[0mkey\u001b[0m\u001b[1;33m,\u001b[0m \u001b[0mvalue\u001b[0m\u001b[1;33m)\u001b[0m\u001b[1;33m\u001b[0m\u001b[1;33m\u001b[0m\u001b[0m\n\u001b[0m\u001b[0;32m   3164\u001b[0m \u001b[1;33m\u001b[0m\u001b[0m\n\u001b[0;32m   3165\u001b[0m     \u001b[1;32mdef\u001b[0m \u001b[0m_setitem_slice\u001b[0m\u001b[1;33m(\u001b[0m\u001b[0mself\u001b[0m\u001b[1;33m,\u001b[0m \u001b[0mkey\u001b[0m\u001b[1;33m:\u001b[0m \u001b[0mslice\u001b[0m\u001b[1;33m,\u001b[0m \u001b[0mvalue\u001b[0m\u001b[1;33m)\u001b[0m\u001b[1;33m:\u001b[0m\u001b[1;33m\u001b[0m\u001b[1;33m\u001b[0m\u001b[0m\n",
      "\u001b[1;32mE:\\Users\\DELL\\anaconda3\\lib\\site-packages\\pandas\\core\\frame.py\u001b[0m in \u001b[0;36m_set_item\u001b[1;34m(self, key, value)\u001b[0m\n\u001b[0;32m   3240\u001b[0m         \"\"\"\n\u001b[0;32m   3241\u001b[0m         \u001b[0mself\u001b[0m\u001b[1;33m.\u001b[0m\u001b[0m_ensure_valid_index\u001b[0m\u001b[1;33m(\u001b[0m\u001b[0mvalue\u001b[0m\u001b[1;33m)\u001b[0m\u001b[1;33m\u001b[0m\u001b[1;33m\u001b[0m\u001b[0m\n\u001b[1;32m-> 3242\u001b[1;33m         \u001b[0mvalue\u001b[0m \u001b[1;33m=\u001b[0m \u001b[0mself\u001b[0m\u001b[1;33m.\u001b[0m\u001b[0m_sanitize_column\u001b[0m\u001b[1;33m(\u001b[0m\u001b[0mkey\u001b[0m\u001b[1;33m,\u001b[0m \u001b[0mvalue\u001b[0m\u001b[1;33m)\u001b[0m\u001b[1;33m\u001b[0m\u001b[1;33m\u001b[0m\u001b[0m\n\u001b[0m\u001b[0;32m   3243\u001b[0m         \u001b[0mNDFrame\u001b[0m\u001b[1;33m.\u001b[0m\u001b[0m_set_item\u001b[0m\u001b[1;33m(\u001b[0m\u001b[0mself\u001b[0m\u001b[1;33m,\u001b[0m \u001b[0mkey\u001b[0m\u001b[1;33m,\u001b[0m \u001b[0mvalue\u001b[0m\u001b[1;33m)\u001b[0m\u001b[1;33m\u001b[0m\u001b[1;33m\u001b[0m\u001b[0m\n\u001b[0;32m   3244\u001b[0m \u001b[1;33m\u001b[0m\u001b[0m\n",
      "\u001b[1;32mE:\\Users\\DELL\\anaconda3\\lib\\site-packages\\pandas\\core\\frame.py\u001b[0m in \u001b[0;36m_sanitize_column\u001b[1;34m(self, key, value, broadcast)\u001b[0m\n\u001b[0;32m   3897\u001b[0m \u001b[1;33m\u001b[0m\u001b[0m\n\u001b[0;32m   3898\u001b[0m             \u001b[1;31m# turn me into an ndarray\u001b[0m\u001b[1;33m\u001b[0m\u001b[1;33m\u001b[0m\u001b[1;33m\u001b[0m\u001b[0m\n\u001b[1;32m-> 3899\u001b[1;33m             \u001b[0mvalue\u001b[0m \u001b[1;33m=\u001b[0m \u001b[0msanitize_index\u001b[0m\u001b[1;33m(\u001b[0m\u001b[0mvalue\u001b[0m\u001b[1;33m,\u001b[0m \u001b[0mself\u001b[0m\u001b[1;33m.\u001b[0m\u001b[0mindex\u001b[0m\u001b[1;33m)\u001b[0m\u001b[1;33m\u001b[0m\u001b[1;33m\u001b[0m\u001b[0m\n\u001b[0m\u001b[0;32m   3900\u001b[0m             \u001b[1;32mif\u001b[0m \u001b[1;32mnot\u001b[0m \u001b[0misinstance\u001b[0m\u001b[1;33m(\u001b[0m\u001b[0mvalue\u001b[0m\u001b[1;33m,\u001b[0m \u001b[1;33m(\u001b[0m\u001b[0mnp\u001b[0m\u001b[1;33m.\u001b[0m\u001b[0mndarray\u001b[0m\u001b[1;33m,\u001b[0m \u001b[0mIndex\u001b[0m\u001b[1;33m)\u001b[0m\u001b[1;33m)\u001b[0m\u001b[1;33m:\u001b[0m\u001b[1;33m\u001b[0m\u001b[1;33m\u001b[0m\u001b[0m\n\u001b[0;32m   3901\u001b[0m                 \u001b[1;32mif\u001b[0m \u001b[0misinstance\u001b[0m\u001b[1;33m(\u001b[0m\u001b[0mvalue\u001b[0m\u001b[1;33m,\u001b[0m \u001b[0mlist\u001b[0m\u001b[1;33m)\u001b[0m \u001b[1;32mand\u001b[0m \u001b[0mlen\u001b[0m\u001b[1;33m(\u001b[0m\u001b[0mvalue\u001b[0m\u001b[1;33m)\u001b[0m \u001b[1;33m>\u001b[0m \u001b[1;36m0\u001b[0m\u001b[1;33m:\u001b[0m\u001b[1;33m\u001b[0m\u001b[1;33m\u001b[0m\u001b[0m\n",
      "\u001b[1;32mE:\\Users\\DELL\\anaconda3\\lib\\site-packages\\pandas\\core\\internals\\construction.py\u001b[0m in \u001b[0;36msanitize_index\u001b[1;34m(data, index)\u001b[0m\n\u001b[0;32m    749\u001b[0m     \"\"\"\n\u001b[0;32m    750\u001b[0m     \u001b[1;32mif\u001b[0m \u001b[0mlen\u001b[0m\u001b[1;33m(\u001b[0m\u001b[0mdata\u001b[0m\u001b[1;33m)\u001b[0m \u001b[1;33m!=\u001b[0m \u001b[0mlen\u001b[0m\u001b[1;33m(\u001b[0m\u001b[0mindex\u001b[0m\u001b[1;33m)\u001b[0m\u001b[1;33m:\u001b[0m\u001b[1;33m\u001b[0m\u001b[1;33m\u001b[0m\u001b[0m\n\u001b[1;32m--> 751\u001b[1;33m         raise ValueError(\n\u001b[0m\u001b[0;32m    752\u001b[0m             \u001b[1;34m\"Length of values \"\u001b[0m\u001b[1;33m\u001b[0m\u001b[1;33m\u001b[0m\u001b[0m\n\u001b[0;32m    753\u001b[0m             \u001b[1;34mf\"({len(data)}) \"\u001b[0m\u001b[1;33m\u001b[0m\u001b[1;33m\u001b[0m\u001b[0m\n",
      "\u001b[1;31mValueError\u001b[0m: Length of values (48) does not match length of index (50)"
     ]
    }
   ],
   "source": [
    "df=pd.DataFrame({})\n",
    "df['name']=name_list\n",
    "df['designation']=designation_list\n",
    "df['company']=company_list\n",
    "df['skills']=skills_list\n",
    "df['location']=location_list\n",
    "df"
   ]
  },
  {
   "cell_type": "code",
   "execution_count": null,
   "id": "c3136dfb",
   "metadata": {},
   "outputs": [],
   "source": []
  },
  {
   "cell_type": "code",
   "execution_count": null,
   "id": "0dfce0d6",
   "metadata": {},
   "outputs": [],
   "source": []
  },
  {
   "cell_type": "code",
   "execution_count": null,
   "id": "bd6db2f5",
   "metadata": {},
   "outputs": [],
   "source": []
  }
 ],
 "metadata": {
  "kernelspec": {
   "display_name": "Python 3",
   "language": "python",
   "name": "python3"
  },
  "language_info": {
   "codemirror_mode": {
    "name": "ipython",
    "version": 3
   },
   "file_extension": ".py",
   "mimetype": "text/x-python",
   "name": "python",
   "nbconvert_exporter": "python",
   "pygments_lexer": "ipython3",
   "version": "3.8.8"
  }
 },
 "nbformat": 4,
 "nbformat_minor": 5
}

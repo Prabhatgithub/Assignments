{
 "cells": [
  {
   "cell_type": "code",
   "execution_count": 1,
   "metadata": {},
   "outputs": [
    {
     "name": "stdout",
     "output_type": "stream",
     "text": [
      "Enter the natural number:0\n",
      "Number needs to be greater than 1\n"
     ]
    }
   ],
   "source": [
    "number=int(input(\"Enter the natural number:\"))\n",
    "\n",
    "if number < 1:\n",
    "    print(\"Number needs to be greater than 1\")\n",
    "elif number == 1:\n",
    "    print(number,\"is niether prime nor composite\")\n",
    "else:\n",
    "    for divisor in range(2,(number//2)+ 1):\n",
    "        if((number % divisor) == 0):\n",
    "            print(number,\"is a composite number\")\n",
    "            break"
   ]
  },
  {
   "cell_type": "code",
   "execution_count": null,
   "metadata": {},
   "outputs": [],
   "source": []
  }
 ],
 "metadata": {
  "kernelspec": {
   "display_name": "Python 3",
   "language": "python",
   "name": "python3"
  },
  "language_info": {
   "codemirror_mode": {
    "name": "ipython",
    "version": 3
   },
   "file_extension": ".py",
   "mimetype": "text/x-python",
   "name": "python",
   "nbconvert_exporter": "python",
   "pygments_lexer": "ipython3",
   "version": "3.8.5"
  }
 },
 "nbformat": 4,
 "nbformat_minor": 4
}

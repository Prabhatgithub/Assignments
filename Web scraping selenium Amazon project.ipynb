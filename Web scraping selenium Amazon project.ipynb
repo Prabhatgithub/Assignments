{
 "cells": [
  {
   "cell_type": "code",
   "execution_count": 32,
   "metadata": {},
   "outputs": [],
   "source": [
    "import selenium\n",
    "import pandas as pd\n",
    "from selenium import webdriver"
   ]
  },
  {
   "cell_type": "code",
   "execution_count": 34,
   "metadata": {},
   "outputs": [],
   "source": [
    "driver=webdriver.Chrome(r\"C:\\Users\\DELL\\Downloads\\chromedriver_win32\\chromedriver.exe\")"
   ]
  },
  {
   "cell_type": "code",
   "execution_count": null,
   "metadata": {},
   "outputs": [],
   "source": [
    "driver=webdriver.Chrome(\"chromedriver.exe\") "
   ]
  },
  {
   "cell_type": "code",
   "execution_count": 15,
   "metadata": {},
   "outputs": [],
   "source": [
    "url='https://www.amazon.in./'\n",
    "driver.get(url)"
   ]
  },
  {
   "cell_type": "code",
   "execution_count": 16,
   "metadata": {},
   "outputs": [
    {
     "data": {
      "text/plain": [
       "<selenium.webdriver.remote.webelement.WebElement (session=\"075b19ca237fbd52a05e35fb23278525\", element=\"b2201a1f-928f-4a56-95de-04c3a28de5b1\")>"
      ]
     },
     "execution_count": 16,
     "metadata": {},
     "output_type": "execute_result"
    }
   ],
   "source": [
    "names_product=driver.find_element_by_id('twotabsearchtextbox')\n",
    "names_product"
   ]
  },
  {
   "cell_type": "code",
   "execution_count": 18,
   "metadata": {},
   "outputs": [],
   "source": [
    "names_product.send_keys(\"one+plus phones\")"
   ]
  },
  {
   "cell_type": "code",
   "execution_count": 7,
   "metadata": {},
   "outputs": [
    {
     "data": {
      "text/plain": [
       "[<selenium.webdriver.remote.webelement.WebElement (session=\"585c352a15378c656275a9ff8f811565\", element=\"380d234a-e169-4ca6-99b5-d430757f4ba3\")>,\n",
       " <selenium.webdriver.remote.webelement.WebElement (session=\"585c352a15378c656275a9ff8f811565\", element=\"ec04630c-809a-4a64-98eb-18200e5275aa\")>,\n",
       " <selenium.webdriver.remote.webelement.WebElement (session=\"585c352a15378c656275a9ff8f811565\", element=\"e79ba73c-c49d-4cc9-a32c-411d54df9cd5\")>,\n",
       " <selenium.webdriver.remote.webelement.WebElement (session=\"585c352a15378c656275a9ff8f811565\", element=\"28518209-0a09-4c39-b179-d6f76aa7f41d\")>,\n",
       " <selenium.webdriver.remote.webelement.WebElement (session=\"585c352a15378c656275a9ff8f811565\", element=\"a8b8e496-8870-459a-91e8-56a9f5fc3970\")>,\n",
       " <selenium.webdriver.remote.webelement.WebElement (session=\"585c352a15378c656275a9ff8f811565\", element=\"cbf7a029-3e08-4670-a68c-f4ae3594ba4d\")>,\n",
       " <selenium.webdriver.remote.webelement.WebElement (session=\"585c352a15378c656275a9ff8f811565\", element=\"4a38bedb-8f74-42dd-b55f-affab4dd33bc\")>,\n",
       " <selenium.webdriver.remote.webelement.WebElement (session=\"585c352a15378c656275a9ff8f811565\", element=\"e7b10d6a-dcb9-4682-8a0e-178cbdeb8f3a\")>,\n",
       " <selenium.webdriver.remote.webelement.WebElement (session=\"585c352a15378c656275a9ff8f811565\", element=\"1f2e6d50-69f9-4987-9294-2e4b7550767d\")>,\n",
       " <selenium.webdriver.remote.webelement.WebElement (session=\"585c352a15378c656275a9ff8f811565\", element=\"d013246c-6a84-4cc0-a1c3-92ea40ea036e\")>,\n",
       " <selenium.webdriver.remote.webelement.WebElement (session=\"585c352a15378c656275a9ff8f811565\", element=\"e1aa342d-ba68-41e0-b956-0aa8a8f6afd1\")>,\n",
       " <selenium.webdriver.remote.webelement.WebElement (session=\"585c352a15378c656275a9ff8f811565\", element=\"c1ef5cce-2173-4bae-bc56-c02076ea851a\")>,\n",
       " <selenium.webdriver.remote.webelement.WebElement (session=\"585c352a15378c656275a9ff8f811565\", element=\"9dd2b2bd-f352-4400-91a9-0258f8e971a9\")>,\n",
       " <selenium.webdriver.remote.webelement.WebElement (session=\"585c352a15378c656275a9ff8f811565\", element=\"29ccf66c-6ec0-4ac2-89d3-bf4257b87f81\")>,\n",
       " <selenium.webdriver.remote.webelement.WebElement (session=\"585c352a15378c656275a9ff8f811565\", element=\"a1010bfa-7b16-4881-bae5-ba479382a9db\")>,\n",
       " <selenium.webdriver.remote.webelement.WebElement (session=\"585c352a15378c656275a9ff8f811565\", element=\"f32e92a4-e887-4ded-b4c2-7939bee715ea\")>,\n",
       " <selenium.webdriver.remote.webelement.WebElement (session=\"585c352a15378c656275a9ff8f811565\", element=\"adaef332-780c-4cf6-b1fb-11d60c06c389\")>,\n",
       " <selenium.webdriver.remote.webelement.WebElement (session=\"585c352a15378c656275a9ff8f811565\", element=\"1c012b33-9ac3-4f38-a9e9-8eb190ce5866\")>,\n",
       " <selenium.webdriver.remote.webelement.WebElement (session=\"585c352a15378c656275a9ff8f811565\", element=\"41b04f58-03d9-49c7-8d8b-9b24ac2a3ff6\")>,\n",
       " <selenium.webdriver.remote.webelement.WebElement (session=\"585c352a15378c656275a9ff8f811565\", element=\"fd41286a-ca4f-418e-bb69-94bb13b459d0\")>,\n",
       " <selenium.webdriver.remote.webelement.WebElement (session=\"585c352a15378c656275a9ff8f811565\", element=\"1d7fb843-b773-46f3-98cb-2d711a88fd85\")>,\n",
       " <selenium.webdriver.remote.webelement.WebElement (session=\"585c352a15378c656275a9ff8f811565\", element=\"d3ce70f6-93d5-4f2d-859c-a06f494c49bf\")>,\n",
       " <selenium.webdriver.remote.webelement.WebElement (session=\"585c352a15378c656275a9ff8f811565\", element=\"bc7d9383-d3c3-4920-9683-b89e3adf3309\")>,\n",
       " <selenium.webdriver.remote.webelement.WebElement (session=\"585c352a15378c656275a9ff8f811565\", element=\"e73a08ad-d10f-448b-a5ca-833f9aa19cae\")>]"
      ]
     },
     "execution_count": 7,
     "metadata": {},
     "output_type": "execute_result"
    }
   ],
   "source": [
    "phonesnames=driver.find_elements_by_xpath(\"//span[contains(@class,'a-size-medium a-color-base a-text-normal')]\")\n",
    "phonesnames"
   ]
  },
  {
   "cell_type": "code",
   "execution_count": 8,
   "metadata": {},
   "outputs": [
    {
     "data": {
      "text/plain": [
       "[<selenium.webdriver.remote.webelement.WebElement (session=\"585c352a15378c656275a9ff8f811565\", element=\"65ea4971-0290-4ffb-9ce3-fec17ddc3485\")>,\n",
       " <selenium.webdriver.remote.webelement.WebElement (session=\"585c352a15378c656275a9ff8f811565\", element=\"c368749e-bc42-4532-86f4-907ab45841e5\")>,\n",
       " <selenium.webdriver.remote.webelement.WebElement (session=\"585c352a15378c656275a9ff8f811565\", element=\"2262c215-b627-400c-826f-f11532e92d3e\")>,\n",
       " <selenium.webdriver.remote.webelement.WebElement (session=\"585c352a15378c656275a9ff8f811565\", element=\"3a49a1f2-a7b8-4644-b5f6-5e9a7f56092f\")>,\n",
       " <selenium.webdriver.remote.webelement.WebElement (session=\"585c352a15378c656275a9ff8f811565\", element=\"6e7272ce-53ba-44fd-9b0e-42b28e3cb05a\")>,\n",
       " <selenium.webdriver.remote.webelement.WebElement (session=\"585c352a15378c656275a9ff8f811565\", element=\"6d9aa753-15b3-46e1-9d13-de8152c17b69\")>,\n",
       " <selenium.webdriver.remote.webelement.WebElement (session=\"585c352a15378c656275a9ff8f811565\", element=\"a8ffe34f-a1bc-46c0-aa1c-ae45f234652f\")>,\n",
       " <selenium.webdriver.remote.webelement.WebElement (session=\"585c352a15378c656275a9ff8f811565\", element=\"3213c606-0809-408e-bad2-6156e4f63f9c\")>,\n",
       " <selenium.webdriver.remote.webelement.WebElement (session=\"585c352a15378c656275a9ff8f811565\", element=\"594215e5-2e0e-4c62-b4b3-2695f2f7f7e3\")>,\n",
       " <selenium.webdriver.remote.webelement.WebElement (session=\"585c352a15378c656275a9ff8f811565\", element=\"faf4209f-6ab5-4cae-8dbf-c6de6f38f68b\")>,\n",
       " <selenium.webdriver.remote.webelement.WebElement (session=\"585c352a15378c656275a9ff8f811565\", element=\"98bead6d-2b71-4aea-a77f-d93d21f722af\")>,\n",
       " <selenium.webdriver.remote.webelement.WebElement (session=\"585c352a15378c656275a9ff8f811565\", element=\"e39d3d8e-3b95-4c3b-8c07-e48c95e94783\")>,\n",
       " <selenium.webdriver.remote.webelement.WebElement (session=\"585c352a15378c656275a9ff8f811565\", element=\"9a9bd3b9-11a0-47bf-9683-73b88c2f32fb\")>,\n",
       " <selenium.webdriver.remote.webelement.WebElement (session=\"585c352a15378c656275a9ff8f811565\", element=\"42ba1a36-4776-402d-9929-073a0f1027e3\")>,\n",
       " <selenium.webdriver.remote.webelement.WebElement (session=\"585c352a15378c656275a9ff8f811565\", element=\"85911fc1-ba01-438f-b1d3-41a94c07fc5b\")>,\n",
       " <selenium.webdriver.remote.webelement.WebElement (session=\"585c352a15378c656275a9ff8f811565\", element=\"2a791ca9-bdf7-4934-bd49-62f7c16b9e66\")>,\n",
       " <selenium.webdriver.remote.webelement.WebElement (session=\"585c352a15378c656275a9ff8f811565\", element=\"3b05cc77-c3b8-4d0d-a47a-33492fc056be\")>,\n",
       " <selenium.webdriver.remote.webelement.WebElement (session=\"585c352a15378c656275a9ff8f811565\", element=\"75a1667e-df08-4ff6-b8e0-20f93fe4d77f\")>,\n",
       " <selenium.webdriver.remote.webelement.WebElement (session=\"585c352a15378c656275a9ff8f811565\", element=\"b4c836a8-63d0-462c-b8d8-4a08977836fa\")>,\n",
       " <selenium.webdriver.remote.webelement.WebElement (session=\"585c352a15378c656275a9ff8f811565\", element=\"f6e4701c-1fa3-4789-ab87-013ca820bcff\")>,\n",
       " <selenium.webdriver.remote.webelement.WebElement (session=\"585c352a15378c656275a9ff8f811565\", element=\"e942f0d7-2924-4431-9c7b-c34b8080e900\")>,\n",
       " <selenium.webdriver.remote.webelement.WebElement (session=\"585c352a15378c656275a9ff8f811565\", element=\"5c0b6f10-3723-4ec7-867a-3cf2ad9799b1\")>,\n",
       " <selenium.webdriver.remote.webelement.WebElement (session=\"585c352a15378c656275a9ff8f811565\", element=\"22fd92da-d6a8-4168-9424-b4889cd6e28d\")>,\n",
       " <selenium.webdriver.remote.webelement.WebElement (session=\"585c352a15378c656275a9ff8f811565\", element=\"dbb930cb-d22d-4ffc-84e2-9dd7d3fadfa5\")>]"
      ]
     },
     "execution_count": 8,
     "metadata": {},
     "output_type": "execute_result"
    }
   ],
   "source": [
    "phonesprice=driver.find_elements_by_xpath(\"//span[contains(@class,'a-price-whole')]\")\n",
    "phonesprice"
   ]
  },
  {
   "cell_type": "code",
   "execution_count": 9,
   "metadata": {},
   "outputs": [
    {
     "data": {
      "text/plain": [
       "[]"
      ]
     },
     "execution_count": 9,
     "metadata": {},
     "output_type": "execute_result"
    }
   ],
   "source": [
    "phonesrating=driver.find_elements_by_xpath(\"//span[contains(@class,'a-icon a-icon-star-small a-star-small-4 aok-align-bottom')]\")\n",
    "phonesrating"
   ]
  },
  {
   "cell_type": "code",
   "execution_count": 10,
   "metadata": {},
   "outputs": [
    {
     "name": "stdout",
     "output_type": "stream",
     "text": [
      "OnePlus 9 5G (Arctic Sky, 8GB RAM, 128GB Storage)\n",
      "OnePlus 8T 5G (Lunar Silver, 8GB RAM, 128GB Storage)\n",
      "OnePlus Nord CE 5G (Charcoal Ink, 12GB RAM, 256GB Storage)\n",
      "OnePlus 8T 5G (Aquamarine Green, 12GB RAM, 256GB Storage)\n",
      "OnePlus Nord CE 5G (Charcoal Ink, 8GB RAM, 128GB Storage)\n",
      "OnePlus Nord CE 5G (Blue Void, 12GB RAM, 256GB Storage)\n",
      "OnePlus 9 5G (Winter Mist, 12GB RAM, 256GB Storage)\n",
      "OnePlus Nord CE 5G (Silver Ray, 12GB RAM, 256GB Storage)\n",
      "OnePlus 9 5G (Astral Black, 8GB RAM, 128GB Storage)\n",
      "OnePlus 9 Pro 5G (Pine Green, 12GB RAM, 256GB Storage)\n",
      "OnePlus 9 Pro 5G (Stellar Black, 12GB RAM, 256GB  Storage)\n",
      "OnePlus Nord CE 5G (Blue Void, 8GB RAM, 128GB Storage)\n",
      "OnePlus 9R 5G (Lake Blue, 8GB RAM, 128GB Storage)\n",
      "OnePlus 9R 5G (Lake Blue, 12GB RAM, 256GB Storage)\n",
      "OnePlus 9R 5G (Carbon Black, 8GB RAM, 128GB Storage)\n",
      "OnePlus 9R 5G (Carbon Black, 12GB RAM, 256 GB Storage)\n",
      "OnePlus 8T 5G (Aquamarine Green, 8GB RAM, 128GB Storage)\n",
      "OnePlus 3T (Gunmetal)\n",
      "(Renewed) OnePlus 8 Pro (Glacial Green 8GB RAM+128GB Storage)\n",
      "OnePlus 9 Pro 5G (Morning Mist, 12GB RAM, 256GB Storage)\n",
      "OnePlus 9 5G (Astral Black, 12GB RAM, 256GB Storage)\n",
      "OnePlus 8T 5G (Lunar Silver 12GB RAM, 256GB Storage)\n",
      "OnePlus 9 Pro 5G (Stellar Black, 8GB RAM, 128GB Storage)\n",
      "OnePlus 5T (Midnight Black, 6GB RAM, 64GB Storage)\n",
      "**************************************************\n",
      "49,999\n",
      "38,999\n",
      "27,999\n",
      "41,999\n",
      "24,999\n",
      "27,999\n",
      "54,999\n",
      "27,999\n",
      "49,999\n",
      "69,999\n",
      "69,999\n",
      "24,999\n",
      "39,999\n",
      "43,999\n",
      "39,999\n",
      "43,999\n",
      "38,999\n",
      "19,699\n",
      "41,699\n",
      "69,999\n",
      "54,999\n",
      "41,999\n",
      "64,999\n",
      "26,999\n"
     ]
    }
   ],
   "source": [
    "myphone=[]\n",
    "myprice=[]\n",
    "myrating=[]\n",
    "\n",
    "for phone in phonesnames:\n",
    "    print(phone.text)  \n",
    "    myphone.append(phone.text)\n",
    "    \n",
    "print(\"*\"*50)  \n",
    "\n",
    "for price in phonesprice:\n",
    "    print(price.text)\n",
    "    myprice.append(price.text)\n",
    "    \n",
    "for rating in phonesrating:\n",
    "    print(rating.text)\n",
    "    myrating.append(rating.text)"
   ]
  },
  {
   "cell_type": "markdown",
   "metadata": {},
   "source": [
    "Page 2"
   ]
  },
  {
   "cell_type": "code",
   "execution_count": 11,
   "metadata": {},
   "outputs": [],
   "source": [
    "url='https://www.amazon.in./s?k=one%2Bplus+phones&i=electronics&rh=n%3A1389432031%2Cp_89%3AOnePlus&dc&page=2&qid=1627145568&rnid=3837712031&ref=sr_pg_2'\n",
    "driver.get(url)"
   ]
  },
  {
   "cell_type": "code",
   "execution_count": 15,
   "metadata": {},
   "outputs": [
    {
     "data": {
      "text/plain": [
       "[<selenium.webdriver.remote.webelement.WebElement (session=\"585c352a15378c656275a9ff8f811565\", element=\"1356947b-a48e-4a58-9daa-f7a97156074f\")>,\n",
       " <selenium.webdriver.remote.webelement.WebElement (session=\"585c352a15378c656275a9ff8f811565\", element=\"ef1fa64c-d0ac-4518-9b8c-bbddc0186f93\")>,\n",
       " <selenium.webdriver.remote.webelement.WebElement (session=\"585c352a15378c656275a9ff8f811565\", element=\"aea75d9d-5096-4c15-81f8-a9a601c07031\")>,\n",
       " <selenium.webdriver.remote.webelement.WebElement (session=\"585c352a15378c656275a9ff8f811565\", element=\"49885c03-0ac2-4061-8cfb-070ca18d4c35\")>,\n",
       " <selenium.webdriver.remote.webelement.WebElement (session=\"585c352a15378c656275a9ff8f811565\", element=\"1761db67-20b7-403f-b59a-206eb3e4e9d5\")>,\n",
       " <selenium.webdriver.remote.webelement.WebElement (session=\"585c352a15378c656275a9ff8f811565\", element=\"821db2f9-d99f-49ea-9b95-d8401dbe5ba8\")>,\n",
       " <selenium.webdriver.remote.webelement.WebElement (session=\"585c352a15378c656275a9ff8f811565\", element=\"fbd4f2f1-5c3f-4fde-a1a8-ead9d611a170\")>,\n",
       " <selenium.webdriver.remote.webelement.WebElement (session=\"585c352a15378c656275a9ff8f811565\", element=\"12b14b4d-a169-4137-b2d9-35a299aa169b\")>,\n",
       " <selenium.webdriver.remote.webelement.WebElement (session=\"585c352a15378c656275a9ff8f811565\", element=\"2ffeddd7-0bde-4b86-8e6c-bc9ca556139c\")>,\n",
       " <selenium.webdriver.remote.webelement.WebElement (session=\"585c352a15378c656275a9ff8f811565\", element=\"14a4ed44-689b-4d48-bf47-f83c5f4f0645\")>,\n",
       " <selenium.webdriver.remote.webelement.WebElement (session=\"585c352a15378c656275a9ff8f811565\", element=\"fdc66002-4e19-478d-b707-96678f32c16b\")>,\n",
       " <selenium.webdriver.remote.webelement.WebElement (session=\"585c352a15378c656275a9ff8f811565\", element=\"1dd6e1c5-1cc3-4645-811d-1da182b5c6f3\")>,\n",
       " <selenium.webdriver.remote.webelement.WebElement (session=\"585c352a15378c656275a9ff8f811565\", element=\"f416dd46-532e-40e8-8a6e-0b194f326483\")>,\n",
       " <selenium.webdriver.remote.webelement.WebElement (session=\"585c352a15378c656275a9ff8f811565\", element=\"7346e33f-f6a5-44dc-963d-8987ad5533a5\")>,\n",
       " <selenium.webdriver.remote.webelement.WebElement (session=\"585c352a15378c656275a9ff8f811565\", element=\"2e0bc175-c1d1-4b56-ac60-830a592d1e8f\")>,\n",
       " <selenium.webdriver.remote.webelement.WebElement (session=\"585c352a15378c656275a9ff8f811565\", element=\"f0f84208-b619-4d0b-86d7-78c22cf657a8\")>,\n",
       " <selenium.webdriver.remote.webelement.WebElement (session=\"585c352a15378c656275a9ff8f811565\", element=\"0e08bde6-5459-414a-a464-77fd84a4a55c\")>]"
      ]
     },
     "execution_count": 15,
     "metadata": {},
     "output_type": "execute_result"
    }
   ],
   "source": [
    "phonesnames=driver.find_elements_by_xpath(\"//span[contains(@class,'a-size-medium a-color-base a-text-normal')]\")\n",
    "phonesnames"
   ]
  },
  {
   "cell_type": "code",
   "execution_count": 16,
   "metadata": {},
   "outputs": [
    {
     "data": {
      "text/plain": [
       "[<selenium.webdriver.remote.webelement.WebElement (session=\"585c352a15378c656275a9ff8f811565\", element=\"1ff4c2c0-c5f0-4863-9501-373f072aed46\")>,\n",
       " <selenium.webdriver.remote.webelement.WebElement (session=\"585c352a15378c656275a9ff8f811565\", element=\"6935055e-8bab-4940-aa61-c2522eaa8cb0\")>,\n",
       " <selenium.webdriver.remote.webelement.WebElement (session=\"585c352a15378c656275a9ff8f811565\", element=\"ad08b535-670c-4fba-9a37-b90d87b92e9e\")>,\n",
       " <selenium.webdriver.remote.webelement.WebElement (session=\"585c352a15378c656275a9ff8f811565\", element=\"ab885fad-e292-48d0-828e-2f933f13e70d\")>,\n",
       " <selenium.webdriver.remote.webelement.WebElement (session=\"585c352a15378c656275a9ff8f811565\", element=\"ea647a75-8408-4ccb-89a1-4c96e671fcf2\")>,\n",
       " <selenium.webdriver.remote.webelement.WebElement (session=\"585c352a15378c656275a9ff8f811565\", element=\"c9886f81-e975-4c28-8fd4-250889efa00e\")>,\n",
       " <selenium.webdriver.remote.webelement.WebElement (session=\"585c352a15378c656275a9ff8f811565\", element=\"170639e9-a11f-48f1-8e77-9fb59fa7d157\")>,\n",
       " <selenium.webdriver.remote.webelement.WebElement (session=\"585c352a15378c656275a9ff8f811565\", element=\"2ece4adb-903b-4be4-87a1-5a6f459aac8b\")>,\n",
       " <selenium.webdriver.remote.webelement.WebElement (session=\"585c352a15378c656275a9ff8f811565\", element=\"98a3b0f6-b089-402d-a671-518eb4a5f640\")>,\n",
       " <selenium.webdriver.remote.webelement.WebElement (session=\"585c352a15378c656275a9ff8f811565\", element=\"165c70fd-06c9-4df4-8da7-861b22b711fb\")>,\n",
       " <selenium.webdriver.remote.webelement.WebElement (session=\"585c352a15378c656275a9ff8f811565\", element=\"afc0c232-d50d-4d1d-9b2e-b537a33d1b4e\")>,\n",
       " <selenium.webdriver.remote.webelement.WebElement (session=\"585c352a15378c656275a9ff8f811565\", element=\"6ff18cdc-dbd6-40ea-b1ca-cfb4a07dd9b2\")>,\n",
       " <selenium.webdriver.remote.webelement.WebElement (session=\"585c352a15378c656275a9ff8f811565\", element=\"dd3e5bf8-2828-4409-98f7-429bcac21cb8\")>,\n",
       " <selenium.webdriver.remote.webelement.WebElement (session=\"585c352a15378c656275a9ff8f811565\", element=\"f169b783-e163-4169-a4a1-a1b32d2cfb3c\")>,\n",
       " <selenium.webdriver.remote.webelement.WebElement (session=\"585c352a15378c656275a9ff8f811565\", element=\"66142b5c-181b-40f6-bbe8-f9112b779417\")>]"
      ]
     },
     "execution_count": 16,
     "metadata": {},
     "output_type": "execute_result"
    }
   ],
   "source": [
    "phonesprice=driver.find_elements_by_xpath(\"//span[contains(@class,'a-price-whole')]\")\n",
    "phonesprice"
   ]
  },
  {
   "cell_type": "code",
   "execution_count": 17,
   "metadata": {},
   "outputs": [
    {
     "data": {
      "text/plain": [
       "[]"
      ]
     },
     "execution_count": 17,
     "metadata": {},
     "output_type": "execute_result"
    }
   ],
   "source": [
    "phonesrating=driver.find_elements_by_xpath(\"//span[contains(@class,'a-icon a-icon-star-small a-star-small-4-5 aok-align-bottom')]\")\n",
    "phonesrating"
   ]
  },
  {
   "cell_type": "code",
   "execution_count": 18,
   "metadata": {},
   "outputs": [
    {
     "name": "stdout",
     "output_type": "stream",
     "text": [
      "(Renewed) OnePlus 8 (Glacial Green 8GB RAM+128GB Storage)\n",
      "OnePlus 7T Glacier Blue (8GB RAM+256GB Storage)\n",
      "OnePlus 7 Pro (Mirror Grey, 8GB RAM, Super AMOLED Display, 256GB Storage, 4000mAH Battery)\n",
      "(Renewed) OnePlus 7T (Glacier Blue, 8GB RAM, Fluid AMOLED Display, 256GB Storage, 3800mAH Battery)\n",
      "(Renewed) OnePlus 8T 5G (Aquamarine Green, 8GB RAM, 128GB Storage)\n",
      "OnePlus 9 5G (Arctic Sky,12GB RAM, 256GB Storage)\n",
      "(Renewed) OnePlus 8T 5G (Aquamarine Green, 12GB RAM, 256GB Storage)\n",
      "OnePlus 9 Pro 5G (Pine Green, 8GB RAM, 128GB  Storage)\n",
      "OnePlus 8 (Glacial Green 12GB RAM+256GB Storage)\n",
      "(Renewed) OnePlus 8 (Onyx Black 12GB RAM+256GB Storage)\n",
      "OnePlus 9 Pro 5G (Morning Mist, 8GB RAM, 128GB Storage)\n",
      "(Renewed) OnePlus 7T Pro (Haze Blue, 8GB RAM, Fluid AMOLED Display, 256GB Storage, 4085mAH Battery)\n",
      "(Renewed) OnePlus 5T (Midnight Black, 64GB)\n",
      "OnePlus 3T (Midnight Black, 128 GB)\n",
      "(Renewed) OnePlus 8 (Onyx Black 8GB RAM+128GB Storage)\n",
      "(Renewed) OnePlus 8T 5G (Lunar Silver, 12GB RAM, 256GB Storage)\n",
      "(Renewed) OnePlus 7T (Glacier Blue, 8GB RAM, Fluid AMOLED Display, 128GB Storage, 3800mAH Battery)\n",
      "**************************************************\n",
      "35,449\n",
      "37,999\n",
      "52,999\n",
      "31,999\n",
      "36,399\n",
      "54,999\n",
      "38,796\n",
      "64,999\n",
      "44,999\n",
      "38,298\n",
      "64,999\n",
      "38,990\n",
      "35,599\n",
      "39,499\n",
      "30,999\n"
     ]
    }
   ],
   "source": [
    "myphone=[]\n",
    "myprice=[]\n",
    "myrating=[]\n",
    "\n",
    "for phone in phonesnames:\n",
    "    print(phone.text)  \n",
    "    myphone.append(phone.text)\n",
    "    \n",
    "print(\"*\"*50)  \n",
    "\n",
    "for price in phonesprice:\n",
    "    print(price.text)\n",
    "    myprice.append(price.text)\n",
    "    \n",
    "for rating in phonesrating:\n",
    "    print(rating.text)\n",
    "    myrating.append(rating.text)"
   ]
  },
  {
   "cell_type": "code",
   "execution_count": null,
   "metadata": {},
   "outputs": [],
   "source": []
  }
 ],
 "metadata": {
  "kernelspec": {
   "display_name": "Python 3",
   "language": "python",
   "name": "python3"
  },
  "language_info": {
   "codemirror_mode": {
    "name": "ipython",
    "version": 3
   },
   "file_extension": ".py",
   "mimetype": "text/x-python",
   "name": "python",
   "nbconvert_exporter": "python",
   "pygments_lexer": "ipython3",
   "version": "3.8.5"
  }
 },
 "nbformat": 4,
 "nbformat_minor": 4
}
